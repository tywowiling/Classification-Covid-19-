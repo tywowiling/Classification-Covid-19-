{
 "cells": [
  {
   "cell_type": "markdown",
   "id": "88fa5425",
   "metadata": {},
   "source": [
    "# Covid-19, Omicron, Influenza, Pneumonia Detection"
   ]
  },
  {
   "cell_type": "markdown",
   "id": "b07661d3",
   "metadata": {},
   "source": [
    "# Using Random Forest Algorithm\n",
    "\n"
   ]
  },
  {
   "cell_type": "markdown",
   "id": "64210242",
   "metadata": {},
   "source": [
    "## 1. Data Pre-Processing\n",
    "    a. Import Dataset"
   ]
  },
  {
   "cell_type": "code",
   "execution_count": 647,
   "id": "46f9d095",
   "metadata": {},
   "outputs": [],
   "source": [
    "import os\n",
    "import pandas as pd"
   ]
  },
  {
   "cell_type": "code",
   "execution_count": 648,
   "id": "e611d7d4",
   "metadata": {},
   "outputs": [],
   "source": [
    "dataset = pd.read_excel(\"Dataset.xlsx\")"
   ]
  },
  {
   "cell_type": "code",
   "execution_count": 649,
   "id": "36f97ad7",
   "metadata": {},
   "outputs": [
    {
     "data": {
      "text/plain": [
       "(1284, 13)"
      ]
     },
     "execution_count": 649,
     "metadata": {},
     "output_type": "execute_result"
    }
   ],
   "source": [
    "dataset.shape"
   ]
  },
  {
   "cell_type": "code",
   "execution_count": 650,
   "id": "bd121835",
   "metadata": {},
   "outputs": [
    {
     "data": {
      "text/html": [
       "<div>\n",
       "<style scoped>\n",
       "    .dataframe tbody tr th:only-of-type {\n",
       "        vertical-align: middle;\n",
       "    }\n",
       "\n",
       "    .dataframe tbody tr th {\n",
       "        vertical-align: top;\n",
       "    }\n",
       "\n",
       "    .dataframe thead th {\n",
       "        text-align: right;\n",
       "    }\n",
       "</style>\n",
       "<table border=\"1\" class=\"dataframe\">\n",
       "  <thead>\n",
       "    <tr style=\"text-align: right;\">\n",
       "      <th></th>\n",
       "      <th>Inisial</th>\n",
       "      <th>Batuk</th>\n",
       "      <th>Pilek</th>\n",
       "      <th>Sakit Tenggorokan</th>\n",
       "      <th>Sesak Nafas</th>\n",
       "      <th>Demam</th>\n",
       "      <th>Sakit Kepala</th>\n",
       "      <th>Lemas</th>\n",
       "      <th>Anosmia</th>\n",
       "      <th>Covid-19</th>\n",
       "      <th>Omicron</th>\n",
       "      <th>Influenza</th>\n",
       "      <th>Pneumonia</th>\n",
       "    </tr>\n",
       "  </thead>\n",
       "  <tbody>\n",
       "    <tr>\n",
       "      <th>0</th>\n",
       "      <td>NaN</td>\n",
       "      <td>ya</td>\n",
       "      <td>ya</td>\n",
       "      <td>ya</td>\n",
       "      <td>ya</td>\n",
       "      <td>ya</td>\n",
       "      <td>ya</td>\n",
       "      <td>ya</td>\n",
       "      <td>tidak</td>\n",
       "      <td>ya</td>\n",
       "      <td>ya</td>\n",
       "      <td>tidak</td>\n",
       "      <td>tidak</td>\n",
       "    </tr>\n",
       "    <tr>\n",
       "      <th>1</th>\n",
       "      <td>NaN</td>\n",
       "      <td>ya</td>\n",
       "      <td>ya</td>\n",
       "      <td>ya</td>\n",
       "      <td>ya</td>\n",
       "      <td>ya</td>\n",
       "      <td>ya</td>\n",
       "      <td>ya</td>\n",
       "      <td>ya</td>\n",
       "      <td>ya</td>\n",
       "      <td>ya</td>\n",
       "      <td>tidak</td>\n",
       "      <td>tidak</td>\n",
       "    </tr>\n",
       "    <tr>\n",
       "      <th>2</th>\n",
       "      <td>NaN</td>\n",
       "      <td>ya</td>\n",
       "      <td>ya</td>\n",
       "      <td>ya</td>\n",
       "      <td>ya</td>\n",
       "      <td>ya</td>\n",
       "      <td>ya</td>\n",
       "      <td>ya</td>\n",
       "      <td>ya</td>\n",
       "      <td>ya</td>\n",
       "      <td>ya</td>\n",
       "      <td>tidak</td>\n",
       "      <td>tidak</td>\n",
       "    </tr>\n",
       "    <tr>\n",
       "      <th>3</th>\n",
       "      <td>NaN</td>\n",
       "      <td>ya</td>\n",
       "      <td>ya</td>\n",
       "      <td>ya</td>\n",
       "      <td>ya</td>\n",
       "      <td>ya</td>\n",
       "      <td>ya</td>\n",
       "      <td>ya</td>\n",
       "      <td>ya</td>\n",
       "      <td>ya</td>\n",
       "      <td>ya</td>\n",
       "      <td>tidak</td>\n",
       "      <td>tidak</td>\n",
       "    </tr>\n",
       "    <tr>\n",
       "      <th>4</th>\n",
       "      <td>NaN</td>\n",
       "      <td>ya</td>\n",
       "      <td>ya</td>\n",
       "      <td>tidak</td>\n",
       "      <td>ya</td>\n",
       "      <td>ya</td>\n",
       "      <td>ya</td>\n",
       "      <td>ya</td>\n",
       "      <td>ya</td>\n",
       "      <td>ya</td>\n",
       "      <td>ya</td>\n",
       "      <td>tidak</td>\n",
       "      <td>tidak</td>\n",
       "    </tr>\n",
       "  </tbody>\n",
       "</table>\n",
       "</div>"
      ],
      "text/plain": [
       "  Inisial Batuk Pilek Sakit Tenggorokan  Sesak Nafas Demam Sakit Kepala Lemas  \\\n",
       "0     NaN    ya    ya                 ya          ya    ya           ya    ya   \n",
       "1     NaN    ya    ya                 ya          ya    ya           ya    ya   \n",
       "2     NaN    ya    ya                 ya          ya    ya           ya    ya   \n",
       "3     NaN    ya    ya                 ya          ya    ya           ya    ya   \n",
       "4     NaN    ya    ya              tidak          ya    ya           ya    ya   \n",
       "\n",
       "  Anosmia Covid-19 Omicron Influenza Pneumonia  \n",
       "0   tidak      ya       ya     tidak     tidak  \n",
       "1      ya      ya       ya     tidak     tidak  \n",
       "2      ya      ya       ya     tidak     tidak  \n",
       "3      ya      ya       ya     tidak     tidak  \n",
       "4      ya      ya       ya     tidak     tidak  "
      ]
     },
     "execution_count": 650,
     "metadata": {},
     "output_type": "execute_result"
    }
   ],
   "source": [
    "dataset.head()"
   ]
  },
  {
   "cell_type": "code",
   "execution_count": 651,
   "id": "7712a4df",
   "metadata": {},
   "outputs": [
    {
     "data": {
      "text/html": [
       "<div>\n",
       "<style scoped>\n",
       "    .dataframe tbody tr th:only-of-type {\n",
       "        vertical-align: middle;\n",
       "    }\n",
       "\n",
       "    .dataframe tbody tr th {\n",
       "        vertical-align: top;\n",
       "    }\n",
       "\n",
       "    .dataframe thead th {\n",
       "        text-align: right;\n",
       "    }\n",
       "</style>\n",
       "<table border=\"1\" class=\"dataframe\">\n",
       "  <thead>\n",
       "    <tr style=\"text-align: right;\">\n",
       "      <th></th>\n",
       "      <th>Inisial</th>\n",
       "      <th>Batuk</th>\n",
       "      <th>Pilek</th>\n",
       "      <th>Sakit Tenggorokan</th>\n",
       "      <th>Sesak Nafas</th>\n",
       "      <th>Demam</th>\n",
       "      <th>Sakit Kepala</th>\n",
       "      <th>Lemas</th>\n",
       "      <th>Anosmia</th>\n",
       "      <th>Covid-19</th>\n",
       "      <th>Omicron</th>\n",
       "      <th>Influenza</th>\n",
       "      <th>Pneumonia</th>\n",
       "    </tr>\n",
       "  </thead>\n",
       "  <tbody>\n",
       "    <tr>\n",
       "      <th>1279</th>\n",
       "      <td>NaN</td>\n",
       "      <td>tidak</td>\n",
       "      <td>tidak</td>\n",
       "      <td>ya</td>\n",
       "      <td>ya</td>\n",
       "      <td>tidak</td>\n",
       "      <td>tidak</td>\n",
       "      <td>tidak</td>\n",
       "      <td>tidak</td>\n",
       "      <td>tidak</td>\n",
       "      <td>tidak</td>\n",
       "      <td>tidak</td>\n",
       "      <td>ya</td>\n",
       "    </tr>\n",
       "    <tr>\n",
       "      <th>1280</th>\n",
       "      <td>NaN</td>\n",
       "      <td>tidak</td>\n",
       "      <td>tidak</td>\n",
       "      <td>ya</td>\n",
       "      <td>ya</td>\n",
       "      <td>tidak</td>\n",
       "      <td>tidak</td>\n",
       "      <td>tidak</td>\n",
       "      <td>tidak</td>\n",
       "      <td>tidak</td>\n",
       "      <td>tidak</td>\n",
       "      <td>tidak</td>\n",
       "      <td>ya</td>\n",
       "    </tr>\n",
       "    <tr>\n",
       "      <th>1281</th>\n",
       "      <td>NaN</td>\n",
       "      <td>tidak</td>\n",
       "      <td>tidak</td>\n",
       "      <td>ya</td>\n",
       "      <td>ya</td>\n",
       "      <td>tidak</td>\n",
       "      <td>tidak</td>\n",
       "      <td>tidak</td>\n",
       "      <td>tidak</td>\n",
       "      <td>tidak</td>\n",
       "      <td>tidak</td>\n",
       "      <td>tidak</td>\n",
       "      <td>ya</td>\n",
       "    </tr>\n",
       "    <tr>\n",
       "      <th>1282</th>\n",
       "      <td>NaN</td>\n",
       "      <td>ya</td>\n",
       "      <td>tidak</td>\n",
       "      <td>tidak</td>\n",
       "      <td>tidak</td>\n",
       "      <td>ya</td>\n",
       "      <td>tidak</td>\n",
       "      <td>tidak</td>\n",
       "      <td>ya</td>\n",
       "      <td>tidak</td>\n",
       "      <td>tidak</td>\n",
       "      <td>tidak</td>\n",
       "      <td>tidak</td>\n",
       "    </tr>\n",
       "    <tr>\n",
       "      <th>1283</th>\n",
       "      <td>NaN</td>\n",
       "      <td>ya</td>\n",
       "      <td>ya</td>\n",
       "      <td>ya</td>\n",
       "      <td>tidak</td>\n",
       "      <td>tidak</td>\n",
       "      <td>tidak</td>\n",
       "      <td>tidak</td>\n",
       "      <td>tidak</td>\n",
       "      <td>tidak</td>\n",
       "      <td>NaN</td>\n",
       "      <td>ya</td>\n",
       "      <td>tidak</td>\n",
       "    </tr>\n",
       "  </tbody>\n",
       "</table>\n",
       "</div>"
      ],
      "text/plain": [
       "     Inisial  Batuk  Pilek Sakit Tenggorokan  Sesak Nafas  Demam Sakit Kepala  \\\n",
       "1279     NaN  tidak  tidak                 ya          ya  tidak        tidak   \n",
       "1280     NaN  tidak  tidak                 ya          ya  tidak        tidak   \n",
       "1281     NaN  tidak  tidak                 ya          ya  tidak        tidak   \n",
       "1282     NaN     ya  tidak              tidak       tidak     ya        tidak   \n",
       "1283     NaN     ya     ya                 ya       tidak  tidak        tidak   \n",
       "\n",
       "      Lemas Anosmia Covid-19 Omicron Influenza Pneumonia  \n",
       "1279  tidak   tidak    tidak   tidak     tidak        ya  \n",
       "1280  tidak   tidak    tidak   tidak     tidak        ya  \n",
       "1281  tidak   tidak    tidak   tidak     tidak        ya  \n",
       "1282  tidak      ya    tidak   tidak     tidak     tidak  \n",
       "1283  tidak   tidak    tidak     NaN        ya     tidak  "
      ]
     },
     "execution_count": 651,
     "metadata": {},
     "output_type": "execute_result"
    }
   ],
   "source": [
    "dataset.tail()"
   ]
  },
  {
   "cell_type": "code",
   "execution_count": 652,
   "id": "a7ffa212",
   "metadata": {},
   "outputs": [
    {
     "data": {
      "text/html": [
       "<div>\n",
       "<style scoped>\n",
       "    .dataframe tbody tr th:only-of-type {\n",
       "        vertical-align: middle;\n",
       "    }\n",
       "\n",
       "    .dataframe tbody tr th {\n",
       "        vertical-align: top;\n",
       "    }\n",
       "\n",
       "    .dataframe thead th {\n",
       "        text-align: right;\n",
       "    }\n",
       "</style>\n",
       "<table border=\"1\" class=\"dataframe\">\n",
       "  <thead>\n",
       "    <tr style=\"text-align: right;\">\n",
       "      <th></th>\n",
       "      <th>Inisial</th>\n",
       "      <th>Batuk</th>\n",
       "      <th>Pilek</th>\n",
       "      <th>Sakit Tenggorokan</th>\n",
       "      <th>Sesak Nafas</th>\n",
       "      <th>Demam</th>\n",
       "      <th>Sakit Kepala</th>\n",
       "      <th>Lemas</th>\n",
       "      <th>Anosmia</th>\n",
       "      <th>Covid-19</th>\n",
       "      <th>Omicron</th>\n",
       "      <th>Influenza</th>\n",
       "      <th>Pneumonia</th>\n",
       "    </tr>\n",
       "  </thead>\n",
       "  <tbody>\n",
       "    <tr>\n",
       "      <th>count</th>\n",
       "      <td>4</td>\n",
       "      <td>1284</td>\n",
       "      <td>1284</td>\n",
       "      <td>1281</td>\n",
       "      <td>1283</td>\n",
       "      <td>1284</td>\n",
       "      <td>1283</td>\n",
       "      <td>1284</td>\n",
       "      <td>1283</td>\n",
       "      <td>1284</td>\n",
       "      <td>1282</td>\n",
       "      <td>1284</td>\n",
       "      <td>1284</td>\n",
       "    </tr>\n",
       "    <tr>\n",
       "      <th>unique</th>\n",
       "      <td>1</td>\n",
       "      <td>2</td>\n",
       "      <td>2</td>\n",
       "      <td>3</td>\n",
       "      <td>2</td>\n",
       "      <td>2</td>\n",
       "      <td>3</td>\n",
       "      <td>2</td>\n",
       "      <td>2</td>\n",
       "      <td>3</td>\n",
       "      <td>2</td>\n",
       "      <td>2</td>\n",
       "      <td>2</td>\n",
       "    </tr>\n",
       "    <tr>\n",
       "      <th>top</th>\n",
       "      <td>-</td>\n",
       "      <td>ya</td>\n",
       "      <td>ya</td>\n",
       "      <td>tidak</td>\n",
       "      <td>tidak</td>\n",
       "      <td>tidak</td>\n",
       "      <td>tidak</td>\n",
       "      <td>ya</td>\n",
       "      <td>tidak</td>\n",
       "      <td>ya</td>\n",
       "      <td>tidak</td>\n",
       "      <td>tidak</td>\n",
       "      <td>tidak</td>\n",
       "    </tr>\n",
       "    <tr>\n",
       "      <th>freq</th>\n",
       "      <td>4</td>\n",
       "      <td>924</td>\n",
       "      <td>788</td>\n",
       "      <td>773</td>\n",
       "      <td>958</td>\n",
       "      <td>751</td>\n",
       "      <td>855</td>\n",
       "      <td>707</td>\n",
       "      <td>706</td>\n",
       "      <td>798</td>\n",
       "      <td>741</td>\n",
       "      <td>1003</td>\n",
       "      <td>1133</td>\n",
       "    </tr>\n",
       "  </tbody>\n",
       "</table>\n",
       "</div>"
      ],
      "text/plain": [
       "       Inisial Batuk Pilek Sakit Tenggorokan  Sesak Nafas  Demam Sakit Kepala  \\\n",
       "count        4  1284  1284               1281        1283   1284         1283   \n",
       "unique       1     2     2                  3           2      2            3   \n",
       "top          -    ya    ya              tidak       tidak  tidak        tidak   \n",
       "freq         4   924   788                773         958    751          855   \n",
       "\n",
       "       Lemas Anosmia Covid-19 Omicron Influenza Pneumonia  \n",
       "count   1284    1283     1284    1282      1284      1284  \n",
       "unique     2       2        3       2         2         2  \n",
       "top       ya   tidak       ya   tidak     tidak     tidak  \n",
       "freq     707     706      798     741      1003      1133  "
      ]
     },
     "execution_count": 652,
     "metadata": {},
     "output_type": "execute_result"
    }
   ],
   "source": [
    "dataset.describe()"
   ]
  },
  {
   "cell_type": "code",
   "execution_count": 653,
   "id": "75d39abf",
   "metadata": {},
   "outputs": [
    {
     "name": "stdout",
     "output_type": "stream",
     "text": [
      "<class 'pandas.core.frame.DataFrame'>\n",
      "RangeIndex: 1284 entries, 0 to 1283\n",
      "Data columns (total 13 columns):\n",
      " #   Column              Non-Null Count  Dtype \n",
      "---  ------              --------------  ----- \n",
      " 0   Inisial             4 non-null      object\n",
      " 1   Batuk               1284 non-null   object\n",
      " 2   Pilek               1284 non-null   object\n",
      " 3   Sakit Tenggorokan   1281 non-null   object\n",
      " 4   Sesak Nafas         1283 non-null   object\n",
      " 5   Demam               1284 non-null   object\n",
      " 6   Sakit Kepala        1283 non-null   object\n",
      " 7   Lemas               1284 non-null   object\n",
      " 8   Anosmia             1283 non-null   object\n",
      " 9   Covid-19            1284 non-null   object\n",
      " 10  Omicron             1282 non-null   object\n",
      " 11  Influenza           1284 non-null   object\n",
      " 12  Pneumonia           1284 non-null   object\n",
      "dtypes: object(13)\n",
      "memory usage: 130.5+ KB\n"
     ]
    }
   ],
   "source": [
    "dataset.info()"
   ]
  },
  {
   "cell_type": "code",
   "execution_count": 654,
   "id": "56041a71",
   "metadata": {},
   "outputs": [
    {
     "data": {
      "text/plain": [
       "Inisial               1280\n",
       "Batuk                    0\n",
       "Pilek                    0\n",
       "Sakit Tenggorokan        3\n",
       "Sesak Nafas              1\n",
       "Demam                    0\n",
       "Sakit Kepala             1\n",
       "Lemas                    0\n",
       "Anosmia                  1\n",
       "Covid-19                 0\n",
       "Omicron                  2\n",
       "Influenza                0\n",
       "Pneumonia                0\n",
       "dtype: int64"
      ]
     },
     "execution_count": 654,
     "metadata": {},
     "output_type": "execute_result"
    }
   ],
   "source": [
    "dataset.isnull().sum()"
   ]
  },
  {
   "cell_type": "markdown",
   "id": "e8a4da77",
   "metadata": {},
   "source": [
    "## 1. Data Pre-Processing\n",
    "    b. Removes Useless Attributes"
   ]
  },
  {
   "cell_type": "code",
   "execution_count": 655,
   "id": "572b5548",
   "metadata": {},
   "outputs": [],
   "source": [
    "#Removes Useless Attribute: Inisial\n",
    "dataset.drop('Inisial', axis = 1, inplace = True)"
   ]
  },
  {
   "cell_type": "code",
   "execution_count": 656,
   "id": "75a11d6e",
   "metadata": {},
   "outputs": [
    {
     "data": {
      "text/html": [
       "<div>\n",
       "<style scoped>\n",
       "    .dataframe tbody tr th:only-of-type {\n",
       "        vertical-align: middle;\n",
       "    }\n",
       "\n",
       "    .dataframe tbody tr th {\n",
       "        vertical-align: top;\n",
       "    }\n",
       "\n",
       "    .dataframe thead th {\n",
       "        text-align: right;\n",
       "    }\n",
       "</style>\n",
       "<table border=\"1\" class=\"dataframe\">\n",
       "  <thead>\n",
       "    <tr style=\"text-align: right;\">\n",
       "      <th></th>\n",
       "      <th>Batuk</th>\n",
       "      <th>Pilek</th>\n",
       "      <th>Sakit Tenggorokan</th>\n",
       "      <th>Sesak Nafas</th>\n",
       "      <th>Demam</th>\n",
       "      <th>Sakit Kepala</th>\n",
       "      <th>Lemas</th>\n",
       "      <th>Anosmia</th>\n",
       "      <th>Covid-19</th>\n",
       "      <th>Omicron</th>\n",
       "      <th>Influenza</th>\n",
       "      <th>Pneumonia</th>\n",
       "    </tr>\n",
       "  </thead>\n",
       "  <tbody>\n",
       "    <tr>\n",
       "      <th>0</th>\n",
       "      <td>ya</td>\n",
       "      <td>ya</td>\n",
       "      <td>ya</td>\n",
       "      <td>ya</td>\n",
       "      <td>ya</td>\n",
       "      <td>ya</td>\n",
       "      <td>ya</td>\n",
       "      <td>tidak</td>\n",
       "      <td>ya</td>\n",
       "      <td>ya</td>\n",
       "      <td>tidak</td>\n",
       "      <td>tidak</td>\n",
       "    </tr>\n",
       "    <tr>\n",
       "      <th>1</th>\n",
       "      <td>ya</td>\n",
       "      <td>ya</td>\n",
       "      <td>ya</td>\n",
       "      <td>ya</td>\n",
       "      <td>ya</td>\n",
       "      <td>ya</td>\n",
       "      <td>ya</td>\n",
       "      <td>ya</td>\n",
       "      <td>ya</td>\n",
       "      <td>ya</td>\n",
       "      <td>tidak</td>\n",
       "      <td>tidak</td>\n",
       "    </tr>\n",
       "    <tr>\n",
       "      <th>2</th>\n",
       "      <td>ya</td>\n",
       "      <td>ya</td>\n",
       "      <td>ya</td>\n",
       "      <td>ya</td>\n",
       "      <td>ya</td>\n",
       "      <td>ya</td>\n",
       "      <td>ya</td>\n",
       "      <td>ya</td>\n",
       "      <td>ya</td>\n",
       "      <td>ya</td>\n",
       "      <td>tidak</td>\n",
       "      <td>tidak</td>\n",
       "    </tr>\n",
       "    <tr>\n",
       "      <th>3</th>\n",
       "      <td>ya</td>\n",
       "      <td>ya</td>\n",
       "      <td>ya</td>\n",
       "      <td>ya</td>\n",
       "      <td>ya</td>\n",
       "      <td>ya</td>\n",
       "      <td>ya</td>\n",
       "      <td>ya</td>\n",
       "      <td>ya</td>\n",
       "      <td>ya</td>\n",
       "      <td>tidak</td>\n",
       "      <td>tidak</td>\n",
       "    </tr>\n",
       "    <tr>\n",
       "      <th>4</th>\n",
       "      <td>ya</td>\n",
       "      <td>ya</td>\n",
       "      <td>tidak</td>\n",
       "      <td>ya</td>\n",
       "      <td>ya</td>\n",
       "      <td>ya</td>\n",
       "      <td>ya</td>\n",
       "      <td>ya</td>\n",
       "      <td>ya</td>\n",
       "      <td>ya</td>\n",
       "      <td>tidak</td>\n",
       "      <td>tidak</td>\n",
       "    </tr>\n",
       "  </tbody>\n",
       "</table>\n",
       "</div>"
      ],
      "text/plain": [
       "  Batuk Pilek Sakit Tenggorokan  Sesak Nafas Demam Sakit Kepala Lemas Anosmia  \\\n",
       "0    ya    ya                 ya          ya    ya           ya    ya   tidak   \n",
       "1    ya    ya                 ya          ya    ya           ya    ya      ya   \n",
       "2    ya    ya                 ya          ya    ya           ya    ya      ya   \n",
       "3    ya    ya                 ya          ya    ya           ya    ya      ya   \n",
       "4    ya    ya              tidak          ya    ya           ya    ya      ya   \n",
       "\n",
       "  Covid-19 Omicron Influenza Pneumonia  \n",
       "0      ya       ya     tidak     tidak  \n",
       "1      ya       ya     tidak     tidak  \n",
       "2      ya       ya     tidak     tidak  \n",
       "3      ya       ya     tidak     tidak  \n",
       "4      ya       ya     tidak     tidak  "
      ]
     },
     "execution_count": 656,
     "metadata": {},
     "output_type": "execute_result"
    }
   ],
   "source": [
    "dataset.head(5)"
   ]
  },
  {
   "cell_type": "code",
   "execution_count": 657,
   "id": "2bf8fe67",
   "metadata": {},
   "outputs": [
    {
     "data": {
      "text/html": [
       "<div>\n",
       "<style scoped>\n",
       "    .dataframe tbody tr th:only-of-type {\n",
       "        vertical-align: middle;\n",
       "    }\n",
       "\n",
       "    .dataframe tbody tr th {\n",
       "        vertical-align: top;\n",
       "    }\n",
       "\n",
       "    .dataframe thead th {\n",
       "        text-align: right;\n",
       "    }\n",
       "</style>\n",
       "<table border=\"1\" class=\"dataframe\">\n",
       "  <thead>\n",
       "    <tr style=\"text-align: right;\">\n",
       "      <th></th>\n",
       "      <th>Batuk</th>\n",
       "      <th>Pilek</th>\n",
       "      <th>Sakit Tenggorokan</th>\n",
       "      <th>Sesak Nafas</th>\n",
       "      <th>Demam</th>\n",
       "      <th>Sakit Kepala</th>\n",
       "      <th>Lemas</th>\n",
       "      <th>Anosmia</th>\n",
       "      <th>Covid-19</th>\n",
       "      <th>Omicron</th>\n",
       "      <th>Influenza</th>\n",
       "      <th>Pneumonia</th>\n",
       "    </tr>\n",
       "  </thead>\n",
       "  <tbody>\n",
       "    <tr>\n",
       "      <th>1279</th>\n",
       "      <td>tidak</td>\n",
       "      <td>tidak</td>\n",
       "      <td>ya</td>\n",
       "      <td>ya</td>\n",
       "      <td>tidak</td>\n",
       "      <td>tidak</td>\n",
       "      <td>tidak</td>\n",
       "      <td>tidak</td>\n",
       "      <td>tidak</td>\n",
       "      <td>tidak</td>\n",
       "      <td>tidak</td>\n",
       "      <td>ya</td>\n",
       "    </tr>\n",
       "    <tr>\n",
       "      <th>1280</th>\n",
       "      <td>tidak</td>\n",
       "      <td>tidak</td>\n",
       "      <td>ya</td>\n",
       "      <td>ya</td>\n",
       "      <td>tidak</td>\n",
       "      <td>tidak</td>\n",
       "      <td>tidak</td>\n",
       "      <td>tidak</td>\n",
       "      <td>tidak</td>\n",
       "      <td>tidak</td>\n",
       "      <td>tidak</td>\n",
       "      <td>ya</td>\n",
       "    </tr>\n",
       "    <tr>\n",
       "      <th>1281</th>\n",
       "      <td>tidak</td>\n",
       "      <td>tidak</td>\n",
       "      <td>ya</td>\n",
       "      <td>ya</td>\n",
       "      <td>tidak</td>\n",
       "      <td>tidak</td>\n",
       "      <td>tidak</td>\n",
       "      <td>tidak</td>\n",
       "      <td>tidak</td>\n",
       "      <td>tidak</td>\n",
       "      <td>tidak</td>\n",
       "      <td>ya</td>\n",
       "    </tr>\n",
       "    <tr>\n",
       "      <th>1282</th>\n",
       "      <td>ya</td>\n",
       "      <td>tidak</td>\n",
       "      <td>tidak</td>\n",
       "      <td>tidak</td>\n",
       "      <td>ya</td>\n",
       "      <td>tidak</td>\n",
       "      <td>tidak</td>\n",
       "      <td>ya</td>\n",
       "      <td>tidak</td>\n",
       "      <td>tidak</td>\n",
       "      <td>tidak</td>\n",
       "      <td>tidak</td>\n",
       "    </tr>\n",
       "    <tr>\n",
       "      <th>1283</th>\n",
       "      <td>ya</td>\n",
       "      <td>ya</td>\n",
       "      <td>ya</td>\n",
       "      <td>tidak</td>\n",
       "      <td>tidak</td>\n",
       "      <td>tidak</td>\n",
       "      <td>tidak</td>\n",
       "      <td>tidak</td>\n",
       "      <td>tidak</td>\n",
       "      <td>NaN</td>\n",
       "      <td>ya</td>\n",
       "      <td>tidak</td>\n",
       "    </tr>\n",
       "  </tbody>\n",
       "</table>\n",
       "</div>"
      ],
      "text/plain": [
       "      Batuk  Pilek Sakit Tenggorokan  Sesak Nafas  Demam Sakit Kepala  Lemas  \\\n",
       "1279  tidak  tidak                 ya          ya  tidak        tidak  tidak   \n",
       "1280  tidak  tidak                 ya          ya  tidak        tidak  tidak   \n",
       "1281  tidak  tidak                 ya          ya  tidak        tidak  tidak   \n",
       "1282     ya  tidak              tidak       tidak     ya        tidak  tidak   \n",
       "1283     ya     ya                 ya       tidak  tidak        tidak  tidak   \n",
       "\n",
       "     Anosmia Covid-19 Omicron Influenza Pneumonia  \n",
       "1279   tidak    tidak   tidak     tidak        ya  \n",
       "1280   tidak    tidak   tidak     tidak        ya  \n",
       "1281   tidak    tidak   tidak     tidak        ya  \n",
       "1282      ya    tidak   tidak     tidak     tidak  \n",
       "1283   tidak    tidak     NaN        ya     tidak  "
      ]
     },
     "execution_count": 657,
     "metadata": {},
     "output_type": "execute_result"
    }
   ],
   "source": [
    "dataset.tail(5)"
   ]
  },
  {
   "cell_type": "markdown",
   "id": "58ab54d8",
   "metadata": {},
   "source": [
    "## 1. Data Pre-Processing\n",
    "    c. Handling Missing Values"
   ]
  },
  {
   "cell_type": "code",
   "execution_count": 658,
   "id": "7796edd4",
   "metadata": {},
   "outputs": [
    {
     "data": {
      "text/plain": [
       "Batuk                 0\n",
       "Pilek                 0\n",
       "Sakit Tenggorokan     3\n",
       "Sesak Nafas           1\n",
       "Demam                 0\n",
       "Sakit Kepala          1\n",
       "Lemas                 0\n",
       "Anosmia               1\n",
       "Covid-19              0\n",
       "Omicron               2\n",
       "Influenza             0\n",
       "Pneumonia             0\n",
       "dtype: int64"
      ]
     },
     "execution_count": 658,
     "metadata": {},
     "output_type": "execute_result"
    }
   ],
   "source": [
    "dataset.isnull().sum()    # Checking dataset for null value in each field"
   ]
  },
  {
   "cell_type": "code",
   "execution_count": 659,
   "id": "25a05edd",
   "metadata": {},
   "outputs": [],
   "source": [
    "import numpy as np\n",
    "import matplotlib.pyplot as plt\n",
    "import seaborn as sns  #seaborn for heatmap"
   ]
  },
  {
   "cell_type": "code",
   "execution_count": 660,
   "id": "a2caead4",
   "metadata": {},
   "outputs": [
    {
     "data": {
      "text/plain": [
       "<AxesSubplot:>"
      ]
     },
     "execution_count": 660,
     "metadata": {},
     "output_type": "execute_result"
    },
    {
     "data": {
      "image/png": "[encoded data removed]",
      "text/plain": [
       "<Figure size 432x288 with 1 Axes>"
      ]
     },
     "metadata": {},
     "output_type": "display_data"
    }
   ],
   "source": [
    "sns.heatmap(dataset.isnull(), cbar=False)"
   ]
  },
  {
   "cell_type": "code",
   "execution_count": 661,
   "id": "36532865",
   "metadata": {},
   "outputs": [],
   "source": [
    "# df['real_lastName'] = np.where(df['LastName'].isnull(), df['Middle'], df['LastName'] )"
   ]
  },
  {
   "cell_type": "code",
   "execution_count": 662,
   "id": "c84c1204",
   "metadata": {},
   "outputs": [],
   "source": [
    "dataset.columns = ['Batuk', 'Pilek', 'SakitTenggorokan', 'SesakNafas', 'Demam', \n",
    "                   'SakitKepala', 'Lemas', 'Anosmia', 'Covid-19', 'Omicron', 'Influenza', 'Pneumonia']"
   ]
  },
  {
   "cell_type": "code",
   "execution_count": 663,
   "id": "0acd9391",
   "metadata": {
    "scrolled": true
   },
   "outputs": [
    {
     "data": {
      "text/html": [
       "<div>\n",
       "<style scoped>\n",
       "    .dataframe tbody tr th:only-of-type {\n",
       "        vertical-align: middle;\n",
       "    }\n",
       "\n",
       "    .dataframe tbody tr th {\n",
       "        vertical-align: top;\n",
       "    }\n",
       "\n",
       "    .dataframe thead th {\n",
       "        text-align: right;\n",
       "    }\n",
       "</style>\n",
       "<table border=\"1\" class=\"dataframe\">\n",
       "  <thead>\n",
       "    <tr style=\"text-align: right;\">\n",
       "      <th></th>\n",
       "      <th>Batuk</th>\n",
       "      <th>Pilek</th>\n",
       "      <th>SakitTenggorokan</th>\n",
       "      <th>SesakNafas</th>\n",
       "      <th>Demam</th>\n",
       "      <th>SakitKepala</th>\n",
       "      <th>Lemas</th>\n",
       "      <th>Anosmia</th>\n",
       "      <th>Covid-19</th>\n",
       "      <th>Omicron</th>\n",
       "      <th>Influenza</th>\n",
       "      <th>Pneumonia</th>\n",
       "    </tr>\n",
       "  </thead>\n",
       "  <tbody>\n",
       "    <tr>\n",
       "      <th>0</th>\n",
       "      <td>ya</td>\n",
       "      <td>ya</td>\n",
       "      <td>ya</td>\n",
       "      <td>ya</td>\n",
       "      <td>ya</td>\n",
       "      <td>ya</td>\n",
       "      <td>ya</td>\n",
       "      <td>tidak</td>\n",
       "      <td>ya</td>\n",
       "      <td>ya</td>\n",
       "      <td>tidak</td>\n",
       "      <td>tidak</td>\n",
       "    </tr>\n",
       "    <tr>\n",
       "      <th>1</th>\n",
       "      <td>ya</td>\n",
       "      <td>ya</td>\n",
       "      <td>ya</td>\n",
       "      <td>ya</td>\n",
       "      <td>ya</td>\n",
       "      <td>ya</td>\n",
       "      <td>ya</td>\n",
       "      <td>ya</td>\n",
       "      <td>ya</td>\n",
       "      <td>ya</td>\n",
       "      <td>tidak</td>\n",
       "      <td>tidak</td>\n",
       "    </tr>\n",
       "    <tr>\n",
       "      <th>2</th>\n",
       "      <td>ya</td>\n",
       "      <td>ya</td>\n",
       "      <td>ya</td>\n",
       "      <td>ya</td>\n",
       "      <td>ya</td>\n",
       "      <td>ya</td>\n",
       "      <td>ya</td>\n",
       "      <td>ya</td>\n",
       "      <td>ya</td>\n",
       "      <td>ya</td>\n",
       "      <td>tidak</td>\n",
       "      <td>tidak</td>\n",
       "    </tr>\n",
       "    <tr>\n",
       "      <th>3</th>\n",
       "      <td>ya</td>\n",
       "      <td>ya</td>\n",
       "      <td>ya</td>\n",
       "      <td>ya</td>\n",
       "      <td>ya</td>\n",
       "      <td>ya</td>\n",
       "      <td>ya</td>\n",
       "      <td>ya</td>\n",
       "      <td>ya</td>\n",
       "      <td>ya</td>\n",
       "      <td>tidak</td>\n",
       "      <td>tidak</td>\n",
       "    </tr>\n",
       "    <tr>\n",
       "      <th>4</th>\n",
       "      <td>ya</td>\n",
       "      <td>ya</td>\n",
       "      <td>tidak</td>\n",
       "      <td>ya</td>\n",
       "      <td>ya</td>\n",
       "      <td>ya</td>\n",
       "      <td>ya</td>\n",
       "      <td>ya</td>\n",
       "      <td>ya</td>\n",
       "      <td>ya</td>\n",
       "      <td>tidak</td>\n",
       "      <td>tidak</td>\n",
       "    </tr>\n",
       "  </tbody>\n",
       "</table>\n",
       "</div>"
      ],
      "text/plain": [
       "  Batuk Pilek SakitTenggorokan SesakNafas Demam SakitKepala Lemas Anosmia  \\\n",
       "0    ya    ya               ya         ya    ya          ya    ya   tidak   \n",
       "1    ya    ya               ya         ya    ya          ya    ya      ya   \n",
       "2    ya    ya               ya         ya    ya          ya    ya      ya   \n",
       "3    ya    ya               ya         ya    ya          ya    ya      ya   \n",
       "4    ya    ya            tidak         ya    ya          ya    ya      ya   \n",
       "\n",
       "  Covid-19 Omicron Influenza Pneumonia  \n",
       "0      ya       ya     tidak     tidak  \n",
       "1      ya       ya     tidak     tidak  \n",
       "2      ya       ya     tidak     tidak  \n",
       "3      ya       ya     tidak     tidak  \n",
       "4      ya       ya     tidak     tidak  "
      ]
     },
     "execution_count": 663,
     "metadata": {},
     "output_type": "execute_result"
    }
   ],
   "source": [
    "dataset.head(5)"
   ]
  },
  {
   "cell_type": "code",
   "execution_count": 729,
   "id": "87265dc4",
   "metadata": {},
   "outputs": [
    {
     "data": {
      "text/html": [
       "<div>\n",
       "<style scoped>\n",
       "    .dataframe tbody tr th:only-of-type {\n",
       "        vertical-align: middle;\n",
       "    }\n",
       "\n",
       "    .dataframe tbody tr th {\n",
       "        vertical-align: top;\n",
       "    }\n",
       "\n",
       "    .dataframe thead th {\n",
       "        text-align: right;\n",
       "    }\n",
       "</style>\n",
       "<table border=\"1\" class=\"dataframe\">\n",
       "  <thead>\n",
       "    <tr style=\"text-align: right;\">\n",
       "      <th></th>\n",
       "      <th>Batuk</th>\n",
       "      <th>Pilek</th>\n",
       "      <th>SakitTenggorokan</th>\n",
       "      <th>SesakNafas</th>\n",
       "      <th>Demam</th>\n",
       "      <th>SakitKepala</th>\n",
       "      <th>Lemas</th>\n",
       "      <th>Anosmia</th>\n",
       "      <th>Covid-19</th>\n",
       "      <th>Omicron</th>\n",
       "      <th>Influenza</th>\n",
       "      <th>Pneumonia</th>\n",
       "    </tr>\n",
       "  </thead>\n",
       "  <tbody>\n",
       "    <tr>\n",
       "      <th>Batuk</th>\n",
       "      <td>1.000000</td>\n",
       "      <td>0.377235</td>\n",
       "      <td>-0.004572</td>\n",
       "      <td>0.032386</td>\n",
       "      <td>0.131741</td>\n",
       "      <td>-0.055171</td>\n",
       "      <td>0.080951</td>\n",
       "      <td>0.059442</td>\n",
       "      <td>0.140815</td>\n",
       "      <td>-0.214275</td>\n",
       "      <td>0.086895</td>\n",
       "      <td>0.028723</td>\n",
       "    </tr>\n",
       "    <tr>\n",
       "      <th>Pilek</th>\n",
       "      <td>0.377235</td>\n",
       "      <td>1.000000</td>\n",
       "      <td>0.021658</td>\n",
       "      <td>-0.064213</td>\n",
       "      <td>0.061334</td>\n",
       "      <td>0.038456</td>\n",
       "      <td>0.026075</td>\n",
       "      <td>0.013752</td>\n",
       "      <td>0.056541</td>\n",
       "      <td>-0.173685</td>\n",
       "      <td>0.312588</td>\n",
       "      <td>-0.192012</td>\n",
       "    </tr>\n",
       "    <tr>\n",
       "      <th>SakitTenggorokan</th>\n",
       "      <td>-0.004572</td>\n",
       "      <td>0.021658</td>\n",
       "      <td>1.000000</td>\n",
       "      <td>-0.036017</td>\n",
       "      <td>-0.055870</td>\n",
       "      <td>0.055166</td>\n",
       "      <td>-0.016859</td>\n",
       "      <td>0.281212</td>\n",
       "      <td>0.408575</td>\n",
       "      <td>-0.041451</td>\n",
       "      <td>-0.233339</td>\n",
       "      <td>-0.201948</td>\n",
       "    </tr>\n",
       "    <tr>\n",
       "      <th>SesakNafas</th>\n",
       "      <td>0.032386</td>\n",
       "      <td>-0.064213</td>\n",
       "      <td>-0.036017</td>\n",
       "      <td>1.000000</td>\n",
       "      <td>-0.036027</td>\n",
       "      <td>-0.096260</td>\n",
       "      <td>0.147810</td>\n",
       "      <td>-0.181101</td>\n",
       "      <td>-0.193414</td>\n",
       "      <td>-0.004310</td>\n",
       "      <td>-0.288379</td>\n",
       "      <td>0.627106</td>\n",
       "    </tr>\n",
       "    <tr>\n",
       "      <th>Demam</th>\n",
       "      <td>0.131741</td>\n",
       "      <td>0.061334</td>\n",
       "      <td>-0.055870</td>\n",
       "      <td>-0.036027</td>\n",
       "      <td>1.000000</td>\n",
       "      <td>0.591231</td>\n",
       "      <td>0.217715</td>\n",
       "      <td>0.165416</td>\n",
       "      <td>-0.076471</td>\n",
       "      <td>0.134444</td>\n",
       "      <td>0.019779</td>\n",
       "      <td>-0.130914</td>\n",
       "    </tr>\n",
       "    <tr>\n",
       "      <th>SakitKepala</th>\n",
       "      <td>-0.055171</td>\n",
       "      <td>0.038456</td>\n",
       "      <td>0.055166</td>\n",
       "      <td>-0.096260</td>\n",
       "      <td>0.591231</td>\n",
       "      <td>1.000000</td>\n",
       "      <td>0.266811</td>\n",
       "      <td>0.170467</td>\n",
       "      <td>0.095037</td>\n",
       "      <td>0.131573</td>\n",
       "      <td>-0.088608</td>\n",
       "      <td>-0.222241</td>\n",
       "    </tr>\n",
       "    <tr>\n",
       "      <th>Lemas</th>\n",
       "      <td>0.080951</td>\n",
       "      <td>0.026075</td>\n",
       "      <td>-0.016859</td>\n",
       "      <td>0.147810</td>\n",
       "      <td>0.217715</td>\n",
       "      <td>0.266811</td>\n",
       "      <td>1.000000</td>\n",
       "      <td>0.238356</td>\n",
       "      <td>0.020938</td>\n",
       "      <td>0.042993</td>\n",
       "      <td>-0.174404</td>\n",
       "      <td>0.120807</td>\n",
       "    </tr>\n",
       "    <tr>\n",
       "      <th>Anosmia</th>\n",
       "      <td>0.059442</td>\n",
       "      <td>0.013752</td>\n",
       "      <td>0.281212</td>\n",
       "      <td>-0.181101</td>\n",
       "      <td>0.165416</td>\n",
       "      <td>0.170467</td>\n",
       "      <td>0.238356</td>\n",
       "      <td>1.000000</td>\n",
       "      <td>0.372694</td>\n",
       "      <td>0.240935</td>\n",
       "      <td>-0.448221</td>\n",
       "      <td>-0.330320</td>\n",
       "    </tr>\n",
       "    <tr>\n",
       "      <th>Covid-19</th>\n",
       "      <td>0.140815</td>\n",
       "      <td>0.056541</td>\n",
       "      <td>0.408575</td>\n",
       "      <td>-0.193414</td>\n",
       "      <td>-0.076471</td>\n",
       "      <td>0.095037</td>\n",
       "      <td>0.020938</td>\n",
       "      <td>0.372694</td>\n",
       "      <td>1.000000</td>\n",
       "      <td>-0.510870</td>\n",
       "      <td>-0.296104</td>\n",
       "      <td>-0.218216</td>\n",
       "    </tr>\n",
       "    <tr>\n",
       "      <th>Omicron</th>\n",
       "      <td>-0.214275</td>\n",
       "      <td>-0.173685</td>\n",
       "      <td>-0.041451</td>\n",
       "      <td>-0.004310</td>\n",
       "      <td>0.134444</td>\n",
       "      <td>0.131573</td>\n",
       "      <td>0.042993</td>\n",
       "      <td>0.240935</td>\n",
       "      <td>-0.510870</td>\n",
       "      <td>1.000000</td>\n",
       "      <td>-0.419414</td>\n",
       "      <td>-0.312012</td>\n",
       "    </tr>\n",
       "    <tr>\n",
       "      <th>Influenza</th>\n",
       "      <td>0.086895</td>\n",
       "      <td>0.312588</td>\n",
       "      <td>-0.233339</td>\n",
       "      <td>-0.288379</td>\n",
       "      <td>0.019779</td>\n",
       "      <td>-0.088608</td>\n",
       "      <td>-0.174404</td>\n",
       "      <td>-0.448221</td>\n",
       "      <td>-0.296104</td>\n",
       "      <td>-0.419414</td>\n",
       "      <td>1.000000</td>\n",
       "      <td>-0.180844</td>\n",
       "    </tr>\n",
       "    <tr>\n",
       "      <th>Pneumonia</th>\n",
       "      <td>0.028723</td>\n",
       "      <td>-0.192012</td>\n",
       "      <td>-0.201948</td>\n",
       "      <td>0.627106</td>\n",
       "      <td>-0.130914</td>\n",
       "      <td>-0.222241</td>\n",
       "      <td>0.120807</td>\n",
       "      <td>-0.330320</td>\n",
       "      <td>-0.218216</td>\n",
       "      <td>-0.312012</td>\n",
       "      <td>-0.180844</td>\n",
       "      <td>1.000000</td>\n",
       "    </tr>\n",
       "  </tbody>\n",
       "</table>\n",
       "</div>"
      ],
      "text/plain": [
       "                     Batuk     Pilek  SakitTenggorokan  SesakNafas     Demam  \\\n",
       "Batuk             1.000000  0.377235         -0.004572    0.032386  0.131741   \n",
       "Pilek             0.377235  1.000000          0.021658   -0.064213  0.061334   \n",
       "SakitTenggorokan -0.004572  0.021658          1.000000   -0.036017 -0.055870   \n",
       "SesakNafas        0.032386 -0.064213         -0.036017    1.000000 -0.036027   \n",
       "Demam             0.131741  0.061334         -0.055870   -0.036027  1.000000   \n",
       "SakitKepala      -0.055171  0.038456          0.055166   -0.096260  0.591231   \n",
       "Lemas             0.080951  0.026075         -0.016859    0.147810  0.217715   \n",
       "Anosmia           0.059442  0.013752          0.281212   -0.181101  0.165416   \n",
       "Covid-19          0.140815  0.056541          0.408575   -0.193414 -0.076471   \n",
       "Omicron          -0.214275 -0.173685         -0.041451   -0.004310  0.134444   \n",
       "Influenza         0.086895  0.312588         -0.233339   -0.288379  0.019779   \n",
       "Pneumonia         0.028723 -0.192012         -0.201948    0.627106 -0.130914   \n",
       "\n",
       "                  SakitKepala     Lemas   Anosmia  Covid-19   Omicron  \\\n",
       "Batuk               -0.055171  0.080951  0.059442  0.140815 -0.214275   \n",
       "Pilek                0.038456  0.026075  0.013752  0.056541 -0.173685   \n",
       "SakitTenggorokan     0.055166 -0.016859  0.281212  0.408575 -0.041451   \n",
       "SesakNafas          -0.096260  0.147810 -0.181101 -0.193414 -0.004310   \n",
       "Demam                0.591231  0.217715  0.165416 -0.076471  0.134444   \n",
       "SakitKepala          1.000000  0.266811  0.170467  0.095037  0.131573   \n",
       "Lemas                0.266811  1.000000  0.238356  0.020938  0.042993   \n",
       "Anosmia              0.170467  0.238356  1.000000  0.372694  0.240935   \n",
       "Covid-19             0.095037  0.020938  0.372694  1.000000 -0.510870   \n",
       "Omicron              0.131573  0.042993  0.240935 -0.510870  1.000000   \n",
       "Influenza           -0.088608 -0.174404 -0.448221 -0.296104 -0.419414   \n",
       "Pneumonia           -0.222241  0.120807 -0.330320 -0.218216 -0.312012   \n",
       "\n",
       "                  Influenza  Pneumonia  \n",
       "Batuk              0.086895   0.028723  \n",
       "Pilek              0.312588  -0.192012  \n",
       "SakitTenggorokan  -0.233339  -0.201948  \n",
       "SesakNafas        -0.288379   0.627106  \n",
       "Demam              0.019779  -0.130914  \n",
       "SakitKepala       -0.088608  -0.222241  \n",
       "Lemas             -0.174404   0.120807  \n",
       "Anosmia           -0.448221  -0.330320  \n",
       "Covid-19          -0.296104  -0.218216  \n",
       "Omicron           -0.419414  -0.312012  \n",
       "Influenza          1.000000  -0.180844  \n",
       "Pneumonia         -0.180844   1.000000  "
      ]
     },
     "execution_count": 729,
     "metadata": {},
     "output_type": "execute_result"
    }
   ],
   "source": [
    "dataset.corr()"
   ]
  },
  {
   "cell_type": "code",
   "execution_count": 665,
   "id": "9c9ba798",
   "metadata": {
    "scrolled": true
   },
   "outputs": [
    {
     "name": "stdout",
     "output_type": "stream",
     "text": [
      "[624, 1080, 1129]\n",
      "ya ya nan tidak tidak tidak ya ya ya tidak tidak tidak\n",
      "ya ya nan tidak tidak tidak tidak tidak tidak tidak ya tidak\n",
      "ya ya nan tidak ya ya ya tidak tidak tidak ya tidak\n"
     ]
    }
   ],
   "source": [
    "# Check index of Null Value in Fitur SakitTenggorokan, and print all the attributes on null value index \n",
    "\n",
    "index_null_sakit_tenggorokan = dataset['SakitTenggorokan'][dataset['SakitTenggorokan'].isnull()].index.tolist()\n",
    "print(index_null_sakit_tenggorokan)\n",
    "\n",
    "for x in (index_null_sakit_tenggorokan): \n",
    "    print(dataset['Batuk'][x], dataset['Pilek'][x], dataset['SakitTenggorokan'][x], dataset['SesakNafas'][x], dataset['Demam'][x], \n",
    "          dataset['SakitKepala'][x], dataset['Lemas'][x], dataset['Anosmia'][x], dataset['Covid-19'][x], dataset['Omicron'][x], \n",
    "          dataset['Influenza'][x], dataset['Pneumonia'][x])"
   ]
  },
  {
   "cell_type": "code",
   "execution_count": 666,
   "id": "d2c9a2b7",
   "metadata": {},
   "outputs": [],
   "source": [
    "# Fill null value for field SakitTenggorokan base on Covid-19 condition\n",
    "\n",
    "index_null_sakit_tenggorokan = dataset['SakitTenggorokan'][dataset['SakitTenggorokan'].isnull()].index.tolist()\n",
    "\n",
    "for x in (index_null_sakit_tenggorokan): \n",
    "    if dataset['Covid-19'][x] == 'ya': \n",
    "        dataset['SakitTenggorokan'][x] = 'ya'\n",
    "    elif dataset['Covid-19'][x] == 'tidak': \n",
    "        dataset['SakitTenggorokan'][x] = 'tidak'\n"
   ]
  },
  {
   "cell_type": "code",
   "execution_count": 667,
   "id": "2acc54b8",
   "metadata": {},
   "outputs": [
    {
     "name": "stdout",
     "output_type": "stream",
     "text": [
      "[629]\n",
      "ya ya tidak nan tidak tidak ya ya ya tidak tidak tidak\n"
     ]
    }
   ],
   "source": [
    "# Check index of Null Value in Fitur SesakNafas, and print all the attributes on null value index \n",
    "\n",
    "index_null_sesak_nafas = dataset['SesakNafas'][dataset['SesakNafas'].isnull()].index.tolist()\n",
    "print(index_null_sesak_nafas)\n",
    "\n",
    "for x in (index_null_sesak_nafas): \n",
    "    print(dataset['Batuk'][x], dataset['Pilek'][x], dataset['SakitTenggorokan'][x], dataset['SesakNafas'][x], dataset['Demam'][x], \n",
    "          dataset['SakitKepala'][x], dataset['Lemas'][x], dataset['Anosmia'][x], dataset['Covid-19'][x], dataset['Omicron'][x], \n",
    "          dataset['Influenza'][x], dataset['Pneumonia'][x])"
   ]
  },
  {
   "cell_type": "code",
   "execution_count": 668,
   "id": "8ad1da35",
   "metadata": {},
   "outputs": [],
   "source": [
    "# Fill null value for field SesakNafas base on Pnemonia condition\n",
    "\n",
    "index_null_sesak_nafas = dataset['SesakNafas'][dataset['SesakNafas'].isnull()].index.tolist()\n",
    "\n",
    "for x in (index_null_sesak_nafas):\n",
    "    if dataset['Pneumonia'][x] == 'ya': \n",
    "        dataset['SesakNafas'][x] = 'ya'\n",
    "    elif dataset['Pneumonia'][x] == 'tidak': \n",
    "        dataset['SesakNafas'][x] = 'tidak'"
   ]
  },
  {
   "cell_type": "code",
   "execution_count": 669,
   "id": "8179a2ba",
   "metadata": {
    "scrolled": true
   },
   "outputs": [
    {
     "name": "stdout",
     "output_type": "stream",
     "text": [
      "[801]\n",
      "ya ya ya tidak tidak tidak tidak nan ya tidak tidak tidak\n"
     ]
    }
   ],
   "source": [
    "# Check index of Null Value in Fitur Anosmia, and print all the attributes on null value index \n",
    "\n",
    "index_null_anosmia = dataset['Anosmia'][dataset['Anosmia'].isnull()].index.tolist()\n",
    "print(index_null_anosmia)\n",
    "\n",
    "for x in (index_null_anosmia): \n",
    "    print(dataset['Batuk'][x], dataset['Pilek'][x], dataset['SakitTenggorokan'][x], dataset['SesakNafas'][x], dataset['Demam'][x], \n",
    "          dataset['SakitKepala'][x], dataset['Lemas'][x], dataset['Anosmia'][x], dataset['Covid-19'][x], dataset['Omicron'][x], \n",
    "          dataset['Influenza'][x], dataset['Pneumonia'][x])"
   ]
  },
  {
   "cell_type": "code",
   "execution_count": 670,
   "id": "3f6983be",
   "metadata": {},
   "outputs": [],
   "source": [
    "# Fill null value for field Anosmia base on Covid-19 condition\n",
    "\n",
    "index_null_anosmia = dataset['Anosmia'][dataset['Anosmia'].isnull()].index.tolist()\n",
    "\n",
    "for x in (index_null_anosmia):\n",
    "    if dataset['Covid-19'][x] == 'ya' or dataset['Omicron'][x] == 'ya': \n",
    "        dataset['Anosmia'][x] = 'ya'\n",
    "    elif dataset['Covid-19'][x] == 'tidak' or dataset['Omicron'][x] == 'tidak': \n",
    "        dataset['Anosmia'][x] = 'tidak'"
   ]
  },
  {
   "cell_type": "code",
   "execution_count": 671,
   "id": "40d42422",
   "metadata": {},
   "outputs": [
    {
     "name": "stdout",
     "output_type": "stream",
     "text": [
      "[1114]\n",
      "ya ya tidak tidak ya nan ya tidak tidak tidak ya tidak\n"
     ]
    }
   ],
   "source": [
    "# Check index of Null Value in Fitur SakitKepala, and print all the attributes on null value index \n",
    "\n",
    "index_null_sakit_kepala = dataset['SakitKepala'][dataset['SakitKepala'].isnull()].index.tolist()\n",
    "print(index_null_sakit_kepala)\n",
    "\n",
    "for x in (index_null_sakit_kepala): \n",
    "    print(dataset['Batuk'][x], dataset['Pilek'][x], dataset['SakitTenggorokan'][x], dataset['SesakNafas'][x], dataset['Demam'][x], \n",
    "          dataset['SakitKepala'][x], dataset['Lemas'][x], dataset['Anosmia'][x], dataset['Covid-19'][x], dataset['Omicron'][x], \n",
    "          dataset['Influenza'][x], dataset['Pneumonia'][x])"
   ]
  },
  {
   "cell_type": "code",
   "execution_count": 672,
   "id": "4ce90191",
   "metadata": {},
   "outputs": [],
   "source": [
    "# Fill null value for field SakitKepala base on Covid-19 and Fever condition\n",
    "\n",
    "index_null_sakit_kepala = dataset['SakitKepala'][dataset['SakitKepala'].isnull()].index.tolist()\n",
    "\n",
    "for x in (index_null_sakit_kepala):\n",
    "    if dataset['Covid-19'][x] == 'ya' or dataset['Demam'][x] == 'ya': \n",
    "        dataset['SakitKepala'][x] = 'ya'\n",
    "    elif dataset['Covid-19'][x] == 'tidak' or dataset['Demam'][x] == 'tidak': \n",
    "        dataset['SakitKepala'][x] = 'tidak'"
   ]
  },
  {
   "cell_type": "code",
   "execution_count": 673,
   "id": "35b0fea0",
   "metadata": {
    "scrolled": true
   },
   "outputs": [
    {
     "name": "stdout",
     "output_type": "stream",
     "text": [
      "[878, 1283]\n",
      "ya ya tidak tidak ya ya tidak ya ya nan ya tidak\n",
      "ya ya ya tidak tidak tidak tidak tidak tidak nan ya tidak\n"
     ]
    }
   ],
   "source": [
    "# Check index of Null Value in Fitur Omicron, and print all the attributes on null value index \n",
    "\n",
    "index_null_omicron = dataset['Omicron'][dataset['Omicron'].isnull()].index.tolist()\n",
    "print(index_null_omicron)\n",
    "\n",
    "for x in (index_null_omicron): \n",
    "    print(dataset['Batuk'][x], dataset['Pilek'][x], dataset['SakitTenggorokan'][x], dataset['SesakNafas'][x], dataset['Demam'][x], \n",
    "          dataset['SakitKepala'][x], dataset['Lemas'][x], dataset['Anosmia'][x], dataset['Covid-19'][x], dataset['Omicron'][x], \n",
    "          dataset['Influenza'][x], dataset['Pneumonia'][x])"
   ]
  },
  {
   "cell_type": "code",
   "execution_count": 674,
   "id": "4fdb1103",
   "metadata": {},
   "outputs": [],
   "source": [
    "# Fill null value for field Omicron base on Other Diseas\n",
    "\n",
    "index_null_omicron = dataset['Omicron'][dataset['Omicron'].isnull()].index.tolist()\n",
    "\n",
    "for x in (index_null_omicron):\n",
    "    if dataset['Demam'][x] == 'ya' or dataset['SakitKepala'][x] == 'ya' or dataset['Anosmia'][x] == 'ya': \n",
    "        dataset['Omicron'][x] = 'tidak'\n",
    "    elif dataset['Demam'][x] == 'tidak' or dataset['SakitKepala'][x] == 'tidak' or dataset['Anosmia'][x] == 'tidak':\n",
    "        dataset['Omicron'][x] = 'ya'"
   ]
  },
  {
   "cell_type": "code",
   "execution_count": 675,
   "id": "1f377632",
   "metadata": {},
   "outputs": [
    {
     "name": "stdout",
     "output_type": "stream",
     "text": [
      "[]\n",
      "ya ya tidak tidak ya ya tidak ya ya tidak ya tidak\n",
      "ya ya ya tidak tidak tidak tidak tidak tidak ya ya tidak\n"
     ]
    }
   ],
   "source": [
    "# Check index of Null Value in Fitur Demam, and print all the attributes on null value index \n",
    "\n",
    "index_null_demam = dataset['Demam'][dataset['Demam'].isnull()].index.tolist()\n",
    "print(index_null_demam)\n",
    "\n",
    "for x in (index_null_omicron): \n",
    "    print(dataset['Batuk'][x], dataset['Pilek'][x], dataset['SakitTenggorokan'][x], dataset['SesakNafas'][x], dataset['Demam'][x], \n",
    "          dataset['SakitKepala'][x], dataset['Lemas'][x], dataset['Anosmia'][x], dataset['Covid-19'][x], dataset['Omicron'][x], \n",
    "          dataset['Influenza'][x], dataset['Pneumonia'][x])"
   ]
  },
  {
   "cell_type": "code",
   "execution_count": 676,
   "id": "edbcc887",
   "metadata": {},
   "outputs": [],
   "source": [
    "# Fill null value for field Demam base on Other Diseas\n",
    "\n",
    "index_null_demam = dataset['Demam'][dataset['Demam'].isnull()].index.tolist()\n",
    "\n",
    "for x in (index_null_demam):\n",
    "    if dataset['Omicron'][x] == 'ya': \n",
    "        dataset['Demam'][x] = 'ya'\n",
    "    elif dataset['Omicron'][x] == 'tidak': \n",
    "        dataset['Demam'][x] = 'tidak'"
   ]
  },
  {
   "cell_type": "code",
   "execution_count": 677,
   "id": "e0e30922",
   "metadata": {},
   "outputs": [
    {
     "data": {
      "text/plain": [
       "Batuk               0\n",
       "Pilek               0\n",
       "SakitTenggorokan    0\n",
       "SesakNafas          0\n",
       "Demam               0\n",
       "SakitKepala         0\n",
       "Lemas               0\n",
       "Anosmia             0\n",
       "Covid-19            0\n",
       "Omicron             0\n",
       "Influenza           0\n",
       "Pneumonia           0\n",
       "dtype: int64"
      ]
     },
     "execution_count": 677,
     "metadata": {},
     "output_type": "execute_result"
    }
   ],
   "source": [
    "dataset.isnull().sum()"
   ]
  },
  {
   "cell_type": "code",
   "execution_count": 678,
   "id": "1f3cac2a",
   "metadata": {},
   "outputs": [
    {
     "data": {
      "text/plain": [
       "<AxesSubplot:>"
      ]
     },
     "execution_count": 678,
     "metadata": {},
     "output_type": "execute_result"
    },
    {
     "data": {
      "image/png": "[encoded data removed]",
      "text/plain": [
       "<Figure size 432x288 with 1 Axes>"
      ]
     },
     "metadata": {},
     "output_type": "display_data"
    }
   ],
   "source": [
    "sns.heatmap(dataset.isnull(), cbar=False)"
   ]
  },
  {
   "cell_type": "markdown",
   "id": "39faa1b2",
   "metadata": {},
   "source": [
    "## 1. Data Pre-Processing\n",
    "    d. Fix Different value Field"
   ]
  },
  {
   "cell_type": "code",
   "execution_count": 679,
   "id": "18057695",
   "metadata": {},
   "outputs": [
    {
     "data": {
      "text/plain": [
       "ya       924\n",
       "tidak    360\n",
       "Name: Batuk, dtype: int64"
      ]
     },
     "execution_count": 679,
     "metadata": {},
     "output_type": "execute_result"
    }
   ],
   "source": [
    "dataset['Batuk'].value_counts()\n",
    "\n",
    "#No Different Value Found"
   ]
  },
  {
   "cell_type": "code",
   "execution_count": 680,
   "id": "6a547a5f",
   "metadata": {},
   "outputs": [
    {
     "data": {
      "text/plain": [
       "ya       788\n",
       "tidak    496\n",
       "Name: Pilek, dtype: int64"
      ]
     },
     "execution_count": 680,
     "metadata": {},
     "output_type": "execute_result"
    }
   ],
   "source": [
    "dataset['Pilek'].value_counts()\n",
    "\n",
    "#No Different Value Found"
   ]
  },
  {
   "cell_type": "code",
   "execution_count": 681,
   "id": "cb99f2b8",
   "metadata": {},
   "outputs": [
    {
     "data": {
      "text/plain": [
       "tidak    775\n",
       "ya       508\n",
       "ua         1\n",
       "Name: SakitTenggorokan, dtype: int64"
      ]
     },
     "execution_count": 681,
     "metadata": {},
     "output_type": "execute_result"
    }
   ],
   "source": [
    "dataset['SakitTenggorokan'].value_counts()\n",
    "\n",
    "# Different Value Found\n",
    "# Before Fixing"
   ]
  },
  {
   "cell_type": "code",
   "execution_count": 682,
   "id": "033697b9",
   "metadata": {},
   "outputs": [],
   "source": [
    "for x in range(len(dataset['SakitTenggorokan'])):\n",
    "    if dataset['SakitTenggorokan'][x] == 'ua': \n",
    "        dataset['SakitTenggorokan'][x] = 'ya'"
   ]
  },
  {
   "cell_type": "code",
   "execution_count": 683,
   "id": "9f534254",
   "metadata": {},
   "outputs": [
    {
     "data": {
      "text/plain": [
       "tidak    775\n",
       "ya       509\n",
       "Name: SakitTenggorokan, dtype: int64"
      ]
     },
     "execution_count": 683,
     "metadata": {},
     "output_type": "execute_result"
    }
   ],
   "source": [
    "dataset['SakitTenggorokan'].value_counts()\n",
    "# After Fixing Different Value"
   ]
  },
  {
   "cell_type": "code",
   "execution_count": 684,
   "id": "6545ee93",
   "metadata": {},
   "outputs": [
    {
     "data": {
      "text/plain": [
       "tidak    959\n",
       "ya       325\n",
       "Name: SesakNafas, dtype: int64"
      ]
     },
     "execution_count": 684,
     "metadata": {},
     "output_type": "execute_result"
    }
   ],
   "source": [
    "dataset['SesakNafas'].value_counts()\n",
    "\n",
    "#No Different Value Found"
   ]
  },
  {
   "cell_type": "code",
   "execution_count": 685,
   "id": "aaf4ae09",
   "metadata": {},
   "outputs": [
    {
     "data": {
      "text/plain": [
       "tidak    751\n",
       "ya       533\n",
       "Name: Demam, dtype: int64"
      ]
     },
     "execution_count": 685,
     "metadata": {},
     "output_type": "execute_result"
    }
   ],
   "source": [
    "dataset['Demam'].value_counts()\n",
    "\n",
    "#No Different Value Found"
   ]
  },
  {
   "cell_type": "code",
   "execution_count": 686,
   "id": "bb5eec77",
   "metadata": {},
   "outputs": [
    {
     "data": {
      "text/plain": [
       "tidak     855\n",
       "ya        428\n",
       "tidaks      1\n",
       "Name: SakitKepala, dtype: int64"
      ]
     },
     "execution_count": 686,
     "metadata": {},
     "output_type": "execute_result"
    }
   ],
   "source": [
    "dataset['SakitKepala'].value_counts()\n",
    "\n",
    "# Different Value Found\n",
    "# Before Fixing"
   ]
  },
  {
   "cell_type": "code",
   "execution_count": 687,
   "id": "4b099c85",
   "metadata": {},
   "outputs": [],
   "source": [
    "for x in range(len(dataset['SakitKepala'])):\n",
    "    if dataset['SakitKepala'][x] == 'tidaks': \n",
    "        dataset['SakitKepala'][x] = 'tidak'"
   ]
  },
  {
   "cell_type": "code",
   "execution_count": 688,
   "id": "78824f44",
   "metadata": {},
   "outputs": [
    {
     "data": {
      "text/plain": [
       "tidak    856\n",
       "ya       428\n",
       "Name: SakitKepala, dtype: int64"
      ]
     },
     "execution_count": 688,
     "metadata": {},
     "output_type": "execute_result"
    }
   ],
   "source": [
    "dataset['SakitKepala'].value_counts()\n",
    "# After Fixing Different Value"
   ]
  },
  {
   "cell_type": "code",
   "execution_count": 689,
   "id": "3838bd34",
   "metadata": {},
   "outputs": [
    {
     "data": {
      "text/plain": [
       "ya       707\n",
       "tidak    577\n",
       "Name: Lemas, dtype: int64"
      ]
     },
     "execution_count": 689,
     "metadata": {},
     "output_type": "execute_result"
    }
   ],
   "source": [
    "dataset['Lemas'].value_counts()\n",
    "\n",
    "#No Different Value Found"
   ]
  },
  {
   "cell_type": "code",
   "execution_count": 690,
   "id": "db37a3f1",
   "metadata": {},
   "outputs": [
    {
     "data": {
      "text/plain": [
       "tidak    706\n",
       "ya       578\n",
       "Name: Anosmia, dtype: int64"
      ]
     },
     "execution_count": 690,
     "metadata": {},
     "output_type": "execute_result"
    }
   ],
   "source": [
    "dataset['Anosmia'].value_counts()\n",
    "\n",
    "#No Different Value Found"
   ]
  },
  {
   "cell_type": "code",
   "execution_count": 691,
   "id": "6b0b4b8e",
   "metadata": {},
   "outputs": [
    {
     "data": {
      "text/plain": [
       "ya       798\n",
       "tidak    405\n",
       "ya        81\n",
       "Name: Covid-19, dtype: int64"
      ]
     },
     "execution_count": 691,
     "metadata": {},
     "output_type": "execute_result"
    }
   ],
   "source": [
    "dataset['Covid-19'].value_counts()\n",
    "\n",
    "# Different Value Found\n",
    "# Before Fixing"
   ]
  },
  {
   "cell_type": "code",
   "execution_count": 692,
   "id": "37ce865f",
   "metadata": {},
   "outputs": [],
   "source": [
    "len_dataset_cov = len(dataset['Covid-19'])\n",
    "\n",
    "for x in range(len(dataset['Covid-19'])):\n",
    "    if dataset['Covid-19'][x] == 'ya ' or dataset['Covid-19'][x] == 'ya  ': \n",
    "        dataset['Covid-19'][x] = 'ya'"
   ]
  },
  {
   "cell_type": "code",
   "execution_count": 693,
   "id": "271a74a8",
   "metadata": {},
   "outputs": [
    {
     "data": {
      "text/plain": [
       "ya       879\n",
       "tidak    405\n",
       "Name: Covid-19, dtype: int64"
      ]
     },
     "execution_count": 693,
     "metadata": {},
     "output_type": "execute_result"
    }
   ],
   "source": [
    "dataset['Covid-19'].value_counts()\n",
    "# After Fixing Different Value"
   ]
  },
  {
   "cell_type": "code",
   "execution_count": 694,
   "id": "0b2cfd63",
   "metadata": {},
   "outputs": [
    {
     "data": {
      "text/plain": [
       "tidak    742\n",
       "ya       542\n",
       "Name: Omicron, dtype: int64"
      ]
     },
     "execution_count": 694,
     "metadata": {},
     "output_type": "execute_result"
    }
   ],
   "source": [
    "dataset['Omicron'].value_counts()\n",
    "\n",
    "#No Different Value Found"
   ]
  },
  {
   "cell_type": "code",
   "execution_count": 695,
   "id": "e24ecf31",
   "metadata": {},
   "outputs": [
    {
     "data": {
      "text/plain": [
       "tidak    1003\n",
       "ya        281\n",
       "Name: Influenza, dtype: int64"
      ]
     },
     "execution_count": 695,
     "metadata": {},
     "output_type": "execute_result"
    }
   ],
   "source": [
    "dataset['Influenza'].value_counts()\n",
    "\n",
    "#No Different Value Found"
   ]
  },
  {
   "cell_type": "code",
   "execution_count": 696,
   "id": "ecbbade2",
   "metadata": {},
   "outputs": [
    {
     "data": {
      "text/plain": [
       "tidak    1133\n",
       "ya        151\n",
       "Name: Pneumonia, dtype: int64"
      ]
     },
     "execution_count": 696,
     "metadata": {},
     "output_type": "execute_result"
    }
   ],
   "source": [
    "dataset['Pneumonia'].value_counts()\n",
    "\n",
    "#No Different Value Found"
   ]
  },
  {
   "cell_type": "code",
   "execution_count": 697,
   "id": "a971ec7b",
   "metadata": {},
   "outputs": [
    {
     "name": "stdout",
     "output_type": "stream",
     "text": [
      "ya ya\n",
      "ya ya\n",
      "ya ya\n",
      "ya ya\n",
      "ya ya\n",
      "ya ya\n",
      "ya ya\n",
      "ya ya\n",
      "ya ya\n",
      "ya ya\n",
      "ya ya\n",
      "ya ya\n",
      "ya ya\n",
      "ya ya\n",
      "ya ya\n",
      "ya ya\n",
      "ya ya\n",
      "ya ya\n",
      "ya ya\n",
      "ya ya\n",
      "ya ya\n",
      "ya ya\n",
      "ya ya\n",
      "ya ya\n",
      "ya ya\n",
      "ya ya\n",
      "ya ya\n",
      "ya ya\n",
      "ya ya\n",
      "ya ya\n",
      "ya ya\n",
      "ya ya\n",
      "ya ya\n",
      "ya ya\n",
      "ya ya\n",
      "ya ya\n",
      "ya ya\n",
      "ya ya\n",
      "ya ya\n",
      "ya ya\n",
      "ya ya\n",
      "ya ya\n",
      "ya ya\n",
      "ya ya\n",
      "ya ya\n",
      "ya ya\n",
      "ya ya\n",
      "ya ya\n",
      "ya ya\n",
      "ya ya\n",
      "ya ya\n",
      "ya ya\n",
      "ya ya\n",
      "ya ya\n",
      "ya ya\n",
      "ya ya\n",
      "ya ya\n",
      "ya ya\n",
      "ya ya\n",
      "ya ya\n",
      "ya tidak\n",
      "ya tidak\n",
      "ya tidak\n",
      "ya tidak\n",
      "ya tidak\n",
      "ya tidak\n",
      "ya tidak\n",
      "ya tidak\n",
      "ya tidak\n",
      "ya tidak\n",
      "ya tidak\n",
      "ya tidak\n",
      "ya tidak\n",
      "ya tidak\n",
      "ya tidak\n",
      "ya tidak\n",
      "ya tidak\n",
      "ya tidak\n",
      "ya tidak\n",
      "ya tidak\n",
      "ya tidak\n",
      "ya tidak\n",
      "ya tidak\n",
      "ya tidak\n",
      "ya tidak\n",
      "ya tidak\n",
      "ya tidak\n",
      "ya tidak\n",
      "ya tidak\n",
      "ya tidak\n",
      "ya tidak\n",
      "ya tidak\n",
      "ya tidak\n",
      "ya tidak\n",
      "ya tidak\n",
      "ya tidak\n",
      "ya tidak\n",
      "ya tidak\n",
      "ya tidak\n",
      "ya tidak\n",
      "ya tidak\n",
      "ya tidak\n",
      "ya tidak\n",
      "ya tidak\n",
      "ya tidak\n",
      "ya tidak\n",
      "ya ya\n",
      "ya ya\n",
      "ya ya\n",
      "ya ya\n",
      "ya ya\n",
      "ya ya\n",
      "ya ya\n",
      "ya ya\n",
      "ya ya\n",
      "ya ya\n",
      "ya ya\n",
      "ya ya\n",
      "ya ya\n",
      "ya ya\n",
      "ya ya\n",
      "ya ya\n",
      "ya ya\n",
      "ya ya\n",
      "ya ya\n",
      "ya ya\n",
      "ya ya\n",
      "ya ya\n",
      "ya ya\n",
      "ya ya\n",
      "ya ya\n",
      "ya ya\n",
      "ya ya\n",
      "ya ya\n",
      "ya ya\n",
      "ya ya\n",
      "ya ya\n",
      "ya ya\n",
      "ya ya\n",
      "ya ya\n",
      "ya ya\n",
      "ya ya\n",
      "ya ya\n",
      "ya ya\n",
      "ya ya\n",
      "ya ya\n",
      "ya ya\n",
      "ya ya\n",
      "ya ya\n",
      "ya ya\n",
      "ya ya\n",
      "ya ya\n",
      "ya ya\n",
      "ya ya\n",
      "ya ya\n",
      "ya ya\n",
      "ya ya\n",
      "ya ya\n",
      "ya ya\n",
      "ya ya\n",
      "ya ya\n",
      "ya ya\n",
      "ya ya\n",
      "ya ya\n",
      "ya ya\n",
      "ya ya\n",
      "ya ya\n",
      "ya ya\n",
      "ya ya\n",
      "ya ya\n",
      "ya ya\n",
      "ya ya\n",
      "ya ya\n",
      "ya ya\n",
      "ya ya\n",
      "ya ya\n",
      "ya ya\n",
      "ya ya\n",
      "ya ya\n",
      "ya ya\n",
      "ya ya\n",
      "ya ya\n",
      "ya ya\n",
      "ya ya\n",
      "ya ya\n",
      "ya ya\n",
      "ya ya\n",
      "ya ya\n",
      "ya ya\n",
      "ya ya\n",
      "ya ya\n",
      "ya ya\n",
      "ya ya\n",
      "ya ya\n",
      "ya ya\n",
      "ya ya\n",
      "ya ya\n",
      "ya ya\n",
      "ya ya\n",
      "ya ya\n",
      "ya ya\n",
      "ya ya\n",
      "ya ya\n",
      "ya ya\n",
      "ya ya\n",
      "ya ya\n",
      "ya ya\n",
      "ya ya\n",
      "ya ya\n",
      "ya ya\n",
      "ya ya\n",
      "ya ya\n",
      "ya ya\n",
      "ya ya\n",
      "ya ya\n",
      "ya ya\n",
      "ya ya\n",
      "ya ya\n",
      "ya ya\n",
      "ya ya\n",
      "ya ya\n",
      "ya ya\n",
      "ya ya\n",
      "ya ya\n",
      "ya ya\n",
      "ya ya\n",
      "ya ya\n",
      "ya ya\n",
      "ya ya\n",
      "ya ya\n",
      "ya ya\n",
      "ya ya\n",
      "ya ya\n",
      "ya ya\n",
      "ya ya\n",
      "ya ya\n",
      "ya ya\n",
      "ya ya\n",
      "ya ya\n",
      "ya ya\n",
      "ya ya\n",
      "ya ya\n",
      "ya ya\n",
      "ya ya\n",
      "ya ya\n",
      "ya ya\n",
      "ya ya\n",
      "ya ya\n",
      "ya ya\n",
      "ya ya\n",
      "ya ya\n",
      "ya ya\n",
      "ya ya\n",
      "ya ya\n",
      "ya ya\n",
      "ya ya\n",
      "ya ya\n",
      "ya ya\n",
      "ya ya\n",
      "ya ya\n",
      "ya ya\n",
      "ya ya\n",
      "ya ya\n",
      "ya ya\n",
      "ya ya\n",
      "ya ya\n",
      "ya ya\n",
      "ya ya\n",
      "ya ya\n",
      "ya ya\n",
      "ya ya\n",
      "ya ya\n",
      "ya ya\n",
      "ya ya\n",
      "ya ya\n",
      "ya ya\n",
      "ya ya\n",
      "ya ya\n",
      "ya ya\n",
      "ya ya\n",
      "ya ya\n",
      "ya ya\n",
      "ya ya\n",
      "ya ya\n",
      "ya ya\n",
      "ya ya\n",
      "ya ya\n",
      "ya ya\n",
      "ya ya\n",
      "ya ya\n",
      "ya ya\n",
      "ya ya\n",
      "ya ya\n",
      "ya ya\n",
      "ya ya\n",
      "ya ya\n",
      "ya ya\n",
      "ya ya\n",
      "ya ya\n",
      "ya ya\n",
      "ya ya\n",
      "ya ya\n",
      "ya ya\n",
      "ya ya\n",
      "ya ya\n",
      "ya ya\n",
      "ya ya\n",
      "ya ya\n",
      "ya ya\n",
      "ya ya\n",
      "ya ya\n",
      "ya ya\n",
      "ya ya\n",
      "ya ya\n",
      "ya ya\n",
      "ya ya\n",
      "ya ya\n",
      "ya ya\n",
      "ya ya\n",
      "ya ya\n",
      "ya ya\n",
      "ya ya\n",
      "ya ya\n",
      "ya ya\n",
      "ya ya\n",
      "ya ya\n",
      "ya ya\n",
      "ya ya\n",
      "ya ya\n",
      "ya ya\n",
      "ya ya\n",
      "ya ya\n",
      "ya ya\n",
      "ya ya\n",
      "ya ya\n",
      "ya ya\n",
      "ya ya\n",
      "ya ya\n",
      "ya ya\n",
      "ya ya\n",
      "ya ya\n",
      "ya ya\n",
      "ya ya\n",
      "ya ya\n",
      "ya ya\n",
      "ya ya\n",
      "ya ya\n",
      "ya ya\n",
      "ya ya\n",
      "ya ya\n",
      "ya ya\n",
      "ya ya\n",
      "ya ya\n",
      "ya ya\n",
      "ya ya\n",
      "ya ya\n",
      "ya ya\n",
      "ya ya\n",
      "ya ya\n",
      "ya ya\n",
      "ya ya\n",
      "ya ya\n",
      "ya ya\n",
      "ya ya\n",
      "ya ya\n",
      "ya ya\n",
      "ya ya\n",
      "ya ya\n",
      "ya ya\n",
      "ya ya\n",
      "ya ya\n",
      "ya ya\n",
      "ya ya\n",
      "ya ya\n",
      "ya ya\n",
      "ya ya\n",
      "ya ya\n",
      "ya ya\n",
      "ya ya\n",
      "ya ya\n",
      "ya ya\n",
      "ya ya\n",
      "ya ya\n",
      "ya ya\n",
      "ya ya\n",
      "ya ya\n",
      "ya ya\n",
      "ya ya\n",
      "ya ya\n",
      "ya ya\n",
      "ya ya\n",
      "ya ya\n",
      "ya ya\n",
      "ya ya\n",
      "ya ya\n",
      "ya ya\n",
      "ya ya\n",
      "ya ya\n",
      "ya ya\n",
      "ya ya\n",
      "ya ya\n",
      "ya ya\n",
      "ya ya\n",
      "ya ya\n",
      "ya ya\n",
      "ya ya\n",
      "ya ya\n",
      "ya ya\n",
      "ya ya\n",
      "ya ya\n",
      "ya ya\n",
      "ya ya\n",
      "ya ya\n",
      "ya ya\n",
      "ya ya\n",
      "ya ya\n",
      "ya ya\n",
      "ya ya\n",
      "ya ya\n",
      "ya ya\n",
      "ya ya\n",
      "ya ya\n",
      "ya ya\n",
      "ya ya\n",
      "ya ya\n",
      "ya ya\n",
      "ya ya\n",
      "ya ya\n",
      "ya ya\n",
      "ya ya\n",
      "ya ya\n",
      "ya ya\n",
      "ya ya\n",
      "ya ya\n",
      "ya ya\n",
      "ya ya\n",
      "ya ya\n",
      "ya ya\n",
      "ya ya\n",
      "ya ya\n",
      "ya ya\n",
      "ya ya\n",
      "ya ya\n",
      "ya ya\n",
      "ya ya\n",
      "ya ya\n",
      "ya ya\n",
      "ya ya\n",
      "ya ya\n",
      "ya ya\n",
      "ya ya\n",
      "ya ya\n",
      "ya ya\n",
      "ya ya\n",
      "ya ya\n",
      "ya ya\n",
      "ya ya\n",
      "ya ya\n",
      "ya ya\n",
      "ya ya\n",
      "ya ya\n",
      "ya ya\n",
      "ya ya\n",
      "ya ya\n",
      "ya ya\n",
      "ya ya\n",
      "ya ya\n",
      "ya ya\n",
      "ya ya\n",
      "ya ya\n",
      "ya ya\n",
      "ya ya\n",
      "ya ya\n",
      "ya ya\n",
      "ya ya\n",
      "ya ya\n",
      "ya ya\n",
      "ya ya\n",
      "ya ya\n",
      "ya ya\n",
      "ya ya\n",
      "ya ya\n",
      "ya ya\n",
      "ya ya\n",
      "ya ya\n",
      "ya ya\n",
      "ya ya\n",
      "ya ya\n",
      "ya ya\n",
      "ya ya\n",
      "ya ya\n",
      "ya ya\n",
      "ya ya\n",
      "ya ya\n",
      "ya ya\n",
      "ya ya\n",
      "ya ya\n",
      "ya ya\n",
      "ya ya\n",
      "ya ya\n",
      "ya ya\n",
      "ya ya\n",
      "ya ya\n",
      "ya ya\n",
      "ya ya\n",
      "ya ya\n",
      "ya ya\n",
      "ya ya\n",
      "ya ya\n",
      "ya ya\n",
      "ya ya\n",
      "ya ya\n",
      "ya ya\n",
      "ya ya\n",
      "ya ya\n",
      "ya ya\n",
      "ya ya\n",
      "ya ya\n",
      "ya ya\n",
      "ya ya\n",
      "ya ya\n",
      "ya ya\n",
      "ya ya\n",
      "ya ya\n",
      "ya ya\n",
      "ya ya\n",
      "ya ya\n",
      "ya ya\n",
      "ya ya\n",
      "ya ya\n",
      "ya ya\n",
      "ya ya\n",
      "ya ya\n",
      "ya ya\n",
      "ya ya\n",
      "ya ya\n",
      "ya ya\n",
      "ya ya\n",
      "ya ya\n",
      "ya ya\n",
      "ya ya\n",
      "ya ya\n",
      "ya ya\n",
      "ya ya\n",
      "ya ya\n",
      "ya ya\n",
      "ya ya\n",
      "ya ya\n",
      "ya ya\n",
      "ya ya\n",
      "ya ya\n",
      "ya ya\n",
      "ya ya\n",
      "ya ya\n",
      "ya ya\n",
      "ya ya\n",
      "ya ya\n",
      "ya ya\n",
      "ya ya\n",
      "ya ya\n",
      "ya ya\n",
      "ya ya\n",
      "ya ya\n",
      "ya ya\n",
      "ya ya\n",
      "ya ya\n",
      "ya ya\n",
      "ya ya\n",
      "ya ya\n",
      "ya ya\n",
      "ya ya\n",
      "ya ya\n",
      "ya ya\n",
      "ya ya\n",
      "ya ya\n",
      "ya ya\n",
      "ya ya\n",
      "ya ya\n",
      "ya ya\n",
      "ya ya\n",
      "ya ya\n",
      "ya ya\n",
      "ya ya\n",
      "ya ya\n",
      "ya ya\n",
      "ya ya\n",
      "ya ya\n",
      "ya tidak\n",
      "ya tidak\n",
      "ya tidak\n",
      "ya tidak\n",
      "ya tidak\n",
      "ya tidak\n",
      "ya tidak\n",
      "ya tidak\n",
      "ya tidak\n",
      "ya tidak\n",
      "ya tidak\n",
      "ya tidak\n",
      "ya tidak\n",
      "ya tidak\n",
      "ya tidak\n",
      "ya tidak\n",
      "ya tidak\n",
      "ya tidak\n",
      "ya tidak\n",
      "ya tidak\n",
      "ya tidak\n",
      "ya tidak\n",
      "ya tidak\n",
      "ya tidak\n",
      "ya tidak\n",
      "ya tidak\n",
      "ya tidak\n",
      "ya tidak\n",
      "ya tidak\n",
      "ya tidak\n",
      "ya tidak\n",
      "ya tidak\n",
      "ya tidak\n",
      "ya tidak\n",
      "ya tidak\n",
      "ya tidak\n",
      "ya tidak\n",
      "ya tidak\n",
      "ya tidak\n",
      "ya tidak\n",
      "ya tidak\n",
      "ya tidak\n",
      "ya tidak\n",
      "ya tidak\n",
      "ya tidak\n",
      "ya tidak\n",
      "ya tidak\n",
      "ya tidak\n",
      "ya tidak\n",
      "ya tidak\n",
      "ya tidak\n",
      "ya tidak\n",
      "ya tidak\n",
      "ya tidak\n",
      "ya tidak\n",
      "ya tidak\n",
      "ya tidak\n",
      "ya tidak\n",
      "ya tidak\n",
      "ya tidak\n",
      "ya tidak\n",
      "ya tidak\n",
      "ya tidak\n",
      "ya tidak\n",
      "ya tidak\n",
      "ya tidak\n",
      "ya tidak\n",
      "ya tidak\n",
      "ya tidak\n",
      "ya tidak\n",
      "ya tidak\n",
      "ya tidak\n",
      "ya tidak\n",
      "ya tidak\n",
      "ya tidak\n",
      "ya tidak\n",
      "ya tidak\n",
      "ya tidak\n",
      "ya tidak\n",
      "ya tidak\n",
      "ya tidak\n",
      "ya tidak\n",
      "ya tidak\n",
      "ya tidak\n",
      "ya tidak\n",
      "ya tidak\n",
      "ya tidak\n",
      "ya tidak\n",
      "ya tidak\n",
      "ya tidak\n",
      "ya tidak\n",
      "ya tidak\n",
      "ya tidak\n",
      "ya tidak\n",
      "ya tidak\n",
      "ya tidak\n",
      "ya tidak\n",
      "ya tidak\n",
      "ya tidak\n",
      "ya tidak\n",
      "ya tidak\n",
      "ya tidak\n",
      "ya tidak\n",
      "ya tidak\n",
      "ya tidak\n",
      "ya tidak\n",
      "ya tidak\n",
      "ya tidak\n",
      "ya tidak\n",
      "ya tidak\n",
      "ya tidak\n",
      "ya tidak\n",
      "ya tidak\n",
      "ya tidak\n",
      "ya tidak\n",
      "ya tidak\n",
      "ya tidak\n",
      "ya tidak\n",
      "ya tidak\n",
      "ya tidak\n",
      "ya tidak\n",
      "ya tidak\n",
      "ya tidak\n",
      "ya tidak\n",
      "ya tidak\n",
      "ya tidak\n",
      "ya tidak\n",
      "ya tidak\n",
      "ya tidak\n",
      "ya tidak\n",
      "ya tidak\n",
      "ya tidak\n",
      "ya tidak\n",
      "ya tidak\n",
      "ya tidak\n",
      "ya tidak\n",
      "ya tidak\n",
      "ya tidak\n",
      "ya tidak\n",
      "ya tidak\n",
      "ya tidak\n",
      "ya tidak\n",
      "ya tidak\n",
      "ya tidak\n",
      "ya tidak\n",
      "ya tidak\n",
      "ya tidak\n",
      "ya tidak\n",
      "ya tidak\n",
      "ya tidak\n",
      "ya tidak\n",
      "ya tidak\n",
      "ya tidak\n",
      "ya tidak\n",
      "ya tidak\n",
      "ya tidak\n",
      "ya tidak\n",
      "ya tidak\n",
      "ya tidak\n",
      "ya tidak\n",
      "ya tidak\n",
      "ya tidak\n",
      "ya tidak\n",
      "ya tidak\n",
      "ya tidak\n",
      "ya tidak\n",
      "ya tidak\n",
      "ya tidak\n",
      "ya tidak\n",
      "ya tidak\n",
      "ya tidak\n",
      "ya tidak\n",
      "ya tidak\n",
      "ya tidak\n",
      "ya tidak\n",
      "ya tidak\n",
      "ya tidak\n",
      "ya tidak\n",
      "ya tidak\n",
      "ya tidak\n",
      "ya tidak\n",
      "ya tidak\n",
      "ya tidak\n",
      "ya tidak\n",
      "ya tidak\n",
      "ya tidak\n",
      "ya tidak\n",
      "ya tidak\n",
      "ya tidak\n",
      "ya tidak\n",
      "ya tidak\n",
      "ya tidak\n",
      "ya tidak\n",
      "ya tidak\n",
      "ya tidak\n",
      "ya tidak\n",
      "ya tidak\n",
      "ya tidak\n",
      "ya tidak\n",
      "ya tidak\n",
      "ya tidak\n",
      "ya tidak\n",
      "ya tidak\n",
      "ya tidak\n",
      "ya tidak\n",
      "ya tidak\n",
      "ya tidak\n",
      "ya tidak\n",
      "ya tidak\n",
      "ya tidak\n",
      "ya tidak\n",
      "ya tidak\n",
      "ya tidak\n",
      "ya tidak\n",
      "ya tidak\n",
      "ya tidak\n",
      "ya tidak\n",
      "ya tidak\n",
      "ya tidak\n",
      "ya tidak\n",
      "ya tidak\n",
      "ya tidak\n",
      "ya tidak\n",
      "ya tidak\n",
      "ya tidak\n",
      "ya tidak\n",
      "ya tidak\n",
      "ya tidak\n",
      "ya tidak\n",
      "ya tidak\n",
      "ya tidak\n",
      "ya tidak\n",
      "ya tidak\n",
      "ya tidak\n",
      "ya tidak\n",
      "ya tidak\n",
      "ya tidak\n",
      "ya tidak\n",
      "ya tidak\n",
      "ya tidak\n",
      "ya tidak\n",
      "ya tidak\n",
      "ya tidak\n",
      "ya tidak\n",
      "ya tidak\n",
      "ya tidak\n",
      "ya tidak\n",
      "ya tidak\n",
      "ya tidak\n",
      "ya tidak\n",
      "ya tidak\n",
      "ya tidak\n",
      "ya tidak\n",
      "ya tidak\n",
      "ya tidak\n",
      "ya tidak\n",
      "ya tidak\n",
      "ya tidak\n",
      "ya tidak\n",
      "ya tidak\n",
      "ya tidak\n",
      "ya tidak\n",
      "ya tidak\n",
      "ya tidak\n",
      "ya tidak\n",
      "ya tidak\n",
      "ya tidak\n",
      "ya tidak\n",
      "ya tidak\n",
      "ya tidak\n",
      "ya tidak\n",
      "ya tidak\n",
      "ya tidak\n",
      "ya tidak\n",
      "ya tidak\n",
      "ya tidak\n",
      "ya tidak\n",
      "ya tidak\n",
      "ya tidak\n",
      "ya tidak\n",
      "ya tidak\n",
      "ya tidak\n",
      "ya tidak\n",
      "ya tidak\n",
      "ya tidak\n",
      "ya tidak\n",
      "ya tidak\n",
      "ya tidak\n",
      "ya tidak\n",
      "ya tidak\n",
      "ya tidak\n",
      "ya tidak\n",
      "tidak tidak\n",
      "tidak tidak\n",
      "tidak tidak\n",
      "tidak tidak\n",
      "tidak tidak\n",
      "tidak tidak\n",
      "tidak tidak\n",
      "tidak tidak\n",
      "tidak tidak\n",
      "tidak tidak\n",
      "tidak tidak\n",
      "tidak tidak\n",
      "tidak tidak\n",
      "tidak tidak\n",
      "tidak tidak\n",
      "tidak tidak\n",
      "tidak tidak\n",
      "tidak tidak\n",
      "tidak tidak\n",
      "tidak tidak\n",
      "tidak tidak\n",
      "tidak tidak\n",
      "tidak tidak\n",
      "tidak tidak\n",
      "tidak tidak\n",
      "tidak tidak\n",
      "tidak tidak\n",
      "tidak tidak\n",
      "tidak tidak\n",
      "tidak tidak\n",
      "tidak tidak\n",
      "tidak tidak\n",
      "tidak tidak\n",
      "tidak tidak\n",
      "tidak tidak\n",
      "tidak tidak\n",
      "tidak tidak\n",
      "tidak tidak\n",
      "tidak tidak\n",
      "tidak tidak\n",
      "tidak tidak\n",
      "tidak tidak\n",
      "tidak tidak\n",
      "tidak tidak\n",
      "tidak tidak\n",
      "tidak tidak\n",
      "tidak tidak\n",
      "tidak tidak\n",
      "tidak tidak\n",
      "tidak tidak\n",
      "tidak tidak\n",
      "tidak tidak\n",
      "tidak tidak\n",
      "tidak tidak\n",
      "tidak tidak\n",
      "tidak tidak\n",
      "tidak tidak\n",
      "tidak tidak\n",
      "tidak tidak\n",
      "tidak tidak\n",
      "tidak tidak\n",
      "tidak tidak\n",
      "tidak tidak\n",
      "tidak tidak\n",
      "tidak tidak\n",
      "tidak tidak\n",
      "tidak tidak\n",
      "tidak tidak\n",
      "tidak tidak\n",
      "tidak tidak\n",
      "tidak tidak\n",
      "tidak tidak\n",
      "tidak tidak\n",
      "tidak tidak\n",
      "tidak tidak\n",
      "tidak tidak\n",
      "tidak tidak\n",
      "tidak tidak\n",
      "tidak tidak\n",
      "tidak tidak\n",
      "tidak tidak\n",
      "tidak tidak\n",
      "tidak tidak\n",
      "tidak tidak\n",
      "tidak tidak\n",
      "tidak tidak\n",
      "tidak tidak\n",
      "tidak tidak\n",
      "tidak tidak\n",
      "tidak tidak\n",
      "tidak tidak\n",
      "tidak tidak\n",
      "tidak tidak\n",
      "tidak tidak\n",
      "tidak tidak\n",
      "tidak tidak\n",
      "tidak tidak\n",
      "tidak tidak\n",
      "tidak tidak\n",
      "tidak tidak\n",
      "tidak tidak\n",
      "tidak tidak\n",
      "tidak tidak\n",
      "tidak tidak\n",
      "tidak tidak\n",
      "tidak tidak\n",
      "tidak tidak\n",
      "tidak tidak\n",
      "tidak tidak\n",
      "tidak tidak\n",
      "tidak tidak\n",
      "tidak tidak\n",
      "tidak tidak\n",
      "tidak tidak\n",
      "tidak tidak\n",
      "tidak tidak\n",
      "tidak tidak\n",
      "tidak tidak\n",
      "tidak tidak\n",
      "tidak tidak\n",
      "tidak tidak\n",
      "tidak tidak\n",
      "tidak tidak\n",
      "tidak tidak\n",
      "tidak tidak\n",
      "tidak tidak\n",
      "tidak tidak\n",
      "tidak tidak\n",
      "tidak tidak\n",
      "tidak tidak\n",
      "tidak tidak\n",
      "tidak tidak\n",
      "tidak tidak\n",
      "tidak tidak\n",
      "tidak tidak\n",
      "tidak tidak\n",
      "tidak tidak\n",
      "tidak tidak\n",
      "tidak tidak\n",
      "tidak tidak\n",
      "tidak tidak\n",
      "tidak tidak\n",
      "tidak tidak\n",
      "tidak tidak\n",
      "tidak tidak\n",
      "tidak tidak\n",
      "tidak tidak\n",
      "tidak tidak\n",
      "tidak tidak\n",
      "tidak tidak\n",
      "tidak tidak\n",
      "tidak tidak\n",
      "tidak tidak\n",
      "tidak tidak\n",
      "tidak tidak\n",
      "tidak tidak\n",
      "tidak tidak\n",
      "tidak tidak\n",
      "tidak tidak\n",
      "tidak tidak\n",
      "tidak tidak\n",
      "tidak tidak\n",
      "tidak tidak\n",
      "tidak tidak\n",
      "tidak tidak\n",
      "tidak tidak\n",
      "tidak tidak\n",
      "tidak tidak\n",
      "tidak tidak\n",
      "tidak tidak\n",
      "tidak tidak\n",
      "tidak tidak\n",
      "tidak tidak\n",
      "tidak tidak\n",
      "tidak tidak\n",
      "tidak tidak\n",
      "tidak tidak\n",
      "tidak tidak\n",
      "tidak tidak\n",
      "tidak tidak\n",
      "tidak tidak\n",
      "tidak tidak\n",
      "tidak tidak\n",
      "tidak tidak\n",
      "tidak tidak\n",
      "tidak tidak\n",
      "tidak tidak\n",
      "tidak tidak\n",
      "tidak tidak\n",
      "tidak tidak\n",
      "tidak tidak\n",
      "tidak tidak\n",
      "tidak tidak\n",
      "tidak tidak\n",
      "tidak tidak\n",
      "tidak tidak\n",
      "tidak tidak\n",
      "tidak tidak\n",
      "tidak tidak\n",
      "tidak tidak\n",
      "tidak tidak\n",
      "tidak tidak\n",
      "tidak tidak\n",
      "tidak tidak\n",
      "tidak tidak\n",
      "tidak tidak\n",
      "tidak tidak\n",
      "tidak tidak\n",
      "tidak tidak\n",
      "tidak tidak\n",
      "tidak tidak\n",
      "tidak tidak\n",
      "tidak tidak\n",
      "tidak tidak\n",
      "tidak tidak\n",
      "tidak tidak\n",
      "tidak tidak\n",
      "tidak tidak\n",
      "tidak tidak\n",
      "tidak tidak\n",
      "tidak tidak\n",
      "tidak tidak\n",
      "tidak tidak\n",
      "tidak tidak\n",
      "tidak tidak\n",
      "tidak tidak\n",
      "tidak tidak\n",
      "tidak tidak\n",
      "tidak tidak\n",
      "tidak tidak\n",
      "tidak tidak\n",
      "tidak tidak\n",
      "tidak tidak\n",
      "tidak tidak\n",
      "tidak tidak\n",
      "tidak tidak\n",
      "tidak tidak\n",
      "tidak tidak\n",
      "tidak tidak\n",
      "tidak tidak\n",
      "tidak tidak\n",
      "tidak tidak\n",
      "tidak tidak\n",
      "tidak tidak\n",
      "tidak tidak\n",
      "tidak tidak\n",
      "tidak tidak\n",
      "tidak tidak\n",
      "tidak tidak\n",
      "tidak tidak\n",
      "tidak tidak\n",
      "tidak tidak\n",
      "tidak tidak\n",
      "tidak tidak\n",
      "tidak tidak\n",
      "tidak tidak\n",
      "tidak tidak\n",
      "tidak tidak\n",
      "tidak tidak\n",
      "tidak tidak\n",
      "tidak tidak\n",
      "tidak tidak\n",
      "tidak tidak\n",
      "tidak tidak\n",
      "tidak tidak\n",
      "tidak tidak\n",
      "tidak tidak\n",
      "tidak tidak\n",
      "tidak tidak\n",
      "tidak tidak\n",
      "tidak tidak\n",
      "tidak tidak\n",
      "tidak tidak\n",
      "tidak tidak\n",
      "tidak tidak\n",
      "tidak tidak\n",
      "tidak tidak\n",
      "tidak tidak\n",
      "tidak tidak\n",
      "tidak tidak\n",
      "tidak tidak\n",
      "tidak tidak\n",
      "tidak tidak\n",
      "tidak tidak\n",
      "tidak tidak\n",
      "tidak tidak\n",
      "tidak tidak\n",
      "tidak tidak\n",
      "tidak tidak\n",
      "tidak tidak\n",
      "tidak tidak\n",
      "tidak tidak\n",
      "tidak tidak\n",
      "tidak tidak\n",
      "tidak tidak\n",
      "tidak tidak\n",
      "tidak tidak\n",
      "tidak tidak\n",
      "tidak tidak\n",
      "tidak tidak\n",
      "tidak tidak\n",
      "tidak tidak\n",
      "tidak tidak\n",
      "tidak tidak\n",
      "tidak tidak\n",
      "tidak tidak\n",
      "tidak tidak\n",
      "tidak tidak\n",
      "tidak tidak\n",
      "tidak tidak\n",
      "tidak tidak\n",
      "tidak tidak\n",
      "tidak tidak\n",
      "tidak tidak\n",
      "tidak tidak\n",
      "tidak tidak\n",
      "tidak tidak\n",
      "tidak tidak\n",
      "tidak tidak\n",
      "tidak tidak\n",
      "tidak tidak\n",
      "tidak tidak\n",
      "tidak tidak\n",
      "tidak tidak\n",
      "tidak tidak\n",
      "tidak tidak\n",
      "tidak tidak\n",
      "tidak tidak\n",
      "tidak tidak\n",
      "tidak tidak\n",
      "tidak tidak\n",
      "tidak tidak\n",
      "tidak tidak\n",
      "tidak tidak\n",
      "tidak tidak\n",
      "tidak tidak\n",
      "tidak tidak\n",
      "tidak tidak\n",
      "tidak tidak\n",
      "tidak tidak\n",
      "tidak tidak\n",
      "tidak tidak\n",
      "tidak tidak\n",
      "tidak tidak\n",
      "tidak tidak\n",
      "tidak tidak\n",
      "tidak tidak\n",
      "tidak tidak\n",
      "tidak tidak\n",
      "tidak tidak\n",
      "tidak tidak\n",
      "tidak tidak\n",
      "tidak tidak\n",
      "tidak tidak\n",
      "tidak tidak\n",
      "tidak tidak\n",
      "tidak tidak\n",
      "tidak tidak\n",
      "tidak tidak\n",
      "tidak tidak\n",
      "tidak tidak\n",
      "tidak tidak\n",
      "tidak tidak\n",
      "tidak tidak\n",
      "tidak tidak\n",
      "tidak tidak\n",
      "tidak tidak\n",
      "tidak tidak\n",
      "tidak tidak\n",
      "tidak tidak\n",
      "tidak tidak\n",
      "tidak tidak\n",
      "tidak tidak\n",
      "tidak tidak\n",
      "tidak tidak\n",
      "tidak tidak\n",
      "tidak tidak\n",
      "tidak tidak\n",
      "tidak tidak\n",
      "tidak tidak\n",
      "tidak tidak\n",
      "tidak tidak\n",
      "tidak tidak\n",
      "tidak tidak\n",
      "tidak tidak\n",
      "tidak tidak\n",
      "tidak tidak\n",
      "tidak tidak\n",
      "tidak tidak\n",
      "tidak tidak\n",
      "tidak tidak\n",
      "tidak tidak\n",
      "tidak tidak\n",
      "tidak tidak\n",
      "tidak tidak\n",
      "tidak tidak\n",
      "tidak tidak\n",
      "tidak tidak\n",
      "tidak tidak\n",
      "tidak tidak\n",
      "tidak tidak\n",
      "tidak tidak\n",
      "tidak tidak\n",
      "tidak tidak\n",
      "tidak ya\n"
     ]
    }
   ],
   "source": [
    "for x in range(len(dataset['Covid-19'])):\n",
    "    print(dataset['Covid-19'][x], dataset['Omicron'][x])"
   ]
  },
  {
   "cell_type": "code",
   "execution_count": 698,
   "id": "c8d3b6ec",
   "metadata": {},
   "outputs": [],
   "source": [
    "for x in range(len(dataset['Covid-19'])):\n",
    "    if dataset['Covid-19'][x] == 'ya' and dataset['Omicron'][x] == 'ya': \n",
    "        dataset['Covid-19'][x] = 'tidak'"
   ]
  },
  {
   "cell_type": "code",
   "execution_count": 699,
   "id": "987c9879",
   "metadata": {},
   "outputs": [
    {
     "name": "stdout",
     "output_type": "stream",
     "text": [
      "tidak ya\n",
      "tidak ya\n",
      "tidak ya\n",
      "tidak ya\n",
      "tidak ya\n",
      "tidak ya\n",
      "tidak ya\n",
      "tidak ya\n",
      "tidak ya\n",
      "tidak ya\n",
      "tidak ya\n",
      "tidak ya\n",
      "tidak ya\n",
      "tidak ya\n",
      "tidak ya\n",
      "tidak ya\n",
      "tidak ya\n",
      "tidak ya\n",
      "tidak ya\n",
      "tidak ya\n",
      "tidak ya\n",
      "tidak ya\n",
      "tidak ya\n",
      "tidak ya\n",
      "tidak ya\n",
      "tidak ya\n",
      "tidak ya\n",
      "tidak ya\n",
      "tidak ya\n",
      "tidak ya\n",
      "tidak ya\n",
      "tidak ya\n",
      "tidak ya\n",
      "tidak ya\n",
      "tidak ya\n",
      "tidak ya\n",
      "tidak ya\n",
      "tidak ya\n",
      "tidak ya\n",
      "tidak ya\n",
      "tidak ya\n",
      "tidak ya\n",
      "tidak ya\n",
      "tidak ya\n",
      "tidak ya\n",
      "tidak ya\n",
      "tidak ya\n",
      "tidak ya\n",
      "tidak ya\n",
      "tidak ya\n",
      "tidak ya\n",
      "tidak ya\n",
      "tidak ya\n",
      "tidak ya\n",
      "tidak ya\n",
      "tidak ya\n",
      "tidak ya\n",
      "tidak ya\n",
      "tidak ya\n",
      "tidak ya\n",
      "ya tidak\n",
      "ya tidak\n",
      "ya tidak\n",
      "ya tidak\n",
      "ya tidak\n",
      "ya tidak\n",
      "ya tidak\n",
      "ya tidak\n",
      "ya tidak\n",
      "ya tidak\n",
      "ya tidak\n",
      "ya tidak\n",
      "ya tidak\n",
      "ya tidak\n",
      "ya tidak\n",
      "ya tidak\n",
      "ya tidak\n",
      "ya tidak\n",
      "ya tidak\n",
      "ya tidak\n",
      "ya tidak\n",
      "ya tidak\n",
      "ya tidak\n",
      "ya tidak\n",
      "ya tidak\n",
      "ya tidak\n",
      "ya tidak\n",
      "ya tidak\n",
      "ya tidak\n",
      "ya tidak\n",
      "ya tidak\n",
      "ya tidak\n",
      "ya tidak\n",
      "ya tidak\n",
      "ya tidak\n",
      "ya tidak\n",
      "ya tidak\n",
      "ya tidak\n",
      "ya tidak\n",
      "ya tidak\n",
      "ya tidak\n",
      "ya tidak\n",
      "ya tidak\n",
      "ya tidak\n",
      "ya tidak\n",
      "ya tidak\n",
      "tidak ya\n",
      "tidak ya\n",
      "tidak ya\n",
      "tidak ya\n",
      "tidak ya\n",
      "tidak ya\n",
      "tidak ya\n",
      "tidak ya\n",
      "tidak ya\n",
      "tidak ya\n",
      "tidak ya\n",
      "tidak ya\n",
      "tidak ya\n",
      "tidak ya\n",
      "tidak ya\n",
      "tidak ya\n",
      "tidak ya\n",
      "tidak ya\n",
      "tidak ya\n",
      "tidak ya\n",
      "tidak ya\n",
      "tidak ya\n",
      "tidak ya\n",
      "tidak ya\n",
      "tidak ya\n",
      "tidak ya\n",
      "tidak ya\n",
      "tidak ya\n",
      "tidak ya\n",
      "tidak ya\n",
      "tidak ya\n",
      "tidak ya\n",
      "tidak ya\n",
      "tidak ya\n",
      "tidak ya\n",
      "tidak ya\n",
      "tidak ya\n",
      "tidak ya\n",
      "tidak ya\n",
      "tidak ya\n",
      "tidak ya\n",
      "tidak ya\n",
      "tidak ya\n",
      "tidak ya\n",
      "tidak ya\n",
      "tidak ya\n",
      "tidak ya\n",
      "tidak ya\n",
      "tidak ya\n",
      "tidak ya\n",
      "tidak ya\n",
      "tidak ya\n",
      "tidak ya\n",
      "tidak ya\n",
      "tidak ya\n",
      "tidak ya\n",
      "tidak ya\n",
      "tidak ya\n",
      "tidak ya\n",
      "tidak ya\n",
      "tidak ya\n",
      "tidak ya\n",
      "tidak ya\n",
      "tidak ya\n",
      "tidak ya\n",
      "tidak ya\n",
      "tidak ya\n",
      "tidak ya\n",
      "tidak ya\n",
      "tidak ya\n",
      "tidak ya\n",
      "tidak ya\n",
      "tidak ya\n",
      "tidak ya\n",
      "tidak ya\n",
      "tidak ya\n",
      "tidak ya\n",
      "tidak ya\n",
      "tidak ya\n",
      "tidak ya\n",
      "tidak ya\n",
      "tidak ya\n",
      "tidak ya\n",
      "tidak ya\n",
      "tidak ya\n",
      "tidak ya\n",
      "tidak ya\n",
      "tidak ya\n",
      "tidak ya\n",
      "tidak ya\n",
      "tidak ya\n",
      "tidak ya\n",
      "tidak ya\n",
      "tidak ya\n",
      "tidak ya\n",
      "tidak ya\n",
      "tidak ya\n",
      "tidak ya\n",
      "tidak ya\n",
      "tidak ya\n",
      "tidak ya\n",
      "tidak ya\n",
      "tidak ya\n",
      "tidak ya\n",
      "tidak ya\n",
      "tidak ya\n",
      "tidak ya\n",
      "tidak ya\n",
      "tidak ya\n",
      "tidak ya\n",
      "tidak ya\n",
      "tidak ya\n",
      "tidak ya\n",
      "tidak ya\n",
      "tidak ya\n",
      "tidak ya\n",
      "tidak ya\n",
      "tidak ya\n",
      "tidak ya\n",
      "tidak ya\n",
      "tidak ya\n",
      "tidak ya\n",
      "tidak ya\n",
      "tidak ya\n",
      "tidak ya\n",
      "tidak ya\n",
      "tidak ya\n",
      "tidak ya\n",
      "tidak ya\n",
      "tidak ya\n",
      "tidak ya\n",
      "tidak ya\n",
      "tidak ya\n",
      "tidak ya\n",
      "tidak ya\n",
      "tidak ya\n",
      "tidak ya\n",
      "tidak ya\n",
      "tidak ya\n",
      "tidak ya\n",
      "tidak ya\n",
      "tidak ya\n",
      "tidak ya\n",
      "tidak ya\n",
      "tidak ya\n",
      "tidak ya\n",
      "tidak ya\n",
      "tidak ya\n",
      "tidak ya\n",
      "tidak ya\n",
      "tidak ya\n",
      "tidak ya\n",
      "tidak ya\n",
      "tidak ya\n",
      "tidak ya\n",
      "tidak ya\n",
      "tidak ya\n",
      "tidak ya\n",
      "tidak ya\n",
      "tidak ya\n",
      "tidak ya\n",
      "tidak ya\n",
      "tidak ya\n",
      "tidak ya\n",
      "tidak ya\n",
      "tidak ya\n",
      "tidak ya\n",
      "tidak ya\n",
      "tidak ya\n",
      "tidak ya\n",
      "tidak ya\n",
      "tidak ya\n",
      "tidak ya\n",
      "tidak ya\n",
      "tidak ya\n",
      "tidak ya\n",
      "tidak ya\n",
      "tidak ya\n",
      "tidak ya\n",
      "tidak ya\n",
      "tidak ya\n",
      "tidak ya\n",
      "tidak ya\n",
      "tidak ya\n",
      "tidak ya\n",
      "tidak ya\n",
      "tidak ya\n",
      "tidak ya\n",
      "tidak ya\n",
      "tidak ya\n",
      "tidak ya\n",
      "tidak ya\n",
      "tidak ya\n",
      "tidak ya\n",
      "tidak ya\n",
      "tidak ya\n",
      "tidak ya\n",
      "tidak ya\n",
      "tidak ya\n",
      "tidak ya\n",
      "tidak ya\n",
      "tidak ya\n",
      "tidak ya\n",
      "tidak ya\n",
      "tidak ya\n",
      "tidak ya\n",
      "tidak ya\n",
      "tidak ya\n",
      "tidak ya\n",
      "tidak ya\n",
      "tidak ya\n",
      "tidak ya\n",
      "tidak ya\n",
      "tidak ya\n",
      "tidak ya\n",
      "tidak ya\n",
      "tidak ya\n",
      "tidak ya\n",
      "tidak ya\n",
      "tidak ya\n",
      "tidak ya\n",
      "tidak ya\n",
      "tidak ya\n",
      "tidak ya\n",
      "tidak ya\n",
      "tidak ya\n",
      "tidak ya\n",
      "tidak ya\n",
      "tidak ya\n",
      "tidak ya\n",
      "tidak ya\n",
      "tidak ya\n",
      "tidak ya\n",
      "tidak ya\n",
      "tidak ya\n",
      "tidak ya\n",
      "tidak ya\n",
      "tidak ya\n",
      "tidak ya\n",
      "tidak ya\n",
      "tidak ya\n",
      "tidak ya\n",
      "tidak ya\n",
      "tidak ya\n",
      "tidak ya\n",
      "tidak ya\n",
      "tidak ya\n",
      "tidak ya\n",
      "tidak ya\n",
      "tidak ya\n",
      "tidak ya\n",
      "tidak ya\n",
      "tidak ya\n",
      "tidak ya\n",
      "tidak ya\n",
      "tidak ya\n",
      "tidak ya\n",
      "tidak ya\n",
      "tidak ya\n",
      "tidak ya\n",
      "tidak ya\n",
      "tidak ya\n",
      "tidak ya\n",
      "tidak ya\n",
      "tidak ya\n",
      "tidak ya\n",
      "tidak ya\n",
      "tidak ya\n",
      "tidak ya\n",
      "tidak ya\n",
      "tidak ya\n",
      "tidak ya\n",
      "tidak ya\n",
      "tidak ya\n",
      "tidak ya\n",
      "tidak ya\n",
      "tidak ya\n",
      "tidak ya\n",
      "tidak ya\n",
      "tidak ya\n",
      "tidak ya\n",
      "tidak ya\n",
      "tidak ya\n",
      "tidak ya\n",
      "tidak ya\n",
      "tidak ya\n",
      "tidak ya\n",
      "tidak ya\n",
      "tidak ya\n",
      "tidak ya\n",
      "tidak ya\n",
      "tidak ya\n",
      "tidak ya\n",
      "tidak ya\n",
      "tidak ya\n",
      "tidak ya\n",
      "tidak ya\n",
      "tidak ya\n",
      "tidak ya\n",
      "tidak ya\n",
      "tidak ya\n",
      "tidak ya\n",
      "tidak ya\n",
      "tidak ya\n",
      "tidak ya\n",
      "tidak ya\n",
      "tidak ya\n",
      "tidak ya\n",
      "tidak ya\n",
      "tidak ya\n",
      "tidak ya\n",
      "tidak ya\n",
      "tidak ya\n",
      "tidak ya\n",
      "tidak ya\n",
      "tidak ya\n",
      "tidak ya\n",
      "tidak ya\n",
      "tidak ya\n",
      "tidak ya\n",
      "tidak ya\n",
      "tidak ya\n",
      "tidak ya\n",
      "tidak ya\n",
      "tidak ya\n",
      "tidak ya\n",
      "tidak ya\n",
      "tidak ya\n",
      "tidak ya\n",
      "tidak ya\n",
      "tidak ya\n",
      "tidak ya\n",
      "tidak ya\n",
      "tidak ya\n",
      "tidak ya\n",
      "tidak ya\n",
      "tidak ya\n",
      "tidak ya\n",
      "tidak ya\n",
      "tidak ya\n",
      "tidak ya\n",
      "tidak ya\n",
      "tidak ya\n",
      "tidak ya\n",
      "tidak ya\n",
      "tidak ya\n",
      "tidak ya\n",
      "tidak ya\n",
      "tidak ya\n",
      "tidak ya\n",
      "tidak ya\n",
      "tidak ya\n",
      "tidak ya\n",
      "tidak ya\n",
      "tidak ya\n",
      "tidak ya\n",
      "tidak ya\n",
      "tidak ya\n",
      "tidak ya\n",
      "tidak ya\n",
      "tidak ya\n",
      "tidak ya\n",
      "tidak ya\n",
      "tidak ya\n",
      "tidak ya\n",
      "tidak ya\n",
      "tidak ya\n",
      "tidak ya\n",
      "tidak ya\n",
      "tidak ya\n",
      "tidak ya\n",
      "tidak ya\n",
      "tidak ya\n",
      "tidak ya\n",
      "tidak ya\n",
      "tidak ya\n",
      "tidak ya\n",
      "tidak ya\n",
      "tidak ya\n",
      "tidak ya\n",
      "tidak ya\n",
      "tidak ya\n",
      "tidak ya\n",
      "tidak ya\n",
      "tidak ya\n",
      "tidak ya\n",
      "tidak ya\n",
      "tidak ya\n",
      "tidak ya\n",
      "tidak ya\n",
      "tidak ya\n",
      "tidak ya\n",
      "tidak ya\n",
      "tidak ya\n",
      "tidak ya\n",
      "tidak ya\n",
      "tidak ya\n",
      "tidak ya\n",
      "tidak ya\n",
      "tidak ya\n",
      "tidak ya\n",
      "tidak ya\n",
      "tidak ya\n",
      "tidak ya\n",
      "tidak ya\n",
      "tidak ya\n",
      "tidak ya\n",
      "tidak ya\n",
      "tidak ya\n",
      "tidak ya\n",
      "tidak ya\n",
      "tidak ya\n",
      "tidak ya\n",
      "tidak ya\n",
      "tidak ya\n",
      "tidak ya\n",
      "tidak ya\n",
      "tidak ya\n",
      "tidak ya\n",
      "tidak ya\n",
      "tidak ya\n",
      "tidak ya\n",
      "tidak ya\n",
      "tidak ya\n",
      "tidak ya\n",
      "tidak ya\n",
      "tidak ya\n",
      "tidak ya\n",
      "tidak ya\n",
      "tidak ya\n",
      "tidak ya\n",
      "tidak ya\n",
      "tidak ya\n",
      "tidak ya\n",
      "tidak ya\n",
      "tidak ya\n",
      "tidak ya\n",
      "tidak ya\n",
      "tidak ya\n",
      "tidak ya\n",
      "tidak ya\n",
      "tidak ya\n",
      "tidak ya\n",
      "tidak ya\n",
      "tidak ya\n",
      "tidak ya\n",
      "tidak ya\n",
      "tidak ya\n",
      "tidak ya\n",
      "tidak ya\n",
      "tidak ya\n",
      "tidak ya\n",
      "tidak ya\n",
      "tidak ya\n",
      "tidak ya\n",
      "tidak ya\n",
      "tidak ya\n",
      "tidak ya\n",
      "tidak ya\n",
      "tidak ya\n",
      "tidak ya\n",
      "tidak ya\n",
      "tidak ya\n",
      "tidak ya\n",
      "tidak ya\n",
      "tidak ya\n",
      "tidak ya\n",
      "tidak ya\n",
      "tidak ya\n",
      "tidak ya\n",
      "tidak ya\n",
      "tidak ya\n",
      "tidak ya\n",
      "tidak ya\n",
      "tidak ya\n",
      "tidak ya\n",
      "tidak ya\n",
      "tidak ya\n",
      "tidak ya\n",
      "tidak ya\n",
      "tidak ya\n",
      "ya tidak\n",
      "ya tidak\n",
      "ya tidak\n",
      "ya tidak\n",
      "ya tidak\n",
      "ya tidak\n",
      "ya tidak\n",
      "ya tidak\n",
      "ya tidak\n",
      "ya tidak\n",
      "ya tidak\n",
      "ya tidak\n",
      "ya tidak\n",
      "ya tidak\n",
      "ya tidak\n",
      "ya tidak\n",
      "ya tidak\n",
      "ya tidak\n",
      "ya tidak\n",
      "ya tidak\n",
      "ya tidak\n",
      "ya tidak\n",
      "ya tidak\n",
      "ya tidak\n",
      "ya tidak\n",
      "ya tidak\n",
      "ya tidak\n",
      "ya tidak\n",
      "ya tidak\n",
      "ya tidak\n",
      "ya tidak\n",
      "ya tidak\n",
      "ya tidak\n",
      "ya tidak\n",
      "ya tidak\n",
      "ya tidak\n",
      "ya tidak\n",
      "ya tidak\n",
      "ya tidak\n",
      "ya tidak\n",
      "ya tidak\n",
      "ya tidak\n",
      "ya tidak\n",
      "ya tidak\n",
      "ya tidak\n",
      "ya tidak\n",
      "ya tidak\n",
      "ya tidak\n",
      "ya tidak\n",
      "ya tidak\n",
      "ya tidak\n",
      "ya tidak\n",
      "ya tidak\n",
      "ya tidak\n",
      "ya tidak\n",
      "ya tidak\n",
      "ya tidak\n",
      "ya tidak\n",
      "ya tidak\n",
      "ya tidak\n",
      "ya tidak\n",
      "ya tidak\n",
      "ya tidak\n",
      "ya tidak\n",
      "ya tidak\n",
      "ya tidak\n",
      "ya tidak\n",
      "ya tidak\n",
      "ya tidak\n",
      "ya tidak\n",
      "ya tidak\n",
      "ya tidak\n",
      "ya tidak\n",
      "ya tidak\n",
      "ya tidak\n",
      "ya tidak\n",
      "ya tidak\n",
      "ya tidak\n",
      "ya tidak\n",
      "ya tidak\n",
      "ya tidak\n",
      "ya tidak\n",
      "ya tidak\n",
      "ya tidak\n",
      "ya tidak\n",
      "ya tidak\n",
      "ya tidak\n",
      "ya tidak\n",
      "ya tidak\n",
      "ya tidak\n",
      "ya tidak\n",
      "ya tidak\n",
      "ya tidak\n",
      "ya tidak\n",
      "ya tidak\n",
      "ya tidak\n",
      "ya tidak\n",
      "ya tidak\n",
      "ya tidak\n",
      "ya tidak\n",
      "ya tidak\n",
      "ya tidak\n",
      "ya tidak\n",
      "ya tidak\n",
      "ya tidak\n",
      "ya tidak\n",
      "ya tidak\n",
      "ya tidak\n",
      "ya tidak\n",
      "ya tidak\n",
      "ya tidak\n",
      "ya tidak\n",
      "ya tidak\n",
      "ya tidak\n",
      "ya tidak\n",
      "ya tidak\n",
      "ya tidak\n",
      "ya tidak\n",
      "ya tidak\n",
      "ya tidak\n",
      "ya tidak\n",
      "ya tidak\n",
      "ya tidak\n",
      "ya tidak\n",
      "ya tidak\n",
      "ya tidak\n",
      "ya tidak\n",
      "ya tidak\n",
      "ya tidak\n",
      "ya tidak\n",
      "ya tidak\n",
      "ya tidak\n",
      "ya tidak\n",
      "ya tidak\n",
      "ya tidak\n",
      "ya tidak\n",
      "ya tidak\n",
      "ya tidak\n",
      "ya tidak\n",
      "ya tidak\n",
      "ya tidak\n",
      "ya tidak\n",
      "ya tidak\n",
      "ya tidak\n",
      "ya tidak\n",
      "ya tidak\n",
      "ya tidak\n",
      "ya tidak\n",
      "ya tidak\n",
      "ya tidak\n",
      "ya tidak\n",
      "ya tidak\n",
      "ya tidak\n",
      "ya tidak\n",
      "ya tidak\n",
      "ya tidak\n",
      "ya tidak\n",
      "ya tidak\n",
      "ya tidak\n",
      "ya tidak\n",
      "ya tidak\n",
      "ya tidak\n",
      "ya tidak\n",
      "ya tidak\n",
      "ya tidak\n",
      "ya tidak\n",
      "ya tidak\n",
      "ya tidak\n",
      "ya tidak\n",
      "ya tidak\n",
      "ya tidak\n",
      "ya tidak\n",
      "ya tidak\n",
      "ya tidak\n",
      "ya tidak\n",
      "ya tidak\n",
      "ya tidak\n",
      "ya tidak\n",
      "ya tidak\n",
      "ya tidak\n",
      "ya tidak\n",
      "ya tidak\n",
      "ya tidak\n",
      "ya tidak\n",
      "ya tidak\n",
      "ya tidak\n",
      "ya tidak\n",
      "ya tidak\n",
      "ya tidak\n",
      "ya tidak\n",
      "ya tidak\n",
      "ya tidak\n",
      "ya tidak\n",
      "ya tidak\n",
      "ya tidak\n",
      "ya tidak\n",
      "ya tidak\n",
      "ya tidak\n",
      "ya tidak\n",
      "ya tidak\n",
      "ya tidak\n",
      "ya tidak\n",
      "ya tidak\n",
      "ya tidak\n",
      "ya tidak\n",
      "ya tidak\n",
      "ya tidak\n",
      "ya tidak\n",
      "ya tidak\n",
      "ya tidak\n",
      "ya tidak\n",
      "ya tidak\n",
      "ya tidak\n",
      "ya tidak\n",
      "ya tidak\n",
      "ya tidak\n",
      "ya tidak\n",
      "ya tidak\n",
      "ya tidak\n",
      "ya tidak\n",
      "ya tidak\n",
      "ya tidak\n",
      "ya tidak\n",
      "ya tidak\n",
      "ya tidak\n",
      "ya tidak\n",
      "ya tidak\n",
      "ya tidak\n",
      "ya tidak\n",
      "ya tidak\n",
      "ya tidak\n",
      "ya tidak\n",
      "ya tidak\n",
      "ya tidak\n",
      "ya tidak\n",
      "ya tidak\n",
      "ya tidak\n",
      "ya tidak\n",
      "ya tidak\n",
      "ya tidak\n",
      "ya tidak\n",
      "ya tidak\n",
      "ya tidak\n",
      "ya tidak\n",
      "ya tidak\n",
      "ya tidak\n",
      "ya tidak\n",
      "ya tidak\n",
      "ya tidak\n",
      "ya tidak\n",
      "ya tidak\n",
      "ya tidak\n",
      "ya tidak\n",
      "ya tidak\n",
      "ya tidak\n",
      "ya tidak\n",
      "ya tidak\n",
      "ya tidak\n",
      "ya tidak\n",
      "ya tidak\n",
      "ya tidak\n",
      "ya tidak\n",
      "ya tidak\n",
      "ya tidak\n",
      "ya tidak\n",
      "ya tidak\n",
      "ya tidak\n",
      "ya tidak\n",
      "ya tidak\n",
      "ya tidak\n",
      "ya tidak\n",
      "ya tidak\n",
      "ya tidak\n",
      "ya tidak\n",
      "ya tidak\n",
      "ya tidak\n",
      "ya tidak\n",
      "ya tidak\n",
      "ya tidak\n",
      "ya tidak\n",
      "ya tidak\n",
      "ya tidak\n",
      "ya tidak\n",
      "ya tidak\n",
      "ya tidak\n",
      "ya tidak\n",
      "ya tidak\n",
      "ya tidak\n",
      "ya tidak\n",
      "ya tidak\n",
      "ya tidak\n",
      "ya tidak\n",
      "tidak ya\n"
     ]
    }
   ],
   "source": [
    "for x in range(len(dataset['Covid-19'])):\n",
    "    if dataset['Covid-19'][x] == 'ya' or dataset['Omicron'][x] == 'ya': \n",
    "        print(dataset['Covid-19'][x], dataset['Omicron'][x])"
   ]
  },
  {
   "cell_type": "code",
   "execution_count": 700,
   "id": "d3c9abb7",
   "metadata": {},
   "outputs": [],
   "source": [
    "for x in range(len(dataset['Covid-19'])):\n",
    "    if dataset['Covid-19'][x] == 'ya' and dataset['Pneumonia'][x] == 'ya': \n",
    "        dataset['Pneumonia'][x] = 'tidak'"
   ]
  },
  {
   "cell_type": "code",
   "execution_count": 701,
   "id": "a9ec5d8a",
   "metadata": {},
   "outputs": [],
   "source": [
    "for x in range(len(dataset['Covid-19'])):\n",
    "    if dataset['Covid-19'][x] == 'ya' and dataset['Influenza'][x] == 'ya': \n",
    "        dataset['Influenza'][x] = 'tidak'"
   ]
  },
  {
   "cell_type": "code",
   "execution_count": 702,
   "id": "176124a6",
   "metadata": {},
   "outputs": [
    {
     "name": "stdout",
     "output_type": "stream",
     "text": [
      "338 542 253 151\n",
      "1284\n"
     ]
    }
   ],
   "source": [
    "# Value Counts for target\n",
    "vc_covid = dataset['Covid-19'].value_counts()\n",
    "vc_omicron = dataset['Omicron'].value_counts()\n",
    "vc_influenza = dataset['Influenza'].value_counts()\n",
    "vc_pneumonia = dataset['Pneumonia'].value_counts()\n",
    "\n",
    "# Value Counts for fitur\n",
    "vc_sakit_tenggorokan = dataset['SakitTenggorokan'].value_counts()\n",
    "vc_sesak_nafas = dataset['SesakNafas'].value_counts()\n",
    "vc_anosmia = dataset['Anosmia'].value_counts()\n",
    "vc_sakit_kepala = dataset['SakitKepala'].value_counts()\n",
    "\n",
    "total_dataset = 1283\n",
    "\n",
    "print(vc_covid['ya'], vc_omicron['ya'], vc_influenza['ya'], vc_pneumonia['ya'])\n",
    "print(vc_covid['ya']+ vc_omicron['ya']+ vc_influenza['ya']+ vc_pneumonia['ya'])"
   ]
  },
  {
   "cell_type": "code",
   "execution_count": 703,
   "id": "3bb342fa",
   "metadata": {},
   "outputs": [
    {
     "name": "stdout",
     "output_type": "stream",
     "text": [
      "persentase data pasien covid: 26.344505066250974%\n",
      "persentase data pasien omicron: 42.24473889321902%\n",
      "persentase data pasien influenza: 19.719407638347622%\n",
      "persentase data pasien pneumonia: 11.769290724863602%\n",
      "total persentase = 100.07794232268122%\n",
      "Persentase Covid-19 dengan nilai \"ya\" = 338 data, sedangkan persentase Covid-19 dengan nilai \"tidak\" = 946 data\n",
      "Persentase Omicron dengan nilai \"ya\" = 542 data, sedangkan persentase Omicron dengan nilai \"tidak\" = 742 data\n",
      "Persentase Influenza dengan nilai \"ya\" = 253 data, sedangkan persentase Influenza dengan nilai \"tidak\" = 1031 data\n",
      "Persentase Pneumonia dengan nilai \"ya\" = 151 data, sedangkan persentase Pneumonia dengan nilai \"tidak\" = 1133 data\n"
     ]
    }
   ],
   "source": [
    "persentage_covid= vc_covid['ya'] / total_dataset*100\n",
    "persentage_vc_omicron= vc_omicron['ya'] / total_dataset*100\n",
    "persentage_influenza= vc_influenza['ya'] / total_dataset*100\n",
    "persentage_pneumonia= vc_pneumonia['ya'] / total_dataset*100\n",
    "\n",
    "print(\"persentase data pasien covid: {}%\".format(persentage_covid))\n",
    "print(\"persentase data pasien omicron: {}%\".format(persentage_vc_omicron))\n",
    "print(\"persentase data pasien influenza: {}%\".format(persentage_influenza))\n",
    "print(\"persentase data pasien pneumonia: {}%\".format(persentage_pneumonia))\n",
    "\n",
    "total_persentase = persentage_covid+persentage_vc_omicron+persentage_influenza+persentage_pneumonia\n",
    "print(\"total persentase = {}%\".format(total_persentase))\n",
    "\n",
    "print('Persentase Covid-19 dengan nilai \"ya\" = {0} data, sedangkan persentase Covid-19 dengan nilai \"tidak\" = {1} data'.format(vc_covid['ya'], vc_covid['tidak']))\n",
    "print('Persentase Omicron dengan nilai \"ya\" = {0} data, sedangkan persentase Omicron dengan nilai \"tidak\" = {1} data'.format(vc_omicron['ya'], vc_omicron['tidak']))\n",
    "print('Persentase Influenza dengan nilai \"ya\" = {0} data, sedangkan persentase Influenza dengan nilai \"tidak\" = {1} data'.format(vc_influenza['ya'], vc_influenza['tidak']))\n",
    "print('Persentase Pneumonia dengan nilai \"ya\" = {0} data, sedangkan persentase Pneumonia dengan nilai \"tidak\" = {1} data'.format(vc_pneumonia['ya'], vc_pneumonia['tidak']))\n",
    "\n",
    "# print('persentase Covid-19 dengan nilai \"ya\" = {cov_ya} data, sedangkan persentase Covid-19 dengan nilai \"tidak\" = {cov_tid}'.format(cov_ya = vc_covid['ya'], cov_tid = vc_covid['tidak'])\n",
    "      \n",
    "#       vc_covid['ya'], vc_omicron['ya'], vc_influenza['ya'], vc_pneumonia['ya'], vc_covid['ya']+ vc_omicron['ya']+ vc_influenza['ya']+ vc_pneumonia['ya'], total_dataset"
   ]
  },
  {
   "cell_type": "code",
   "execution_count": 704,
   "id": "d544efa1",
   "metadata": {},
   "outputs": [
    {
     "data": {
      "image/png": "[encoded data removed]",
      "text/plain": [
       "<Figure size 720x504 with 1 Axes>"
      ]
     },
     "metadata": {},
     "output_type": "display_data"
    }
   ],
   "source": [
    "# Data Visualitaion for Data Percentage \n",
    "\n",
    "# Import libraries\n",
    "from matplotlib import pyplot as plt\n",
    "import numpy as np\n",
    " \n",
    " \n",
    "# Creating dataset\n",
    "target = ['Covid-19', 'Omicron', 'Influenza', 'Pneumonia']\n",
    " \n",
    "data = [vc_covid['ya'], vc_omicron['ya'], vc_influenza['ya'], vc_pneumonia['ya']]\n",
    "\n",
    "# Creating explode data\n",
    "explode = (0.0, 0.0, 0.0, 0.0)\n",
    "\n",
    "# Wedge properties\n",
    "wp = { 'linewidth' : 1, 'edgecolor' : \"green\" }\n",
    " \n",
    "# Creating autocpt arguments\n",
    "def func(pct, allvalues):\n",
    "    absolute = int(pct / 100.*np.sum(allvalues))\n",
    "    return \"{:.1f}%\\n({:d} Data)\".format(pct, absolute)\n",
    " \n",
    "# Creating plot\n",
    "fig, ax = plt.subplots(figsize =(10, 7))\n",
    "wedges, texts, autotexts = ax.pie(data,\n",
    "                                  autopct = lambda pct: func(pct, data),\n",
    "                                  explode = explode,\n",
    "                                  labels = target,\n",
    "                                  shadow = True,\n",
    "                                  startangle = 90,\n",
    "                                  wedgeprops = wp,\n",
    "                                  textprops = dict(color =\"Black\"))\n",
    " \n",
    "# Adding legend\n",
    "ax.legend(wedges, target,\n",
    "          title =\"Target\",\n",
    "          loc =\"center left\",\n",
    "          bbox_to_anchor =(1, 0.5, 0.5, 1))\n",
    " \n",
    "plt.setp(autotexts, size = 8, weight =\"bold\")\n",
    "ax.set_title(\"Jumlah Dataset Pasien\")\n",
    " \n",
    "# show plot\n",
    "plt.show()"
   ]
  },
  {
   "cell_type": "code",
   "execution_count": null,
   "id": "10239ce9",
   "metadata": {},
   "outputs": [],
   "source": []
  },
  {
   "cell_type": "markdown",
   "id": "00ce6be5",
   "metadata": {},
   "source": [
    "## 1. Data Pre-Processing\n",
    "    e. Integer Encoding"
   ]
  },
  {
   "cell_type": "markdown",
   "id": "c4f68c2b",
   "metadata": {},
   "source": [
    "### METHOD 1\n",
    "    Hot Encoding"
   ]
  },
  {
   "cell_type": "code",
   "execution_count": 705,
   "id": "be09cc8f",
   "metadata": {},
   "outputs": [
    {
     "data": {
      "text/plain": [
       "Batuk               object\n",
       "Pilek               object\n",
       "SakitTenggorokan    object\n",
       "SesakNafas          object\n",
       "Demam               object\n",
       "SakitKepala         object\n",
       "Lemas               object\n",
       "Anosmia             object\n",
       "Covid-19            object\n",
       "Omicron             object\n",
       "Influenza           object\n",
       "Pneumonia           object\n",
       "dtype: object"
      ]
     },
     "execution_count": 705,
     "metadata": {},
     "output_type": "execute_result"
    }
   ],
   "source": [
    "dataset.dtypes"
   ]
  },
  {
   "cell_type": "code",
   "execution_count": 737,
   "id": "3120e35d",
   "metadata": {},
   "outputs": [
    {
     "data": {
      "text/plain": [
       "(1284, 24)"
      ]
     },
     "execution_count": 737,
     "metadata": {},
     "output_type": "execute_result"
    }
   ],
   "source": [
    "from sklearn.preprocessing import OneHotEncoder\n",
    "\n",
    "#creating instance of one-hot-encoder\n",
    "encoder = OneHotEncoder(handle_unknown='ignore')\n",
    "#perform one-hot encoding\n",
    "encoder_df = pd.DataFrame(encoder.fit_transform(dataset).toarray())\n",
    "encoder_df.shape"
   ]
  },
  {
   "cell_type": "code",
   "execution_count": 736,
   "id": "5e7372aa",
   "metadata": {},
   "outputs": [
    {
     "data": {
      "text/html": [
       "<div>\n",
       "<style scoped>\n",
       "    .dataframe tbody tr th:only-of-type {\n",
       "        vertical-align: middle;\n",
       "    }\n",
       "\n",
       "    .dataframe tbody tr th {\n",
       "        vertical-align: top;\n",
       "    }\n",
       "\n",
       "    .dataframe thead th {\n",
       "        text-align: right;\n",
       "    }\n",
       "</style>\n",
       "<table border=\"1\" class=\"dataframe\">\n",
       "  <thead>\n",
       "    <tr style=\"text-align: right;\">\n",
       "      <th></th>\n",
       "      <th>0</th>\n",
       "      <th>1</th>\n",
       "      <th>2</th>\n",
       "      <th>3</th>\n",
       "      <th>4</th>\n",
       "      <th>5</th>\n",
       "      <th>6</th>\n",
       "      <th>7</th>\n",
       "      <th>8</th>\n",
       "      <th>9</th>\n",
       "      <th>...</th>\n",
       "      <th>14</th>\n",
       "      <th>15</th>\n",
       "      <th>16</th>\n",
       "      <th>17</th>\n",
       "      <th>18</th>\n",
       "      <th>19</th>\n",
       "      <th>20</th>\n",
       "      <th>21</th>\n",
       "      <th>22</th>\n",
       "      <th>23</th>\n",
       "    </tr>\n",
       "  </thead>\n",
       "  <tbody>\n",
       "    <tr>\n",
       "      <th>0</th>\n",
       "      <td>0.0</td>\n",
       "      <td>1.0</td>\n",
       "      <td>0.0</td>\n",
       "      <td>1.0</td>\n",
       "      <td>0.0</td>\n",
       "      <td>1.0</td>\n",
       "      <td>0.0</td>\n",
       "      <td>1.0</td>\n",
       "      <td>0.0</td>\n",
       "      <td>1.0</td>\n",
       "      <td>...</td>\n",
       "      <td>1.0</td>\n",
       "      <td>0.0</td>\n",
       "      <td>1.0</td>\n",
       "      <td>0.0</td>\n",
       "      <td>0.0</td>\n",
       "      <td>1.0</td>\n",
       "      <td>1.0</td>\n",
       "      <td>0.0</td>\n",
       "      <td>1.0</td>\n",
       "      <td>0.0</td>\n",
       "    </tr>\n",
       "    <tr>\n",
       "      <th>1</th>\n",
       "      <td>0.0</td>\n",
       "      <td>1.0</td>\n",
       "      <td>0.0</td>\n",
       "      <td>1.0</td>\n",
       "      <td>0.0</td>\n",
       "      <td>1.0</td>\n",
       "      <td>0.0</td>\n",
       "      <td>1.0</td>\n",
       "      <td>0.0</td>\n",
       "      <td>1.0</td>\n",
       "      <td>...</td>\n",
       "      <td>0.0</td>\n",
       "      <td>1.0</td>\n",
       "      <td>1.0</td>\n",
       "      <td>0.0</td>\n",
       "      <td>0.0</td>\n",
       "      <td>1.0</td>\n",
       "      <td>1.0</td>\n",
       "      <td>0.0</td>\n",
       "      <td>1.0</td>\n",
       "      <td>0.0</td>\n",
       "    </tr>\n",
       "    <tr>\n",
       "      <th>2</th>\n",
       "      <td>0.0</td>\n",
       "      <td>1.0</td>\n",
       "      <td>0.0</td>\n",
       "      <td>1.0</td>\n",
       "      <td>0.0</td>\n",
       "      <td>1.0</td>\n",
       "      <td>0.0</td>\n",
       "      <td>1.0</td>\n",
       "      <td>0.0</td>\n",
       "      <td>1.0</td>\n",
       "      <td>...</td>\n",
       "      <td>0.0</td>\n",
       "      <td>1.0</td>\n",
       "      <td>1.0</td>\n",
       "      <td>0.0</td>\n",
       "      <td>0.0</td>\n",
       "      <td>1.0</td>\n",
       "      <td>1.0</td>\n",
       "      <td>0.0</td>\n",
       "      <td>1.0</td>\n",
       "      <td>0.0</td>\n",
       "    </tr>\n",
       "    <tr>\n",
       "      <th>3</th>\n",
       "      <td>0.0</td>\n",
       "      <td>1.0</td>\n",
       "      <td>0.0</td>\n",
       "      <td>1.0</td>\n",
       "      <td>0.0</td>\n",
       "      <td>1.0</td>\n",
       "      <td>0.0</td>\n",
       "      <td>1.0</td>\n",
       "      <td>0.0</td>\n",
       "      <td>1.0</td>\n",
       "      <td>...</td>\n",
       "      <td>0.0</td>\n",
       "      <td>1.0</td>\n",
       "      <td>1.0</td>\n",
       "      <td>0.0</td>\n",
       "      <td>0.0</td>\n",
       "      <td>1.0</td>\n",
       "      <td>1.0</td>\n",
       "      <td>0.0</td>\n",
       "      <td>1.0</td>\n",
       "      <td>0.0</td>\n",
       "    </tr>\n",
       "    <tr>\n",
       "      <th>4</th>\n",
       "      <td>0.0</td>\n",
       "      <td>1.0</td>\n",
       "      <td>0.0</td>\n",
       "      <td>1.0</td>\n",
       "      <td>1.0</td>\n",
       "      <td>0.0</td>\n",
       "      <td>0.0</td>\n",
       "      <td>1.0</td>\n",
       "      <td>0.0</td>\n",
       "      <td>1.0</td>\n",
       "      <td>...</td>\n",
       "      <td>0.0</td>\n",
       "      <td>1.0</td>\n",
       "      <td>1.0</td>\n",
       "      <td>0.0</td>\n",
       "      <td>0.0</td>\n",
       "      <td>1.0</td>\n",
       "      <td>1.0</td>\n",
       "      <td>0.0</td>\n",
       "      <td>1.0</td>\n",
       "      <td>0.0</td>\n",
       "    </tr>\n",
       "    <tr>\n",
       "      <th>...</th>\n",
       "      <td>...</td>\n",
       "      <td>...</td>\n",
       "      <td>...</td>\n",
       "      <td>...</td>\n",
       "      <td>...</td>\n",
       "      <td>...</td>\n",
       "      <td>...</td>\n",
       "      <td>...</td>\n",
       "      <td>...</td>\n",
       "      <td>...</td>\n",
       "      <td>...</td>\n",
       "      <td>...</td>\n",
       "      <td>...</td>\n",
       "      <td>...</td>\n",
       "      <td>...</td>\n",
       "      <td>...</td>\n",
       "      <td>...</td>\n",
       "      <td>...</td>\n",
       "      <td>...</td>\n",
       "      <td>...</td>\n",
       "      <td>...</td>\n",
       "    </tr>\n",
       "    <tr>\n",
       "      <th>1279</th>\n",
       "      <td>1.0</td>\n",
       "      <td>0.0</td>\n",
       "      <td>1.0</td>\n",
       "      <td>0.0</td>\n",
       "      <td>0.0</td>\n",
       "      <td>1.0</td>\n",
       "      <td>0.0</td>\n",
       "      <td>1.0</td>\n",
       "      <td>1.0</td>\n",
       "      <td>0.0</td>\n",
       "      <td>...</td>\n",
       "      <td>1.0</td>\n",
       "      <td>0.0</td>\n",
       "      <td>1.0</td>\n",
       "      <td>0.0</td>\n",
       "      <td>1.0</td>\n",
       "      <td>0.0</td>\n",
       "      <td>1.0</td>\n",
       "      <td>0.0</td>\n",
       "      <td>0.0</td>\n",
       "      <td>1.0</td>\n",
       "    </tr>\n",
       "    <tr>\n",
       "      <th>1280</th>\n",
       "      <td>1.0</td>\n",
       "      <td>0.0</td>\n",
       "      <td>1.0</td>\n",
       "      <td>0.0</td>\n",
       "      <td>0.0</td>\n",
       "      <td>1.0</td>\n",
       "      <td>0.0</td>\n",
       "      <td>1.0</td>\n",
       "      <td>1.0</td>\n",
       "      <td>0.0</td>\n",
       "      <td>...</td>\n",
       "      <td>1.0</td>\n",
       "      <td>0.0</td>\n",
       "      <td>1.0</td>\n",
       "      <td>0.0</td>\n",
       "      <td>1.0</td>\n",
       "      <td>0.0</td>\n",
       "      <td>1.0</td>\n",
       "      <td>0.0</td>\n",
       "      <td>0.0</td>\n",
       "      <td>1.0</td>\n",
       "    </tr>\n",
       "    <tr>\n",
       "      <th>1281</th>\n",
       "      <td>1.0</td>\n",
       "      <td>0.0</td>\n",
       "      <td>1.0</td>\n",
       "      <td>0.0</td>\n",
       "      <td>0.0</td>\n",
       "      <td>1.0</td>\n",
       "      <td>0.0</td>\n",
       "      <td>1.0</td>\n",
       "      <td>1.0</td>\n",
       "      <td>0.0</td>\n",
       "      <td>...</td>\n",
       "      <td>1.0</td>\n",
       "      <td>0.0</td>\n",
       "      <td>1.0</td>\n",
       "      <td>0.0</td>\n",
       "      <td>1.0</td>\n",
       "      <td>0.0</td>\n",
       "      <td>1.0</td>\n",
       "      <td>0.0</td>\n",
       "      <td>0.0</td>\n",
       "      <td>1.0</td>\n",
       "    </tr>\n",
       "    <tr>\n",
       "      <th>1282</th>\n",
       "      <td>0.0</td>\n",
       "      <td>1.0</td>\n",
       "      <td>1.0</td>\n",
       "      <td>0.0</td>\n",
       "      <td>1.0</td>\n",
       "      <td>0.0</td>\n",
       "      <td>1.0</td>\n",
       "      <td>0.0</td>\n",
       "      <td>0.0</td>\n",
       "      <td>1.0</td>\n",
       "      <td>...</td>\n",
       "      <td>0.0</td>\n",
       "      <td>1.0</td>\n",
       "      <td>1.0</td>\n",
       "      <td>0.0</td>\n",
       "      <td>1.0</td>\n",
       "      <td>0.0</td>\n",
       "      <td>1.0</td>\n",
       "      <td>0.0</td>\n",
       "      <td>1.0</td>\n",
       "      <td>0.0</td>\n",
       "    </tr>\n",
       "    <tr>\n",
       "      <th>1283</th>\n",
       "      <td>0.0</td>\n",
       "      <td>1.0</td>\n",
       "      <td>0.0</td>\n",
       "      <td>1.0</td>\n",
       "      <td>0.0</td>\n",
       "      <td>1.0</td>\n",
       "      <td>1.0</td>\n",
       "      <td>0.0</td>\n",
       "      <td>1.0</td>\n",
       "      <td>0.0</td>\n",
       "      <td>...</td>\n",
       "      <td>1.0</td>\n",
       "      <td>0.0</td>\n",
       "      <td>1.0</td>\n",
       "      <td>0.0</td>\n",
       "      <td>0.0</td>\n",
       "      <td>1.0</td>\n",
       "      <td>0.0</td>\n",
       "      <td>1.0</td>\n",
       "      <td>1.0</td>\n",
       "      <td>0.0</td>\n",
       "    </tr>\n",
       "  </tbody>\n",
       "</table>\n",
       "<p>1284 rows × 24 columns</p>\n",
       "</div>"
      ],
      "text/plain": [
       "       0    1    2    3    4    5    6    7    8    9   ...   14   15   16  \\\n",
       "0     0.0  1.0  0.0  1.0  0.0  1.0  0.0  1.0  0.0  1.0  ...  1.0  0.0  1.0   \n",
       "1     0.0  1.0  0.0  1.0  0.0  1.0  0.0  1.0  0.0  1.0  ...  0.0  1.0  1.0   \n",
       "2     0.0  1.0  0.0  1.0  0.0  1.0  0.0  1.0  0.0  1.0  ...  0.0  1.0  1.0   \n",
       "3     0.0  1.0  0.0  1.0  0.0  1.0  0.0  1.0  0.0  1.0  ...  0.0  1.0  1.0   \n",
       "4     0.0  1.0  0.0  1.0  1.0  0.0  0.0  1.0  0.0  1.0  ...  0.0  1.0  1.0   \n",
       "...   ...  ...  ...  ...  ...  ...  ...  ...  ...  ...  ...  ...  ...  ...   \n",
       "1279  1.0  0.0  1.0  0.0  0.0  1.0  0.0  1.0  1.0  0.0  ...  1.0  0.0  1.0   \n",
       "1280  1.0  0.0  1.0  0.0  0.0  1.0  0.0  1.0  1.0  0.0  ...  1.0  0.0  1.0   \n",
       "1281  1.0  0.0  1.0  0.0  0.0  1.0  0.0  1.0  1.0  0.0  ...  1.0  0.0  1.0   \n",
       "1282  0.0  1.0  1.0  0.0  1.0  0.0  1.0  0.0  0.0  1.0  ...  0.0  1.0  1.0   \n",
       "1283  0.0  1.0  0.0  1.0  0.0  1.0  1.0  0.0  1.0  0.0  ...  1.0  0.0  1.0   \n",
       "\n",
       "       17   18   19   20   21   22   23  \n",
       "0     0.0  0.0  1.0  1.0  0.0  1.0  0.0  \n",
       "1     0.0  0.0  1.0  1.0  0.0  1.0  0.0  \n",
       "2     0.0  0.0  1.0  1.0  0.0  1.0  0.0  \n",
       "3     0.0  0.0  1.0  1.0  0.0  1.0  0.0  \n",
       "4     0.0  0.0  1.0  1.0  0.0  1.0  0.0  \n",
       "...   ...  ...  ...  ...  ...  ...  ...  \n",
       "1279  0.0  1.0  0.0  1.0  0.0  0.0  1.0  \n",
       "1280  0.0  1.0  0.0  1.0  0.0  0.0  1.0  \n",
       "1281  0.0  1.0  0.0  1.0  0.0  0.0  1.0  \n",
       "1282  0.0  1.0  0.0  1.0  0.0  1.0  0.0  \n",
       "1283  0.0  0.0  1.0  0.0  1.0  1.0  0.0  \n",
       "\n",
       "[1284 rows x 24 columns]"
      ]
     },
     "execution_count": 736,
     "metadata": {},
     "output_type": "execute_result"
    }
   ],
   "source": [
    "encoder_df"
   ]
  },
  {
   "cell_type": "code",
   "execution_count": 708,
   "id": "e680ada8",
   "metadata": {},
   "outputs": [
    {
     "data": {
      "text/plain": [
       "(1284, 24)"
      ]
     },
     "execution_count": 708,
     "metadata": {},
     "output_type": "execute_result"
    }
   ],
   "source": [
    "encoder_df.shape"
   ]
  },
  {
   "cell_type": "markdown",
   "id": "4b798955",
   "metadata": {},
   "source": [
    "### Method 2\n",
    "    Label Encoder\n",
    "    "
   ]
  },
  {
   "cell_type": "code",
   "execution_count": 709,
   "id": "8a4ad91f",
   "metadata": {},
   "outputs": [],
   "source": []
  },
  {
   "cell_type": "code",
   "execution_count": 734,
   "id": "377aa702",
   "metadata": {},
   "outputs": [
    {
     "data": {
      "text/plain": [
       "(1284, 12)"
      ]
     },
     "execution_count": 734,
     "metadata": {},
     "output_type": "execute_result"
    }
   ],
   "source": [
    "from sklearn.preprocessing import LabelEncoder\n",
    "le = LabelEncoder()\n",
    "fitur_trg = ['Batuk', 'Pilek', 'SakitTenggorokan', 'SesakNafas', 'Demam', \n",
    "                   'SakitKepala', 'Lemas', 'Anosmia', 'Covid-19', 'Omicron', 'Influenza', 'Pneumonia'] \n",
    "for x in fitur_trg:\n",
    "    dataset[x] = le.fit_transform(dataset[x])\n",
    "dataset.shape"
   ]
  },
  {
   "cell_type": "code",
   "execution_count": 735,
   "id": "49c13194",
   "metadata": {},
   "outputs": [
    {
     "data": {
      "text/html": [
       "<div>\n",
       "<style scoped>\n",
       "    .dataframe tbody tr th:only-of-type {\n",
       "        vertical-align: middle;\n",
       "    }\n",
       "\n",
       "    .dataframe tbody tr th {\n",
       "        vertical-align: top;\n",
       "    }\n",
       "\n",
       "    .dataframe thead th {\n",
       "        text-align: right;\n",
       "    }\n",
       "</style>\n",
       "<table border=\"1\" class=\"dataframe\">\n",
       "  <thead>\n",
       "    <tr style=\"text-align: right;\">\n",
       "      <th></th>\n",
       "      <th>Batuk</th>\n",
       "      <th>Pilek</th>\n",
       "      <th>SakitTenggorokan</th>\n",
       "      <th>SesakNafas</th>\n",
       "      <th>Demam</th>\n",
       "      <th>SakitKepala</th>\n",
       "      <th>Lemas</th>\n",
       "      <th>Anosmia</th>\n",
       "      <th>Covid-19</th>\n",
       "      <th>Omicron</th>\n",
       "      <th>Influenza</th>\n",
       "      <th>Pneumonia</th>\n",
       "    </tr>\n",
       "  </thead>\n",
       "  <tbody>\n",
       "    <tr>\n",
       "      <th>0</th>\n",
       "      <td>1</td>\n",
       "      <td>1</td>\n",
       "      <td>1</td>\n",
       "      <td>1</td>\n",
       "      <td>1</td>\n",
       "      <td>1</td>\n",
       "      <td>1</td>\n",
       "      <td>0</td>\n",
       "      <td>0</td>\n",
       "      <td>1</td>\n",
       "      <td>0</td>\n",
       "      <td>0</td>\n",
       "    </tr>\n",
       "    <tr>\n",
       "      <th>1</th>\n",
       "      <td>1</td>\n",
       "      <td>1</td>\n",
       "      <td>1</td>\n",
       "      <td>1</td>\n",
       "      <td>1</td>\n",
       "      <td>1</td>\n",
       "      <td>1</td>\n",
       "      <td>1</td>\n",
       "      <td>0</td>\n",
       "      <td>1</td>\n",
       "      <td>0</td>\n",
       "      <td>0</td>\n",
       "    </tr>\n",
       "    <tr>\n",
       "      <th>2</th>\n",
       "      <td>1</td>\n",
       "      <td>1</td>\n",
       "      <td>1</td>\n",
       "      <td>1</td>\n",
       "      <td>1</td>\n",
       "      <td>1</td>\n",
       "      <td>1</td>\n",
       "      <td>1</td>\n",
       "      <td>0</td>\n",
       "      <td>1</td>\n",
       "      <td>0</td>\n",
       "      <td>0</td>\n",
       "    </tr>\n",
       "    <tr>\n",
       "      <th>3</th>\n",
       "      <td>1</td>\n",
       "      <td>1</td>\n",
       "      <td>1</td>\n",
       "      <td>1</td>\n",
       "      <td>1</td>\n",
       "      <td>1</td>\n",
       "      <td>1</td>\n",
       "      <td>1</td>\n",
       "      <td>0</td>\n",
       "      <td>1</td>\n",
       "      <td>0</td>\n",
       "      <td>0</td>\n",
       "    </tr>\n",
       "    <tr>\n",
       "      <th>4</th>\n",
       "      <td>1</td>\n",
       "      <td>1</td>\n",
       "      <td>0</td>\n",
       "      <td>1</td>\n",
       "      <td>1</td>\n",
       "      <td>1</td>\n",
       "      <td>1</td>\n",
       "      <td>1</td>\n",
       "      <td>0</td>\n",
       "      <td>1</td>\n",
       "      <td>0</td>\n",
       "      <td>0</td>\n",
       "    </tr>\n",
       "    <tr>\n",
       "      <th>...</th>\n",
       "      <td>...</td>\n",
       "      <td>...</td>\n",
       "      <td>...</td>\n",
       "      <td>...</td>\n",
       "      <td>...</td>\n",
       "      <td>...</td>\n",
       "      <td>...</td>\n",
       "      <td>...</td>\n",
       "      <td>...</td>\n",
       "      <td>...</td>\n",
       "      <td>...</td>\n",
       "      <td>...</td>\n",
       "    </tr>\n",
       "    <tr>\n",
       "      <th>1279</th>\n",
       "      <td>0</td>\n",
       "      <td>0</td>\n",
       "      <td>1</td>\n",
       "      <td>1</td>\n",
       "      <td>0</td>\n",
       "      <td>0</td>\n",
       "      <td>0</td>\n",
       "      <td>0</td>\n",
       "      <td>0</td>\n",
       "      <td>0</td>\n",
       "      <td>0</td>\n",
       "      <td>1</td>\n",
       "    </tr>\n",
       "    <tr>\n",
       "      <th>1280</th>\n",
       "      <td>0</td>\n",
       "      <td>0</td>\n",
       "      <td>1</td>\n",
       "      <td>1</td>\n",
       "      <td>0</td>\n",
       "      <td>0</td>\n",
       "      <td>0</td>\n",
       "      <td>0</td>\n",
       "      <td>0</td>\n",
       "      <td>0</td>\n",
       "      <td>0</td>\n",
       "      <td>1</td>\n",
       "    </tr>\n",
       "    <tr>\n",
       "      <th>1281</th>\n",
       "      <td>0</td>\n",
       "      <td>0</td>\n",
       "      <td>1</td>\n",
       "      <td>1</td>\n",
       "      <td>0</td>\n",
       "      <td>0</td>\n",
       "      <td>0</td>\n",
       "      <td>0</td>\n",
       "      <td>0</td>\n",
       "      <td>0</td>\n",
       "      <td>0</td>\n",
       "      <td>1</td>\n",
       "    </tr>\n",
       "    <tr>\n",
       "      <th>1282</th>\n",
       "      <td>1</td>\n",
       "      <td>0</td>\n",
       "      <td>0</td>\n",
       "      <td>0</td>\n",
       "      <td>1</td>\n",
       "      <td>0</td>\n",
       "      <td>0</td>\n",
       "      <td>1</td>\n",
       "      <td>0</td>\n",
       "      <td>0</td>\n",
       "      <td>0</td>\n",
       "      <td>0</td>\n",
       "    </tr>\n",
       "    <tr>\n",
       "      <th>1283</th>\n",
       "      <td>1</td>\n",
       "      <td>1</td>\n",
       "      <td>1</td>\n",
       "      <td>0</td>\n",
       "      <td>0</td>\n",
       "      <td>0</td>\n",
       "      <td>0</td>\n",
       "      <td>0</td>\n",
       "      <td>0</td>\n",
       "      <td>1</td>\n",
       "      <td>1</td>\n",
       "      <td>0</td>\n",
       "    </tr>\n",
       "  </tbody>\n",
       "</table>\n",
       "<p>1284 rows × 12 columns</p>\n",
       "</div>"
      ],
      "text/plain": [
       "      Batuk  Pilek  SakitTenggorokan  SesakNafas  Demam  SakitKepala  Lemas  \\\n",
       "0         1      1                 1           1      1            1      1   \n",
       "1         1      1                 1           1      1            1      1   \n",
       "2         1      1                 1           1      1            1      1   \n",
       "3         1      1                 1           1      1            1      1   \n",
       "4         1      1                 0           1      1            1      1   \n",
       "...     ...    ...               ...         ...    ...          ...    ...   \n",
       "1279      0      0                 1           1      0            0      0   \n",
       "1280      0      0                 1           1      0            0      0   \n",
       "1281      0      0                 1           1      0            0      0   \n",
       "1282      1      0                 0           0      1            0      0   \n",
       "1283      1      1                 1           0      0            0      0   \n",
       "\n",
       "      Anosmia  Covid-19  Omicron  Influenza  Pneumonia  \n",
       "0           0         0        1          0          0  \n",
       "1           1         0        1          0          0  \n",
       "2           1         0        1          0          0  \n",
       "3           1         0        1          0          0  \n",
       "4           1         0        1          0          0  \n",
       "...       ...       ...      ...        ...        ...  \n",
       "1279        0         0        0          0          1  \n",
       "1280        0         0        0          0          1  \n",
       "1281        0         0        0          0          1  \n",
       "1282        1         0        0          0          0  \n",
       "1283        0         0        1          1          0  \n",
       "\n",
       "[1284 rows x 12 columns]"
      ]
     },
     "execution_count": 735,
     "metadata": {},
     "output_type": "execute_result"
    }
   ],
   "source": [
    "dataset"
   ]
  },
  {
   "cell_type": "code",
   "execution_count": 712,
   "id": "5996a0a2",
   "metadata": {},
   "outputs": [
    {
     "data": {
      "text/plain": [
       "(1284, 12)"
      ]
     },
     "execution_count": 712,
     "metadata": {},
     "output_type": "execute_result"
    }
   ],
   "source": [
    "dataset.shape"
   ]
  },
  {
   "cell_type": "code",
   "execution_count": 713,
   "id": "486bb3ba",
   "metadata": {},
   "outputs": [
    {
     "data": {
      "text/plain": [
       "1    924\n",
       "0    360\n",
       "Name: Batuk, dtype: int64"
      ]
     },
     "execution_count": 713,
     "metadata": {},
     "output_type": "execute_result"
    }
   ],
   "source": [
    "dataset['Batuk'].value_counts()"
   ]
  },
  {
   "cell_type": "code",
   "execution_count": 714,
   "id": "6edbdb7d",
   "metadata": {},
   "outputs": [
    {
     "data": {
      "text/plain": [
       "0    775\n",
       "1    509\n",
       "Name: SakitTenggorokan, dtype: int64"
      ]
     },
     "execution_count": 714,
     "metadata": {},
     "output_type": "execute_result"
    }
   ],
   "source": [
    "dataset['SakitTenggorokan'].value_counts()"
   ]
  },
  {
   "cell_type": "code",
   "execution_count": 715,
   "id": "509bb807",
   "metadata": {},
   "outputs": [
    {
     "data": {
      "text/plain": [
       "0    959\n",
       "1    325\n",
       "Name: SesakNafas, dtype: int64"
      ]
     },
     "execution_count": 715,
     "metadata": {},
     "output_type": "execute_result"
    }
   ],
   "source": [
    "dataset['SesakNafas'].value_counts()"
   ]
  },
  {
   "cell_type": "code",
   "execution_count": 716,
   "id": "c9e26ed7",
   "metadata": {},
   "outputs": [
    {
     "data": {
      "text/plain": [
       "0    751\n",
       "1    533\n",
       "Name: Demam, dtype: int64"
      ]
     },
     "execution_count": 716,
     "metadata": {},
     "output_type": "execute_result"
    }
   ],
   "source": [
    "dataset['Demam'].value_counts()"
   ]
  },
  {
   "cell_type": "code",
   "execution_count": 717,
   "id": "5ed8e339",
   "metadata": {},
   "outputs": [
    {
     "data": {
      "text/plain": [
       "0    856\n",
       "1    428\n",
       "Name: SakitKepala, dtype: int64"
      ]
     },
     "execution_count": 717,
     "metadata": {},
     "output_type": "execute_result"
    }
   ],
   "source": [
    "dataset['SakitKepala'].value_counts()"
   ]
  },
  {
   "cell_type": "code",
   "execution_count": 718,
   "id": "d905b7f2",
   "metadata": {},
   "outputs": [
    {
     "data": {
      "text/plain": [
       "1    707\n",
       "0    577\n",
       "Name: Lemas, dtype: int64"
      ]
     },
     "execution_count": 718,
     "metadata": {},
     "output_type": "execute_result"
    }
   ],
   "source": [
    "dataset['Lemas'].value_counts()"
   ]
  },
  {
   "cell_type": "code",
   "execution_count": 719,
   "id": "855ca5b0",
   "metadata": {},
   "outputs": [
    {
     "data": {
      "text/plain": [
       "0    706\n",
       "1    578\n",
       "Name: Anosmia, dtype: int64"
      ]
     },
     "execution_count": 719,
     "metadata": {},
     "output_type": "execute_result"
    }
   ],
   "source": [
    "dataset['Anosmia'].value_counts()"
   ]
  },
  {
   "cell_type": "code",
   "execution_count": 720,
   "id": "7c0d08a4",
   "metadata": {},
   "outputs": [
    {
     "data": {
      "text/plain": [
       "0    946\n",
       "1    338\n",
       "Name: Covid-19, dtype: int64"
      ]
     },
     "execution_count": 720,
     "metadata": {},
     "output_type": "execute_result"
    }
   ],
   "source": [
    "dataset['Covid-19'].value_counts()"
   ]
  },
  {
   "cell_type": "code",
   "execution_count": 721,
   "id": "a9189ea3",
   "metadata": {},
   "outputs": [
    {
     "data": {
      "text/plain": [
       "0    742\n",
       "1    542\n",
       "Name: Omicron, dtype: int64"
      ]
     },
     "execution_count": 721,
     "metadata": {},
     "output_type": "execute_result"
    }
   ],
   "source": [
    "dataset['Omicron'].value_counts()"
   ]
  },
  {
   "cell_type": "code",
   "execution_count": 722,
   "id": "bc050d50",
   "metadata": {},
   "outputs": [
    {
     "data": {
      "text/plain": [
       "0    1031\n",
       "1     253\n",
       "Name: Influenza, dtype: int64"
      ]
     },
     "execution_count": 722,
     "metadata": {},
     "output_type": "execute_result"
    }
   ],
   "source": [
    "dataset['Influenza'].value_counts()"
   ]
  },
  {
   "cell_type": "code",
   "execution_count": 723,
   "id": "f64c4e3b",
   "metadata": {},
   "outputs": [
    {
     "data": {
      "text/plain": [
       "0    1133\n",
       "1     151\n",
       "Name: Pneumonia, dtype: int64"
      ]
     },
     "execution_count": 723,
     "metadata": {},
     "output_type": "execute_result"
    }
   ],
   "source": [
    "dataset['Pneumonia'].value_counts()"
   ]
  },
  {
   "cell_type": "code",
   "execution_count": 724,
   "id": "d335e3cc",
   "metadata": {},
   "outputs": [
    {
     "data": {
      "text/plain": [
       "Batuk               0\n",
       "Pilek               0\n",
       "SakitTenggorokan    0\n",
       "SesakNafas          0\n",
       "Demam               0\n",
       "SakitKepala         0\n",
       "Lemas               0\n",
       "Anosmia             0\n",
       "Covid-19            0\n",
       "Omicron             0\n",
       "Influenza           0\n",
       "Pneumonia           0\n",
       "dtype: int64"
      ]
     },
     "execution_count": 724,
     "metadata": {},
     "output_type": "execute_result"
    }
   ],
   "source": [
    "dataset.isnull().sum()"
   ]
  },
  {
   "cell_type": "markdown",
   "id": "3bce1ea0",
   "metadata": {},
   "source": [
    "## 2. Implementation Random Forest Algorithm\n",
    "    a. Extracting Independent and Dependent Values"
   ]
  },
  {
   "cell_type": "code",
   "execution_count": 725,
   "id": "4875e30d",
   "metadata": {},
   "outputs": [],
   "source": [
    "x= dataset.iloc[:, [0, 1, 2, 3, 4, 5, 6, 7]].values "
   ]
  },
  {
   "cell_type": "code",
   "execution_count": 726,
   "id": "82888db5",
   "metadata": {},
   "outputs": [
    {
     "data": {
      "text/plain": [
       "array([[1, 1, 1, ..., 1, 1, 0],\n",
       "       [1, 1, 1, ..., 1, 1, 1],\n",
       "       [1, 1, 1, ..., 1, 1, 1],\n",
       "       ...,\n",
       "       [0, 0, 1, ..., 0, 0, 0],\n",
       "       [1, 0, 0, ..., 0, 0, 1],\n",
       "       [1, 1, 1, ..., 0, 0, 0]])"
      ]
     },
     "execution_count": 726,
     "metadata": {},
     "output_type": "execute_result"
    }
   ],
   "source": [
    "x"
   ]
  },
  {
   "cell_type": "code",
   "execution_count": 727,
   "id": "0d7e56f3",
   "metadata": {},
   "outputs": [],
   "source": [
    "y = dataset.iloc[:, [8, 9, 10, 11]].values"
   ]
  },
  {
   "cell_type": "code",
   "execution_count": 728,
   "id": "e12a1822",
   "metadata": {},
   "outputs": [
    {
     "data": {
      "text/plain": [
       "array([[0, 1, 0, 0],\n",
       "       [0, 1, 0, 0],\n",
       "       [0, 1, 0, 0],\n",
       "       ...,\n",
       "       [0, 0, 0, 1],\n",
       "       [0, 0, 0, 0],\n",
       "       [0, 1, 1, 0]])"
      ]
     },
     "execution_count": 728,
     "metadata": {},
     "output_type": "execute_result"
    }
   ],
   "source": [
    "y"
   ]
  },
  {
   "cell_type": "markdown",
   "id": "90a04ab3",
   "metadata": {},
   "source": [
    "## 2. Implementation Random Forest Algorithm\n",
    "    b. Split dataset to train and test set"
   ]
  },
  {
   "cell_type": "code",
   "execution_count": 583,
   "id": "1e682bf5",
   "metadata": {},
   "outputs": [],
   "source": [
    "from sklearn.model_selection import train_test_split\n",
    "x_train, x_test, y_train, y_test= train_test_split(x, y, test_size= 0.20, random_state= None) "
   ]
  },
  {
   "cell_type": "code",
   "execution_count": 167,
   "id": "740f059d",
   "metadata": {},
   "outputs": [
    {
     "data": {
      "text/plain": [
       "((1027, 8), (257, 8), (1027, 4), (257, 4))"
      ]
     },
     "execution_count": 167,
     "metadata": {},
     "output_type": "execute_result"
    }
   ],
   "source": [
    "x_train.shape, x_test.shape, y_train.shape, y_test.shape"
   ]
  },
  {
   "cell_type": "code",
   "execution_count": 168,
   "id": "79201ceb",
   "metadata": {},
   "outputs": [
    {
     "data": {
      "text/plain": [
       "array([2, 1, 1, ..., 0, 0, 2])"
      ]
     },
     "execution_count": 168,
     "metadata": {},
     "output_type": "execute_result"
    }
   ],
   "source": [
    "y_train.argmax(axis=1)"
   ]
  },
  {
   "cell_type": "code",
   "execution_count": 169,
   "id": "7df007b1",
   "metadata": {},
   "outputs": [
    {
     "data": {
      "text/plain": [
       "array([[1, 0, 0, 0],\n",
       "       [0, 1, 0, 0],\n",
       "       [1, 0, 0, 0],\n",
       "       ...,\n",
       "       [1, 0, 0, 0],\n",
       "       [0, 0, 0, 1],\n",
       "       [0, 1, 0, 0]])"
      ]
     },
     "execution_count": 169,
     "metadata": {},
     "output_type": "execute_result"
    }
   ],
   "source": [
    "y_test"
   ]
  },
  {
   "cell_type": "code",
   "execution_count": 170,
   "id": "a15b92bd",
   "metadata": {},
   "outputs": [
    {
     "data": {
      "image/png": "[encoded data removed]",
      "text/plain": [
       "<Figure size 720x504 with 1 Axes>"
      ]
     },
     "metadata": {},
     "output_type": "display_data"
    }
   ],
   "source": [
    "# Data Visualitaion for Data Percentage \n",
    "\n",
    "# Import libraries\n",
    "from matplotlib import pyplot as plt\n",
    "import numpy as np\n",
    " \n",
    " \n",
    "# Creating dataset\n",
    "target = ['Data Train', 'Data Test']\n",
    " \n",
    "data = [total_dataset*80/100, total_dataset*20/100]\n",
    "\n",
    "# Creating explode data\n",
    "explode = (0.0, 0.0)\n",
    "\n",
    "# Wedge properties\n",
    "wp = { 'linewidth' : 1, 'edgecolor' : \"green\" }\n",
    " \n",
    "# Creating autocpt arguments\n",
    "def func(pct, allvalues):\n",
    "    absolute = int(pct / 100.*np.sum(allvalues))\n",
    "    return \"{:.1f}%\\n({:d} Data)\".format(pct, absolute)\n",
    " \n",
    "# Creating plot\n",
    "fig, ax = plt.subplots(figsize =(10, 7))\n",
    "wedges, texts, autotexts = ax.pie(data,\n",
    "                                  autopct = lambda pct: func(pct, data),\n",
    "                                  explode = explode,\n",
    "                                  labels = target,\n",
    "                                  shadow = True,\n",
    "                                  startangle = 90,\n",
    "                                  wedgeprops = wp,\n",
    "                                  textprops = dict(color =\"Black\"))\n",
    " \n",
    "# Adding legend\n",
    "ax.legend(wedges, target,\n",
    "          title =\"\",\n",
    "          loc =\"center left\",\n",
    "          bbox_to_anchor =(1, 0.5, 0.5, 1))\n",
    " \n",
    "plt.setp(autotexts, size = 8, weight =\"bold\")\n",
    "ax.set_title(\"Perbandingan Pembagian Data\")\n",
    " \n",
    "# show plot\n",
    "plt.show()"
   ]
  },
  {
   "cell_type": "code",
   "execution_count": 171,
   "id": "96cd1961",
   "metadata": {},
   "outputs": [
    {
     "data": {
      "text/plain": [
       "(273, 441, 198, 115)"
      ]
     },
     "execution_count": 171,
     "metadata": {},
     "output_type": "execute_result"
    }
   ],
   "source": [
    "covid_data = np.count_nonzero(y_train.argmax(axis=1) == 0)\n",
    "omicron_data = np.count_nonzero(y_train.argmax(axis=1) == 1)\n",
    "influenza_data = np.count_nonzero(y_train.argmax(axis=1) == 2)\n",
    "pneumonia_data = np.count_nonzero(y_train.argmax(axis=1) == 3)\n",
    "\n",
    "covid_data, omicron_data, influenza_data, pneumonia_data"
   ]
  },
  {
   "cell_type": "code",
   "execution_count": 172,
   "id": "e442f82d",
   "metadata": {},
   "outputs": [
    {
     "data": {
      "image/png": "[encoded data removed]",
      "text/plain": [
       "<Figure size 720x504 with 1 Axes>"
      ]
     },
     "metadata": {},
     "output_type": "display_data"
    }
   ],
   "source": [
    "# Training Data Value Visualitaion for Data Percentage \n",
    "\n",
    "# Import libraries\n",
    "from matplotlib import pyplot as plt\n",
    "import numpy as np\n",
    " \n",
    " \n",
    "# Creating dataset\n",
    "target = ['Covid Data Train', 'Omicron Data Train', 'Influenza Data Train', 'Pneumonia Data Train']\n",
    " \n",
    "data = [covid_data, omicron_data, influenza_data, pneumonia_data]\n",
    "\n",
    "# Creating explode data\n",
    "explode = (0.0, 0.0, 0.0, 0.0)\n",
    "\n",
    "# Wedge properties\n",
    "wp = { 'linewidth' : 1, 'edgecolor' : \"green\" }\n",
    " \n",
    "# Creating autocpt arguments\n",
    "def func(pct, allvalues):\n",
    "    absolute = int(pct / 100.*np.sum(allvalues))\n",
    "    return \"{:.1f}%\\n({:d} Data)\".format(pct, absolute)\n",
    " \n",
    "# Creating plot\n",
    "fig, ax = plt.subplots(figsize =(10, 7))\n",
    "wedges, texts, autotexts = ax.pie(data,\n",
    "                                  autopct = lambda pct: func(pct, data),\n",
    "                                  explode = explode,\n",
    "                                  labels = target,\n",
    "                                  shadow = True,\n",
    "                                  startangle = 90,\n",
    "                                  wedgeprops = wp,\n",
    "                                  textprops = dict(color =\"Black\"))\n",
    " \n",
    "# Adding legend\n",
    "ax.legend(wedges, target,\n",
    "          title =\"\",\n",
    "          loc =\"center left\",\n",
    "          bbox_to_anchor =(1, 0.5, 0.5, 1))\n",
    " \n",
    "plt.setp(autotexts, size = 8, weight =\"bold\")\n",
    "ax.set_title(\"Perbandingan Pembagian Data Train Untuk Setiap Target\")\n",
    " \n",
    "# show plot\n",
    "plt.show()"
   ]
  },
  {
   "cell_type": "markdown",
   "id": "da582f60",
   "metadata": {},
   "source": [
    "#### n_estimators for thesis is: 10, 20, 50, 100\n",
    "#### max_features= 8 \n",
    "#### max_depth= 4, 5, none\n",
    "#### criterion= entropy"
   ]
  },
  {
   "cell_type": "code",
   "execution_count": 618,
   "id": "a832ac00",
   "metadata": {},
   "outputs": [
    {
     "data": {
      "text/plain": [
       "RandomForestClassifier(criterion='entropy', max_features=8, n_estimators=20)"
      ]
     },
     "execution_count": 618,
     "metadata": {},
     "output_type": "execute_result"
    }
   ],
   "source": [
    "from sklearn.ensemble import RandomForestClassifier  \n",
    "classifier= RandomForestClassifier(n_estimators = 20, criterion=\"entropy\", max_features= 8, max_depth = None)  \n",
    "classifier= classifier.fit(x_train, y_train) \n",
    "classifier"
   ]
  },
  {
   "cell_type": "code",
   "execution_count": 619,
   "id": "3e0e99b3",
   "metadata": {},
   "outputs": [],
   "source": [
    "y_pred= classifier.predict(x_test) "
   ]
  },
  {
   "cell_type": "code",
   "execution_count": 620,
   "id": "67e7524c",
   "metadata": {},
   "outputs": [
    {
     "data": {
      "text/plain": [
       "(array([[1, 0, 1, ..., 0, 0, 1],\n",
       "        [0, 0, 0, ..., 1, 1, 1],\n",
       "        [1, 0, 0, ..., 0, 1, 0],\n",
       "        ...,\n",
       "        [0, 1, 0, ..., 0, 1, 0],\n",
       "        [1, 1, 0, ..., 0, 1, 0],\n",
       "        [1, 1, 1, ..., 0, 0, 1]]),\n",
       " array([[1, 0, 1, ..., 0, 1, 1],\n",
       "        [1, 1, 0, ..., 1, 1, 0],\n",
       "        [1, 1, 0, ..., 1, 1, 1],\n",
       "        ...,\n",
       "        [0, 0, 0, ..., 0, 1, 1],\n",
       "        [1, 0, 1, ..., 1, 1, 0],\n",
       "        [1, 1, 0, ..., 0, 1, 1]]))"
      ]
     },
     "execution_count": 620,
     "metadata": {},
     "output_type": "execute_result"
    }
   ],
   "source": [
    "x_train, x_test"
   ]
  },
  {
   "cell_type": "code",
   "execution_count": 621,
   "id": "44cbf706",
   "metadata": {},
   "outputs": [
    {
     "data": {
      "text/plain": [
       "array([[1, 0, 0, 0],\n",
       "       [0, 1, 0, 0],\n",
       "       [0, 0, 0, 1],\n",
       "       ...,\n",
       "       [0, 1, 0, 0],\n",
       "       [0, 0, 1, 0],\n",
       "       [1, 0, 0, 0]])"
      ]
     },
     "execution_count": 621,
     "metadata": {},
     "output_type": "execute_result"
    }
   ],
   "source": [
    "y_train"
   ]
  },
  {
   "cell_type": "code",
   "execution_count": 622,
   "id": "a46ac1ac",
   "metadata": {},
   "outputs": [
    {
     "data": {
      "text/plain": [
       "(array([[1, 0, 0, 0],\n",
       "        [0, 1, 0, 0],\n",
       "        [0, 1, 0, 0],\n",
       "        ...,\n",
       "        [0, 1, 0, 0],\n",
       "        [1, 0, 0, 0],\n",
       "        [0, 1, 0, 0]]),\n",
       " array([[1, 0, 0, 0],\n",
       "        [0, 0, 0, 1],\n",
       "        [0, 1, 0, 0],\n",
       "        ...,\n",
       "        [0, 1, 0, 0],\n",
       "        [1, 0, 0, 0],\n",
       "        [0, 1, 0, 0]]))"
      ]
     },
     "execution_count": 622,
     "metadata": {},
     "output_type": "execute_result"
    }
   ],
   "source": [
    "y_pred, y_test"
   ]
  },
  {
   "cell_type": "code",
   "execution_count": 623,
   "id": "df102239",
   "metadata": {},
   "outputs": [
    {
     "data": {
      "text/plain": [
       "array([[1, 0, 0, 0],\n",
       "       [0, 1, 0, 0],\n",
       "       [0, 1, 0, 0],\n",
       "       ...,\n",
       "       [0, 1, 0, 0],\n",
       "       [1, 0, 0, 0],\n",
       "       [0, 1, 0, 0]])"
      ]
     },
     "execution_count": 623,
     "metadata": {},
     "output_type": "execute_result"
    }
   ],
   "source": [
    "y_pred"
   ]
  },
  {
   "cell_type": "code",
   "execution_count": 624,
   "id": "c8b81ef5",
   "metadata": {},
   "outputs": [
    {
     "data": {
      "text/plain": [
       "array([[1, 0, 0, 0],\n",
       "       [0, 0, 0, 1],\n",
       "       [0, 1, 0, 0],\n",
       "       ...,\n",
       "       [0, 1, 0, 0],\n",
       "       [1, 0, 0, 0],\n",
       "       [0, 1, 0, 0]])"
      ]
     },
     "execution_count": 624,
     "metadata": {},
     "output_type": "execute_result"
    }
   ],
   "source": [
    "y_test"
   ]
  },
  {
   "cell_type": "code",
   "execution_count": 625,
   "id": "878b6d77",
   "metadata": {},
   "outputs": [
    {
     "data": {
      "text/plain": [
       "(array([0, 1, 1, 3, 0, 1, 1, 2, 2, 1, 3, 1, 0, 2, 1, 3, 0, 0, 2, 3, 1, 1,\n",
       "        1, 3, 2, 3, 2, 1, 1, 0, 1, 3, 2, 1, 3, 2, 2, 1, 0, 1, 0, 0, 1, 1,\n",
       "        0, 0, 3, 0, 0, 0, 0, 2, 3, 1, 2, 1, 0, 1, 1, 1, 1, 1, 1, 0, 0, 2,\n",
       "        0, 1, 1, 2, 2, 1, 0, 0, 0, 0, 1, 3, 1, 1, 3, 0, 0, 1, 2, 0, 1, 2,\n",
       "        1, 1, 2, 1, 3, 1, 2, 3, 1, 2, 3, 2, 0, 1, 1, 2, 1, 0, 0, 1, 1, 0,\n",
       "        2, 2, 1, 2, 1, 1, 1, 0, 0, 1, 3, 1, 2, 1, 0, 2, 2, 1, 3, 2, 0, 1,\n",
       "        1, 2, 2, 0, 2, 1, 1, 2, 2, 1, 3, 1, 0, 1, 2, 1, 1, 3, 3, 0, 1, 1,\n",
       "        3, 0, 0, 0, 1, 3, 2, 0, 3, 2, 1, 1, 3, 1, 2, 1, 0, 0, 1, 1, 3, 2,\n",
       "        1, 0, 0, 1, 1, 2, 2, 1, 3, 2, 3, 0, 2, 2, 2, 0, 1, 3, 3, 1, 2, 1,\n",
       "        0, 1, 0, 2, 0, 2, 0, 3, 0, 1, 2, 1, 1, 2, 3, 1, 3, 0, 1, 1, 2, 1,\n",
       "        3, 1, 2, 3, 2, 0, 0, 0, 1, 3, 1, 0, 1, 2, 0, 2, 0, 0, 2, 3, 1, 2,\n",
       "        1, 1, 0, 1, 0, 2, 0, 1, 0, 1, 2, 1, 1, 0, 1]),\n",
       " array([0, 3, 1, 3, 0, 1, 1, 2, 2, 0, 3, 1, 0, 2, 1, 1, 1, 0, 2, 3, 1, 1,\n",
       "        1, 3, 2, 3, 2, 1, 1, 0, 1, 3, 2, 1, 3, 2, 2, 1, 0, 1, 0, 0, 1, 1,\n",
       "        1, 0, 3, 0, 0, 0, 0, 2, 3, 1, 2, 1, 0, 1, 1, 1, 1, 1, 2, 0, 0, 2,\n",
       "        1, 1, 1, 1, 2, 1, 0, 0, 0, 0, 1, 3, 1, 1, 3, 0, 0, 1, 1, 1, 1, 2,\n",
       "        1, 1, 2, 1, 3, 1, 2, 3, 1, 0, 3, 2, 1, 0, 0, 2, 1, 0, 0, 1, 1, 0,\n",
       "        2, 2, 1, 1, 1, 2, 1, 0, 0, 1, 3, 1, 2, 1, 0, 2, 2, 1, 3, 2, 2, 2,\n",
       "        1, 0, 1, 0, 2, 1, 1, 1, 2, 1, 3, 1, 0, 1, 1, 1, 1, 3, 3, 0, 1, 1,\n",
       "        3, 0, 0, 0, 2, 3, 2, 0, 3, 2, 1, 3, 0, 1, 2, 1, 0, 0, 1, 1, 1, 2,\n",
       "        1, 0, 0, 0, 1, 2, 2, 1, 3, 2, 3, 0, 2, 2, 2, 0, 0, 3, 3, 1, 2, 1,\n",
       "        1, 1, 0, 2, 0, 2, 0, 3, 0, 1, 2, 1, 1, 2, 3, 1, 3, 0, 1, 1, 1, 1,\n",
       "        3, 1, 2, 0, 2, 0, 0, 0, 0, 1, 1, 0, 1, 2, 1, 2, 0, 0, 2, 3, 1, 2,\n",
       "        1, 1, 0, 1, 0, 2, 0, 1, 0, 1, 2, 1, 1, 0, 1]))"
      ]
     },
     "execution_count": 625,
     "metadata": {},
     "output_type": "execute_result"
    }
   ],
   "source": [
    "y_pred.argmax(axis=1), y_test.argmax(axis=1)"
   ]
  },
  {
   "cell_type": "code",
   "execution_count": 626,
   "id": "1e1ceccf",
   "metadata": {},
   "outputs": [],
   "source": [
    "# classifier.estimators_"
   ]
  },
  {
   "cell_type": "code",
   "execution_count": 627,
   "id": "2904f14f",
   "metadata": {},
   "outputs": [],
   "source": [
    "# from sklearn import tree\n",
    "# from sklearn.tree import export_graphviz\n",
    "\n",
    "# plt.figure(figsize = (300,300))\n",
    "# tree.plot_tree(classifier.estimators_[1], filled=True)"
   ]
  },
  {
   "cell_type": "code",
   "execution_count": 646,
   "id": "ec6c0fa7",
   "metadata": {},
   "outputs": [
    {
     "name": "stdout",
     "output_type": "stream",
     "text": [
      "RandomForestClassifier(criterion='entropy', max_features=8, n_estimators=20)\n",
      "0.867704280155642\n"
     ]
    }
   ],
   "source": [
    "print(classifier)\n",
    "print(accuracy_score(y_test, y_pred))"
   ]
  },
  {
   "cell_type": "code",
   "execution_count": 629,
   "id": "717e20aa",
   "metadata": {},
   "outputs": [
    {
     "name": "stdout",
     "output_type": "stream",
     "text": [
      "              precision    recall  f1-score   support\n",
      "\n",
      "           0       0.88      0.85      0.86        67\n",
      "           1       0.88      0.83      0.86       103\n",
      "           2       0.84      0.91      0.88        54\n",
      "           3       0.86      0.94      0.90        33\n",
      "\n",
      "   micro avg       0.87      0.87      0.87       257\n",
      "   macro avg       0.87      0.88      0.87       257\n",
      "weighted avg       0.87      0.87      0.87       257\n",
      " samples avg       0.87      0.87      0.87       257\n",
      "\n"
     ]
    }
   ],
   "source": [
    "print(classification_report(y_test, y_pred))"
   ]
  },
  {
   "cell_type": "code",
   "execution_count": 643,
   "id": "6549f4db",
   "metadata": {},
   "outputs": [
    {
     "data": {
      "text/plain": [
       "array([[57,  6,  2,  2],\n",
       "       [ 7, 86,  7,  3],\n",
       "       [ 1,  4, 49,  0],\n",
       "       [ 0,  2,  0, 31]])"
      ]
     },
     "execution_count": 643,
     "metadata": {},
     "output_type": "execute_result"
    }
   ],
   "source": [
    "from sklearn.metrics import accuracy_score, confusion_matrix, classification_report\n",
    "matrix = confusion_matrix(y_test.argmax(axis=1), y_pred.argmax(axis=1))  \n",
    "matrix"
   ]
  },
  {
   "cell_type": "code",
   "execution_count": 644,
   "id": "6cb619ce",
   "metadata": {},
   "outputs": [
    {
     "data": {
      "image/png": "[encoded data removed]",
      "text/plain": [
       "<Figure size 504x144 with 2 Axes>"
      ]
     },
     "metadata": {},
     "output_type": "display_data"
    }
   ],
   "source": [
    "# Build the plot\n",
    "plt.figure(figsize=(7,2))\n",
    "sns.set(font_scale=0.8)\n",
    "sns.heatmap(matrix, annot=True, annot_kws={'size':10},\n",
    "            cmap=plt.cm.Greens, linewidths=0.2)\n",
    "\n",
    "# Add labels to the plot\n",
    "class_names = ['Covid-19', 'Omnicron', \n",
    "               'Influenza', 'Pneumonia']\n",
    "tick_marks = np.arange(len(class_names))\n",
    "tick_marks2 = tick_marks + 0.5\n",
    "plt.xticks(tick_marks, class_names, rotation=25)\n",
    "plt.yticks(tick_marks2, class_names, rotation=0)\n",
    "plt.xlabel('Predicted label')\n",
    "plt.ylabel('True label')\n",
    "plt.title('Confusion Matrix for Random Forest Model')\n",
    "plt.show()"
   ]
  },
  {
   "cell_type": "code",
   "execution_count": null,
   "id": "d03cfff8",
   "metadata": {},
   "outputs": [],
   "source": []
  },
  {
   "cell_type": "code",
   "execution_count": null,
   "id": "6a075f56",
   "metadata": {},
   "outputs": [],
   "source": [
    "# ya\tya\ttidak\tya\ttidak\ttidak\tya\ttidak\n",
    "# ya\tya\ttidak\ttidak\tya\tya\tya\ttidak"
   ]
  },
  {
   "cell_type": "code",
   "execution_count": 645,
   "id": "d00f99c6",
   "metadata": {},
   "outputs": [
    {
     "data": {
      "text/plain": [
       "array([1, 2, 0, 2, 3, 2, 0, 1, 1, 1, 3])"
      ]
     },
     "execution_count": 645,
     "metadata": {},
     "output_type": "execute_result"
    }
   ],
   "source": [
    "manual_testing = classifier.predict([\n",
    "    [ 1, 1, 1, 1, 1, 1, 1, 1], # 1. Mengalami semua gejala\n",
    "    [ 0, 1, 0, 0, 0, 0, 0, 0], # 2. Mengalami gejala pilek saja\n",
    "    [ 1, 1, 1, 0, 0, 0, 0, 1], # 3. Mengalami gejala batuk, pilek, sakit tenggorokan\n",
    "    [ 1, 1, 0, 0, 0, 0, 0, 0], # 4. Mengalami gejala batuk, pilek, sesak nafas, \n",
    "    [ 1, 1, 0, 1, 0, 0, 1, 0], # 5. Mengalami gejala batuk, pilek, sesak nafas, lemas\n",
    "    [ 1, 1, 0, 0, 1, 1, 1, 0], # 6. Mengalami gejala batuk, pilek, demam, sakit kepala, lemas\n",
    "    [ 0, 1, 1, 1, 0, 0, 0, 0], # 7. Mengalami gejala pilek, sakit tenggorokan, sesak nafas\n",
    "    [ 1, 0, 1, 0, 1, 0, 1, 0], # 8. Mengalami gejala batuk, sakit tenggorokan, demam, lemas\n",
    "    [ 0, 0, 0, 0, 1, 1, 1, 0], # 9. Mengalami gejala demam, sakit kepala, lemas\n",
    "    [ 1, 1, 1, 1, 1, 1, 0, 0], # 10. Mengalami batuk, pilek, sakit tenggorokan, sesak nafas, demam, sakit kepala\n",
    "    [ 1, 1, 0, 1, 0, 0, 1, 0], # 11. Mengalami Batuk, pilek, sakit tenggorokan, sesak nafas, lemas\n",
    "                     ])\n",
    "\n",
    "manual_testing.argmax(axis=1)"
   ]
  },
  {
   "cell_type": "code",
   "execution_count": 641,
   "id": "328c1111",
   "metadata": {},
   "outputs": [],
   "source": [
    "#export best model \n",
    "import pickle\n",
    "filename = 'best_rf_model.pkl'\n",
    "pickle.dump(classifier, open(filename, 'wb'))"
   ]
  },
  {
   "cell_type": "code",
   "execution_count": 642,
   "id": "fc4fa861",
   "metadata": {},
   "outputs": [
    {
     "data": {
      "text/plain": [
       "0.867704280155642"
      ]
     },
     "execution_count": 642,
     "metadata": {},
     "output_type": "execute_result"
    }
   ],
   "source": [
    "loaded_model = pickle.load(open(filename, 'rb'))\n",
    "result = loaded_model.score(x_test, y_test)\n",
    "result"
   ]
  },
  {
   "cell_type": "code",
   "execution_count": null,
   "id": "5d87f8e4",
   "metadata": {},
   "outputs": [],
   "source": []
  },
  {
   "cell_type": "markdown",
   "id": "44582ff3",
   "metadata": {},
   "source": [
    "## Re-check Input Gejala"
   ]
  },
  {
   "cell_type": "markdown",
   "id": "ebdabffe",
   "metadata": {},
   "source": [
    "### Gejala Batuk"
   ]
  },
  {
   "cell_type": "code",
   "execution_count": 157,
   "id": "e68208fd",
   "metadata": {},
   "outputs": [
    {
     "data": {
      "text/plain": [
       "924"
      ]
     },
     "execution_count": 157,
     "metadata": {},
     "output_type": "execute_result"
    }
   ],
   "source": [
    "sum((dataset['Batuk'] == 1))"
   ]
  },
  {
   "cell_type": "code",
   "execution_count": 137,
   "id": "45b6e083",
   "metadata": {},
   "outputs": [
    {
     "data": {
      "text/plain": [
       "360"
      ]
     },
     "execution_count": 137,
     "metadata": {},
     "output_type": "execute_result"
    }
   ],
   "source": [
    "sum((dataset['Batuk'] == 0))"
   ]
  },
  {
   "cell_type": "code",
   "execution_count": 134,
   "id": "d34cc5c8",
   "metadata": {},
   "outputs": [
    {
     "data": {
      "text/plain": [
       "542"
      ]
     },
     "execution_count": 134,
     "metadata": {},
     "output_type": "execute_result"
    }
   ],
   "source": [
    "sum((dataset['Omicron'] == 1))"
   ]
  },
  {
   "cell_type": "code",
   "execution_count": null,
   "id": "baaf89fa",
   "metadata": {},
   "outputs": [],
   "source": []
  },
  {
   "cell_type": "code",
   "execution_count": 114,
   "id": "5989b224",
   "metadata": {
    "scrolled": true
   },
   "outputs": [
    {
     "data": {
      "text/plain": [
       "329"
      ]
     },
     "execution_count": 114,
     "metadata": {},
     "output_type": "execute_result"
    }
   ],
   "source": [
    "sum((dataset['Batuk'] == 1) & (dataset['Omicron'] == 1))"
   ]
  },
  {
   "cell_type": "code",
   "execution_count": 138,
   "id": "d5dff3fe",
   "metadata": {},
   "outputs": [
    {
     "data": {
      "text/plain": [
       "279"
      ]
     },
     "execution_count": 138,
     "metadata": {},
     "output_type": "execute_result"
    }
   ],
   "source": [
    "sum((dataset['Batuk'] == 1) & (dataset['Covid-19'] == 1))"
   ]
  },
  {
   "cell_type": "code",
   "execution_count": 139,
   "id": "dbc96d6f",
   "metadata": {},
   "outputs": [
    {
     "data": {
      "text/plain": [
       "114"
      ]
     },
     "execution_count": 139,
     "metadata": {},
     "output_type": "execute_result"
    }
   ],
   "source": [
    "sum((dataset['Batuk'] == 1) & (dataset['Pneumonia'] == 1))"
   ]
  },
  {
   "cell_type": "code",
   "execution_count": 140,
   "id": "81df1495",
   "metadata": {
    "scrolled": true
   },
   "outputs": [
    {
     "data": {
      "text/plain": [
       "202"
      ]
     },
     "execution_count": 140,
     "metadata": {},
     "output_type": "execute_result"
    }
   ],
   "source": [
    "sum((dataset['Batuk'] == 1) & (dataset['Influenza'] == 1))"
   ]
  },
  {
   "cell_type": "code",
   "execution_count": null,
   "id": "1a8d1612",
   "metadata": {},
   "outputs": [],
   "source": []
  },
  {
   "cell_type": "code",
   "execution_count": 124,
   "id": "1d937fda",
   "metadata": {
    "scrolled": true
   },
   "outputs": [
    {
     "data": {
      "text/plain": [
       "25"
      ]
     },
     "execution_count": 124,
     "metadata": {},
     "output_type": "execute_result"
    }
   ],
   "source": [
    "# Jumlah Dataset dengan gejala hanya batuk\n",
    "sum((dataset['Batuk'] == 1) & (dataset['Pilek'] == 0) & (dataset['SakitTenggorokan'] == 0)  \n",
    "    & (dataset['SesakNafas'] == 0) & (dataset['Demam'] == 0) & (dataset['SakitKepala'] == 0)\n",
    "    & (dataset['Lemas'] == 0) & (dataset['Anosmia'] == 0))"
   ]
  },
  {
   "cell_type": "code",
   "execution_count": 126,
   "id": "b0967893",
   "metadata": {},
   "outputs": [
    {
     "data": {
      "text/plain": [
       "15"
      ]
     },
     "execution_count": 126,
     "metadata": {},
     "output_type": "execute_result"
    }
   ],
   "source": [
    "# Jumlah Dataset dengan gejala hanya batuk dan dengan diagnosa penyakit Omicron\n",
    "sum((dataset['Batuk'] == 1) & (dataset['Pilek'] == 0) & (dataset['SakitTenggorokan'] == 0)  \n",
    "    & (dataset['SesakNafas'] == 0) & (dataset['Demam'] == 0) & (dataset['SakitKepala'] == 0)\n",
    "    & (dataset['Lemas'] == 0) & (dataset['Anosmia'] == 0) & (dataset['Omicron'] == 1))"
   ]
  },
  {
   "cell_type": "code",
   "execution_count": 127,
   "id": "b87da361",
   "metadata": {},
   "outputs": [
    {
     "data": {
      "text/plain": [
       "0"
      ]
     },
     "execution_count": 127,
     "metadata": {},
     "output_type": "execute_result"
    }
   ],
   "source": [
    "# Jumlah Dataset dengan gejala hanya batuk dan dengan diagnosa penyakit Covid-19\n",
    "sum((dataset['Batuk'] == 1) & (dataset['Pilek'] == 0) & (dataset['SakitTenggorokan'] == 0)  \n",
    "    & (dataset['SesakNafas'] == 0) & (dataset['Demam'] == 0) & (dataset['SakitKepala'] == 0)\n",
    "    & (dataset['Lemas'] == 0) & (dataset['Anosmia'] == 0) & (dataset['Covid-19'] == 1))"
   ]
  },
  {
   "cell_type": "code",
   "execution_count": 147,
   "id": "5f82b2ac",
   "metadata": {},
   "outputs": [
    {
     "data": {
      "text/plain": [
       "10"
      ]
     },
     "execution_count": 147,
     "metadata": {},
     "output_type": "execute_result"
    }
   ],
   "source": [
    "# Jumlah Dataset dengan gejala hanya batuk dan dengan diagnosa penyakit Influenza\n",
    "sum((dataset['Batuk'] == 1) & (dataset['Pilek'] == 0) & (dataset['SakitTenggorokan'] == 0)  \n",
    "    & (dataset['SesakNafas'] == 0) & (dataset['Demam'] == 0) & (dataset['SakitKepala'] == 0)\n",
    "    & (dataset['Lemas'] == 0) & (dataset['Anosmia'] == 0) & (dataset['Influenza'] == 1))"
   ]
  },
  {
   "cell_type": "code",
   "execution_count": null,
   "id": "be6139f1",
   "metadata": {},
   "outputs": [],
   "source": []
  },
  {
   "cell_type": "markdown",
   "id": "ceaffef3",
   "metadata": {},
   "source": [
    "### Gejala Pilek"
   ]
  },
  {
   "cell_type": "code",
   "execution_count": 325,
   "id": "d38b1313",
   "metadata": {},
   "outputs": [
    {
     "data": {
      "text/plain": [
       "788"
      ]
     },
     "execution_count": 325,
     "metadata": {},
     "output_type": "execute_result"
    }
   ],
   "source": [
    "sum((dataset['Pilek'] == 1))"
   ]
  },
  {
   "cell_type": "code",
   "execution_count": 136,
   "id": "6aad34a0",
   "metadata": {},
   "outputs": [
    {
     "data": {
      "text/plain": [
       "496"
      ]
     },
     "execution_count": 136,
     "metadata": {},
     "output_type": "execute_result"
    }
   ],
   "source": [
    "sum((dataset['Pilek'] == 0))"
   ]
  },
  {
   "cell_type": "code",
   "execution_count": null,
   "id": "82579eaa",
   "metadata": {},
   "outputs": [],
   "source": []
  },
  {
   "cell_type": "code",
   "execution_count": 143,
   "id": "4683a41d",
   "metadata": {},
   "outputs": [
    {
     "data": {
      "text/plain": [
       "223"
      ]
     },
     "execution_count": 143,
     "metadata": {},
     "output_type": "execute_result"
    }
   ],
   "source": [
    "sum((dataset['Pilek'] == 1) & (dataset['Covid-19'] == 1))"
   ]
  },
  {
   "cell_type": "code",
   "execution_count": 142,
   "id": "5bb5b32a",
   "metadata": {},
   "outputs": [
    {
     "data": {
      "text/plain": [
       "279"
      ]
     },
     "execution_count": 142,
     "metadata": {},
     "output_type": "execute_result"
    }
   ],
   "source": [
    "sum((dataset['Pilek'] == 1) & (dataset['Omicron'] == 1))"
   ]
  },
  {
   "cell_type": "code",
   "execution_count": 144,
   "id": "85bb2521",
   "metadata": {},
   "outputs": [
    {
     "data": {
      "text/plain": [
       "233"
      ]
     },
     "execution_count": 144,
     "metadata": {},
     "output_type": "execute_result"
    }
   ],
   "source": [
    "sum((dataset['Pilek'] == 1) & (dataset['Influenza'] == 1))"
   ]
  },
  {
   "cell_type": "code",
   "execution_count": 145,
   "id": "2126078c",
   "metadata": {},
   "outputs": [
    {
     "data": {
      "text/plain": [
       "54"
      ]
     },
     "execution_count": 145,
     "metadata": {},
     "output_type": "execute_result"
    }
   ],
   "source": [
    "sum((dataset['Pilek'] == 1) & (dataset['Pneumonia'] == 1))"
   ]
  },
  {
   "cell_type": "code",
   "execution_count": null,
   "id": "2d875599",
   "metadata": {},
   "outputs": [],
   "source": []
  },
  {
   "cell_type": "code",
   "execution_count": 324,
   "id": "0afcf0b0",
   "metadata": {},
   "outputs": [
    {
     "data": {
      "text/plain": [
       "1"
      ]
     },
     "execution_count": 324,
     "metadata": {},
     "output_type": "execute_result"
    }
   ],
   "source": [
    "# Jumlah Dataset dengan gejala hanya Pilek\n",
    "sum((dataset['Batuk'] == 0) & (dataset['Pilek'] == 1) & (dataset['SakitTenggorokan'] == 0)  \n",
    "    & (dataset['SesakNafas'] == 0) & (dataset['Demam'] == 0) & (dataset['SakitKepala'] == 0)\n",
    "    & (dataset['Lemas'] == 0) & (dataset['Anosmia'] == 0))"
   ]
  },
  {
   "cell_type": "code",
   "execution_count": 149,
   "id": "16efd874",
   "metadata": {},
   "outputs": [
    {
     "data": {
      "text/plain": [
       "0"
      ]
     },
     "execution_count": 149,
     "metadata": {},
     "output_type": "execute_result"
    }
   ],
   "source": [
    "# Jumlah Dataset dengan gejala hanya batuk dan dengan diagnosa penyakit Covid-19\n",
    "sum((dataset['Batuk'] == 0) & (dataset['Pilek'] == 1) & (dataset['SakitTenggorokan'] == 0)  \n",
    "    & (dataset['SesakNafas'] == 0) & (dataset['Demam'] == 0) & (dataset['SakitKepala'] == 0)\n",
    "    & (dataset['Lemas'] == 0) & (dataset['Anosmia'] == 0) & (dataset['Covid-19'] == 1))"
   ]
  },
  {
   "cell_type": "code",
   "execution_count": 151,
   "id": "b6454e90",
   "metadata": {},
   "outputs": [
    {
     "data": {
      "text/plain": [
       "0"
      ]
     },
     "execution_count": 151,
     "metadata": {},
     "output_type": "execute_result"
    }
   ],
   "source": [
    "# Jumlah Dataset dengan gejala hanya batuk dan dengan diagnosa penyakit Omicron\n",
    "sum((dataset['Batuk'] == 0) & (dataset['Pilek'] == 1) & (dataset['SakitTenggorokan'] == 0)  \n",
    "    & (dataset['SesakNafas'] == 0) & (dataset['Demam'] == 0) & (dataset['SakitKepala'] == 0)\n",
    "    & (dataset['Lemas'] == 0) & (dataset['Anosmia'] == 0) & (dataset['Omicron'] == 1))"
   ]
  },
  {
   "cell_type": "code",
   "execution_count": 153,
   "id": "477f95e8",
   "metadata": {},
   "outputs": [
    {
     "data": {
      "text/plain": [
       "1"
      ]
     },
     "execution_count": 153,
     "metadata": {},
     "output_type": "execute_result"
    }
   ],
   "source": [
    "# Jumlah Dataset dengan gejala hanya batuk dan dengan diagnosa penyakit Influenza\n",
    "sum((dataset['Batuk'] == 0) & (dataset['Pilek'] == 1) & (dataset['SakitTenggorokan'] == 0)  \n",
    "    & (dataset['SesakNafas'] == 0) & (dataset['Demam'] == 0) & (dataset['SakitKepala'] == 0)\n",
    "    & (dataset['Lemas'] == 0) & (dataset['Anosmia'] == 0) & (dataset['Influenza'] == 1))"
   ]
  },
  {
   "cell_type": "code",
   "execution_count": 155,
   "id": "374a16a8",
   "metadata": {},
   "outputs": [
    {
     "data": {
      "text/plain": [
       "0"
      ]
     },
     "execution_count": 155,
     "metadata": {},
     "output_type": "execute_result"
    }
   ],
   "source": [
    "# Jumlah Dataset dengan gejala hanya batuk dan dengan diagnosa penyakit Pneumonia\n",
    "sum((dataset['Batuk'] == 0) & (dataset['Pilek'] == 1) & (dataset['SakitTenggorokan'] == 0)  \n",
    "    & (dataset['SesakNafas'] == 0) & (dataset['Demam'] == 0) & (dataset['SakitKepala'] == 0)\n",
    "    & (dataset['Lemas'] == 0) & (dataset['Anosmia'] == 0) & (dataset['Pneumonia'] == 1))"
   ]
  },
  {
   "cell_type": "code",
   "execution_count": null,
   "id": "2a6d7b05",
   "metadata": {},
   "outputs": [],
   "source": []
  }
 ],
 "metadata": {
  "kernelspec": {
   "display_name": "Python 3 (ipykernel)",
   "language": "python",
   "name": "python3"
  },
  "language_info": {
   "codemirror_mode": {
    "name": "ipython",
    "version": 3
   },
   "file_extension": ".py",
   "mimetype": "text/x-python",
   "name": "python",
   "nbconvert_exporter": "python",
   "pygments_lexer": "ipython3",
   "version": "3.8.5"
  }
 },
 "nbformat": 4,
 "nbformat_minor": 5
}
