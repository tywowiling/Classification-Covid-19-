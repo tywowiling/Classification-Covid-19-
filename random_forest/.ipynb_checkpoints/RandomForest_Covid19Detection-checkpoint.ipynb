{
 "cells": [
  {
   "cell_type": "markdown",
   "id": "88fa5425",
   "metadata": {},
   "source": [
    "# Covid-19, Omicron, Influenza, Pneumonia Detection"
   ]
  },
  {
   "cell_type": "markdown",
   "id": "b07661d3",
   "metadata": {},
   "source": [
    "# Using Random Forest Algorithm\n",
    "\n"
   ]
  },
  {
   "cell_type": "markdown",
   "id": "64210242",
   "metadata": {},
   "source": [
    "## 1. Data Pre-Processing\n",
    "    a. Import Dataset"
   ]
  },
  {
   "cell_type": "code",
   "execution_count": 1,
   "id": "46f9d095",
   "metadata": {},
   "outputs": [],
   "source": [
    "import os\n",
    "import pandas as pd"
   ]
  },
  {
   "cell_type": "code",
   "execution_count": 2,
   "id": "e611d7d4",
   "metadata": {},
   "outputs": [],
   "source": [
    "dataset = pd.read_excel(\"Dataset.xlsx\")"
   ]
  },
  {
   "cell_type": "code",
   "execution_count": 3,
   "id": "36f97ad7",
   "metadata": {},
   "outputs": [
    {
     "data": {
      "text/plain": [
       "(1284, 13)"
      ]
     },
     "execution_count": 3,
     "metadata": {},
     "output_type": "execute_result"
    }
   ],
   "source": [
    "dataset.shape"
   ]
  },
  {
   "cell_type": "code",
   "execution_count": 4,
   "id": "bd121835",
   "metadata": {},
   "outputs": [
    {
     "data": {
      "text/html": [
       "<div>\n",
       "<style scoped>\n",
       "    .dataframe tbody tr th:only-of-type {\n",
       "        vertical-align: middle;\n",
       "    }\n",
       "\n",
       "    .dataframe tbody tr th {\n",
       "        vertical-align: top;\n",
       "    }\n",
       "\n",
       "    .dataframe thead th {\n",
       "        text-align: right;\n",
       "    }\n",
       "</style>\n",
       "<table border=\"1\" class=\"dataframe\">\n",
       "  <thead>\n",
       "    <tr style=\"text-align: right;\">\n",
       "      <th></th>\n",
       "      <th>Inisial</th>\n",
       "      <th>Batuk</th>\n",
       "      <th>Pilek</th>\n",
       "      <th>Sakit Tenggorokan</th>\n",
       "      <th>Sesak Nafas</th>\n",
       "      <th>Demam</th>\n",
       "      <th>Sakit Kepala</th>\n",
       "      <th>Lemas</th>\n",
       "      <th>Anosmia</th>\n",
       "      <th>Covid-19</th>\n",
       "      <th>Omicron</th>\n",
       "      <th>Influenza</th>\n",
       "      <th>Pneumonia</th>\n",
       "    </tr>\n",
       "  </thead>\n",
       "  <tbody>\n",
       "    <tr>\n",
       "      <th>0</th>\n",
       "      <td>NaN</td>\n",
       "      <td>ya</td>\n",
       "      <td>ya</td>\n",
       "      <td>ya</td>\n",
       "      <td>ya</td>\n",
       "      <td>ya</td>\n",
       "      <td>ya</td>\n",
       "      <td>ya</td>\n",
       "      <td>tidak</td>\n",
       "      <td>ya</td>\n",
       "      <td>ya</td>\n",
       "      <td>tidak</td>\n",
       "      <td>tidak</td>\n",
       "    </tr>\n",
       "    <tr>\n",
       "      <th>1</th>\n",
       "      <td>NaN</td>\n",
       "      <td>ya</td>\n",
       "      <td>ya</td>\n",
       "      <td>ya</td>\n",
       "      <td>ya</td>\n",
       "      <td>ya</td>\n",
       "      <td>ya</td>\n",
       "      <td>ya</td>\n",
       "      <td>ya</td>\n",
       "      <td>ya</td>\n",
       "      <td>ya</td>\n",
       "      <td>tidak</td>\n",
       "      <td>tidak</td>\n",
       "    </tr>\n",
       "    <tr>\n",
       "      <th>2</th>\n",
       "      <td>NaN</td>\n",
       "      <td>ya</td>\n",
       "      <td>ya</td>\n",
       "      <td>ya</td>\n",
       "      <td>ya</td>\n",
       "      <td>ya</td>\n",
       "      <td>ya</td>\n",
       "      <td>ya</td>\n",
       "      <td>ya</td>\n",
       "      <td>ya</td>\n",
       "      <td>ya</td>\n",
       "      <td>tidak</td>\n",
       "      <td>tidak</td>\n",
       "    </tr>\n",
       "    <tr>\n",
       "      <th>3</th>\n",
       "      <td>NaN</td>\n",
       "      <td>ya</td>\n",
       "      <td>ya</td>\n",
       "      <td>ya</td>\n",
       "      <td>ya</td>\n",
       "      <td>ya</td>\n",
       "      <td>ya</td>\n",
       "      <td>ya</td>\n",
       "      <td>ya</td>\n",
       "      <td>ya</td>\n",
       "      <td>ya</td>\n",
       "      <td>tidak</td>\n",
       "      <td>tidak</td>\n",
       "    </tr>\n",
       "    <tr>\n",
       "      <th>4</th>\n",
       "      <td>NaN</td>\n",
       "      <td>ya</td>\n",
       "      <td>ya</td>\n",
       "      <td>tidak</td>\n",
       "      <td>ya</td>\n",
       "      <td>ya</td>\n",
       "      <td>ya</td>\n",
       "      <td>ya</td>\n",
       "      <td>ya</td>\n",
       "      <td>ya</td>\n",
       "      <td>ya</td>\n",
       "      <td>tidak</td>\n",
       "      <td>tidak</td>\n",
       "    </tr>\n",
       "  </tbody>\n",
       "</table>\n",
       "</div>"
      ],
      "text/plain": [
       "  Inisial Batuk Pilek Sakit Tenggorokan  Sesak Nafas Demam Sakit Kepala Lemas  \\\n",
       "0     NaN    ya    ya                 ya          ya    ya           ya    ya   \n",
       "1     NaN    ya    ya                 ya          ya    ya           ya    ya   \n",
       "2     NaN    ya    ya                 ya          ya    ya           ya    ya   \n",
       "3     NaN    ya    ya                 ya          ya    ya           ya    ya   \n",
       "4     NaN    ya    ya              tidak          ya    ya           ya    ya   \n",
       "\n",
       "  Anosmia Covid-19 Omicron Influenza Pneumonia  \n",
       "0   tidak      ya       ya     tidak     tidak  \n",
       "1      ya      ya       ya     tidak     tidak  \n",
       "2      ya      ya       ya     tidak     tidak  \n",
       "3      ya      ya       ya     tidak     tidak  \n",
       "4      ya      ya       ya     tidak     tidak  "
      ]
     },
     "execution_count": 4,
     "metadata": {},
     "output_type": "execute_result"
    }
   ],
   "source": [
    "dataset.head()"
   ]
  },
  {
   "cell_type": "code",
   "execution_count": 5,
   "id": "7712a4df",
   "metadata": {},
   "outputs": [
    {
     "data": {
      "text/html": [
       "<div>\n",
       "<style scoped>\n",
       "    .dataframe tbody tr th:only-of-type {\n",
       "        vertical-align: middle;\n",
       "    }\n",
       "\n",
       "    .dataframe tbody tr th {\n",
       "        vertical-align: top;\n",
       "    }\n",
       "\n",
       "    .dataframe thead th {\n",
       "        text-align: right;\n",
       "    }\n",
       "</style>\n",
       "<table border=\"1\" class=\"dataframe\">\n",
       "  <thead>\n",
       "    <tr style=\"text-align: right;\">\n",
       "      <th></th>\n",
       "      <th>Inisial</th>\n",
       "      <th>Batuk</th>\n",
       "      <th>Pilek</th>\n",
       "      <th>Sakit Tenggorokan</th>\n",
       "      <th>Sesak Nafas</th>\n",
       "      <th>Demam</th>\n",
       "      <th>Sakit Kepala</th>\n",
       "      <th>Lemas</th>\n",
       "      <th>Anosmia</th>\n",
       "      <th>Covid-19</th>\n",
       "      <th>Omicron</th>\n",
       "      <th>Influenza</th>\n",
       "      <th>Pneumonia</th>\n",
       "    </tr>\n",
       "  </thead>\n",
       "  <tbody>\n",
       "    <tr>\n",
       "      <th>1279</th>\n",
       "      <td>NaN</td>\n",
       "      <td>tidak</td>\n",
       "      <td>tidak</td>\n",
       "      <td>ya</td>\n",
       "      <td>ya</td>\n",
       "      <td>tidak</td>\n",
       "      <td>tidak</td>\n",
       "      <td>tidak</td>\n",
       "      <td>tidak</td>\n",
       "      <td>tidak</td>\n",
       "      <td>tidak</td>\n",
       "      <td>tidak</td>\n",
       "      <td>ya</td>\n",
       "    </tr>\n",
       "    <tr>\n",
       "      <th>1280</th>\n",
       "      <td>NaN</td>\n",
       "      <td>tidak</td>\n",
       "      <td>tidak</td>\n",
       "      <td>ya</td>\n",
       "      <td>ya</td>\n",
       "      <td>tidak</td>\n",
       "      <td>tidak</td>\n",
       "      <td>tidak</td>\n",
       "      <td>tidak</td>\n",
       "      <td>tidak</td>\n",
       "      <td>tidak</td>\n",
       "      <td>tidak</td>\n",
       "      <td>ya</td>\n",
       "    </tr>\n",
       "    <tr>\n",
       "      <th>1281</th>\n",
       "      <td>NaN</td>\n",
       "      <td>tidak</td>\n",
       "      <td>tidak</td>\n",
       "      <td>ya</td>\n",
       "      <td>ya</td>\n",
       "      <td>tidak</td>\n",
       "      <td>tidak</td>\n",
       "      <td>tidak</td>\n",
       "      <td>tidak</td>\n",
       "      <td>tidak</td>\n",
       "      <td>tidak</td>\n",
       "      <td>tidak</td>\n",
       "      <td>ya</td>\n",
       "    </tr>\n",
       "    <tr>\n",
       "      <th>1282</th>\n",
       "      <td>NaN</td>\n",
       "      <td>ya</td>\n",
       "      <td>tidak</td>\n",
       "      <td>tidak</td>\n",
       "      <td>tidak</td>\n",
       "      <td>ya</td>\n",
       "      <td>tidak</td>\n",
       "      <td>tidak</td>\n",
       "      <td>ya</td>\n",
       "      <td>tidak</td>\n",
       "      <td>tidak</td>\n",
       "      <td>tidak</td>\n",
       "      <td>tidak</td>\n",
       "    </tr>\n",
       "    <tr>\n",
       "      <th>1283</th>\n",
       "      <td>NaN</td>\n",
       "      <td>ya</td>\n",
       "      <td>ya</td>\n",
       "      <td>ya</td>\n",
       "      <td>tidak</td>\n",
       "      <td>tidak</td>\n",
       "      <td>tidak</td>\n",
       "      <td>tidak</td>\n",
       "      <td>tidak</td>\n",
       "      <td>tidak</td>\n",
       "      <td>NaN</td>\n",
       "      <td>ya</td>\n",
       "      <td>tidak</td>\n",
       "    </tr>\n",
       "  </tbody>\n",
       "</table>\n",
       "</div>"
      ],
      "text/plain": [
       "     Inisial  Batuk  Pilek Sakit Tenggorokan  Sesak Nafas  Demam Sakit Kepala  \\\n",
       "1279     NaN  tidak  tidak                 ya          ya  tidak        tidak   \n",
       "1280     NaN  tidak  tidak                 ya          ya  tidak        tidak   \n",
       "1281     NaN  tidak  tidak                 ya          ya  tidak        tidak   \n",
       "1282     NaN     ya  tidak              tidak       tidak     ya        tidak   \n",
       "1283     NaN     ya     ya                 ya       tidak  tidak        tidak   \n",
       "\n",
       "      Lemas Anosmia Covid-19 Omicron Influenza Pneumonia  \n",
       "1279  tidak   tidak    tidak   tidak     tidak        ya  \n",
       "1280  tidak   tidak    tidak   tidak     tidak        ya  \n",
       "1281  tidak   tidak    tidak   tidak     tidak        ya  \n",
       "1282  tidak      ya    tidak   tidak     tidak     tidak  \n",
       "1283  tidak   tidak    tidak     NaN        ya     tidak  "
      ]
     },
     "execution_count": 5,
     "metadata": {},
     "output_type": "execute_result"
    }
   ],
   "source": [
    "dataset.tail()"
   ]
  },
  {
   "cell_type": "code",
   "execution_count": 6,
   "id": "a7ffa212",
   "metadata": {},
   "outputs": [
    {
     "data": {
      "text/html": [
       "<div>\n",
       "<style scoped>\n",
       "    .dataframe tbody tr th:only-of-type {\n",
       "        vertical-align: middle;\n",
       "    }\n",
       "\n",
       "    .dataframe tbody tr th {\n",
       "        vertical-align: top;\n",
       "    }\n",
       "\n",
       "    .dataframe thead th {\n",
       "        text-align: right;\n",
       "    }\n",
       "</style>\n",
       "<table border=\"1\" class=\"dataframe\">\n",
       "  <thead>\n",
       "    <tr style=\"text-align: right;\">\n",
       "      <th></th>\n",
       "      <th>Inisial</th>\n",
       "      <th>Batuk</th>\n",
       "      <th>Pilek</th>\n",
       "      <th>Sakit Tenggorokan</th>\n",
       "      <th>Sesak Nafas</th>\n",
       "      <th>Demam</th>\n",
       "      <th>Sakit Kepala</th>\n",
       "      <th>Lemas</th>\n",
       "      <th>Anosmia</th>\n",
       "      <th>Covid-19</th>\n",
       "      <th>Omicron</th>\n",
       "      <th>Influenza</th>\n",
       "      <th>Pneumonia</th>\n",
       "    </tr>\n",
       "  </thead>\n",
       "  <tbody>\n",
       "    <tr>\n",
       "      <th>count</th>\n",
       "      <td>4</td>\n",
       "      <td>1284</td>\n",
       "      <td>1284</td>\n",
       "      <td>1281</td>\n",
       "      <td>1283</td>\n",
       "      <td>1284</td>\n",
       "      <td>1283</td>\n",
       "      <td>1284</td>\n",
       "      <td>1283</td>\n",
       "      <td>1284</td>\n",
       "      <td>1282</td>\n",
       "      <td>1284</td>\n",
       "      <td>1284</td>\n",
       "    </tr>\n",
       "    <tr>\n",
       "      <th>unique</th>\n",
       "      <td>1</td>\n",
       "      <td>2</td>\n",
       "      <td>2</td>\n",
       "      <td>3</td>\n",
       "      <td>2</td>\n",
       "      <td>2</td>\n",
       "      <td>3</td>\n",
       "      <td>2</td>\n",
       "      <td>2</td>\n",
       "      <td>3</td>\n",
       "      <td>2</td>\n",
       "      <td>2</td>\n",
       "      <td>2</td>\n",
       "    </tr>\n",
       "    <tr>\n",
       "      <th>top</th>\n",
       "      <td>-</td>\n",
       "      <td>ya</td>\n",
       "      <td>ya</td>\n",
       "      <td>tidak</td>\n",
       "      <td>tidak</td>\n",
       "      <td>tidak</td>\n",
       "      <td>tidak</td>\n",
       "      <td>ya</td>\n",
       "      <td>tidak</td>\n",
       "      <td>ya</td>\n",
       "      <td>tidak</td>\n",
       "      <td>tidak</td>\n",
       "      <td>tidak</td>\n",
       "    </tr>\n",
       "    <tr>\n",
       "      <th>freq</th>\n",
       "      <td>4</td>\n",
       "      <td>924</td>\n",
       "      <td>788</td>\n",
       "      <td>773</td>\n",
       "      <td>958</td>\n",
       "      <td>751</td>\n",
       "      <td>855</td>\n",
       "      <td>707</td>\n",
       "      <td>706</td>\n",
       "      <td>798</td>\n",
       "      <td>741</td>\n",
       "      <td>1003</td>\n",
       "      <td>1133</td>\n",
       "    </tr>\n",
       "  </tbody>\n",
       "</table>\n",
       "</div>"
      ],
      "text/plain": [
       "       Inisial Batuk Pilek Sakit Tenggorokan  Sesak Nafas  Demam Sakit Kepala  \\\n",
       "count        4  1284  1284               1281        1283   1284         1283   \n",
       "unique       1     2     2                  3           2      2            3   \n",
       "top          -    ya    ya              tidak       tidak  tidak        tidak   \n",
       "freq         4   924   788                773         958    751          855   \n",
       "\n",
       "       Lemas Anosmia Covid-19 Omicron Influenza Pneumonia  \n",
       "count   1284    1283     1284    1282      1284      1284  \n",
       "unique     2       2        3       2         2         2  \n",
       "top       ya   tidak       ya   tidak     tidak     tidak  \n",
       "freq     707     706      798     741      1003      1133  "
      ]
     },
     "execution_count": 6,
     "metadata": {},
     "output_type": "execute_result"
    }
   ],
   "source": [
    "dataset.describe()"
   ]
  },
  {
   "cell_type": "code",
   "execution_count": 7,
   "id": "75d39abf",
   "metadata": {},
   "outputs": [
    {
     "name": "stdout",
     "output_type": "stream",
     "text": [
      "<class 'pandas.core.frame.DataFrame'>\n",
      "RangeIndex: 1284 entries, 0 to 1283\n",
      "Data columns (total 13 columns):\n",
      " #   Column              Non-Null Count  Dtype \n",
      "---  ------              --------------  ----- \n",
      " 0   Inisial             4 non-null      object\n",
      " 1   Batuk               1284 non-null   object\n",
      " 2   Pilek               1284 non-null   object\n",
      " 3   Sakit Tenggorokan   1281 non-null   object\n",
      " 4   Sesak Nafas         1283 non-null   object\n",
      " 5   Demam               1284 non-null   object\n",
      " 6   Sakit Kepala        1283 non-null   object\n",
      " 7   Lemas               1284 non-null   object\n",
      " 8   Anosmia             1283 non-null   object\n",
      " 9   Covid-19            1284 non-null   object\n",
      " 10  Omicron             1282 non-null   object\n",
      " 11  Influenza           1284 non-null   object\n",
      " 12  Pneumonia           1284 non-null   object\n",
      "dtypes: object(13)\n",
      "memory usage: 130.5+ KB\n"
     ]
    }
   ],
   "source": [
    "dataset.info()"
   ]
  },
  {
   "cell_type": "code",
   "execution_count": 8,
   "id": "56041a71",
   "metadata": {},
   "outputs": [
    {
     "data": {
      "text/plain": [
       "Inisial               1280\n",
       "Batuk                    0\n",
       "Pilek                    0\n",
       "Sakit Tenggorokan        3\n",
       "Sesak Nafas              1\n",
       "Demam                    0\n",
       "Sakit Kepala             1\n",
       "Lemas                    0\n",
       "Anosmia                  1\n",
       "Covid-19                 0\n",
       "Omicron                  2\n",
       "Influenza                0\n",
       "Pneumonia                0\n",
       "dtype: int64"
      ]
     },
     "execution_count": 8,
     "metadata": {},
     "output_type": "execute_result"
    }
   ],
   "source": [
    "dataset.isnull().sum()"
   ]
  },
  {
   "cell_type": "markdown",
   "id": "e8a4da77",
   "metadata": {},
   "source": [
    "## 1. Data Pre-Processing\n",
    "    b. Removes Useless Attributes"
   ]
  },
  {
   "cell_type": "code",
   "execution_count": 9,
   "id": "572b5548",
   "metadata": {},
   "outputs": [],
   "source": [
    "#Removes Useless Attribute: Inisial\n",
    "dataset.drop('Inisial', axis = 1, inplace = True)"
   ]
  },
  {
   "cell_type": "code",
   "execution_count": 10,
   "id": "75a11d6e",
   "metadata": {},
   "outputs": [
    {
     "data": {
      "text/html": [
       "<div>\n",
       "<style scoped>\n",
       "    .dataframe tbody tr th:only-of-type {\n",
       "        vertical-align: middle;\n",
       "    }\n",
       "\n",
       "    .dataframe tbody tr th {\n",
       "        vertical-align: top;\n",
       "    }\n",
       "\n",
       "    .dataframe thead th {\n",
       "        text-align: right;\n",
       "    }\n",
       "</style>\n",
       "<table border=\"1\" class=\"dataframe\">\n",
       "  <thead>\n",
       "    <tr style=\"text-align: right;\">\n",
       "      <th></th>\n",
       "      <th>Batuk</th>\n",
       "      <th>Pilek</th>\n",
       "      <th>Sakit Tenggorokan</th>\n",
       "      <th>Sesak Nafas</th>\n",
       "      <th>Demam</th>\n",
       "      <th>Sakit Kepala</th>\n",
       "      <th>Lemas</th>\n",
       "      <th>Anosmia</th>\n",
       "      <th>Covid-19</th>\n",
       "      <th>Omicron</th>\n",
       "      <th>Influenza</th>\n",
       "      <th>Pneumonia</th>\n",
       "    </tr>\n",
       "  </thead>\n",
       "  <tbody>\n",
       "    <tr>\n",
       "      <th>0</th>\n",
       "      <td>ya</td>\n",
       "      <td>ya</td>\n",
       "      <td>ya</td>\n",
       "      <td>ya</td>\n",
       "      <td>ya</td>\n",
       "      <td>ya</td>\n",
       "      <td>ya</td>\n",
       "      <td>tidak</td>\n",
       "      <td>ya</td>\n",
       "      <td>ya</td>\n",
       "      <td>tidak</td>\n",
       "      <td>tidak</td>\n",
       "    </tr>\n",
       "    <tr>\n",
       "      <th>1</th>\n",
       "      <td>ya</td>\n",
       "      <td>ya</td>\n",
       "      <td>ya</td>\n",
       "      <td>ya</td>\n",
       "      <td>ya</td>\n",
       "      <td>ya</td>\n",
       "      <td>ya</td>\n",
       "      <td>ya</td>\n",
       "      <td>ya</td>\n",
       "      <td>ya</td>\n",
       "      <td>tidak</td>\n",
       "      <td>tidak</td>\n",
       "    </tr>\n",
       "    <tr>\n",
       "      <th>2</th>\n",
       "      <td>ya</td>\n",
       "      <td>ya</td>\n",
       "      <td>ya</td>\n",
       "      <td>ya</td>\n",
       "      <td>ya</td>\n",
       "      <td>ya</td>\n",
       "      <td>ya</td>\n",
       "      <td>ya</td>\n",
       "      <td>ya</td>\n",
       "      <td>ya</td>\n",
       "      <td>tidak</td>\n",
       "      <td>tidak</td>\n",
       "    </tr>\n",
       "    <tr>\n",
       "      <th>3</th>\n",
       "      <td>ya</td>\n",
       "      <td>ya</td>\n",
       "      <td>ya</td>\n",
       "      <td>ya</td>\n",
       "      <td>ya</td>\n",
       "      <td>ya</td>\n",
       "      <td>ya</td>\n",
       "      <td>ya</td>\n",
       "      <td>ya</td>\n",
       "      <td>ya</td>\n",
       "      <td>tidak</td>\n",
       "      <td>tidak</td>\n",
       "    </tr>\n",
       "    <tr>\n",
       "      <th>4</th>\n",
       "      <td>ya</td>\n",
       "      <td>ya</td>\n",
       "      <td>tidak</td>\n",
       "      <td>ya</td>\n",
       "      <td>ya</td>\n",
       "      <td>ya</td>\n",
       "      <td>ya</td>\n",
       "      <td>ya</td>\n",
       "      <td>ya</td>\n",
       "      <td>ya</td>\n",
       "      <td>tidak</td>\n",
       "      <td>tidak</td>\n",
       "    </tr>\n",
       "  </tbody>\n",
       "</table>\n",
       "</div>"
      ],
      "text/plain": [
       "  Batuk Pilek Sakit Tenggorokan  Sesak Nafas Demam Sakit Kepala Lemas Anosmia  \\\n",
       "0    ya    ya                 ya          ya    ya           ya    ya   tidak   \n",
       "1    ya    ya                 ya          ya    ya           ya    ya      ya   \n",
       "2    ya    ya                 ya          ya    ya           ya    ya      ya   \n",
       "3    ya    ya                 ya          ya    ya           ya    ya      ya   \n",
       "4    ya    ya              tidak          ya    ya           ya    ya      ya   \n",
       "\n",
       "  Covid-19 Omicron Influenza Pneumonia  \n",
       "0      ya       ya     tidak     tidak  \n",
       "1      ya       ya     tidak     tidak  \n",
       "2      ya       ya     tidak     tidak  \n",
       "3      ya       ya     tidak     tidak  \n",
       "4      ya       ya     tidak     tidak  "
      ]
     },
     "execution_count": 10,
     "metadata": {},
     "output_type": "execute_result"
    }
   ],
   "source": [
    "dataset.head(5)"
   ]
  },
  {
   "cell_type": "code",
   "execution_count": 11,
   "id": "2bf8fe67",
   "metadata": {},
   "outputs": [
    {
     "data": {
      "text/html": [
       "<div>\n",
       "<style scoped>\n",
       "    .dataframe tbody tr th:only-of-type {\n",
       "        vertical-align: middle;\n",
       "    }\n",
       "\n",
       "    .dataframe tbody tr th {\n",
       "        vertical-align: top;\n",
       "    }\n",
       "\n",
       "    .dataframe thead th {\n",
       "        text-align: right;\n",
       "    }\n",
       "</style>\n",
       "<table border=\"1\" class=\"dataframe\">\n",
       "  <thead>\n",
       "    <tr style=\"text-align: right;\">\n",
       "      <th></th>\n",
       "      <th>Batuk</th>\n",
       "      <th>Pilek</th>\n",
       "      <th>Sakit Tenggorokan</th>\n",
       "      <th>Sesak Nafas</th>\n",
       "      <th>Demam</th>\n",
       "      <th>Sakit Kepala</th>\n",
       "      <th>Lemas</th>\n",
       "      <th>Anosmia</th>\n",
       "      <th>Covid-19</th>\n",
       "      <th>Omicron</th>\n",
       "      <th>Influenza</th>\n",
       "      <th>Pneumonia</th>\n",
       "    </tr>\n",
       "  </thead>\n",
       "  <tbody>\n",
       "    <tr>\n",
       "      <th>1279</th>\n",
       "      <td>tidak</td>\n",
       "      <td>tidak</td>\n",
       "      <td>ya</td>\n",
       "      <td>ya</td>\n",
       "      <td>tidak</td>\n",
       "      <td>tidak</td>\n",
       "      <td>tidak</td>\n",
       "      <td>tidak</td>\n",
       "      <td>tidak</td>\n",
       "      <td>tidak</td>\n",
       "      <td>tidak</td>\n",
       "      <td>ya</td>\n",
       "    </tr>\n",
       "    <tr>\n",
       "      <th>1280</th>\n",
       "      <td>tidak</td>\n",
       "      <td>tidak</td>\n",
       "      <td>ya</td>\n",
       "      <td>ya</td>\n",
       "      <td>tidak</td>\n",
       "      <td>tidak</td>\n",
       "      <td>tidak</td>\n",
       "      <td>tidak</td>\n",
       "      <td>tidak</td>\n",
       "      <td>tidak</td>\n",
       "      <td>tidak</td>\n",
       "      <td>ya</td>\n",
       "    </tr>\n",
       "    <tr>\n",
       "      <th>1281</th>\n",
       "      <td>tidak</td>\n",
       "      <td>tidak</td>\n",
       "      <td>ya</td>\n",
       "      <td>ya</td>\n",
       "      <td>tidak</td>\n",
       "      <td>tidak</td>\n",
       "      <td>tidak</td>\n",
       "      <td>tidak</td>\n",
       "      <td>tidak</td>\n",
       "      <td>tidak</td>\n",
       "      <td>tidak</td>\n",
       "      <td>ya</td>\n",
       "    </tr>\n",
       "    <tr>\n",
       "      <th>1282</th>\n",
       "      <td>ya</td>\n",
       "      <td>tidak</td>\n",
       "      <td>tidak</td>\n",
       "      <td>tidak</td>\n",
       "      <td>ya</td>\n",
       "      <td>tidak</td>\n",
       "      <td>tidak</td>\n",
       "      <td>ya</td>\n",
       "      <td>tidak</td>\n",
       "      <td>tidak</td>\n",
       "      <td>tidak</td>\n",
       "      <td>tidak</td>\n",
       "    </tr>\n",
       "    <tr>\n",
       "      <th>1283</th>\n",
       "      <td>ya</td>\n",
       "      <td>ya</td>\n",
       "      <td>ya</td>\n",
       "      <td>tidak</td>\n",
       "      <td>tidak</td>\n",
       "      <td>tidak</td>\n",
       "      <td>tidak</td>\n",
       "      <td>tidak</td>\n",
       "      <td>tidak</td>\n",
       "      <td>NaN</td>\n",
       "      <td>ya</td>\n",
       "      <td>tidak</td>\n",
       "    </tr>\n",
       "  </tbody>\n",
       "</table>\n",
       "</div>"
      ],
      "text/plain": [
       "      Batuk  Pilek Sakit Tenggorokan  Sesak Nafas  Demam Sakit Kepala  Lemas  \\\n",
       "1279  tidak  tidak                 ya          ya  tidak        tidak  tidak   \n",
       "1280  tidak  tidak                 ya          ya  tidak        tidak  tidak   \n",
       "1281  tidak  tidak                 ya          ya  tidak        tidak  tidak   \n",
       "1282     ya  tidak              tidak       tidak     ya        tidak  tidak   \n",
       "1283     ya     ya                 ya       tidak  tidak        tidak  tidak   \n",
       "\n",
       "     Anosmia Covid-19 Omicron Influenza Pneumonia  \n",
       "1279   tidak    tidak   tidak     tidak        ya  \n",
       "1280   tidak    tidak   tidak     tidak        ya  \n",
       "1281   tidak    tidak   tidak     tidak        ya  \n",
       "1282      ya    tidak   tidak     tidak     tidak  \n",
       "1283   tidak    tidak     NaN        ya     tidak  "
      ]
     },
     "execution_count": 11,
     "metadata": {},
     "output_type": "execute_result"
    }
   ],
   "source": [
    "dataset.tail(5)"
   ]
  },
  {
   "cell_type": "markdown",
   "id": "58ab54d8",
   "metadata": {},
   "source": [
    "## 1. Data Pre-Processing\n",
    "    c. Handling Missing Values"
   ]
  },
  {
   "cell_type": "code",
   "execution_count": 12,
   "id": "7796edd4",
   "metadata": {},
   "outputs": [
    {
     "data": {
      "text/plain": [
       "Batuk                 0\n",
       "Pilek                 0\n",
       "Sakit Tenggorokan     3\n",
       "Sesak Nafas           1\n",
       "Demam                 0\n",
       "Sakit Kepala          1\n",
       "Lemas                 0\n",
       "Anosmia               1\n",
       "Covid-19              0\n",
       "Omicron               2\n",
       "Influenza             0\n",
       "Pneumonia             0\n",
       "dtype: int64"
      ]
     },
     "execution_count": 12,
     "metadata": {},
     "output_type": "execute_result"
    }
   ],
   "source": [
    "dataset.isnull().sum()    # Checking dataset for null value in each field"
   ]
  },
  {
   "cell_type": "code",
   "execution_count": 13,
   "id": "25a05edd",
   "metadata": {},
   "outputs": [],
   "source": [
    "import numpy as np\n",
    "import matplotlib.pyplot as plt\n",
    "import seaborn as sns  #seaborn for heatmap"
   ]
  },
  {
   "cell_type": "code",
   "execution_count": 14,
   "id": "a2caead4",
   "metadata": {},
   "outputs": [
    {
     "data": {
      "text/plain": [
       "<AxesSubplot:>"
      ]
     },
     "execution_count": 14,
     "metadata": {},
     "output_type": "execute_result"
    },
    {
     "data": {
      "image/png": "[encoded data removed]",
      "text/plain": [
       "<Figure size 432x288 with 1 Axes>"
      ]
     },
     "metadata": {
      "needs_background": "light"
     },
     "output_type": "display_data"
    }
   ],
   "source": [
    "sns.heatmap(dataset.isnull(), cbar=False)"
   ]
  },
  {
   "cell_type": "code",
   "execution_count": 15,
   "id": "36532865",
   "metadata": {},
   "outputs": [],
   "source": [
    "# df['real_lastName'] = np.where(df['LastName'].isnull(), df['Middle'], df['LastName'] )"
   ]
  },
  {
   "cell_type": "code",
   "execution_count": 16,
   "id": "c84c1204",
   "metadata": {},
   "outputs": [],
   "source": [
    "dataset.columns = ['Batuk', 'Pilek', 'SakitTenggorokan', 'SesakNafas', 'Demam', \n",
    "                   'SakitKepala', 'Lemas', 'Anosmia', 'Covid-19', 'Omicron', 'Influenza', 'Pneumonia']"
   ]
  },
  {
   "cell_type": "code",
   "execution_count": 17,
   "id": "0acd9391",
   "metadata": {
    "scrolled": true
   },
   "outputs": [
    {
     "data": {
      "text/html": [
       "<div>\n",
       "<style scoped>\n",
       "    .dataframe tbody tr th:only-of-type {\n",
       "        vertical-align: middle;\n",
       "    }\n",
       "\n",
       "    .dataframe tbody tr th {\n",
       "        vertical-align: top;\n",
       "    }\n",
       "\n",
       "    .dataframe thead th {\n",
       "        text-align: right;\n",
       "    }\n",
       "</style>\n",
       "<table border=\"1\" class=\"dataframe\">\n",
       "  <thead>\n",
       "    <tr style=\"text-align: right;\">\n",
       "      <th></th>\n",
       "      <th>Batuk</th>\n",
       "      <th>Pilek</th>\n",
       "      <th>SakitTenggorokan</th>\n",
       "      <th>SesakNafas</th>\n",
       "      <th>Demam</th>\n",
       "      <th>SakitKepala</th>\n",
       "      <th>Lemas</th>\n",
       "      <th>Anosmia</th>\n",
       "      <th>Covid-19</th>\n",
       "      <th>Omicron</th>\n",
       "      <th>Influenza</th>\n",
       "      <th>Pneumonia</th>\n",
       "    </tr>\n",
       "  </thead>\n",
       "  <tbody>\n",
       "    <tr>\n",
       "      <th>0</th>\n",
       "      <td>ya</td>\n",
       "      <td>ya</td>\n",
       "      <td>ya</td>\n",
       "      <td>ya</td>\n",
       "      <td>ya</td>\n",
       "      <td>ya</td>\n",
       "      <td>ya</td>\n",
       "      <td>tidak</td>\n",
       "      <td>ya</td>\n",
       "      <td>ya</td>\n",
       "      <td>tidak</td>\n",
       "      <td>tidak</td>\n",
       "    </tr>\n",
       "    <tr>\n",
       "      <th>1</th>\n",
       "      <td>ya</td>\n",
       "      <td>ya</td>\n",
       "      <td>ya</td>\n",
       "      <td>ya</td>\n",
       "      <td>ya</td>\n",
       "      <td>ya</td>\n",
       "      <td>ya</td>\n",
       "      <td>ya</td>\n",
       "      <td>ya</td>\n",
       "      <td>ya</td>\n",
       "      <td>tidak</td>\n",
       "      <td>tidak</td>\n",
       "    </tr>\n",
       "    <tr>\n",
       "      <th>2</th>\n",
       "      <td>ya</td>\n",
       "      <td>ya</td>\n",
       "      <td>ya</td>\n",
       "      <td>ya</td>\n",
       "      <td>ya</td>\n",
       "      <td>ya</td>\n",
       "      <td>ya</td>\n",
       "      <td>ya</td>\n",
       "      <td>ya</td>\n",
       "      <td>ya</td>\n",
       "      <td>tidak</td>\n",
       "      <td>tidak</td>\n",
       "    </tr>\n",
       "    <tr>\n",
       "      <th>3</th>\n",
       "      <td>ya</td>\n",
       "      <td>ya</td>\n",
       "      <td>ya</td>\n",
       "      <td>ya</td>\n",
       "      <td>ya</td>\n",
       "      <td>ya</td>\n",
       "      <td>ya</td>\n",
       "      <td>ya</td>\n",
       "      <td>ya</td>\n",
       "      <td>ya</td>\n",
       "      <td>tidak</td>\n",
       "      <td>tidak</td>\n",
       "    </tr>\n",
       "    <tr>\n",
       "      <th>4</th>\n",
       "      <td>ya</td>\n",
       "      <td>ya</td>\n",
       "      <td>tidak</td>\n",
       "      <td>ya</td>\n",
       "      <td>ya</td>\n",
       "      <td>ya</td>\n",
       "      <td>ya</td>\n",
       "      <td>ya</td>\n",
       "      <td>ya</td>\n",
       "      <td>ya</td>\n",
       "      <td>tidak</td>\n",
       "      <td>tidak</td>\n",
       "    </tr>\n",
       "  </tbody>\n",
       "</table>\n",
       "</div>"
      ],
      "text/plain": [
       "  Batuk Pilek SakitTenggorokan SesakNafas Demam SakitKepala Lemas Anosmia  \\\n",
       "0    ya    ya               ya         ya    ya          ya    ya   tidak   \n",
       "1    ya    ya               ya         ya    ya          ya    ya      ya   \n",
       "2    ya    ya               ya         ya    ya          ya    ya      ya   \n",
       "3    ya    ya               ya         ya    ya          ya    ya      ya   \n",
       "4    ya    ya            tidak         ya    ya          ya    ya      ya   \n",
       "\n",
       "  Covid-19 Omicron Influenza Pneumonia  \n",
       "0      ya       ya     tidak     tidak  \n",
       "1      ya       ya     tidak     tidak  \n",
       "2      ya       ya     tidak     tidak  \n",
       "3      ya       ya     tidak     tidak  \n",
       "4      ya       ya     tidak     tidak  "
      ]
     },
     "execution_count": 17,
     "metadata": {},
     "output_type": "execute_result"
    }
   ],
   "source": [
    "dataset.head(5)"
   ]
  },
  {
   "cell_type": "code",
   "execution_count": 18,
   "id": "87265dc4",
   "metadata": {},
   "outputs": [
    {
     "data": {
      "text/html": [
       "<div>\n",
       "<style scoped>\n",
       "    .dataframe tbody tr th:only-of-type {\n",
       "        vertical-align: middle;\n",
       "    }\n",
       "\n",
       "    .dataframe tbody tr th {\n",
       "        vertical-align: top;\n",
       "    }\n",
       "\n",
       "    .dataframe thead th {\n",
       "        text-align: right;\n",
       "    }\n",
       "</style>\n",
       "<table border=\"1\" class=\"dataframe\">\n",
       "  <thead>\n",
       "    <tr style=\"text-align: right;\">\n",
       "      <th></th>\n",
       "    </tr>\n",
       "  </thead>\n",
       "  <tbody>\n",
       "  </tbody>\n",
       "</table>\n",
       "</div>"
      ],
      "text/plain": [
       "Empty DataFrame\n",
       "Columns: []\n",
       "Index: []"
      ]
     },
     "execution_count": 18,
     "metadata": {},
     "output_type": "execute_result"
    }
   ],
   "source": [
    "dataset.corr()"
   ]
  },
  {
   "cell_type": "code",
   "execution_count": 19,
   "id": "9c9ba798",
   "metadata": {
    "scrolled": true
   },
   "outputs": [
    {
     "name": "stdout",
     "output_type": "stream",
     "text": [
      "[624, 1080, 1129]\n",
      "ya ya nan tidak tidak tidak ya ya ya tidak tidak tidak\n",
      "ya ya nan tidak tidak tidak tidak tidak tidak tidak ya tidak\n",
      "ya ya nan tidak ya ya ya tidak tidak tidak ya tidak\n"
     ]
    }
   ],
   "source": [
    "# Check index of Null Value in Fitur SakitTenggorokan, and print all the attributes on null value index \n",
    "\n",
    "index_null_sakit_tenggorokan = dataset['SakitTenggorokan'][dataset['SakitTenggorokan'].isnull()].index.tolist()\n",
    "print(index_null_sakit_tenggorokan)\n",
    "\n",
    "for x in (index_null_sakit_tenggorokan): \n",
    "    print(dataset['Batuk'][x], dataset['Pilek'][x], dataset['SakitTenggorokan'][x], dataset['SesakNafas'][x], dataset['Demam'][x], \n",
    "          dataset['SakitKepala'][x], dataset['Lemas'][x], dataset['Anosmia'][x], dataset['Covid-19'][x], dataset['Omicron'][x], \n",
    "          dataset['Influenza'][x], dataset['Pneumonia'][x])"
   ]
  },
  {
   "cell_type": "code",
   "execution_count": 20,
   "id": "d2c9a2b7",
   "metadata": {},
   "outputs": [],
   "source": [
    "# Fill null value for field SakitTenggorokan base on Covid-19 condition\n",
    "\n",
    "index_null_sakit_tenggorokan = dataset['SakitTenggorokan'][dataset['SakitTenggorokan'].isnull()].index.tolist()\n",
    "\n",
    "for x in (index_null_sakit_tenggorokan): \n",
    "    if dataset['Covid-19'][x] == 'ya': \n",
    "        dataset['SakitTenggorokan'][x] = 'ya'\n",
    "    elif dataset['Covid-19'][x] == 'tidak': \n",
    "        dataset['SakitTenggorokan'][x] = 'tidak'\n"
   ]
  },
  {
   "cell_type": "code",
   "execution_count": 21,
   "id": "2acc54b8",
   "metadata": {},
   "outputs": [
    {
     "name": "stdout",
     "output_type": "stream",
     "text": [
      "[629]\n",
      "ya ya tidak nan tidak tidak ya ya ya tidak tidak tidak\n"
     ]
    }
   ],
   "source": [
    "# Check index of Null Value in Fitur SesakNafas, and print all the attributes on null value index \n",
    "\n",
    "index_null_sesak_nafas = dataset['SesakNafas'][dataset['SesakNafas'].isnull()].index.tolist()\n",
    "print(index_null_sesak_nafas)\n",
    "\n",
    "for x in (index_null_sesak_nafas): \n",
    "    print(dataset['Batuk'][x], dataset['Pilek'][x], dataset['SakitTenggorokan'][x], dataset['SesakNafas'][x], dataset['Demam'][x], \n",
    "          dataset['SakitKepala'][x], dataset['Lemas'][x], dataset['Anosmia'][x], dataset['Covid-19'][x], dataset['Omicron'][x], \n",
    "          dataset['Influenza'][x], dataset['Pneumonia'][x])"
   ]
  },
  {
   "cell_type": "code",
   "execution_count": 22,
   "id": "8ad1da35",
   "metadata": {},
   "outputs": [],
   "source": [
    "# Fill null value for field SesakNafas base on Pnemonia condition\n",
    "\n",
    "index_null_sesak_nafas = dataset['SesakNafas'][dataset['SesakNafas'].isnull()].index.tolist()\n",
    "\n",
    "for x in (index_null_sesak_nafas):\n",
    "    if dataset['Pneumonia'][x] == 'ya': \n",
    "        dataset['SesakNafas'][x] = 'ya'\n",
    "    elif dataset['Pneumonia'][x] == 'tidak': \n",
    "        dataset['SesakNafas'][x] = 'tidak'"
   ]
  },
  {
   "cell_type": "code",
   "execution_count": 23,
   "id": "8179a2ba",
   "metadata": {
    "scrolled": true
   },
   "outputs": [
    {
     "name": "stdout",
     "output_type": "stream",
     "text": [
      "[801]\n",
      "ya ya ya tidak tidak tidak tidak nan ya tidak tidak tidak\n"
     ]
    }
   ],
   "source": [
    "# Check index of Null Value in Fitur Anosmia, and print all the attributes on null value index \n",
    "\n",
    "index_null_anosmia = dataset['Anosmia'][dataset['Anosmia'].isnull()].index.tolist()\n",
    "print(index_null_anosmia)\n",
    "\n",
    "for x in (index_null_anosmia): \n",
    "    print(dataset['Batuk'][x], dataset['Pilek'][x], dataset['SakitTenggorokan'][x], dataset['SesakNafas'][x], dataset['Demam'][x], \n",
    "          dataset['SakitKepala'][x], dataset['Lemas'][x], dataset['Anosmia'][x], dataset['Covid-19'][x], dataset['Omicron'][x], \n",
    "          dataset['Influenza'][x], dataset['Pneumonia'][x])"
   ]
  },
  {
   "cell_type": "code",
   "execution_count": 24,
   "id": "3f6983be",
   "metadata": {},
   "outputs": [],
   "source": [
    "# Fill null value for field Anosmia base on Covid-19 condition\n",
    "\n",
    "index_null_anosmia = dataset['Anosmia'][dataset['Anosmia'].isnull()].index.tolist()\n",
    "\n",
    "for x in (index_null_anosmia):\n",
    "    if dataset['Covid-19'][x] == 'ya' or dataset['Omicron'][x] == 'ya': \n",
    "        dataset['Anosmia'][x] = 'ya'\n",
    "    elif dataset['Covid-19'][x] == 'tidak' or dataset['Omicron'][x] == 'tidak': \n",
    "        dataset['Anosmia'][x] = 'tidak'"
   ]
  },
  {
   "cell_type": "code",
   "execution_count": 25,
   "id": "40d42422",
   "metadata": {},
   "outputs": [
    {
     "name": "stdout",
     "output_type": "stream",
     "text": [
      "[1114]\n",
      "ya ya tidak tidak ya nan ya tidak tidak tidak ya tidak\n"
     ]
    }
   ],
   "source": [
    "# Check index of Null Value in Fitur SakitKepala, and print all the attributes on null value index \n",
    "\n",
    "index_null_sakit_kepala = dataset['SakitKepala'][dataset['SakitKepala'].isnull()].index.tolist()\n",
    "print(index_null_sakit_kepala)\n",
    "\n",
    "for x in (index_null_sakit_kepala): \n",
    "    print(dataset['Batuk'][x], dataset['Pilek'][x], dataset['SakitTenggorokan'][x], dataset['SesakNafas'][x], dataset['Demam'][x], \n",
    "          dataset['SakitKepala'][x], dataset['Lemas'][x], dataset['Anosmia'][x], dataset['Covid-19'][x], dataset['Omicron'][x], \n",
    "          dataset['Influenza'][x], dataset['Pneumonia'][x])"
   ]
  },
  {
   "cell_type": "code",
   "execution_count": 26,
   "id": "4ce90191",
   "metadata": {},
   "outputs": [],
   "source": [
    "# Fill null value for field SakitKepala base on Covid-19 and Fever condition\n",
    "\n",
    "index_null_sakit_kepala = dataset['SakitKepala'][dataset['SakitKepala'].isnull()].index.tolist()\n",
    "\n",
    "for x in (index_null_sakit_kepala):\n",
    "    if dataset['Covid-19'][x] == 'ya' or dataset['Demam'][x] == 'ya': \n",
    "        dataset['SakitKepala'][x] = 'ya'\n",
    "    elif dataset['Covid-19'][x] == 'tidak' or dataset['Demam'][x] == 'tidak': \n",
    "        dataset['SakitKepala'][x] = 'tidak'"
   ]
  },
  {
   "cell_type": "code",
   "execution_count": 27,
   "id": "35b0fea0",
   "metadata": {
    "scrolled": true
   },
   "outputs": [
    {
     "name": "stdout",
     "output_type": "stream",
     "text": [
      "[878, 1283]\n",
      "ya ya tidak tidak ya ya tidak ya ya nan ya tidak\n",
      "ya ya ya tidak tidak tidak tidak tidak tidak nan ya tidak\n"
     ]
    }
   ],
   "source": [
    "# Check index of Null Value in Fitur Omicron, and print all the attributes on null value index \n",
    "\n",
    "index_null_omicron = dataset['Omicron'][dataset['Omicron'].isnull()].index.tolist()\n",
    "print(index_null_omicron)\n",
    "\n",
    "for x in (index_null_omicron): \n",
    "    print(dataset['Batuk'][x], dataset['Pilek'][x], dataset['SakitTenggorokan'][x], dataset['SesakNafas'][x], dataset['Demam'][x], \n",
    "          dataset['SakitKepala'][x], dataset['Lemas'][x], dataset['Anosmia'][x], dataset['Covid-19'][x], dataset['Omicron'][x], \n",
    "          dataset['Influenza'][x], dataset['Pneumonia'][x])"
   ]
  },
  {
   "cell_type": "code",
   "execution_count": 28,
   "id": "4fdb1103",
   "metadata": {},
   "outputs": [],
   "source": [
    "# Fill null value for field Omicron base on Other Diseas\n",
    "\n",
    "index_null_omicron = dataset['Omicron'][dataset['Omicron'].isnull()].index.tolist()\n",
    "\n",
    "for x in (index_null_omicron):\n",
    "    if dataset['Demam'][x] == 'ya' or dataset['SakitKepala'][x] == 'ya' or dataset['Anosmia'][x] == 'ya': \n",
    "        dataset['Omicron'][x] = 'tidak'\n",
    "    elif dataset['Demam'][x] == 'tidak' or dataset['SakitKepala'][x] == 'tidak' or dataset['Anosmia'][x] == 'tidak':\n",
    "        dataset['Omicron'][x] = 'ya'"
   ]
  },
  {
   "cell_type": "code",
   "execution_count": 29,
   "id": "1f377632",
   "metadata": {},
   "outputs": [
    {
     "name": "stdout",
     "output_type": "stream",
     "text": [
      "[]\n",
      "ya ya tidak tidak ya ya tidak ya ya tidak ya tidak\n",
      "ya ya ya tidak tidak tidak tidak tidak tidak ya ya tidak\n"
     ]
    }
   ],
   "source": [
    "# Check index of Null Value in Fitur Demam, and print all the attributes on null value index \n",
    "\n",
    "index_null_demam = dataset['Demam'][dataset['Demam'].isnull()].index.tolist()\n",
    "print(index_null_demam)\n",
    "\n",
    "for x in (index_null_omicron): \n",
    "    print(dataset['Batuk'][x], dataset['Pilek'][x], dataset['SakitTenggorokan'][x], dataset['SesakNafas'][x], dataset['Demam'][x], \n",
    "          dataset['SakitKepala'][x], dataset['Lemas'][x], dataset['Anosmia'][x], dataset['Covid-19'][x], dataset['Omicron'][x], \n",
    "          dataset['Influenza'][x], dataset['Pneumonia'][x])"
   ]
  },
  {
   "cell_type": "code",
   "execution_count": 30,
   "id": "edbcc887",
   "metadata": {},
   "outputs": [],
   "source": [
    "# Fill null value for field Demam base on Other Diseas\n",
    "\n",
    "index_null_demam = dataset['Demam'][dataset['Demam'].isnull()].index.tolist()\n",
    "\n",
    "for x in (index_null_demam):\n",
    "    if dataset['Omicron'][x] == 'ya': \n",
    "        dataset['Demam'][x] = 'ya'\n",
    "    elif dataset['Omicron'][x] == 'tidak': \n",
    "        dataset['Demam'][x] = 'tidak'"
   ]
  },
  {
   "cell_type": "code",
   "execution_count": 31,
   "id": "e0e30922",
   "metadata": {},
   "outputs": [
    {
     "data": {
      "text/plain": [
       "Batuk               0\n",
       "Pilek               0\n",
       "SakitTenggorokan    0\n",
       "SesakNafas          0\n",
       "Demam               0\n",
       "SakitKepala         0\n",
       "Lemas               0\n",
       "Anosmia             0\n",
       "Covid-19            0\n",
       "Omicron             0\n",
       "Influenza           0\n",
       "Pneumonia           0\n",
       "dtype: int64"
      ]
     },
     "execution_count": 31,
     "metadata": {},
     "output_type": "execute_result"
    }
   ],
   "source": [
    "dataset.isnull().sum()"
   ]
  },
  {
   "cell_type": "code",
   "execution_count": 32,
   "id": "1f3cac2a",
   "metadata": {},
   "outputs": [
    {
     "data": {
      "text/plain": [
       "<AxesSubplot:>"
      ]
     },
     "execution_count": 32,
     "metadata": {},
     "output_type": "execute_result"
    },
    {
     "data": {
      "image/png": "[encoded data removed]",
      "text/plain": [
       "<Figure size 432x288 with 1 Axes>"
      ]
     },
     "metadata": {
      "needs_background": "light"
     },
     "output_type": "display_data"
    }
   ],
   "source": [
    "sns.heatmap(dataset.isnull(), cbar=False)"
   ]
  },
  {
   "cell_type": "markdown",
   "id": "39faa1b2",
   "metadata": {},
   "source": [
    "## 1. Data Pre-Processing\n",
    "    d. Fix Different value Field"
   ]
  },
  {
   "cell_type": "code",
   "execution_count": 33,
   "id": "18057695",
   "metadata": {},
   "outputs": [
    {
     "data": {
      "text/plain": [
       "ya       924\n",
       "tidak    360\n",
       "Name: Batuk, dtype: int64"
      ]
     },
     "execution_count": 33,
     "metadata": {},
     "output_type": "execute_result"
    }
   ],
   "source": [
    "dataset['Batuk'].value_counts()\n",
    "\n",
    "#No Different Value Found"
   ]
  },
  {
   "cell_type": "code",
   "execution_count": 34,
   "id": "6a547a5f",
   "metadata": {},
   "outputs": [
    {
     "data": {
      "text/plain": [
       "ya       788\n",
       "tidak    496\n",
       "Name: Pilek, dtype: int64"
      ]
     },
     "execution_count": 34,
     "metadata": {},
     "output_type": "execute_result"
    }
   ],
   "source": [
    "dataset['Pilek'].value_counts()\n",
    "\n",
    "#No Different Value Found"
   ]
  },
  {
   "cell_type": "code",
   "execution_count": 35,
   "id": "cb99f2b8",
   "metadata": {},
   "outputs": [
    {
     "data": {
      "text/plain": [
       "tidak    775\n",
       "ya       508\n",
       "ua         1\n",
       "Name: SakitTenggorokan, dtype: int64"
      ]
     },
     "execution_count": 35,
     "metadata": {},
     "output_type": "execute_result"
    }
   ],
   "source": [
    "dataset['SakitTenggorokan'].value_counts()\n",
    "\n",
    "# Different Value Found\n",
    "# Before Fixing"
   ]
  },
  {
   "cell_type": "code",
   "execution_count": 36,
   "id": "033697b9",
   "metadata": {},
   "outputs": [],
   "source": [
    "for x in range(len(dataset['SakitTenggorokan'])):\n",
    "    if dataset['SakitTenggorokan'][x] == 'ua': \n",
    "        dataset['SakitTenggorokan'][x] = 'ya'"
   ]
  },
  {
   "cell_type": "code",
   "execution_count": 37,
   "id": "9f534254",
   "metadata": {},
   "outputs": [
    {
     "data": {
      "text/plain": [
       "tidak    775\n",
       "ya       509\n",
       "Name: SakitTenggorokan, dtype: int64"
      ]
     },
     "execution_count": 37,
     "metadata": {},
     "output_type": "execute_result"
    }
   ],
   "source": [
    "dataset['SakitTenggorokan'].value_counts()\n",
    "# After Fixing Different Value"
   ]
  },
  {
   "cell_type": "code",
   "execution_count": 38,
   "id": "6545ee93",
   "metadata": {},
   "outputs": [
    {
     "data": {
      "text/plain": [
       "tidak    959\n",
       "ya       325\n",
       "Name: SesakNafas, dtype: int64"
      ]
     },
     "execution_count": 38,
     "metadata": {},
     "output_type": "execute_result"
    }
   ],
   "source": [
    "dataset['SesakNafas'].value_counts()\n",
    "\n",
    "#No Different Value Found"
   ]
  },
  {
   "cell_type": "code",
   "execution_count": 39,
   "id": "aaf4ae09",
   "metadata": {},
   "outputs": [
    {
     "data": {
      "text/plain": [
       "tidak    751\n",
       "ya       533\n",
       "Name: Demam, dtype: int64"
      ]
     },
     "execution_count": 39,
     "metadata": {},
     "output_type": "execute_result"
    }
   ],
   "source": [
    "dataset['Demam'].value_counts()\n",
    "\n",
    "#No Different Value Found"
   ]
  },
  {
   "cell_type": "code",
   "execution_count": 40,
   "id": "bb5eec77",
   "metadata": {},
   "outputs": [
    {
     "data": {
      "text/plain": [
       "tidak     855\n",
       "ya        428\n",
       "tidaks      1\n",
       "Name: SakitKepala, dtype: int64"
      ]
     },
     "execution_count": 40,
     "metadata": {},
     "output_type": "execute_result"
    }
   ],
   "source": [
    "dataset['SakitKepala'].value_counts()\n",
    "\n",
    "# Different Value Found\n",
    "# Before Fixing"
   ]
  },
  {
   "cell_type": "code",
   "execution_count": 41,
   "id": "4b099c85",
   "metadata": {},
   "outputs": [],
   "source": [
    "for x in range(len(dataset['SakitKepala'])):\n",
    "    if dataset['SakitKepala'][x] == 'tidaks': \n",
    "        dataset['SakitKepala'][x] = 'tidak'"
   ]
  },
  {
   "cell_type": "code",
   "execution_count": 42,
   "id": "78824f44",
   "metadata": {},
   "outputs": [
    {
     "data": {
      "text/plain": [
       "tidak    856\n",
       "ya       428\n",
       "Name: SakitKepala, dtype: int64"
      ]
     },
     "execution_count": 42,
     "metadata": {},
     "output_type": "execute_result"
    }
   ],
   "source": [
    "dataset['SakitKepala'].value_counts()\n",
    "# After Fixing Different Value"
   ]
  },
  {
   "cell_type": "code",
   "execution_count": 43,
   "id": "3838bd34",
   "metadata": {},
   "outputs": [
    {
     "data": {
      "text/plain": [
       "ya       707\n",
       "tidak    577\n",
       "Name: Lemas, dtype: int64"
      ]
     },
     "execution_count": 43,
     "metadata": {},
     "output_type": "execute_result"
    }
   ],
   "source": [
    "dataset['Lemas'].value_counts()\n",
    "\n",
    "#No Different Value Found"
   ]
  },
  {
   "cell_type": "code",
   "execution_count": 44,
   "id": "db37a3f1",
   "metadata": {},
   "outputs": [
    {
     "data": {
      "text/plain": [
       "tidak    706\n",
       "ya       578\n",
       "Name: Anosmia, dtype: int64"
      ]
     },
     "execution_count": 44,
     "metadata": {},
     "output_type": "execute_result"
    }
   ],
   "source": [
    "dataset['Anosmia'].value_counts()\n",
    "\n",
    "#No Different Value Found"
   ]
  },
  {
   "cell_type": "code",
   "execution_count": 45,
   "id": "6b0b4b8e",
   "metadata": {},
   "outputs": [
    {
     "data": {
      "text/plain": [
       "ya       798\n",
       "tidak    405\n",
       "ya        81\n",
       "Name: Covid-19, dtype: int64"
      ]
     },
     "execution_count": 45,
     "metadata": {},
     "output_type": "execute_result"
    }
   ],
   "source": [
    "dataset['Covid-19'].value_counts()\n",
    "\n",
    "# Different Value Found\n",
    "# Before Fixing"
   ]
  },
  {
   "cell_type": "code",
   "execution_count": 46,
   "id": "37ce865f",
   "metadata": {},
   "outputs": [],
   "source": [
    "len_dataset_cov = len(dataset['Covid-19'])\n",
    "\n",
    "for x in range(len(dataset['Covid-19'])):\n",
    "    if dataset['Covid-19'][x] == 'ya ' or dataset['Covid-19'][x] == 'ya  ': \n",
    "        dataset['Covid-19'][x] = 'ya'"
   ]
  },
  {
   "cell_type": "code",
   "execution_count": 47,
   "id": "271a74a8",
   "metadata": {},
   "outputs": [
    {
     "data": {
      "text/plain": [
       "ya       879\n",
       "tidak    405\n",
       "Name: Covid-19, dtype: int64"
      ]
     },
     "execution_count": 47,
     "metadata": {},
     "output_type": "execute_result"
    }
   ],
   "source": [
    "dataset['Covid-19'].value_counts()\n",
    "# After Fixing Different Value"
   ]
  },
  {
   "cell_type": "code",
   "execution_count": 48,
   "id": "0b2cfd63",
   "metadata": {},
   "outputs": [
    {
     "data": {
      "text/plain": [
       "tidak    742\n",
       "ya       542\n",
       "Name: Omicron, dtype: int64"
      ]
     },
     "execution_count": 48,
     "metadata": {},
     "output_type": "execute_result"
    }
   ],
   "source": [
    "dataset['Omicron'].value_counts()\n",
    "\n",
    "#No Different Value Found"
   ]
  },
  {
   "cell_type": "code",
   "execution_count": 49,
   "id": "e24ecf31",
   "metadata": {},
   "outputs": [
    {
     "data": {
      "text/plain": [
       "tidak    1003\n",
       "ya        281\n",
       "Name: Influenza, dtype: int64"
      ]
     },
     "execution_count": 49,
     "metadata": {},
     "output_type": "execute_result"
    }
   ],
   "source": [
    "dataset['Influenza'].value_counts()\n",
    "\n",
    "#No Different Value Found"
   ]
  },
  {
   "cell_type": "code",
   "execution_count": 50,
   "id": "ecbbade2",
   "metadata": {},
   "outputs": [
    {
     "data": {
      "text/plain": [
       "tidak    1133\n",
       "ya        151\n",
       "Name: Pneumonia, dtype: int64"
      ]
     },
     "execution_count": 50,
     "metadata": {},
     "output_type": "execute_result"
    }
   ],
   "source": [
    "dataset['Pneumonia'].value_counts()\n",
    "\n",
    "#No Different Value Found"
   ]
  },
  {
   "cell_type": "code",
   "execution_count": 51,
   "id": "a971ec7b",
   "metadata": {},
   "outputs": [
    {
     "name": "stdout",
     "output_type": "stream",
     "text": [
      "ya ya\n",
      "ya ya\n",
      "ya ya\n",
      "ya ya\n",
      "ya ya\n",
      "ya ya\n",
      "ya ya\n",
      "ya ya\n",
      "ya ya\n",
      "ya ya\n",
      "ya ya\n",
      "ya ya\n",
      "ya ya\n",
      "ya ya\n",
      "ya ya\n",
      "ya ya\n",
      "ya ya\n",
      "ya ya\n",
      "ya ya\n",
      "ya ya\n",
      "ya ya\n",
      "ya ya\n",
      "ya ya\n",
      "ya ya\n",
      "ya ya\n",
      "ya ya\n",
      "ya ya\n",
      "ya ya\n",
      "ya ya\n",
      "ya ya\n",
      "ya ya\n",
      "ya ya\n",
      "ya ya\n",
      "ya ya\n",
      "ya ya\n",
      "ya ya\n",
      "ya ya\n",
      "ya ya\n",
      "ya ya\n",
      "ya ya\n",
      "ya ya\n",
      "ya ya\n",
      "ya ya\n",
      "ya ya\n",
      "ya ya\n",
      "ya ya\n",
      "ya ya\n",
      "ya ya\n",
      "ya ya\n",
      "ya ya\n",
      "ya ya\n",
      "ya ya\n",
      "ya ya\n",
      "ya ya\n",
      "ya ya\n",
      "ya ya\n",
      "ya ya\n",
      "ya ya\n",
      "ya ya\n",
      "ya ya\n",
      "ya tidak\n",
      "ya tidak\n",
      "ya tidak\n",
      "ya tidak\n",
      "ya tidak\n",
      "ya tidak\n",
      "ya tidak\n",
      "ya tidak\n",
      "ya tidak\n",
      "ya tidak\n",
      "ya tidak\n",
      "ya tidak\n",
      "ya tidak\n",
      "ya tidak\n",
      "ya tidak\n",
      "ya tidak\n",
      "ya tidak\n",
      "ya tidak\n",
      "ya tidak\n",
      "ya tidak\n",
      "ya tidak\n",
      "ya tidak\n",
      "ya tidak\n",
      "ya tidak\n",
      "ya tidak\n",
      "ya tidak\n",
      "ya tidak\n",
      "ya tidak\n",
      "ya tidak\n",
      "ya tidak\n",
      "ya tidak\n",
      "ya tidak\n",
      "ya tidak\n",
      "ya tidak\n",
      "ya tidak\n",
      "ya tidak\n",
      "ya tidak\n",
      "ya tidak\n",
      "ya tidak\n",
      "ya tidak\n",
      "ya tidak\n",
      "ya tidak\n",
      "ya tidak\n",
      "ya tidak\n",
      "ya tidak\n",
      "ya tidak\n",
      "ya ya\n",
      "ya ya\n",
      "ya ya\n",
      "ya ya\n",
      "ya ya\n",
      "ya ya\n",
      "ya ya\n",
      "ya ya\n",
      "ya ya\n",
      "ya ya\n",
      "ya ya\n",
      "ya ya\n",
      "ya ya\n",
      "ya ya\n",
      "ya ya\n",
      "ya ya\n",
      "ya ya\n",
      "ya ya\n",
      "ya ya\n",
      "ya ya\n",
      "ya ya\n",
      "ya ya\n",
      "ya ya\n",
      "ya ya\n",
      "ya ya\n",
      "ya ya\n",
      "ya ya\n",
      "ya ya\n",
      "ya ya\n",
      "ya ya\n",
      "ya ya\n",
      "ya ya\n",
      "ya ya\n",
      "ya ya\n",
      "ya ya\n",
      "ya ya\n",
      "ya ya\n",
      "ya ya\n",
      "ya ya\n",
      "ya ya\n",
      "ya ya\n",
      "ya ya\n",
      "ya ya\n",
      "ya ya\n",
      "ya ya\n",
      "ya ya\n",
      "ya ya\n",
      "ya ya\n",
      "ya ya\n",
      "ya ya\n",
      "ya ya\n",
      "ya ya\n",
      "ya ya\n",
      "ya ya\n",
      "ya ya\n",
      "ya ya\n",
      "ya ya\n",
      "ya ya\n",
      "ya ya\n",
      "ya ya\n",
      "ya ya\n",
      "ya ya\n",
      "ya ya\n",
      "ya ya\n",
      "ya ya\n",
      "ya ya\n",
      "ya ya\n",
      "ya ya\n",
      "ya ya\n",
      "ya ya\n",
      "ya ya\n",
      "ya ya\n",
      "ya ya\n",
      "ya ya\n",
      "ya ya\n",
      "ya ya\n",
      "ya ya\n",
      "ya ya\n",
      "ya ya\n",
      "ya ya\n",
      "ya ya\n",
      "ya ya\n",
      "ya ya\n",
      "ya ya\n",
      "ya ya\n",
      "ya ya\n",
      "ya ya\n",
      "ya ya\n",
      "ya ya\n",
      "ya ya\n",
      "ya ya\n",
      "ya ya\n",
      "ya ya\n",
      "ya ya\n",
      "ya ya\n",
      "ya ya\n",
      "ya ya\n",
      "ya ya\n",
      "ya ya\n",
      "ya ya\n",
      "ya ya\n",
      "ya ya\n",
      "ya ya\n",
      "ya ya\n",
      "ya ya\n",
      "ya ya\n",
      "ya ya\n",
      "ya ya\n",
      "ya ya\n",
      "ya ya\n",
      "ya ya\n",
      "ya ya\n",
      "ya ya\n",
      "ya ya\n",
      "ya ya\n",
      "ya ya\n",
      "ya ya\n",
      "ya ya\n",
      "ya ya\n",
      "ya ya\n",
      "ya ya\n",
      "ya ya\n",
      "ya ya\n",
      "ya ya\n",
      "ya ya\n",
      "ya ya\n",
      "ya ya\n",
      "ya ya\n",
      "ya ya\n",
      "ya ya\n",
      "ya ya\n",
      "ya ya\n",
      "ya ya\n",
      "ya ya\n",
      "ya ya\n",
      "ya ya\n",
      "ya ya\n",
      "ya ya\n",
      "ya ya\n",
      "ya ya\n",
      "ya ya\n",
      "ya ya\n",
      "ya ya\n",
      "ya ya\n",
      "ya ya\n",
      "ya ya\n",
      "ya ya\n",
      "ya ya\n",
      "ya ya\n",
      "ya ya\n",
      "ya ya\n",
      "ya ya\n",
      "ya ya\n",
      "ya ya\n",
      "ya ya\n",
      "ya ya\n",
      "ya ya\n",
      "ya ya\n",
      "ya ya\n",
      "ya ya\n",
      "ya ya\n",
      "ya ya\n",
      "ya ya\n",
      "ya ya\n",
      "ya ya\n",
      "ya ya\n",
      "ya ya\n",
      "ya ya\n",
      "ya ya\n",
      "ya ya\n",
      "ya ya\n",
      "ya ya\n",
      "ya ya\n",
      "ya ya\n",
      "ya ya\n",
      "ya ya\n",
      "ya ya\n",
      "ya ya\n",
      "ya ya\n",
      "ya ya\n",
      "ya ya\n",
      "ya ya\n",
      "ya ya\n",
      "ya ya\n",
      "ya ya\n",
      "ya ya\n",
      "ya ya\n",
      "ya ya\n",
      "ya ya\n",
      "ya ya\n",
      "ya ya\n",
      "ya ya\n",
      "ya ya\n",
      "ya ya\n",
      "ya ya\n",
      "ya ya\n",
      "ya ya\n",
      "ya ya\n",
      "ya ya\n",
      "ya ya\n",
      "ya ya\n",
      "ya ya\n",
      "ya ya\n",
      "ya ya\n",
      "ya ya\n",
      "ya ya\n",
      "ya ya\n",
      "ya ya\n",
      "ya ya\n",
      "ya ya\n",
      "ya ya\n",
      "ya ya\n",
      "ya ya\n",
      "ya ya\n",
      "ya ya\n",
      "ya ya\n",
      "ya ya\n",
      "ya ya\n",
      "ya ya\n",
      "ya ya\n",
      "ya ya\n",
      "ya ya\n",
      "ya ya\n",
      "ya ya\n",
      "ya ya\n",
      "ya ya\n",
      "ya ya\n",
      "ya ya\n",
      "ya ya\n",
      "ya ya\n",
      "ya ya\n",
      "ya ya\n",
      "ya ya\n",
      "ya ya\n",
      "ya ya\n",
      "ya ya\n",
      "ya ya\n",
      "ya ya\n",
      "ya ya\n",
      "ya ya\n",
      "ya ya\n",
      "ya ya\n",
      "ya ya\n",
      "ya ya\n",
      "ya ya\n",
      "ya ya\n",
      "ya ya\n",
      "ya ya\n",
      "ya ya\n",
      "ya ya\n",
      "ya ya\n",
      "ya ya\n",
      "ya ya\n",
      "ya ya\n",
      "ya ya\n",
      "ya ya\n",
      "ya ya\n",
      "ya ya\n",
      "ya ya\n",
      "ya ya\n",
      "ya ya\n",
      "ya ya\n",
      "ya ya\n",
      "ya ya\n",
      "ya ya\n",
      "ya ya\n",
      "ya ya\n",
      "ya ya\n",
      "ya ya\n",
      "ya ya\n",
      "ya ya\n",
      "ya ya\n",
      "ya ya\n",
      "ya ya\n",
      "ya ya\n",
      "ya ya\n",
      "ya ya\n",
      "ya ya\n",
      "ya ya\n",
      "ya ya\n",
      "ya ya\n",
      "ya ya\n",
      "ya ya\n",
      "ya ya\n",
      "ya ya\n",
      "ya ya\n",
      "ya ya\n",
      "ya ya\n",
      "ya ya\n",
      "ya ya\n",
      "ya ya\n",
      "ya ya\n",
      "ya ya\n",
      "ya ya\n",
      "ya ya\n",
      "ya ya\n",
      "ya ya\n",
      "ya ya\n",
      "ya ya\n",
      "ya ya\n",
      "ya ya\n",
      "ya ya\n",
      "ya ya\n",
      "ya ya\n",
      "ya ya\n",
      "ya ya\n",
      "ya ya\n",
      "ya ya\n",
      "ya ya\n",
      "ya ya\n",
      "ya ya\n",
      "ya ya\n",
      "ya ya\n",
      "ya ya\n",
      "ya ya\n",
      "ya ya\n",
      "ya ya\n",
      "ya ya\n",
      "ya ya\n",
      "ya ya\n",
      "ya ya\n",
      "ya ya\n",
      "ya ya\n",
      "ya ya\n",
      "ya ya\n",
      "ya ya\n",
      "ya ya\n",
      "ya ya\n",
      "ya ya\n",
      "ya ya\n",
      "ya ya\n",
      "ya ya\n",
      "ya ya\n",
      "ya ya\n",
      "ya ya\n",
      "ya ya\n",
      "ya ya\n",
      "ya ya\n",
      "ya ya\n",
      "ya ya\n",
      "ya ya\n",
      "ya ya\n",
      "ya ya\n",
      "ya ya\n",
      "ya ya\n",
      "ya ya\n",
      "ya ya\n",
      "ya ya\n",
      "ya ya\n",
      "ya ya\n",
      "ya ya\n",
      "ya ya\n",
      "ya ya\n",
      "ya ya\n",
      "ya ya\n",
      "ya ya\n",
      "ya ya\n",
      "ya ya\n",
      "ya ya\n",
      "ya ya\n",
      "ya ya\n",
      "ya ya\n",
      "ya ya\n",
      "ya ya\n",
      "ya ya\n",
      "ya ya\n",
      "ya ya\n",
      "ya ya\n",
      "ya ya\n",
      "ya ya\n",
      "ya ya\n",
      "ya ya\n",
      "ya ya\n",
      "ya ya\n",
      "ya ya\n",
      "ya ya\n",
      "ya ya\n",
      "ya ya\n",
      "ya ya\n",
      "ya ya\n",
      "ya ya\n",
      "ya ya\n",
      "ya ya\n",
      "ya ya\n",
      "ya ya\n",
      "ya ya\n",
      "ya ya\n",
      "ya ya\n",
      "ya ya\n",
      "ya ya\n",
      "ya ya\n",
      "ya ya\n",
      "ya ya\n",
      "ya ya\n",
      "ya ya\n",
      "ya ya\n",
      "ya ya\n",
      "ya ya\n",
      "ya ya\n",
      "ya ya\n",
      "ya ya\n",
      "ya ya\n",
      "ya ya\n",
      "ya ya\n",
      "ya ya\n",
      "ya ya\n",
      "ya ya\n",
      "ya ya\n",
      "ya ya\n",
      "ya ya\n",
      "ya ya\n",
      "ya ya\n",
      "ya ya\n",
      "ya ya\n",
      "ya ya\n",
      "ya ya\n",
      "ya ya\n",
      "ya ya\n",
      "ya ya\n",
      "ya ya\n",
      "ya ya\n",
      "ya ya\n",
      "ya ya\n",
      "ya ya\n",
      "ya ya\n",
      "ya ya\n",
      "ya ya\n",
      "ya ya\n",
      "ya ya\n",
      "ya ya\n",
      "ya ya\n",
      "ya ya\n",
      "ya ya\n",
      "ya ya\n",
      "ya ya\n",
      "ya ya\n",
      "ya ya\n",
      "ya ya\n",
      "ya ya\n",
      "ya ya\n",
      "ya ya\n",
      "ya ya\n",
      "ya ya\n",
      "ya ya\n",
      "ya ya\n",
      "ya ya\n",
      "ya ya\n",
      "ya ya\n",
      "ya ya\n",
      "ya ya\n",
      "ya ya\n",
      "ya ya\n",
      "ya ya\n",
      "ya ya\n",
      "ya ya\n",
      "ya ya\n",
      "ya ya\n",
      "ya ya\n",
      "ya ya\n",
      "ya ya\n",
      "ya ya\n",
      "ya ya\n",
      "ya ya\n",
      "ya ya\n",
      "ya ya\n",
      "ya ya\n",
      "ya ya\n",
      "ya ya\n",
      "ya ya\n",
      "ya ya\n",
      "ya ya\n",
      "ya ya\n",
      "ya ya\n",
      "ya ya\n",
      "ya ya\n",
      "ya ya\n",
      "ya ya\n",
      "ya ya\n",
      "ya ya\n",
      "ya ya\n",
      "ya ya\n",
      "ya tidak\n",
      "ya tidak\n",
      "ya tidak\n",
      "ya tidak\n",
      "ya tidak\n",
      "ya tidak\n",
      "ya tidak\n",
      "ya tidak\n",
      "ya tidak\n",
      "ya tidak\n",
      "ya tidak\n",
      "ya tidak\n",
      "ya tidak\n",
      "ya tidak\n",
      "ya tidak\n",
      "ya tidak\n",
      "ya tidak\n",
      "ya tidak\n",
      "ya tidak\n",
      "ya tidak\n",
      "ya tidak\n",
      "ya tidak\n",
      "ya tidak\n",
      "ya tidak\n",
      "ya tidak\n",
      "ya tidak\n",
      "ya tidak\n",
      "ya tidak\n",
      "ya tidak\n",
      "ya tidak\n",
      "ya tidak\n",
      "ya tidak\n",
      "ya tidak\n",
      "ya tidak\n",
      "ya tidak\n",
      "ya tidak\n",
      "ya tidak\n",
      "ya tidak\n",
      "ya tidak\n",
      "ya tidak\n",
      "ya tidak\n",
      "ya tidak\n",
      "ya tidak\n",
      "ya tidak\n",
      "ya tidak\n",
      "ya tidak\n",
      "ya tidak\n",
      "ya tidak\n",
      "ya tidak\n",
      "ya tidak\n",
      "ya tidak\n",
      "ya tidak\n",
      "ya tidak\n",
      "ya tidak\n",
      "ya tidak\n",
      "ya tidak\n",
      "ya tidak\n",
      "ya tidak\n",
      "ya tidak\n",
      "ya tidak\n",
      "ya tidak\n",
      "ya tidak\n",
      "ya tidak\n",
      "ya tidak\n",
      "ya tidak\n",
      "ya tidak\n",
      "ya tidak\n",
      "ya tidak\n",
      "ya tidak\n",
      "ya tidak\n",
      "ya tidak\n",
      "ya tidak\n",
      "ya tidak\n",
      "ya tidak\n",
      "ya tidak\n",
      "ya tidak\n",
      "ya tidak\n",
      "ya tidak\n",
      "ya tidak\n",
      "ya tidak\n",
      "ya tidak\n",
      "ya tidak\n",
      "ya tidak\n",
      "ya tidak\n",
      "ya tidak\n",
      "ya tidak\n",
      "ya tidak\n",
      "ya tidak\n",
      "ya tidak\n",
      "ya tidak\n",
      "ya tidak\n",
      "ya tidak\n",
      "ya tidak\n",
      "ya tidak\n",
      "ya tidak\n",
      "ya tidak\n",
      "ya tidak\n",
      "ya tidak\n",
      "ya tidak\n",
      "ya tidak\n",
      "ya tidak\n",
      "ya tidak\n",
      "ya tidak\n",
      "ya tidak\n",
      "ya tidak\n",
      "ya tidak\n",
      "ya tidak\n",
      "ya tidak\n",
      "ya tidak\n",
      "ya tidak\n",
      "ya tidak\n",
      "ya tidak\n",
      "ya tidak\n",
      "ya tidak\n",
      "ya tidak\n",
      "ya tidak\n",
      "ya tidak\n",
      "ya tidak\n",
      "ya tidak\n",
      "ya tidak\n",
      "ya tidak\n",
      "ya tidak\n",
      "ya tidak\n",
      "ya tidak\n",
      "ya tidak\n",
      "ya tidak\n",
      "ya tidak\n",
      "ya tidak\n",
      "ya tidak\n",
      "ya tidak\n",
      "ya tidak\n",
      "ya tidak\n",
      "ya tidak\n",
      "ya tidak\n",
      "ya tidak\n",
      "ya tidak\n",
      "ya tidak\n",
      "ya tidak\n",
      "ya tidak\n",
      "ya tidak\n",
      "ya tidak\n",
      "ya tidak\n",
      "ya tidak\n",
      "ya tidak\n",
      "ya tidak\n",
      "ya tidak\n",
      "ya tidak\n",
      "ya tidak\n",
      "ya tidak\n",
      "ya tidak\n",
      "ya tidak\n",
      "ya tidak\n",
      "ya tidak\n",
      "ya tidak\n",
      "ya tidak\n",
      "ya tidak\n",
      "ya tidak\n",
      "ya tidak\n",
      "ya tidak\n",
      "ya tidak\n",
      "ya tidak\n",
      "ya tidak\n",
      "ya tidak\n",
      "ya tidak\n",
      "ya tidak\n",
      "ya tidak\n",
      "ya tidak\n",
      "ya tidak\n",
      "ya tidak\n",
      "ya tidak\n",
      "ya tidak\n",
      "ya tidak\n",
      "ya tidak\n",
      "ya tidak\n",
      "ya tidak\n",
      "ya tidak\n",
      "ya tidak\n",
      "ya tidak\n",
      "ya tidak\n",
      "ya tidak\n",
      "ya tidak\n",
      "ya tidak\n",
      "ya tidak\n",
      "ya tidak\n",
      "ya tidak\n",
      "ya tidak\n",
      "ya tidak\n",
      "ya tidak\n",
      "ya tidak\n",
      "ya tidak\n",
      "ya tidak\n",
      "ya tidak\n",
      "ya tidak\n",
      "ya tidak\n",
      "ya tidak\n",
      "ya tidak\n",
      "ya tidak\n",
      "ya tidak\n",
      "ya tidak\n",
      "ya tidak\n",
      "ya tidak\n",
      "ya tidak\n",
      "ya tidak\n",
      "ya tidak\n",
      "ya tidak\n",
      "ya tidak\n",
      "ya tidak\n",
      "ya tidak\n",
      "ya tidak\n",
      "ya tidak\n",
      "ya tidak\n",
      "ya tidak\n",
      "ya tidak\n",
      "ya tidak\n",
      "ya tidak\n",
      "ya tidak\n",
      "ya tidak\n",
      "ya tidak\n",
      "ya tidak\n",
      "ya tidak\n",
      "ya tidak\n",
      "ya tidak\n",
      "ya tidak\n",
      "ya tidak\n",
      "ya tidak\n",
      "ya tidak\n",
      "ya tidak\n",
      "ya tidak\n",
      "ya tidak\n",
      "ya tidak\n",
      "ya tidak\n",
      "ya tidak\n",
      "ya tidak\n",
      "ya tidak\n",
      "ya tidak\n",
      "ya tidak\n",
      "ya tidak\n",
      "ya tidak\n",
      "ya tidak\n",
      "ya tidak\n",
      "ya tidak\n",
      "ya tidak\n",
      "ya tidak\n",
      "ya tidak\n",
      "ya tidak\n",
      "ya tidak\n",
      "ya tidak\n",
      "ya tidak\n",
      "ya tidak\n",
      "ya tidak\n",
      "ya tidak\n",
      "ya tidak\n",
      "ya tidak\n",
      "ya tidak\n",
      "ya tidak\n",
      "ya tidak\n",
      "ya tidak\n",
      "ya tidak\n",
      "ya tidak\n",
      "ya tidak\n",
      "ya tidak\n",
      "ya tidak\n",
      "ya tidak\n",
      "ya tidak\n",
      "ya tidak\n",
      "ya tidak\n",
      "ya tidak\n",
      "ya tidak\n",
      "ya tidak\n",
      "ya tidak\n",
      "ya tidak\n",
      "ya tidak\n",
      "ya tidak\n",
      "ya tidak\n",
      "ya tidak\n",
      "ya tidak\n",
      "ya tidak\n",
      "ya tidak\n",
      "ya tidak\n",
      "ya tidak\n",
      "ya tidak\n",
      "ya tidak\n",
      "ya tidak\n",
      "ya tidak\n",
      "ya tidak\n",
      "ya tidak\n",
      "ya tidak\n",
      "ya tidak\n",
      "ya tidak\n",
      "ya tidak\n",
      "ya tidak\n",
      "ya tidak\n",
      "tidak tidak\n",
      "tidak tidak\n",
      "tidak tidak\n",
      "tidak tidak\n",
      "tidak tidak\n",
      "tidak tidak\n",
      "tidak tidak\n",
      "tidak tidak\n",
      "tidak tidak\n",
      "tidak tidak\n",
      "tidak tidak\n",
      "tidak tidak\n",
      "tidak tidak\n",
      "tidak tidak\n",
      "tidak tidak\n",
      "tidak tidak\n",
      "tidak tidak\n",
      "tidak tidak\n",
      "tidak tidak\n",
      "tidak tidak\n",
      "tidak tidak\n",
      "tidak tidak\n",
      "tidak tidak\n",
      "tidak tidak\n",
      "tidak tidak\n",
      "tidak tidak\n",
      "tidak tidak\n",
      "tidak tidak\n",
      "tidak tidak\n",
      "tidak tidak\n",
      "tidak tidak\n",
      "tidak tidak\n",
      "tidak tidak\n",
      "tidak tidak\n",
      "tidak tidak\n",
      "tidak tidak\n",
      "tidak tidak\n",
      "tidak tidak\n",
      "tidak tidak\n",
      "tidak tidak\n",
      "tidak tidak\n",
      "tidak tidak\n",
      "tidak tidak\n",
      "tidak tidak\n",
      "tidak tidak\n",
      "tidak tidak\n",
      "tidak tidak\n",
      "tidak tidak\n",
      "tidak tidak\n",
      "tidak tidak\n",
      "tidak tidak\n",
      "tidak tidak\n",
      "tidak tidak\n",
      "tidak tidak\n",
      "tidak tidak\n",
      "tidak tidak\n",
      "tidak tidak\n",
      "tidak tidak\n",
      "tidak tidak\n",
      "tidak tidak\n",
      "tidak tidak\n",
      "tidak tidak\n",
      "tidak tidak\n",
      "tidak tidak\n",
      "tidak tidak\n",
      "tidak tidak\n",
      "tidak tidak\n",
      "tidak tidak\n",
      "tidak tidak\n",
      "tidak tidak\n",
      "tidak tidak\n",
      "tidak tidak\n",
      "tidak tidak\n",
      "tidak tidak\n",
      "tidak tidak\n",
      "tidak tidak\n",
      "tidak tidak\n",
      "tidak tidak\n",
      "tidak tidak\n",
      "tidak tidak\n",
      "tidak tidak\n",
      "tidak tidak\n",
      "tidak tidak\n",
      "tidak tidak\n",
      "tidak tidak\n",
      "tidak tidak\n",
      "tidak tidak\n",
      "tidak tidak\n",
      "tidak tidak\n",
      "tidak tidak\n",
      "tidak tidak\n",
      "tidak tidak\n",
      "tidak tidak\n",
      "tidak tidak\n",
      "tidak tidak\n",
      "tidak tidak\n",
      "tidak tidak\n",
      "tidak tidak\n",
      "tidak tidak\n",
      "tidak tidak\n",
      "tidak tidak\n",
      "tidak tidak\n",
      "tidak tidak\n",
      "tidak tidak\n",
      "tidak tidak\n",
      "tidak tidak\n",
      "tidak tidak\n",
      "tidak tidak\n",
      "tidak tidak\n",
      "tidak tidak\n",
      "tidak tidak\n",
      "tidak tidak\n",
      "tidak tidak\n",
      "tidak tidak\n",
      "tidak tidak\n",
      "tidak tidak\n",
      "tidak tidak\n",
      "tidak tidak\n",
      "tidak tidak\n",
      "tidak tidak\n",
      "tidak tidak\n",
      "tidak tidak\n",
      "tidak tidak\n",
      "tidak tidak\n",
      "tidak tidak\n",
      "tidak tidak\n",
      "tidak tidak\n",
      "tidak tidak\n",
      "tidak tidak\n",
      "tidak tidak\n",
      "tidak tidak\n",
      "tidak tidak\n",
      "tidak tidak\n",
      "tidak tidak\n",
      "tidak tidak\n",
      "tidak tidak\n",
      "tidak tidak\n",
      "tidak tidak\n",
      "tidak tidak\n",
      "tidak tidak\n",
      "tidak tidak\n",
      "tidak tidak\n",
      "tidak tidak\n",
      "tidak tidak\n",
      "tidak tidak\n",
      "tidak tidak\n",
      "tidak tidak\n",
      "tidak tidak\n",
      "tidak tidak\n",
      "tidak tidak\n",
      "tidak tidak\n",
      "tidak tidak\n",
      "tidak tidak\n",
      "tidak tidak\n",
      "tidak tidak\n",
      "tidak tidak\n",
      "tidak tidak\n",
      "tidak tidak\n",
      "tidak tidak\n",
      "tidak tidak\n",
      "tidak tidak\n",
      "tidak tidak\n",
      "tidak tidak\n",
      "tidak tidak\n",
      "tidak tidak\n",
      "tidak tidak\n",
      "tidak tidak\n",
      "tidak tidak\n",
      "tidak tidak\n",
      "tidak tidak\n",
      "tidak tidak\n",
      "tidak tidak\n",
      "tidak tidak\n",
      "tidak tidak\n",
      "tidak tidak\n",
      "tidak tidak\n",
      "tidak tidak\n",
      "tidak tidak\n",
      "tidak tidak\n",
      "tidak tidak\n",
      "tidak tidak\n",
      "tidak tidak\n",
      "tidak tidak\n",
      "tidak tidak\n",
      "tidak tidak\n",
      "tidak tidak\n",
      "tidak tidak\n",
      "tidak tidak\n",
      "tidak tidak\n",
      "tidak tidak\n",
      "tidak tidak\n",
      "tidak tidak\n",
      "tidak tidak\n",
      "tidak tidak\n",
      "tidak tidak\n",
      "tidak tidak\n",
      "tidak tidak\n",
      "tidak tidak\n",
      "tidak tidak\n",
      "tidak tidak\n",
      "tidak tidak\n",
      "tidak tidak\n",
      "tidak tidak\n",
      "tidak tidak\n",
      "tidak tidak\n",
      "tidak tidak\n",
      "tidak tidak\n",
      "tidak tidak\n",
      "tidak tidak\n",
      "tidak tidak\n",
      "tidak tidak\n",
      "tidak tidak\n",
      "tidak tidak\n",
      "tidak tidak\n",
      "tidak tidak\n",
      "tidak tidak\n",
      "tidak tidak\n",
      "tidak tidak\n",
      "tidak tidak\n",
      "tidak tidak\n",
      "tidak tidak\n",
      "tidak tidak\n",
      "tidak tidak\n",
      "tidak tidak\n",
      "tidak tidak\n",
      "tidak tidak\n",
      "tidak tidak\n",
      "tidak tidak\n",
      "tidak tidak\n",
      "tidak tidak\n",
      "tidak tidak\n",
      "tidak tidak\n",
      "tidak tidak\n",
      "tidak tidak\n",
      "tidak tidak\n",
      "tidak tidak\n",
      "tidak tidak\n",
      "tidak tidak\n",
      "tidak tidak\n",
      "tidak tidak\n",
      "tidak tidak\n",
      "tidak tidak\n",
      "tidak tidak\n",
      "tidak tidak\n",
      "tidak tidak\n",
      "tidak tidak\n",
      "tidak tidak\n",
      "tidak tidak\n",
      "tidak tidak\n",
      "tidak tidak\n",
      "tidak tidak\n",
      "tidak tidak\n",
      "tidak tidak\n",
      "tidak tidak\n",
      "tidak tidak\n",
      "tidak tidak\n",
      "tidak tidak\n",
      "tidak tidak\n",
      "tidak tidak\n",
      "tidak tidak\n",
      "tidak tidak\n",
      "tidak tidak\n",
      "tidak tidak\n",
      "tidak tidak\n",
      "tidak tidak\n",
      "tidak tidak\n",
      "tidak tidak\n",
      "tidak tidak\n",
      "tidak tidak\n",
      "tidak tidak\n",
      "tidak tidak\n",
      "tidak tidak\n",
      "tidak tidak\n",
      "tidak tidak\n",
      "tidak tidak\n",
      "tidak tidak\n",
      "tidak tidak\n",
      "tidak tidak\n",
      "tidak tidak\n",
      "tidak tidak\n",
      "tidak tidak\n",
      "tidak tidak\n",
      "tidak tidak\n",
      "tidak tidak\n",
      "tidak tidak\n",
      "tidak tidak\n",
      "tidak tidak\n",
      "tidak tidak\n",
      "tidak tidak\n",
      "tidak tidak\n",
      "tidak tidak\n",
      "tidak tidak\n",
      "tidak tidak\n",
      "tidak tidak\n",
      "tidak tidak\n",
      "tidak tidak\n",
      "tidak tidak\n",
      "tidak tidak\n",
      "tidak tidak\n",
      "tidak tidak\n",
      "tidak tidak\n",
      "tidak tidak\n",
      "tidak tidak\n",
      "tidak tidak\n",
      "tidak tidak\n",
      "tidak tidak\n",
      "tidak tidak\n",
      "tidak tidak\n",
      "tidak tidak\n",
      "tidak tidak\n",
      "tidak tidak\n",
      "tidak tidak\n",
      "tidak tidak\n",
      "tidak tidak\n",
      "tidak tidak\n",
      "tidak tidak\n",
      "tidak tidak\n",
      "tidak tidak\n",
      "tidak tidak\n",
      "tidak tidak\n",
      "tidak tidak\n",
      "tidak tidak\n",
      "tidak tidak\n",
      "tidak tidak\n",
      "tidak tidak\n",
      "tidak tidak\n",
      "tidak tidak\n",
      "tidak tidak\n",
      "tidak tidak\n",
      "tidak tidak\n",
      "tidak tidak\n",
      "tidak tidak\n",
      "tidak tidak\n",
      "tidak tidak\n",
      "tidak tidak\n",
      "tidak tidak\n",
      "tidak tidak\n",
      "tidak tidak\n",
      "tidak tidak\n",
      "tidak tidak\n",
      "tidak tidak\n",
      "tidak tidak\n",
      "tidak tidak\n",
      "tidak tidak\n",
      "tidak tidak\n",
      "tidak tidak\n",
      "tidak tidak\n",
      "tidak tidak\n",
      "tidak tidak\n",
      "tidak tidak\n",
      "tidak tidak\n",
      "tidak tidak\n",
      "tidak tidak\n",
      "tidak tidak\n",
      "tidak tidak\n",
      "tidak tidak\n",
      "tidak tidak\n",
      "tidak tidak\n",
      "tidak tidak\n",
      "tidak tidak\n",
      "tidak tidak\n",
      "tidak tidak\n",
      "tidak tidak\n",
      "tidak tidak\n",
      "tidak tidak\n",
      "tidak tidak\n",
      "tidak tidak\n",
      "tidak tidak\n",
      "tidak tidak\n",
      "tidak tidak\n",
      "tidak tidak\n",
      "tidak tidak\n",
      "tidak tidak\n",
      "tidak tidak\n",
      "tidak tidak\n",
      "tidak tidak\n",
      "tidak tidak\n",
      "tidak tidak\n",
      "tidak tidak\n",
      "tidak tidak\n",
      "tidak tidak\n",
      "tidak tidak\n",
      "tidak tidak\n",
      "tidak tidak\n",
      "tidak tidak\n",
      "tidak tidak\n",
      "tidak tidak\n",
      "tidak tidak\n",
      "tidak tidak\n",
      "tidak tidak\n",
      "tidak tidak\n",
      "tidak tidak\n",
      "tidak tidak\n",
      "tidak tidak\n",
      "tidak tidak\n",
      "tidak tidak\n",
      "tidak tidak\n",
      "tidak tidak\n",
      "tidak tidak\n",
      "tidak tidak\n",
      "tidak tidak\n",
      "tidak tidak\n",
      "tidak tidak\n",
      "tidak tidak\n",
      "tidak ya\n"
     ]
    }
   ],
   "source": [
    "for x in range(len(dataset['Covid-19'])):\n",
    "    print(dataset['Covid-19'][x], dataset['Omicron'][x])"
   ]
  },
  {
   "cell_type": "code",
   "execution_count": 52,
   "id": "c8d3b6ec",
   "metadata": {},
   "outputs": [],
   "source": [
    "for x in range(len(dataset['Covid-19'])):\n",
    "    if dataset['Covid-19'][x] == 'ya' and dataset['Omicron'][x] == 'ya': \n",
    "        dataset['Covid-19'][x] = 'tidak'"
   ]
  },
  {
   "cell_type": "code",
   "execution_count": 53,
   "id": "987c9879",
   "metadata": {},
   "outputs": [
    {
     "name": "stdout",
     "output_type": "stream",
     "text": [
      "tidak ya\n",
      "tidak ya\n",
      "tidak ya\n",
      "tidak ya\n",
      "tidak ya\n",
      "tidak ya\n",
      "tidak ya\n",
      "tidak ya\n",
      "tidak ya\n",
      "tidak ya\n",
      "tidak ya\n",
      "tidak ya\n",
      "tidak ya\n",
      "tidak ya\n",
      "tidak ya\n",
      "tidak ya\n",
      "tidak ya\n",
      "tidak ya\n",
      "tidak ya\n",
      "tidak ya\n",
      "tidak ya\n",
      "tidak ya\n",
      "tidak ya\n",
      "tidak ya\n",
      "tidak ya\n",
      "tidak ya\n",
      "tidak ya\n",
      "tidak ya\n",
      "tidak ya\n",
      "tidak ya\n",
      "tidak ya\n",
      "tidak ya\n",
      "tidak ya\n",
      "tidak ya\n",
      "tidak ya\n",
      "tidak ya\n",
      "tidak ya\n",
      "tidak ya\n",
      "tidak ya\n",
      "tidak ya\n",
      "tidak ya\n",
      "tidak ya\n",
      "tidak ya\n",
      "tidak ya\n",
      "tidak ya\n",
      "tidak ya\n",
      "tidak ya\n",
      "tidak ya\n",
      "tidak ya\n",
      "tidak ya\n",
      "tidak ya\n",
      "tidak ya\n",
      "tidak ya\n",
      "tidak ya\n",
      "tidak ya\n",
      "tidak ya\n",
      "tidak ya\n",
      "tidak ya\n",
      "tidak ya\n",
      "tidak ya\n",
      "ya tidak\n",
      "ya tidak\n",
      "ya tidak\n",
      "ya tidak\n",
      "ya tidak\n",
      "ya tidak\n",
      "ya tidak\n",
      "ya tidak\n",
      "ya tidak\n",
      "ya tidak\n",
      "ya tidak\n",
      "ya tidak\n",
      "ya tidak\n",
      "ya tidak\n",
      "ya tidak\n",
      "ya tidak\n",
      "ya tidak\n",
      "ya tidak\n",
      "ya tidak\n",
      "ya tidak\n",
      "ya tidak\n",
      "ya tidak\n",
      "ya tidak\n",
      "ya tidak\n",
      "ya tidak\n",
      "ya tidak\n",
      "ya tidak\n",
      "ya tidak\n",
      "ya tidak\n",
      "ya tidak\n",
      "ya tidak\n",
      "ya tidak\n",
      "ya tidak\n",
      "ya tidak\n",
      "ya tidak\n",
      "ya tidak\n",
      "ya tidak\n",
      "ya tidak\n",
      "ya tidak\n",
      "ya tidak\n",
      "ya tidak\n",
      "ya tidak\n",
      "ya tidak\n",
      "ya tidak\n",
      "ya tidak\n",
      "ya tidak\n",
      "tidak ya\n",
      "tidak ya\n",
      "tidak ya\n",
      "tidak ya\n",
      "tidak ya\n",
      "tidak ya\n",
      "tidak ya\n",
      "tidak ya\n",
      "tidak ya\n",
      "tidak ya\n",
      "tidak ya\n",
      "tidak ya\n",
      "tidak ya\n",
      "tidak ya\n",
      "tidak ya\n",
      "tidak ya\n",
      "tidak ya\n",
      "tidak ya\n",
      "tidak ya\n",
      "tidak ya\n",
      "tidak ya\n",
      "tidak ya\n",
      "tidak ya\n",
      "tidak ya\n",
      "tidak ya\n",
      "tidak ya\n",
      "tidak ya\n",
      "tidak ya\n",
      "tidak ya\n",
      "tidak ya\n",
      "tidak ya\n",
      "tidak ya\n",
      "tidak ya\n",
      "tidak ya\n",
      "tidak ya\n",
      "tidak ya\n",
      "tidak ya\n",
      "tidak ya\n",
      "tidak ya\n",
      "tidak ya\n",
      "tidak ya\n",
      "tidak ya\n",
      "tidak ya\n",
      "tidak ya\n",
      "tidak ya\n",
      "tidak ya\n",
      "tidak ya\n",
      "tidak ya\n",
      "tidak ya\n",
      "tidak ya\n",
      "tidak ya\n",
      "tidak ya\n",
      "tidak ya\n",
      "tidak ya\n",
      "tidak ya\n",
      "tidak ya\n",
      "tidak ya\n",
      "tidak ya\n",
      "tidak ya\n",
      "tidak ya\n",
      "tidak ya\n",
      "tidak ya\n",
      "tidak ya\n",
      "tidak ya\n",
      "tidak ya\n",
      "tidak ya\n",
      "tidak ya\n",
      "tidak ya\n",
      "tidak ya\n",
      "tidak ya\n",
      "tidak ya\n",
      "tidak ya\n",
      "tidak ya\n",
      "tidak ya\n",
      "tidak ya\n",
      "tidak ya\n",
      "tidak ya\n",
      "tidak ya\n",
      "tidak ya\n",
      "tidak ya\n",
      "tidak ya\n",
      "tidak ya\n",
      "tidak ya\n",
      "tidak ya\n",
      "tidak ya\n",
      "tidak ya\n",
      "tidak ya\n",
      "tidak ya\n",
      "tidak ya\n",
      "tidak ya\n",
      "tidak ya\n",
      "tidak ya\n",
      "tidak ya\n",
      "tidak ya\n",
      "tidak ya\n",
      "tidak ya\n",
      "tidak ya\n",
      "tidak ya\n",
      "tidak ya\n",
      "tidak ya\n",
      "tidak ya\n",
      "tidak ya\n",
      "tidak ya\n",
      "tidak ya\n",
      "tidak ya\n",
      "tidak ya\n",
      "tidak ya\n",
      "tidak ya\n",
      "tidak ya\n",
      "tidak ya\n",
      "tidak ya\n",
      "tidak ya\n",
      "tidak ya\n",
      "tidak ya\n",
      "tidak ya\n",
      "tidak ya\n",
      "tidak ya\n",
      "tidak ya\n",
      "tidak ya\n",
      "tidak ya\n",
      "tidak ya\n",
      "tidak ya\n",
      "tidak ya\n",
      "tidak ya\n",
      "tidak ya\n",
      "tidak ya\n",
      "tidak ya\n",
      "tidak ya\n",
      "tidak ya\n",
      "tidak ya\n",
      "tidak ya\n",
      "tidak ya\n",
      "tidak ya\n",
      "tidak ya\n",
      "tidak ya\n",
      "tidak ya\n",
      "tidak ya\n",
      "tidak ya\n",
      "tidak ya\n",
      "tidak ya\n",
      "tidak ya\n",
      "tidak ya\n",
      "tidak ya\n",
      "tidak ya\n",
      "tidak ya\n",
      "tidak ya\n",
      "tidak ya\n",
      "tidak ya\n",
      "tidak ya\n",
      "tidak ya\n",
      "tidak ya\n",
      "tidak ya\n",
      "tidak ya\n",
      "tidak ya\n",
      "tidak ya\n",
      "tidak ya\n",
      "tidak ya\n",
      "tidak ya\n",
      "tidak ya\n",
      "tidak ya\n",
      "tidak ya\n",
      "tidak ya\n",
      "tidak ya\n",
      "tidak ya\n",
      "tidak ya\n",
      "tidak ya\n",
      "tidak ya\n",
      "tidak ya\n",
      "tidak ya\n",
      "tidak ya\n",
      "tidak ya\n",
      "tidak ya\n",
      "tidak ya\n",
      "tidak ya\n",
      "tidak ya\n",
      "tidak ya\n",
      "tidak ya\n",
      "tidak ya\n",
      "tidak ya\n",
      "tidak ya\n",
      "tidak ya\n",
      "tidak ya\n",
      "tidak ya\n",
      "tidak ya\n",
      "tidak ya\n",
      "tidak ya\n",
      "tidak ya\n",
      "tidak ya\n",
      "tidak ya\n",
      "tidak ya\n",
      "tidak ya\n",
      "tidak ya\n",
      "tidak ya\n",
      "tidak ya\n",
      "tidak ya\n",
      "tidak ya\n",
      "tidak ya\n",
      "tidak ya\n",
      "tidak ya\n",
      "tidak ya\n",
      "tidak ya\n",
      "tidak ya\n",
      "tidak ya\n",
      "tidak ya\n",
      "tidak ya\n",
      "tidak ya\n",
      "tidak ya\n",
      "tidak ya\n",
      "tidak ya\n",
      "tidak ya\n",
      "tidak ya\n",
      "tidak ya\n",
      "tidak ya\n",
      "tidak ya\n",
      "tidak ya\n",
      "tidak ya\n",
      "tidak ya\n",
      "tidak ya\n",
      "tidak ya\n",
      "tidak ya\n",
      "tidak ya\n",
      "tidak ya\n",
      "tidak ya\n",
      "tidak ya\n",
      "tidak ya\n",
      "tidak ya\n",
      "tidak ya\n",
      "tidak ya\n",
      "tidak ya\n",
      "tidak ya\n",
      "tidak ya\n",
      "tidak ya\n",
      "tidak ya\n",
      "tidak ya\n",
      "tidak ya\n",
      "tidak ya\n",
      "tidak ya\n",
      "tidak ya\n",
      "tidak ya\n",
      "tidak ya\n",
      "tidak ya\n",
      "tidak ya\n",
      "tidak ya\n",
      "tidak ya\n",
      "tidak ya\n",
      "tidak ya\n",
      "tidak ya\n",
      "tidak ya\n",
      "tidak ya\n",
      "tidak ya\n",
      "tidak ya\n",
      "tidak ya\n",
      "tidak ya\n",
      "tidak ya\n",
      "tidak ya\n",
      "tidak ya\n",
      "tidak ya\n",
      "tidak ya\n",
      "tidak ya\n",
      "tidak ya\n",
      "tidak ya\n",
      "tidak ya\n",
      "tidak ya\n",
      "tidak ya\n",
      "tidak ya\n",
      "tidak ya\n",
      "tidak ya\n",
      "tidak ya\n",
      "tidak ya\n",
      "tidak ya\n",
      "tidak ya\n",
      "tidak ya\n",
      "tidak ya\n",
      "tidak ya\n",
      "tidak ya\n",
      "tidak ya\n",
      "tidak ya\n",
      "tidak ya\n",
      "tidak ya\n",
      "tidak ya\n",
      "tidak ya\n",
      "tidak ya\n",
      "tidak ya\n",
      "tidak ya\n",
      "tidak ya\n",
      "tidak ya\n",
      "tidak ya\n",
      "tidak ya\n",
      "tidak ya\n",
      "tidak ya\n",
      "tidak ya\n",
      "tidak ya\n",
      "tidak ya\n",
      "tidak ya\n",
      "tidak ya\n",
      "tidak ya\n",
      "tidak ya\n",
      "tidak ya\n",
      "tidak ya\n",
      "tidak ya\n",
      "tidak ya\n",
      "tidak ya\n",
      "tidak ya\n",
      "tidak ya\n",
      "tidak ya\n",
      "tidak ya\n",
      "tidak ya\n",
      "tidak ya\n",
      "tidak ya\n",
      "tidak ya\n",
      "tidak ya\n",
      "tidak ya\n",
      "tidak ya\n",
      "tidak ya\n",
      "tidak ya\n",
      "tidak ya\n",
      "tidak ya\n",
      "tidak ya\n",
      "tidak ya\n",
      "tidak ya\n",
      "tidak ya\n",
      "tidak ya\n",
      "tidak ya\n",
      "tidak ya\n",
      "tidak ya\n",
      "tidak ya\n",
      "tidak ya\n",
      "tidak ya\n",
      "tidak ya\n",
      "tidak ya\n",
      "tidak ya\n",
      "tidak ya\n",
      "tidak ya\n",
      "tidak ya\n",
      "tidak ya\n",
      "tidak ya\n",
      "tidak ya\n",
      "tidak ya\n",
      "tidak ya\n",
      "tidak ya\n",
      "tidak ya\n",
      "tidak ya\n",
      "tidak ya\n",
      "tidak ya\n",
      "tidak ya\n",
      "tidak ya\n",
      "tidak ya\n",
      "tidak ya\n",
      "tidak ya\n",
      "tidak ya\n",
      "tidak ya\n",
      "tidak ya\n",
      "tidak ya\n",
      "tidak ya\n",
      "tidak ya\n",
      "tidak ya\n",
      "tidak ya\n",
      "tidak ya\n",
      "tidak ya\n",
      "tidak ya\n",
      "tidak ya\n",
      "tidak ya\n",
      "tidak ya\n",
      "tidak ya\n",
      "tidak ya\n",
      "tidak ya\n",
      "tidak ya\n",
      "tidak ya\n",
      "tidak ya\n",
      "tidak ya\n",
      "tidak ya\n",
      "tidak ya\n",
      "tidak ya\n",
      "tidak ya\n",
      "tidak ya\n",
      "tidak ya\n",
      "tidak ya\n",
      "tidak ya\n",
      "tidak ya\n",
      "tidak ya\n",
      "tidak ya\n",
      "tidak ya\n",
      "tidak ya\n",
      "tidak ya\n",
      "tidak ya\n",
      "tidak ya\n",
      "tidak ya\n",
      "tidak ya\n",
      "tidak ya\n",
      "tidak ya\n",
      "tidak ya\n",
      "tidak ya\n",
      "tidak ya\n",
      "tidak ya\n",
      "tidak ya\n",
      "tidak ya\n",
      "tidak ya\n",
      "tidak ya\n",
      "tidak ya\n",
      "tidak ya\n",
      "tidak ya\n",
      "tidak ya\n",
      "tidak ya\n",
      "tidak ya\n",
      "tidak ya\n",
      "tidak ya\n",
      "tidak ya\n",
      "tidak ya\n",
      "tidak ya\n",
      "tidak ya\n",
      "tidak ya\n",
      "tidak ya\n",
      "tidak ya\n",
      "tidak ya\n",
      "tidak ya\n",
      "tidak ya\n",
      "tidak ya\n",
      "tidak ya\n",
      "tidak ya\n",
      "tidak ya\n",
      "tidak ya\n",
      "tidak ya\n",
      "tidak ya\n",
      "tidak ya\n",
      "tidak ya\n",
      "tidak ya\n",
      "tidak ya\n",
      "tidak ya\n",
      "tidak ya\n",
      "tidak ya\n",
      "tidak ya\n",
      "tidak ya\n",
      "tidak ya\n",
      "tidak ya\n",
      "tidak ya\n",
      "tidak ya\n",
      "tidak ya\n",
      "tidak ya\n",
      "tidak ya\n",
      "tidak ya\n",
      "tidak ya\n",
      "tidak ya\n",
      "tidak ya\n",
      "tidak ya\n",
      "tidak ya\n",
      "tidak ya\n",
      "tidak ya\n",
      "tidak ya\n",
      "tidak ya\n",
      "tidak ya\n",
      "tidak ya\n",
      "tidak ya\n",
      "tidak ya\n",
      "tidak ya\n",
      "tidak ya\n",
      "tidak ya\n",
      "tidak ya\n",
      "tidak ya\n",
      "tidak ya\n",
      "tidak ya\n",
      "tidak ya\n",
      "tidak ya\n",
      "tidak ya\n",
      "tidak ya\n",
      "tidak ya\n",
      "tidak ya\n",
      "tidak ya\n",
      "tidak ya\n",
      "tidak ya\n",
      "tidak ya\n",
      "tidak ya\n",
      "tidak ya\n",
      "tidak ya\n",
      "tidak ya\n",
      "tidak ya\n",
      "tidak ya\n",
      "tidak ya\n",
      "tidak ya\n",
      "tidak ya\n",
      "tidak ya\n",
      "tidak ya\n",
      "ya tidak\n",
      "ya tidak\n",
      "ya tidak\n",
      "ya tidak\n",
      "ya tidak\n",
      "ya tidak\n",
      "ya tidak\n",
      "ya tidak\n",
      "ya tidak\n",
      "ya tidak\n",
      "ya tidak\n",
      "ya tidak\n",
      "ya tidak\n",
      "ya tidak\n",
      "ya tidak\n",
      "ya tidak\n",
      "ya tidak\n",
      "ya tidak\n",
      "ya tidak\n",
      "ya tidak\n",
      "ya tidak\n",
      "ya tidak\n",
      "ya tidak\n",
      "ya tidak\n",
      "ya tidak\n",
      "ya tidak\n",
      "ya tidak\n",
      "ya tidak\n",
      "ya tidak\n",
      "ya tidak\n",
      "ya tidak\n",
      "ya tidak\n",
      "ya tidak\n",
      "ya tidak\n",
      "ya tidak\n",
      "ya tidak\n",
      "ya tidak\n",
      "ya tidak\n",
      "ya tidak\n",
      "ya tidak\n",
      "ya tidak\n",
      "ya tidak\n",
      "ya tidak\n",
      "ya tidak\n",
      "ya tidak\n",
      "ya tidak\n",
      "ya tidak\n",
      "ya tidak\n",
      "ya tidak\n",
      "ya tidak\n",
      "ya tidak\n",
      "ya tidak\n",
      "ya tidak\n",
      "ya tidak\n",
      "ya tidak\n",
      "ya tidak\n",
      "ya tidak\n",
      "ya tidak\n",
      "ya tidak\n",
      "ya tidak\n",
      "ya tidak\n",
      "ya tidak\n",
      "ya tidak\n",
      "ya tidak\n",
      "ya tidak\n",
      "ya tidak\n",
      "ya tidak\n",
      "ya tidak\n",
      "ya tidak\n",
      "ya tidak\n",
      "ya tidak\n",
      "ya tidak\n",
      "ya tidak\n",
      "ya tidak\n",
      "ya tidak\n",
      "ya tidak\n",
      "ya tidak\n",
      "ya tidak\n",
      "ya tidak\n",
      "ya tidak\n",
      "ya tidak\n",
      "ya tidak\n",
      "ya tidak\n",
      "ya tidak\n",
      "ya tidak\n",
      "ya tidak\n",
      "ya tidak\n",
      "ya tidak\n",
      "ya tidak\n",
      "ya tidak\n",
      "ya tidak\n",
      "ya tidak\n",
      "ya tidak\n",
      "ya tidak\n",
      "ya tidak\n",
      "ya tidak\n",
      "ya tidak\n",
      "ya tidak\n",
      "ya tidak\n",
      "ya tidak\n",
      "ya tidak\n",
      "ya tidak\n",
      "ya tidak\n",
      "ya tidak\n",
      "ya tidak\n",
      "ya tidak\n",
      "ya tidak\n",
      "ya tidak\n",
      "ya tidak\n",
      "ya tidak\n",
      "ya tidak\n",
      "ya tidak\n",
      "ya tidak\n",
      "ya tidak\n",
      "ya tidak\n",
      "ya tidak\n",
      "ya tidak\n",
      "ya tidak\n",
      "ya tidak\n",
      "ya tidak\n",
      "ya tidak\n",
      "ya tidak\n",
      "ya tidak\n",
      "ya tidak\n",
      "ya tidak\n",
      "ya tidak\n",
      "ya tidak\n",
      "ya tidak\n",
      "ya tidak\n",
      "ya tidak\n",
      "ya tidak\n",
      "ya tidak\n",
      "ya tidak\n",
      "ya tidak\n",
      "ya tidak\n",
      "ya tidak\n",
      "ya tidak\n",
      "ya tidak\n",
      "ya tidak\n",
      "ya tidak\n",
      "ya tidak\n",
      "ya tidak\n",
      "ya tidak\n",
      "ya tidak\n",
      "ya tidak\n",
      "ya tidak\n",
      "ya tidak\n",
      "ya tidak\n",
      "ya tidak\n",
      "ya tidak\n",
      "ya tidak\n",
      "ya tidak\n",
      "ya tidak\n",
      "ya tidak\n",
      "ya tidak\n",
      "ya tidak\n",
      "ya tidak\n",
      "ya tidak\n",
      "ya tidak\n",
      "ya tidak\n",
      "ya tidak\n",
      "ya tidak\n",
      "ya tidak\n",
      "ya tidak\n",
      "ya tidak\n",
      "ya tidak\n",
      "ya tidak\n",
      "ya tidak\n",
      "ya tidak\n",
      "ya tidak\n",
      "ya tidak\n",
      "ya tidak\n",
      "ya tidak\n",
      "ya tidak\n",
      "ya tidak\n",
      "ya tidak\n",
      "ya tidak\n",
      "ya tidak\n",
      "ya tidak\n",
      "ya tidak\n",
      "ya tidak\n",
      "ya tidak\n",
      "ya tidak\n",
      "ya tidak\n",
      "ya tidak\n",
      "ya tidak\n",
      "ya tidak\n",
      "ya tidak\n",
      "ya tidak\n",
      "ya tidak\n",
      "ya tidak\n",
      "ya tidak\n",
      "ya tidak\n",
      "ya tidak\n",
      "ya tidak\n",
      "ya tidak\n",
      "ya tidak\n",
      "ya tidak\n",
      "ya tidak\n",
      "ya tidak\n",
      "ya tidak\n",
      "ya tidak\n",
      "ya tidak\n",
      "ya tidak\n",
      "ya tidak\n",
      "ya tidak\n",
      "ya tidak\n",
      "ya tidak\n",
      "ya tidak\n",
      "ya tidak\n",
      "ya tidak\n",
      "ya tidak\n",
      "ya tidak\n",
      "ya tidak\n",
      "ya tidak\n",
      "ya tidak\n",
      "ya tidak\n",
      "ya tidak\n",
      "ya tidak\n",
      "ya tidak\n",
      "ya tidak\n",
      "ya tidak\n",
      "ya tidak\n",
      "ya tidak\n",
      "ya tidak\n",
      "ya tidak\n",
      "ya tidak\n",
      "ya tidak\n",
      "ya tidak\n",
      "ya tidak\n",
      "ya tidak\n",
      "ya tidak\n",
      "ya tidak\n",
      "ya tidak\n",
      "ya tidak\n",
      "ya tidak\n",
      "ya tidak\n",
      "ya tidak\n",
      "ya tidak\n",
      "ya tidak\n",
      "ya tidak\n",
      "ya tidak\n",
      "ya tidak\n",
      "ya tidak\n",
      "ya tidak\n",
      "ya tidak\n",
      "ya tidak\n",
      "ya tidak\n",
      "ya tidak\n",
      "ya tidak\n",
      "ya tidak\n",
      "ya tidak\n",
      "ya tidak\n",
      "ya tidak\n",
      "ya tidak\n",
      "ya tidak\n",
      "ya tidak\n",
      "ya tidak\n",
      "ya tidak\n",
      "ya tidak\n",
      "ya tidak\n",
      "ya tidak\n",
      "ya tidak\n",
      "ya tidak\n",
      "ya tidak\n",
      "ya tidak\n",
      "ya tidak\n",
      "ya tidak\n",
      "ya tidak\n",
      "ya tidak\n",
      "ya tidak\n",
      "ya tidak\n",
      "ya tidak\n",
      "ya tidak\n",
      "ya tidak\n",
      "ya tidak\n",
      "ya tidak\n",
      "ya tidak\n",
      "ya tidak\n",
      "ya tidak\n",
      "ya tidak\n",
      "ya tidak\n",
      "ya tidak\n",
      "ya tidak\n",
      "ya tidak\n",
      "ya tidak\n",
      "ya tidak\n",
      "ya tidak\n",
      "ya tidak\n",
      "ya tidak\n",
      "ya tidak\n",
      "ya tidak\n",
      "tidak ya\n"
     ]
    }
   ],
   "source": [
    "for x in range(len(dataset['Covid-19'])):\n",
    "    if dataset['Covid-19'][x] == 'ya' or dataset['Omicron'][x] == 'ya': \n",
    "        print(dataset['Covid-19'][x], dataset['Omicron'][x])"
   ]
  },
  {
   "cell_type": "code",
   "execution_count": 54,
   "id": "d3c9abb7",
   "metadata": {},
   "outputs": [],
   "source": [
    "for x in range(len(dataset['Covid-19'])):\n",
    "    if dataset['Covid-19'][x] == 'ya' and dataset['Pneumonia'][x] == 'ya': \n",
    "        dataset['Pneumonia'][x] = 'tidak'"
   ]
  },
  {
   "cell_type": "code",
   "execution_count": 55,
   "id": "a9ec5d8a",
   "metadata": {},
   "outputs": [],
   "source": [
    "for x in range(len(dataset['Covid-19'])):\n",
    "    if dataset['Covid-19'][x] == 'ya' and dataset['Influenza'][x] == 'ya': \n",
    "        dataset['Influenza'][x] = 'tidak'"
   ]
  },
  {
   "cell_type": "code",
   "execution_count": 56,
   "id": "176124a6",
   "metadata": {},
   "outputs": [
    {
     "name": "stdout",
     "output_type": "stream",
     "text": [
      "338 542 253 151\n",
      "1284\n"
     ]
    }
   ],
   "source": [
    "# Value Counts for target\n",
    "vc_covid = dataset['Covid-19'].value_counts()\n",
    "vc_omicron = dataset['Omicron'].value_counts()\n",
    "vc_influenza = dataset['Influenza'].value_counts()\n",
    "vc_pneumonia = dataset['Pneumonia'].value_counts()\n",
    "\n",
    "# Value Counts for fitur\n",
    "vc_sakit_tenggorokan = dataset['SakitTenggorokan'].value_counts()\n",
    "vc_sesak_nafas = dataset['SesakNafas'].value_counts()\n",
    "vc_anosmia = dataset['Anosmia'].value_counts()\n",
    "vc_sakit_kepala = dataset['SakitKepala'].value_counts()\n",
    "\n",
    "total_dataset = 1283\n",
    "\n",
    "print(vc_covid['ya'], vc_omicron['ya'], vc_influenza['ya'], vc_pneumonia['ya'])\n",
    "print(vc_covid['ya']+ vc_omicron['ya']+ vc_influenza['ya']+ vc_pneumonia['ya'])"
   ]
  },
  {
   "cell_type": "code",
   "execution_count": 57,
   "id": "3bb342fa",
   "metadata": {},
   "outputs": [
    {
     "name": "stdout",
     "output_type": "stream",
     "text": [
      "persentase data pasien covid: 26.344505066250974%\n",
      "persentase data pasien omicron: 42.24473889321902%\n",
      "persentase data pasien influenza: 19.719407638347622%\n",
      "persentase data pasien pneumonia: 11.769290724863602%\n",
      "total persentase = 100.07794232268122%\n",
      "Persentase Covid-19 dengan nilai \"ya\" = 338 data, sedangkan persentase Covid-19 dengan nilai \"tidak\" = 946 data\n",
      "Persentase Omicron dengan nilai \"ya\" = 542 data, sedangkan persentase Omicron dengan nilai \"tidak\" = 742 data\n",
      "Persentase Influenza dengan nilai \"ya\" = 253 data, sedangkan persentase Influenza dengan nilai \"tidak\" = 1031 data\n",
      "Persentase Pneumonia dengan nilai \"ya\" = 151 data, sedangkan persentase Pneumonia dengan nilai \"tidak\" = 1133 data\n"
     ]
    }
   ],
   "source": [
    "persentage_covid= vc_covid['ya'] / total_dataset*100\n",
    "persentage_vc_omicron= vc_omicron['ya'] / total_dataset*100\n",
    "persentage_influenza= vc_influenza['ya'] / total_dataset*100\n",
    "persentage_pneumonia= vc_pneumonia['ya'] / total_dataset*100\n",
    "\n",
    "print(\"persentase data pasien covid: {}%\".format(persentage_covid))\n",
    "print(\"persentase data pasien omicron: {}%\".format(persentage_vc_omicron))\n",
    "print(\"persentase data pasien influenza: {}%\".format(persentage_influenza))\n",
    "print(\"persentase data pasien pneumonia: {}%\".format(persentage_pneumonia))\n",
    "\n",
    "total_persentase = persentage_covid+persentage_vc_omicron+persentage_influenza+persentage_pneumonia\n",
    "print(\"total persentase = {}%\".format(total_persentase))\n",
    "\n",
    "print('Persentase Covid-19 dengan nilai \"ya\" = {0} data, sedangkan persentase Covid-19 dengan nilai \"tidak\" = {1} data'.format(vc_covid['ya'], vc_covid['tidak']))\n",
    "print('Persentase Omicron dengan nilai \"ya\" = {0} data, sedangkan persentase Omicron dengan nilai \"tidak\" = {1} data'.format(vc_omicron['ya'], vc_omicron['tidak']))\n",
    "print('Persentase Influenza dengan nilai \"ya\" = {0} data, sedangkan persentase Influenza dengan nilai \"tidak\" = {1} data'.format(vc_influenza['ya'], vc_influenza['tidak']))\n",
    "print('Persentase Pneumonia dengan nilai \"ya\" = {0} data, sedangkan persentase Pneumonia dengan nilai \"tidak\" = {1} data'.format(vc_pneumonia['ya'], vc_pneumonia['tidak']))\n",
    "\n",
    "# print('persentase Covid-19 dengan nilai \"ya\" = {cov_ya} data, sedangkan persentase Covid-19 dengan nilai \"tidak\" = {cov_tid}'.format(cov_ya = vc_covid['ya'], cov_tid = vc_covid['tidak'])\n",
    "      \n",
    "#       vc_covid['ya'], vc_omicron['ya'], vc_influenza['ya'], vc_pneumonia['ya'], vc_covid['ya']+ vc_omicron['ya']+ vc_influenza['ya']+ vc_pneumonia['ya'], total_dataset"
   ]
  },
  {
   "cell_type": "code",
   "execution_count": 58,
   "id": "d544efa1",
   "metadata": {},
   "outputs": [
    {
     "data": {
      "image/png": "[encoded data removed]",
      "text/plain": [
       "<Figure size 720x504 with 1 Axes>"
      ]
     },
     "metadata": {},
     "output_type": "display_data"
    }
   ],
   "source": [
    "# Data Visualitaion for Data Percentage \n",
    "\n",
    "# Import libraries\n",
    "from matplotlib import pyplot as plt\n",
    "import numpy as np\n",
    " \n",
    " \n",
    "# Creating dataset\n",
    "target = ['Covid-19', 'Omicron', 'Influenza', 'Pneumonia']\n",
    " \n",
    "data = [vc_covid['ya'], vc_omicron['ya'], vc_influenza['ya'], vc_pneumonia['ya']]\n",
    "\n",
    "# Creating explode data\n",
    "explode = (0.0, 0.0, 0.0, 0.0)\n",
    "\n",
    "# Wedge properties\n",
    "wp = { 'linewidth' : 1, 'edgecolor' : \"green\" }\n",
    " \n",
    "# Creating autocpt arguments\n",
    "def func(pct, allvalues):\n",
    "    absolute = int(pct / 100.*np.sum(allvalues))\n",
    "    return \"{:.1f}%\\n({:d} Data)\".format(pct, absolute)\n",
    " \n",
    "# Creating plot\n",
    "fig, ax = plt.subplots(figsize =(10, 7))\n",
    "wedges, texts, autotexts = ax.pie(data,\n",
    "                                  autopct = lambda pct: func(pct, data),\n",
    "                                  explode = explode,\n",
    "                                  labels = target,\n",
    "                                  shadow = True,\n",
    "                                  startangle = 90,\n",
    "                                  wedgeprops = wp,\n",
    "                                  textprops = dict(color =\"Black\"))\n",
    " \n",
    "# Adding legend\n",
    "ax.legend(wedges, target,\n",
    "          title =\"Target\",\n",
    "          loc =\"center left\",\n",
    "          bbox_to_anchor =(1, 0.5, 0.5, 1))\n",
    " \n",
    "plt.setp(autotexts, size = 8, weight =\"bold\")\n",
    "ax.set_title(\"Jumlah Dataset Pasien\")\n",
    " \n",
    "# show plot\n",
    "plt.show()"
   ]
  },
  {
   "cell_type": "code",
   "execution_count": null,
   "id": "10239ce9",
   "metadata": {},
   "outputs": [],
   "source": []
  },
  {
   "cell_type": "markdown",
   "id": "00ce6be5",
   "metadata": {},
   "source": [
    "## 1. Data Pre-Processing\n",
    "    e. Integer Encoding"
   ]
  },
  {
   "cell_type": "markdown",
   "id": "c4f68c2b",
   "metadata": {},
   "source": [
    "### METHOD 1\n",
    "    Hot Encoding"
   ]
  },
  {
   "cell_type": "code",
   "execution_count": 59,
   "id": "be09cc8f",
   "metadata": {},
   "outputs": [
    {
     "data": {
      "text/plain": [
       "Batuk               object\n",
       "Pilek               object\n",
       "SakitTenggorokan    object\n",
       "SesakNafas          object\n",
       "Demam               object\n",
       "SakitKepala         object\n",
       "Lemas               object\n",
       "Anosmia             object\n",
       "Covid-19            object\n",
       "Omicron             object\n",
       "Influenza           object\n",
       "Pneumonia           object\n",
       "dtype: object"
      ]
     },
     "execution_count": 59,
     "metadata": {},
     "output_type": "execute_result"
    }
   ],
   "source": [
    "dataset.dtypes"
   ]
  },
  {
   "cell_type": "code",
   "execution_count": 60,
   "id": "3120e35d",
   "metadata": {},
   "outputs": [],
   "source": [
    "from sklearn.preprocessing import OneHotEncoder\n",
    "\n",
    "#creating instance of one-hot-encoder\n",
    "encoder = OneHotEncoder(handle_unknown='ignore')\n",
    "#perform one-hot encoding\n",
    "encoder_df = pd.DataFrame(encoder.fit_transform(dataset).toarray())"
   ]
  },
  {
   "cell_type": "code",
   "execution_count": 61,
   "id": "5e7372aa",
   "metadata": {},
   "outputs": [
    {
     "data": {
      "text/html": [
       "<div>\n",
       "<style scoped>\n",
       "    .dataframe tbody tr th:only-of-type {\n",
       "        vertical-align: middle;\n",
       "    }\n",
       "\n",
       "    .dataframe tbody tr th {\n",
       "        vertical-align: top;\n",
       "    }\n",
       "\n",
       "    .dataframe thead th {\n",
       "        text-align: right;\n",
       "    }\n",
       "</style>\n",
       "<table border=\"1\" class=\"dataframe\">\n",
       "  <thead>\n",
       "    <tr style=\"text-align: right;\">\n",
       "      <th></th>\n",
       "      <th>0</th>\n",
       "      <th>1</th>\n",
       "      <th>2</th>\n",
       "      <th>3</th>\n",
       "      <th>4</th>\n",
       "      <th>5</th>\n",
       "      <th>6</th>\n",
       "      <th>7</th>\n",
       "      <th>8</th>\n",
       "      <th>9</th>\n",
       "      <th>...</th>\n",
       "      <th>14</th>\n",
       "      <th>15</th>\n",
       "      <th>16</th>\n",
       "      <th>17</th>\n",
       "      <th>18</th>\n",
       "      <th>19</th>\n",
       "      <th>20</th>\n",
       "      <th>21</th>\n",
       "      <th>22</th>\n",
       "      <th>23</th>\n",
       "    </tr>\n",
       "  </thead>\n",
       "  <tbody>\n",
       "    <tr>\n",
       "      <th>0</th>\n",
       "      <td>0.0</td>\n",
       "      <td>1.0</td>\n",
       "      <td>0.0</td>\n",
       "      <td>1.0</td>\n",
       "      <td>0.0</td>\n",
       "      <td>1.0</td>\n",
       "      <td>0.0</td>\n",
       "      <td>1.0</td>\n",
       "      <td>0.0</td>\n",
       "      <td>1.0</td>\n",
       "      <td>...</td>\n",
       "      <td>1.0</td>\n",
       "      <td>0.0</td>\n",
       "      <td>1.0</td>\n",
       "      <td>0.0</td>\n",
       "      <td>0.0</td>\n",
       "      <td>1.0</td>\n",
       "      <td>1.0</td>\n",
       "      <td>0.0</td>\n",
       "      <td>1.0</td>\n",
       "      <td>0.0</td>\n",
       "    </tr>\n",
       "    <tr>\n",
       "      <th>1</th>\n",
       "      <td>0.0</td>\n",
       "      <td>1.0</td>\n",
       "      <td>0.0</td>\n",
       "      <td>1.0</td>\n",
       "      <td>0.0</td>\n",
       "      <td>1.0</td>\n",
       "      <td>0.0</td>\n",
       "      <td>1.0</td>\n",
       "      <td>0.0</td>\n",
       "      <td>1.0</td>\n",
       "      <td>...</td>\n",
       "      <td>0.0</td>\n",
       "      <td>1.0</td>\n",
       "      <td>1.0</td>\n",
       "      <td>0.0</td>\n",
       "      <td>0.0</td>\n",
       "      <td>1.0</td>\n",
       "      <td>1.0</td>\n",
       "      <td>0.0</td>\n",
       "      <td>1.0</td>\n",
       "      <td>0.0</td>\n",
       "    </tr>\n",
       "    <tr>\n",
       "      <th>2</th>\n",
       "      <td>0.0</td>\n",
       "      <td>1.0</td>\n",
       "      <td>0.0</td>\n",
       "      <td>1.0</td>\n",
       "      <td>0.0</td>\n",
       "      <td>1.0</td>\n",
       "      <td>0.0</td>\n",
       "      <td>1.0</td>\n",
       "      <td>0.0</td>\n",
       "      <td>1.0</td>\n",
       "      <td>...</td>\n",
       "      <td>0.0</td>\n",
       "      <td>1.0</td>\n",
       "      <td>1.0</td>\n",
       "      <td>0.0</td>\n",
       "      <td>0.0</td>\n",
       "      <td>1.0</td>\n",
       "      <td>1.0</td>\n",
       "      <td>0.0</td>\n",
       "      <td>1.0</td>\n",
       "      <td>0.0</td>\n",
       "    </tr>\n",
       "    <tr>\n",
       "      <th>3</th>\n",
       "      <td>0.0</td>\n",
       "      <td>1.0</td>\n",
       "      <td>0.0</td>\n",
       "      <td>1.0</td>\n",
       "      <td>0.0</td>\n",
       "      <td>1.0</td>\n",
       "      <td>0.0</td>\n",
       "      <td>1.0</td>\n",
       "      <td>0.0</td>\n",
       "      <td>1.0</td>\n",
       "      <td>...</td>\n",
       "      <td>0.0</td>\n",
       "      <td>1.0</td>\n",
       "      <td>1.0</td>\n",
       "      <td>0.0</td>\n",
       "      <td>0.0</td>\n",
       "      <td>1.0</td>\n",
       "      <td>1.0</td>\n",
       "      <td>0.0</td>\n",
       "      <td>1.0</td>\n",
       "      <td>0.0</td>\n",
       "    </tr>\n",
       "    <tr>\n",
       "      <th>4</th>\n",
       "      <td>0.0</td>\n",
       "      <td>1.0</td>\n",
       "      <td>0.0</td>\n",
       "      <td>1.0</td>\n",
       "      <td>1.0</td>\n",
       "      <td>0.0</td>\n",
       "      <td>0.0</td>\n",
       "      <td>1.0</td>\n",
       "      <td>0.0</td>\n",
       "      <td>1.0</td>\n",
       "      <td>...</td>\n",
       "      <td>0.0</td>\n",
       "      <td>1.0</td>\n",
       "      <td>1.0</td>\n",
       "      <td>0.0</td>\n",
       "      <td>0.0</td>\n",
       "      <td>1.0</td>\n",
       "      <td>1.0</td>\n",
       "      <td>0.0</td>\n",
       "      <td>1.0</td>\n",
       "      <td>0.0</td>\n",
       "    </tr>\n",
       "    <tr>\n",
       "      <th>...</th>\n",
       "      <td>...</td>\n",
       "      <td>...</td>\n",
       "      <td>...</td>\n",
       "      <td>...</td>\n",
       "      <td>...</td>\n",
       "      <td>...</td>\n",
       "      <td>...</td>\n",
       "      <td>...</td>\n",
       "      <td>...</td>\n",
       "      <td>...</td>\n",
       "      <td>...</td>\n",
       "      <td>...</td>\n",
       "      <td>...</td>\n",
       "      <td>...</td>\n",
       "      <td>...</td>\n",
       "      <td>...</td>\n",
       "      <td>...</td>\n",
       "      <td>...</td>\n",
       "      <td>...</td>\n",
       "      <td>...</td>\n",
       "      <td>...</td>\n",
       "    </tr>\n",
       "    <tr>\n",
       "      <th>1279</th>\n",
       "      <td>1.0</td>\n",
       "      <td>0.0</td>\n",
       "      <td>1.0</td>\n",
       "      <td>0.0</td>\n",
       "      <td>0.0</td>\n",
       "      <td>1.0</td>\n",
       "      <td>0.0</td>\n",
       "      <td>1.0</td>\n",
       "      <td>1.0</td>\n",
       "      <td>0.0</td>\n",
       "      <td>...</td>\n",
       "      <td>1.0</td>\n",
       "      <td>0.0</td>\n",
       "      <td>1.0</td>\n",
       "      <td>0.0</td>\n",
       "      <td>1.0</td>\n",
       "      <td>0.0</td>\n",
       "      <td>1.0</td>\n",
       "      <td>0.0</td>\n",
       "      <td>0.0</td>\n",
       "      <td>1.0</td>\n",
       "    </tr>\n",
       "    <tr>\n",
       "      <th>1280</th>\n",
       "      <td>1.0</td>\n",
       "      <td>0.0</td>\n",
       "      <td>1.0</td>\n",
       "      <td>0.0</td>\n",
       "      <td>0.0</td>\n",
       "      <td>1.0</td>\n",
       "      <td>0.0</td>\n",
       "      <td>1.0</td>\n",
       "      <td>1.0</td>\n",
       "      <td>0.0</td>\n",
       "      <td>...</td>\n",
       "      <td>1.0</td>\n",
       "      <td>0.0</td>\n",
       "      <td>1.0</td>\n",
       "      <td>0.0</td>\n",
       "      <td>1.0</td>\n",
       "      <td>0.0</td>\n",
       "      <td>1.0</td>\n",
       "      <td>0.0</td>\n",
       "      <td>0.0</td>\n",
       "      <td>1.0</td>\n",
       "    </tr>\n",
       "    <tr>\n",
       "      <th>1281</th>\n",
       "      <td>1.0</td>\n",
       "      <td>0.0</td>\n",
       "      <td>1.0</td>\n",
       "      <td>0.0</td>\n",
       "      <td>0.0</td>\n",
       "      <td>1.0</td>\n",
       "      <td>0.0</td>\n",
       "      <td>1.0</td>\n",
       "      <td>1.0</td>\n",
       "      <td>0.0</td>\n",
       "      <td>...</td>\n",
       "      <td>1.0</td>\n",
       "      <td>0.0</td>\n",
       "      <td>1.0</td>\n",
       "      <td>0.0</td>\n",
       "      <td>1.0</td>\n",
       "      <td>0.0</td>\n",
       "      <td>1.0</td>\n",
       "      <td>0.0</td>\n",
       "      <td>0.0</td>\n",
       "      <td>1.0</td>\n",
       "    </tr>\n",
       "    <tr>\n",
       "      <th>1282</th>\n",
       "      <td>0.0</td>\n",
       "      <td>1.0</td>\n",
       "      <td>1.0</td>\n",
       "      <td>0.0</td>\n",
       "      <td>1.0</td>\n",
       "      <td>0.0</td>\n",
       "      <td>1.0</td>\n",
       "      <td>0.0</td>\n",
       "      <td>0.0</td>\n",
       "      <td>1.0</td>\n",
       "      <td>...</td>\n",
       "      <td>0.0</td>\n",
       "      <td>1.0</td>\n",
       "      <td>1.0</td>\n",
       "      <td>0.0</td>\n",
       "      <td>1.0</td>\n",
       "      <td>0.0</td>\n",
       "      <td>1.0</td>\n",
       "      <td>0.0</td>\n",
       "      <td>1.0</td>\n",
       "      <td>0.0</td>\n",
       "    </tr>\n",
       "    <tr>\n",
       "      <th>1283</th>\n",
       "      <td>0.0</td>\n",
       "      <td>1.0</td>\n",
       "      <td>0.0</td>\n",
       "      <td>1.0</td>\n",
       "      <td>0.0</td>\n",
       "      <td>1.0</td>\n",
       "      <td>1.0</td>\n",
       "      <td>0.0</td>\n",
       "      <td>1.0</td>\n",
       "      <td>0.0</td>\n",
       "      <td>...</td>\n",
       "      <td>1.0</td>\n",
       "      <td>0.0</td>\n",
       "      <td>1.0</td>\n",
       "      <td>0.0</td>\n",
       "      <td>0.0</td>\n",
       "      <td>1.0</td>\n",
       "      <td>0.0</td>\n",
       "      <td>1.0</td>\n",
       "      <td>1.0</td>\n",
       "      <td>0.0</td>\n",
       "    </tr>\n",
       "  </tbody>\n",
       "</table>\n",
       "<p>1284 rows × 24 columns</p>\n",
       "</div>"
      ],
      "text/plain": [
       "       0    1    2    3    4    5    6    7    8    9   ...   14   15   16  \\\n",
       "0     0.0  1.0  0.0  1.0  0.0  1.0  0.0  1.0  0.0  1.0  ...  1.0  0.0  1.0   \n",
       "1     0.0  1.0  0.0  1.0  0.0  1.0  0.0  1.0  0.0  1.0  ...  0.0  1.0  1.0   \n",
       "2     0.0  1.0  0.0  1.0  0.0  1.0  0.0  1.0  0.0  1.0  ...  0.0  1.0  1.0   \n",
       "3     0.0  1.0  0.0  1.0  0.0  1.0  0.0  1.0  0.0  1.0  ...  0.0  1.0  1.0   \n",
       "4     0.0  1.0  0.0  1.0  1.0  0.0  0.0  1.0  0.0  1.0  ...  0.0  1.0  1.0   \n",
       "...   ...  ...  ...  ...  ...  ...  ...  ...  ...  ...  ...  ...  ...  ...   \n",
       "1279  1.0  0.0  1.0  0.0  0.0  1.0  0.0  1.0  1.0  0.0  ...  1.0  0.0  1.0   \n",
       "1280  1.0  0.0  1.0  0.0  0.0  1.0  0.0  1.0  1.0  0.0  ...  1.0  0.0  1.0   \n",
       "1281  1.0  0.0  1.0  0.0  0.0  1.0  0.0  1.0  1.0  0.0  ...  1.0  0.0  1.0   \n",
       "1282  0.0  1.0  1.0  0.0  1.0  0.0  1.0  0.0  0.0  1.0  ...  0.0  1.0  1.0   \n",
       "1283  0.0  1.0  0.0  1.0  0.0  1.0  1.0  0.0  1.0  0.0  ...  1.0  0.0  1.0   \n",
       "\n",
       "       17   18   19   20   21   22   23  \n",
       "0     0.0  0.0  1.0  1.0  0.0  1.0  0.0  \n",
       "1     0.0  0.0  1.0  1.0  0.0  1.0  0.0  \n",
       "2     0.0  0.0  1.0  1.0  0.0  1.0  0.0  \n",
       "3     0.0  0.0  1.0  1.0  0.0  1.0  0.0  \n",
       "4     0.0  0.0  1.0  1.0  0.0  1.0  0.0  \n",
       "...   ...  ...  ...  ...  ...  ...  ...  \n",
       "1279  0.0  1.0  0.0  1.0  0.0  0.0  1.0  \n",
       "1280  0.0  1.0  0.0  1.0  0.0  0.0  1.0  \n",
       "1281  0.0  1.0  0.0  1.0  0.0  0.0  1.0  \n",
       "1282  0.0  1.0  0.0  1.0  0.0  1.0  0.0  \n",
       "1283  0.0  0.0  1.0  0.0  1.0  1.0  0.0  \n",
       "\n",
       "[1284 rows x 24 columns]"
      ]
     },
     "execution_count": 61,
     "metadata": {},
     "output_type": "execute_result"
    }
   ],
   "source": [
    "encoder_df"
   ]
  },
  {
   "cell_type": "code",
   "execution_count": 62,
   "id": "e680ada8",
   "metadata": {},
   "outputs": [
    {
     "data": {
      "text/plain": [
       "(1284, 24)"
      ]
     },
     "execution_count": 62,
     "metadata": {},
     "output_type": "execute_result"
    }
   ],
   "source": [
    "encoder_df.shape"
   ]
  },
  {
   "cell_type": "markdown",
   "id": "4b798955",
   "metadata": {},
   "source": [
    "### Method 2\n",
    "    Label Encoder\n",
    "    "
   ]
  },
  {
   "cell_type": "code",
   "execution_count": 63,
   "id": "8a4ad91f",
   "metadata": {},
   "outputs": [],
   "source": [
    "from sklearn.preprocessing import LabelEncoder"
   ]
  },
  {
   "cell_type": "code",
   "execution_count": 64,
   "id": "377aa702",
   "metadata": {},
   "outputs": [],
   "source": [
    "le = LabelEncoder()\n",
    "fitur_trg = ['Batuk', 'Pilek', 'SakitTenggorokan', 'SesakNafas', 'Demam', \n",
    "                   'SakitKepala', 'Lemas', 'Anosmia', 'Covid-19', 'Omicron', 'Influenza', 'Pneumonia'] \n",
    "for x in fitur_trg:\n",
    "    dataset[x] = le.fit_transform(dataset[x])"
   ]
  },
  {
   "cell_type": "code",
   "execution_count": 65,
   "id": "49c13194",
   "metadata": {},
   "outputs": [
    {
     "data": {
      "text/html": [
       "<div>\n",
       "<style scoped>\n",
       "    .dataframe tbody tr th:only-of-type {\n",
       "        vertical-align: middle;\n",
       "    }\n",
       "\n",
       "    .dataframe tbody tr th {\n",
       "        vertical-align: top;\n",
       "    }\n",
       "\n",
       "    .dataframe thead th {\n",
       "        text-align: right;\n",
       "    }\n",
       "</style>\n",
       "<table border=\"1\" class=\"dataframe\">\n",
       "  <thead>\n",
       "    <tr style=\"text-align: right;\">\n",
       "      <th></th>\n",
       "      <th>Batuk</th>\n",
       "      <th>Pilek</th>\n",
       "      <th>SakitTenggorokan</th>\n",
       "      <th>SesakNafas</th>\n",
       "      <th>Demam</th>\n",
       "      <th>SakitKepala</th>\n",
       "      <th>Lemas</th>\n",
       "      <th>Anosmia</th>\n",
       "      <th>Covid-19</th>\n",
       "      <th>Omicron</th>\n",
       "      <th>Influenza</th>\n",
       "      <th>Pneumonia</th>\n",
       "    </tr>\n",
       "  </thead>\n",
       "  <tbody>\n",
       "    <tr>\n",
       "      <th>0</th>\n",
       "      <td>1</td>\n",
       "      <td>1</td>\n",
       "      <td>1</td>\n",
       "      <td>1</td>\n",
       "      <td>1</td>\n",
       "      <td>1</td>\n",
       "      <td>1</td>\n",
       "      <td>0</td>\n",
       "      <td>0</td>\n",
       "      <td>1</td>\n",
       "      <td>0</td>\n",
       "      <td>0</td>\n",
       "    </tr>\n",
       "    <tr>\n",
       "      <th>1</th>\n",
       "      <td>1</td>\n",
       "      <td>1</td>\n",
       "      <td>1</td>\n",
       "      <td>1</td>\n",
       "      <td>1</td>\n",
       "      <td>1</td>\n",
       "      <td>1</td>\n",
       "      <td>1</td>\n",
       "      <td>0</td>\n",
       "      <td>1</td>\n",
       "      <td>0</td>\n",
       "      <td>0</td>\n",
       "    </tr>\n",
       "    <tr>\n",
       "      <th>2</th>\n",
       "      <td>1</td>\n",
       "      <td>1</td>\n",
       "      <td>1</td>\n",
       "      <td>1</td>\n",
       "      <td>1</td>\n",
       "      <td>1</td>\n",
       "      <td>1</td>\n",
       "      <td>1</td>\n",
       "      <td>0</td>\n",
       "      <td>1</td>\n",
       "      <td>0</td>\n",
       "      <td>0</td>\n",
       "    </tr>\n",
       "  </tbody>\n",
       "</table>\n",
       "</div>"
      ],
      "text/plain": [
       "   Batuk  Pilek  SakitTenggorokan  SesakNafas  Demam  SakitKepala  Lemas  \\\n",
       "0      1      1                 1           1      1            1      1   \n",
       "1      1      1                 1           1      1            1      1   \n",
       "2      1      1                 1           1      1            1      1   \n",
       "\n",
       "   Anosmia  Covid-19  Omicron  Influenza  Pneumonia  \n",
       "0        0         0        1          0          0  \n",
       "1        1         0        1          0          0  \n",
       "2        1         0        1          0          0  "
      ]
     },
     "execution_count": 65,
     "metadata": {},
     "output_type": "execute_result"
    }
   ],
   "source": [
    "dataset.head(3)"
   ]
  },
  {
   "cell_type": "code",
   "execution_count": 66,
   "id": "5996a0a2",
   "metadata": {},
   "outputs": [
    {
     "data": {
      "text/plain": [
       "(1284, 12)"
      ]
     },
     "execution_count": 66,
     "metadata": {},
     "output_type": "execute_result"
    }
   ],
   "source": [
    "dataset.shape"
   ]
  },
  {
   "cell_type": "code",
   "execution_count": 67,
   "id": "486bb3ba",
   "metadata": {},
   "outputs": [
    {
     "data": {
      "text/plain": [
       "1    924\n",
       "0    360\n",
       "Name: Batuk, dtype: int64"
      ]
     },
     "execution_count": 67,
     "metadata": {},
     "output_type": "execute_result"
    }
   ],
   "source": [
    "dataset['Batuk'].value_counts()"
   ]
  },
  {
   "cell_type": "code",
   "execution_count": 68,
   "id": "6edbdb7d",
   "metadata": {},
   "outputs": [
    {
     "data": {
      "text/plain": [
       "0    775\n",
       "1    509\n",
       "Name: SakitTenggorokan, dtype: int64"
      ]
     },
     "execution_count": 68,
     "metadata": {},
     "output_type": "execute_result"
    }
   ],
   "source": [
    "dataset['SakitTenggorokan'].value_counts()"
   ]
  },
  {
   "cell_type": "code",
   "execution_count": 69,
   "id": "509bb807",
   "metadata": {},
   "outputs": [
    {
     "data": {
      "text/plain": [
       "0    959\n",
       "1    325\n",
       "Name: SesakNafas, dtype: int64"
      ]
     },
     "execution_count": 69,
     "metadata": {},
     "output_type": "execute_result"
    }
   ],
   "source": [
    "dataset['SesakNafas'].value_counts()"
   ]
  },
  {
   "cell_type": "code",
   "execution_count": 70,
   "id": "c9e26ed7",
   "metadata": {},
   "outputs": [
    {
     "data": {
      "text/plain": [
       "0    751\n",
       "1    533\n",
       "Name: Demam, dtype: int64"
      ]
     },
     "execution_count": 70,
     "metadata": {},
     "output_type": "execute_result"
    }
   ],
   "source": [
    "dataset['Demam'].value_counts()"
   ]
  },
  {
   "cell_type": "code",
   "execution_count": 71,
   "id": "5ed8e339",
   "metadata": {},
   "outputs": [
    {
     "data": {
      "text/plain": [
       "0    856\n",
       "1    428\n",
       "Name: SakitKepala, dtype: int64"
      ]
     },
     "execution_count": 71,
     "metadata": {},
     "output_type": "execute_result"
    }
   ],
   "source": [
    "dataset['SakitKepala'].value_counts()"
   ]
  },
  {
   "cell_type": "code",
   "execution_count": 72,
   "id": "d905b7f2",
   "metadata": {},
   "outputs": [
    {
     "data": {
      "text/plain": [
       "1    707\n",
       "0    577\n",
       "Name: Lemas, dtype: int64"
      ]
     },
     "execution_count": 72,
     "metadata": {},
     "output_type": "execute_result"
    }
   ],
   "source": [
    "dataset['Lemas'].value_counts()"
   ]
  },
  {
   "cell_type": "code",
   "execution_count": 73,
   "id": "855ca5b0",
   "metadata": {},
   "outputs": [
    {
     "data": {
      "text/plain": [
       "0    706\n",
       "1    578\n",
       "Name: Anosmia, dtype: int64"
      ]
     },
     "execution_count": 73,
     "metadata": {},
     "output_type": "execute_result"
    }
   ],
   "source": [
    "dataset['Anosmia'].value_counts()"
   ]
  },
  {
   "cell_type": "code",
   "execution_count": 74,
   "id": "7c0d08a4",
   "metadata": {},
   "outputs": [
    {
     "data": {
      "text/plain": [
       "0    946\n",
       "1    338\n",
       "Name: Covid-19, dtype: int64"
      ]
     },
     "execution_count": 74,
     "metadata": {},
     "output_type": "execute_result"
    }
   ],
   "source": [
    "dataset['Covid-19'].value_counts()"
   ]
  },
  {
   "cell_type": "code",
   "execution_count": 75,
   "id": "a9189ea3",
   "metadata": {},
   "outputs": [
    {
     "data": {
      "text/plain": [
       "0    742\n",
       "1    542\n",
       "Name: Omicron, dtype: int64"
      ]
     },
     "execution_count": 75,
     "metadata": {},
     "output_type": "execute_result"
    }
   ],
   "source": [
    "dataset['Omicron'].value_counts()"
   ]
  },
  {
   "cell_type": "code",
   "execution_count": 76,
   "id": "bc050d50",
   "metadata": {},
   "outputs": [
    {
     "data": {
      "text/plain": [
       "0    1031\n",
       "1     253\n",
       "Name: Influenza, dtype: int64"
      ]
     },
     "execution_count": 76,
     "metadata": {},
     "output_type": "execute_result"
    }
   ],
   "source": [
    "dataset['Influenza'].value_counts()"
   ]
  },
  {
   "cell_type": "code",
   "execution_count": 77,
   "id": "f64c4e3b",
   "metadata": {},
   "outputs": [
    {
     "data": {
      "text/plain": [
       "0    1133\n",
       "1     151\n",
       "Name: Pneumonia, dtype: int64"
      ]
     },
     "execution_count": 77,
     "metadata": {},
     "output_type": "execute_result"
    }
   ],
   "source": [
    "dataset['Pneumonia'].value_counts()"
   ]
  },
  {
   "cell_type": "code",
   "execution_count": 78,
   "id": "d335e3cc",
   "metadata": {},
   "outputs": [
    {
     "data": {
      "text/plain": [
       "Batuk               0\n",
       "Pilek               0\n",
       "SakitTenggorokan    0\n",
       "SesakNafas          0\n",
       "Demam               0\n",
       "SakitKepala         0\n",
       "Lemas               0\n",
       "Anosmia             0\n",
       "Covid-19            0\n",
       "Omicron             0\n",
       "Influenza           0\n",
       "Pneumonia           0\n",
       "dtype: int64"
      ]
     },
     "execution_count": 78,
     "metadata": {},
     "output_type": "execute_result"
    }
   ],
   "source": [
    "dataset.isnull().sum()"
   ]
  },
  {
   "cell_type": "markdown",
   "id": "3bce1ea0",
   "metadata": {},
   "source": [
    "## 2. Implementation Random Forest Algorithm\n",
    "    a. Extracting Independent and Dependent Values"
   ]
  },
  {
   "cell_type": "code",
   "execution_count": 162,
   "id": "4875e30d",
   "metadata": {},
   "outputs": [],
   "source": [
    "x= dataset.iloc[:, [0, 1, 2, 3, 4, 5, 6, 7]].values "
   ]
  },
  {
   "cell_type": "code",
   "execution_count": 163,
   "id": "82888db5",
   "metadata": {},
   "outputs": [
    {
     "data": {
      "text/plain": [
       "array([[1, 1, 1, ..., 1, 1, 0],\n",
       "       [1, 1, 1, ..., 1, 1, 1],\n",
       "       [1, 1, 1, ..., 1, 1, 1],\n",
       "       ...,\n",
       "       [0, 0, 1, ..., 0, 0, 0],\n",
       "       [1, 0, 0, ..., 0, 0, 1],\n",
       "       [1, 1, 1, ..., 0, 0, 0]])"
      ]
     },
     "execution_count": 163,
     "metadata": {},
     "output_type": "execute_result"
    }
   ],
   "source": [
    "x"
   ]
  },
  {
   "cell_type": "code",
   "execution_count": 164,
   "id": "0d7e56f3",
   "metadata": {},
   "outputs": [],
   "source": [
    "y = dataset.iloc[:, [8, 9, 10, 11]].values"
   ]
  },
  {
   "cell_type": "code",
   "execution_count": 165,
   "id": "e12a1822",
   "metadata": {},
   "outputs": [
    {
     "data": {
      "text/plain": [
       "array([[0, 1, 0, 0],\n",
       "       [0, 1, 0, 0],\n",
       "       [0, 1, 0, 0],\n",
       "       ...,\n",
       "       [0, 0, 0, 1],\n",
       "       [0, 0, 0, 0],\n",
       "       [0, 1, 1, 0]])"
      ]
     },
     "execution_count": 165,
     "metadata": {},
     "output_type": "execute_result"
    }
   ],
   "source": [
    "y"
   ]
  },
  {
   "cell_type": "markdown",
   "id": "90a04ab3",
   "metadata": {},
   "source": [
    "## 2. Implementation Random Forest Algorithm\n",
    "    b. Split dataset to train and test set"
   ]
  },
  {
   "cell_type": "code",
   "execution_count": 166,
   "id": "1e682bf5",
   "metadata": {},
   "outputs": [],
   "source": [
    "from sklearn.model_selection import train_test_split\n",
    "x_train, x_test, y_train, y_test= train_test_split(x, y, test_size= 0.20, random_state= None) "
   ]
  },
  {
   "cell_type": "code",
   "execution_count": 167,
   "id": "740f059d",
   "metadata": {},
   "outputs": [
    {
     "data": {
      "text/plain": [
       "((1027, 8), (257, 8), (1027, 4), (257, 4))"
      ]
     },
     "execution_count": 167,
     "metadata": {},
     "output_type": "execute_result"
    }
   ],
   "source": [
    "x_train.shape, x_test.shape, y_train.shape, y_test.shape"
   ]
  },
  {
   "cell_type": "code",
   "execution_count": 168,
   "id": "79201ceb",
   "metadata": {},
   "outputs": [
    {
     "data": {
      "text/plain": [
       "array([2, 1, 1, ..., 0, 0, 2])"
      ]
     },
     "execution_count": 168,
     "metadata": {},
     "output_type": "execute_result"
    }
   ],
   "source": [
    "y_train.argmax(axis=1)"
   ]
  },
  {
   "cell_type": "code",
   "execution_count": 169,
   "id": "7df007b1",
   "metadata": {},
   "outputs": [
    {
     "data": {
      "text/plain": [
       "array([[1, 0, 0, 0],\n",
       "       [0, 1, 0, 0],\n",
       "       [1, 0, 0, 0],\n",
       "       ...,\n",
       "       [1, 0, 0, 0],\n",
       "       [0, 0, 0, 1],\n",
       "       [0, 1, 0, 0]])"
      ]
     },
     "execution_count": 169,
     "metadata": {},
     "output_type": "execute_result"
    }
   ],
   "source": [
    "y_test"
   ]
  },
  {
   "cell_type": "code",
   "execution_count": 170,
   "id": "a15b92bd",
   "metadata": {},
   "outputs": [
    {
     "data": {
      "image/png": "[encoded data removed]",
      "text/plain": [
       "<Figure size 720x504 with 1 Axes>"
      ]
     },
     "metadata": {},
     "output_type": "display_data"
    }
   ],
   "source": [
    "# Data Visualitaion for Data Percentage \n",
    "\n",
    "# Import libraries\n",
    "from matplotlib import pyplot as plt\n",
    "import numpy as np\n",
    " \n",
    " \n",
    "# Creating dataset\n",
    "target = ['Data Train', 'Data Test']\n",
    " \n",
    "data = [total_dataset*80/100, total_dataset*20/100]\n",
    "\n",
    "# Creating explode data\n",
    "explode = (0.0, 0.0)\n",
    "\n",
    "# Wedge properties\n",
    "wp = { 'linewidth' : 1, 'edgecolor' : \"green\" }\n",
    " \n",
    "# Creating autocpt arguments\n",
    "def func(pct, allvalues):\n",
    "    absolute = int(pct / 100.*np.sum(allvalues))\n",
    "    return \"{:.1f}%\\n({:d} Data)\".format(pct, absolute)\n",
    " \n",
    "# Creating plot\n",
    "fig, ax = plt.subplots(figsize =(10, 7))\n",
    "wedges, texts, autotexts = ax.pie(data,\n",
    "                                  autopct = lambda pct: func(pct, data),\n",
    "                                  explode = explode,\n",
    "                                  labels = target,\n",
    "                                  shadow = True,\n",
    "                                  startangle = 90,\n",
    "                                  wedgeprops = wp,\n",
    "                                  textprops = dict(color =\"Black\"))\n",
    " \n",
    "# Adding legend\n",
    "ax.legend(wedges, target,\n",
    "          title =\"\",\n",
    "          loc =\"center left\",\n",
    "          bbox_to_anchor =(1, 0.5, 0.5, 1))\n",
    " \n",
    "plt.setp(autotexts, size = 8, weight =\"bold\")\n",
    "ax.set_title(\"Perbandingan Pembagian Data\")\n",
    " \n",
    "# show plot\n",
    "plt.show()"
   ]
  },
  {
   "cell_type": "code",
   "execution_count": 171,
   "id": "96cd1961",
   "metadata": {},
   "outputs": [
    {
     "data": {
      "text/plain": [
       "(273, 441, 198, 115)"
      ]
     },
     "execution_count": 171,
     "metadata": {},
     "output_type": "execute_result"
    }
   ],
   "source": [
    "covid_data = np.count_nonzero(y_train.argmax(axis=1) == 0)\n",
    "omicron_data = np.count_nonzero(y_train.argmax(axis=1) == 1)\n",
    "influenza_data = np.count_nonzero(y_train.argmax(axis=1) == 2)\n",
    "pneumonia_data = np.count_nonzero(y_train.argmax(axis=1) == 3)\n",
    "\n",
    "covid_data, omicron_data, influenza_data, pneumonia_data"
   ]
  },
  {
   "cell_type": "code",
   "execution_count": 172,
   "id": "e442f82d",
   "metadata": {},
   "outputs": [
    {
     "data": {
      "image/png": "[encoded data removed]",
      "text/plain": [
       "<Figure size 720x504 with 1 Axes>"
      ]
     },
     "metadata": {},
     "output_type": "display_data"
    }
   ],
   "source": [
    "# Training Data Value Visualitaion for Data Percentage \n",
    "\n",
    "# Import libraries\n",
    "from matplotlib import pyplot as plt\n",
    "import numpy as np\n",
    " \n",
    " \n",
    "# Creating dataset\n",
    "target = ['Covid Data Train', 'Omicron Data Train', 'Influenza Data Train', 'Pneumonia Data Train']\n",
    " \n",
    "data = [covid_data, omicron_data, influenza_data, pneumonia_data]\n",
    "\n",
    "# Creating explode data\n",
    "explode = (0.0, 0.0, 0.0, 0.0)\n",
    "\n",
    "# Wedge properties\n",
    "wp = { 'linewidth' : 1, 'edgecolor' : \"green\" }\n",
    " \n",
    "# Creating autocpt arguments\n",
    "def func(pct, allvalues):\n",
    "    absolute = int(pct / 100.*np.sum(allvalues))\n",
    "    return \"{:.1f}%\\n({:d} Data)\".format(pct, absolute)\n",
    " \n",
    "# Creating plot\n",
    "fig, ax = plt.subplots(figsize =(10, 7))\n",
    "wedges, texts, autotexts = ax.pie(data,\n",
    "                                  autopct = lambda pct: func(pct, data),\n",
    "                                  explode = explode,\n",
    "                                  labels = target,\n",
    "                                  shadow = True,\n",
    "                                  startangle = 90,\n",
    "                                  wedgeprops = wp,\n",
    "                                  textprops = dict(color =\"Black\"))\n",
    " \n",
    "# Adding legend\n",
    "ax.legend(wedges, target,\n",
    "          title =\"\",\n",
    "          loc =\"center left\",\n",
    "          bbox_to_anchor =(1, 0.5, 0.5, 1))\n",
    " \n",
    "plt.setp(autotexts, size = 8, weight =\"bold\")\n",
    "ax.set_title(\"Perbandingan Pembagian Data Train Untuk Setiap Target\")\n",
    " \n",
    "# show plot\n",
    "plt.show()"
   ]
  },
  {
   "cell_type": "markdown",
   "id": "da582f60",
   "metadata": {},
   "source": [
    "#### n_estimators for thesis is: 10, 20, 50, 100\n",
    "#### max_features= 8 \n",
    "#### max_depth= 4, 5, none\n",
    "#### criterion= entropy"
   ]
  },
  {
   "cell_type": "code",
   "execution_count": 265,
   "id": "a832ac00",
   "metadata": {},
   "outputs": [
    {
     "data": {
      "text/plain": [
       "RandomForestClassifier(criterion='entropy', max_features=8, n_estimators=20)"
      ]
     },
     "execution_count": 265,
     "metadata": {},
     "output_type": "execute_result"
    }
   ],
   "source": [
    "from sklearn.ensemble import RandomForestClassifier  \n",
    "classifier= RandomForestClassifier(n_estimators = 20, criterion=\"entropy\", max_features= 8, max_depth = None)  \n",
    "classifier= classifier.fit(x_train, y_train) \n",
    "classifier"
   ]
  },
  {
   "cell_type": "code",
   "execution_count": 266,
   "id": "3e0e99b3",
   "metadata": {},
   "outputs": [],
   "source": [
    "y_pred= classifier.predict(x_test) "
   ]
  },
  {
   "cell_type": "code",
   "execution_count": 267,
   "id": "67e7524c",
   "metadata": {},
   "outputs": [
    {
     "data": {
      "text/plain": [
       "(array([[1, 1, 0, ..., 0, 0, 0],\n",
       "        [0, 0, 1, ..., 1, 1, 1],\n",
       "        [1, 1, 1, ..., 1, 1, 1],\n",
       "        ...,\n",
       "        [1, 1, 1, ..., 0, 1, 1],\n",
       "        [1, 1, 1, ..., 0, 1, 1],\n",
       "        [0, 0, 1, ..., 1, 0, 0]]),\n",
       " array([[0, 1, 1, ..., 1, 1, 1],\n",
       "        [0, 0, 0, ..., 0, 0, 1],\n",
       "        [1, 1, 1, ..., 1, 1, 1],\n",
       "        ...,\n",
       "        [1, 1, 0, ..., 0, 1, 1],\n",
       "        [1, 1, 0, ..., 0, 1, 0],\n",
       "        [1, 1, 1, ..., 1, 1, 1]]))"
      ]
     },
     "execution_count": 267,
     "metadata": {},
     "output_type": "execute_result"
    }
   ],
   "source": [
    "x_train, x_test"
   ]
  },
  {
   "cell_type": "code",
   "execution_count": 288,
   "id": "c29f9a33",
   "metadata": {},
   "outputs": [
    {
     "data": {
      "text/plain": [
       "array([[0, 0, 1, 0],\n",
       "       [0, 1, 0, 0],\n",
       "       [0, 1, 0, 0],\n",
       "       ...,\n",
       "       [1, 0, 0, 0],\n",
       "       [1, 0, 0, 0],\n",
       "       [0, 0, 1, 0]])"
      ]
     },
     "execution_count": 288,
     "metadata": {},
     "output_type": "execute_result"
    }
   ],
   "source": [
    "y_train"
   ]
  },
  {
   "cell_type": "code",
   "execution_count": 268,
   "id": "a46ac1ac",
   "metadata": {},
   "outputs": [
    {
     "data": {
      "text/plain": [
       "(array([[1, 0, 0, 0],\n",
       "        [0, 1, 0, 0],\n",
       "        [1, 0, 0, 0],\n",
       "        ...,\n",
       "        [0, 1, 0, 0],\n",
       "        [0, 0, 0, 1],\n",
       "        [0, 1, 0, 0]]),\n",
       " array([[1, 0, 0, 0],\n",
       "        [0, 1, 0, 0],\n",
       "        [1, 0, 0, 0],\n",
       "        ...,\n",
       "        [1, 0, 0, 0],\n",
       "        [0, 0, 0, 1],\n",
       "        [0, 1, 0, 0]]))"
      ]
     },
     "execution_count": 268,
     "metadata": {},
     "output_type": "execute_result"
    }
   ],
   "source": [
    "y_pred, y_test"
   ]
  },
  {
   "cell_type": "code",
   "execution_count": 285,
   "id": "6c9accc2",
   "metadata": {},
   "outputs": [
    {
     "data": {
      "text/plain": [
       "array([[1, 0, 0, 0],\n",
       "       [0, 1, 0, 0],\n",
       "       [1, 0, 0, 0],\n",
       "       ...,\n",
       "       [0, 1, 0, 0],\n",
       "       [0, 0, 0, 1],\n",
       "       [0, 1, 0, 0]])"
      ]
     },
     "execution_count": 285,
     "metadata": {},
     "output_type": "execute_result"
    }
   ],
   "source": [
    "y_pred"
   ]
  },
  {
   "cell_type": "code",
   "execution_count": 269,
   "id": "c8b81ef5",
   "metadata": {},
   "outputs": [
    {
     "data": {
      "text/plain": [
       "array([[1, 0, 0, 0],\n",
       "       [0, 1, 0, 0],\n",
       "       [1, 0, 0, 0],\n",
       "       ...,\n",
       "       [1, 0, 0, 0],\n",
       "       [0, 0, 0, 1],\n",
       "       [0, 1, 0, 0]])"
      ]
     },
     "execution_count": 269,
     "metadata": {},
     "output_type": "execute_result"
    }
   ],
   "source": [
    "y_test"
   ]
  },
  {
   "cell_type": "code",
   "execution_count": 270,
   "id": "878b6d77",
   "metadata": {},
   "outputs": [
    {
     "data": {
      "text/plain": [
       "(array([0, 1, 0, 2, 1, 1, 0, 3, 1, 0, 3, 1, 0, 1, 1, 0, 1, 0, 0, 2, 0, 1,\n",
       "        1, 1, 1, 0, 2, 0, 0, 0, 1, 0, 0, 0, 2, 3, 2, 0, 3, 1, 1, 1, 0, 1,\n",
       "        2, 3, 0, 0, 2, 1, 0, 3, 3, 0, 2, 0, 2, 2, 2, 0, 2, 1, 0, 2, 3, 2,\n",
       "        1, 1, 1, 1, 0, 3, 1, 2, 3, 1, 3, 2, 1, 0, 2, 3, 1, 2, 1, 0, 1, 3,\n",
       "        3, 1, 1, 2, 1, 2, 1, 0, 1, 1, 3, 1, 3, 2, 2, 3, 2, 2, 2, 2, 1, 1,\n",
       "        3, 1, 2, 2, 3, 3, 1, 0, 0, 1, 2, 1, 3, 1, 1, 1, 0, 3, 1, 0, 0, 0,\n",
       "        1, 0, 1, 1, 1, 1, 2, 2, 0, 2, 2, 1, 1, 1, 0, 1, 1, 1, 2, 3, 0, 3,\n",
       "        1, 3, 0, 1, 0, 0, 1, 0, 1, 2, 2, 0, 1, 1, 1, 0, 2, 2, 1, 2, 2, 3,\n",
       "        1, 2, 1, 1, 3, 2, 2, 3, 1, 1, 0, 1, 0, 2, 0, 3, 1, 1, 2, 1, 1, 0,\n",
       "        1, 0, 1, 2, 1, 2, 3, 3, 2, 2, 1, 1, 1, 0, 3, 1, 2, 0, 0, 0, 2, 0,\n",
       "        0, 1, 1, 1, 3, 1, 0, 2, 1, 0, 0, 1, 1, 1, 1, 2, 0, 0, 0, 3, 1, 1,\n",
       "        3, 1, 1, 3, 1, 0, 1, 0, 3, 1, 2, 1, 1, 3, 1]),\n",
       " array([0, 1, 0, 2, 1, 1, 0, 3, 1, 0, 3, 1, 0, 1, 1, 0, 1, 0, 0, 1, 0, 1,\n",
       "        1, 1, 1, 1, 2, 0, 1, 0, 1, 2, 0, 0, 1, 3, 2, 0, 3, 1, 1, 1, 0, 1,\n",
       "        1, 3, 0, 0, 2, 1, 0, 3, 3, 0, 2, 0, 2, 2, 1, 0, 2, 2, 0, 2, 3, 2,\n",
       "        2, 1, 1, 1, 0, 3, 1, 2, 3, 1, 3, 2, 1, 1, 2, 3, 1, 2, 1, 1, 1, 3,\n",
       "        3, 1, 1, 2, 1, 2, 1, 0, 1, 3, 3, 1, 3, 2, 2, 3, 1, 2, 1, 2, 1, 1,\n",
       "        3, 1, 2, 2, 0, 3, 1, 1, 0, 1, 2, 2, 1, 1, 1, 1, 0, 3, 0, 0, 0, 0,\n",
       "        1, 0, 1, 1, 1, 1, 1, 2, 0, 2, 2, 1, 1, 1, 0, 1, 1, 1, 1, 0, 1, 3,\n",
       "        1, 3, 0, 1, 0, 1, 1, 0, 1, 2, 2, 0, 2, 0, 3, 0, 2, 2, 1, 2, 2, 1,\n",
       "        0, 2, 2, 1, 3, 2, 1, 3, 2, 1, 0, 1, 0, 2, 0, 3, 0, 1, 2, 1, 1, 0,\n",
       "        1, 0, 1, 2, 2, 2, 3, 3, 2, 2, 1, 1, 3, 0, 3, 1, 2, 0, 0, 0, 2, 0,\n",
       "        0, 1, 0, 2, 3, 1, 0, 2, 1, 0, 0, 1, 1, 1, 1, 2, 0, 0, 0, 0, 1, 0,\n",
       "        3, 1, 3, 0, 1, 0, 1, 1, 3, 1, 2, 1, 0, 3, 1]))"
      ]
     },
     "execution_count": 270,
     "metadata": {},
     "output_type": "execute_result"
    }
   ],
   "source": [
    "y_pred.argmax(axis=1), y_test.argmax(axis=1)"
   ]
  },
  {
   "cell_type": "code",
   "execution_count": 271,
   "id": "1e1ceccf",
   "metadata": {},
   "outputs": [],
   "source": [
    "# classifier.estimators_"
   ]
  },
  {
   "cell_type": "code",
   "execution_count": 272,
   "id": "2904f14f",
   "metadata": {},
   "outputs": [],
   "source": [
    "# from sklearn import tree\n",
    "# from sklearn.tree import export_graphviz\n",
    "\n",
    "# plt.figure(figsize = (300,300))\n",
    "# tree.plot_tree(classifier.estimators_[1], filled=True)"
   ]
  },
  {
   "cell_type": "code",
   "execution_count": 273,
   "id": "ec6c0fa7",
   "metadata": {},
   "outputs": [
    {
     "name": "stdout",
     "output_type": "stream",
     "text": [
      "RandomForestClassifier(criterion='entropy', max_features=8, n_estimators=20)\n",
      "83.26848249027238\n"
     ]
    }
   ],
   "source": [
    "print(classifier)\n",
    "print(accuracy_score(y_test, y_pred) * 100)"
   ]
  },
  {
   "cell_type": "code",
   "execution_count": 274,
   "id": "717e20aa",
   "metadata": {},
   "outputs": [
    {
     "name": "stdout",
     "output_type": "stream",
     "text": [
      "              precision    recall  f1-score   support\n",
      "\n",
      "           0       0.86      0.83      0.85        66\n",
      "           1       0.81      0.81      0.81       101\n",
      "           2       0.83      0.83      0.83        54\n",
      "           3       0.84      0.89      0.86        36\n",
      "\n",
      "   micro avg       0.83      0.83      0.83       257\n",
      "   macro avg       0.84      0.84      0.84       257\n",
      "weighted avg       0.83      0.83      0.83       257\n",
      " samples avg       0.83      0.83      0.83       257\n",
      "\n"
     ]
    }
   ],
   "source": [
    "print(classification_report(y_test, y_pred))"
   ]
  },
  {
   "cell_type": "code",
   "execution_count": 275,
   "id": "6549f4db",
   "metadata": {},
   "outputs": [
    {
     "data": {
      "text/plain": [
       "array([[55,  7,  0,  4],\n",
       "       [ 8, 82,  9,  2],\n",
       "       [ 1,  8, 45,  0],\n",
       "       [ 0,  4,  0, 32]])"
      ]
     },
     "execution_count": 275,
     "metadata": {},
     "output_type": "execute_result"
    }
   ],
   "source": [
    "from sklearn.metrics import accuracy_score, confusion_matrix, classification_report\n",
    "matrix = confusion_matrix(y_test.argmax(axis=1), y_pred.argmax(axis=1))  \n",
    "matrix"
   ]
  },
  {
   "cell_type": "code",
   "execution_count": 276,
   "id": "6cb619ce",
   "metadata": {},
   "outputs": [
    {
     "data": {
      "image/png": "[encoded data removed]",
      "text/plain": [
       "<Figure size 504x144 with 2 Axes>"
      ]
     },
     "metadata": {},
     "output_type": "display_data"
    }
   ],
   "source": [
    "# Build the plot\n",
    "plt.figure(figsize=(7,2))\n",
    "sns.set(font_scale=0.8)\n",
    "sns.heatmap(matrix, annot=True, annot_kws={'size':10},\n",
    "            cmap=plt.cm.Greens, linewidths=0.2)\n",
    "\n",
    "# Add labels to the plot\n",
    "class_names = ['Covid-19', 'Omnicron', \n",
    "               'Influenza', 'Pneumonia']\n",
    "tick_marks = np.arange(len(class_names))\n",
    "tick_marks2 = tick_marks + 0.5\n",
    "plt.xticks(tick_marks, class_names, rotation=25)\n",
    "plt.yticks(tick_marks2, class_names, rotation=0)\n",
    "plt.xlabel('Predicted label')\n",
    "plt.ylabel('True label')\n",
    "plt.title('Confusion Matrix for Random Forest Model')\n",
    "plt.show()"
   ]
  },
  {
   "cell_type": "code",
   "execution_count": null,
   "id": "d03cfff8",
   "metadata": {},
   "outputs": [],
   "source": []
  },
  {
   "cell_type": "code",
   "execution_count": null,
   "id": "6a075f56",
   "metadata": {},
   "outputs": [],
   "source": [
    "# ya\tya\ttidak\tya\ttidak\ttidak\tya\ttidak\n",
    "# ya\tya\ttidak\ttidak\tya\tya\tya\ttidak"
   ]
  },
  {
   "cell_type": "code",
   "execution_count": 287,
   "id": "d00f99c6",
   "metadata": {},
   "outputs": [
    {
     "ename": "ValueError",
     "evalue": "Found input variables with inconsistent numbers of samples: [257, 6]",
     "output_type": "error",
     "traceback": [
      "\u001b[0;31m---------------------------------------------------------------------------\u001b[0m",
      "\u001b[0;31mValueError\u001b[0m                                Traceback (most recent call last)",
      "Input \u001b[0;32mIn [287]\u001b[0m, in \u001b[0;36m<cell line: 12>\u001b[0;34m()\u001b[0m\n\u001b[1;32m      1\u001b[0m manual_testing \u001b[38;5;241m=\u001b[39m classifier\u001b[38;5;241m.\u001b[39mpredict([\n\u001b[1;32m      2\u001b[0m     [ \u001b[38;5;241m1\u001b[39m, \u001b[38;5;241m1\u001b[39m, \u001b[38;5;241m1\u001b[39m, \u001b[38;5;241m1\u001b[39m, \u001b[38;5;241m1\u001b[39m, \u001b[38;5;241m1\u001b[39m, \u001b[38;5;241m1\u001b[39m, \u001b[38;5;241m1\u001b[39m], \n\u001b[1;32m      3\u001b[0m     [ \u001b[38;5;241m0\u001b[39m, \u001b[38;5;241m0\u001b[39m, \u001b[38;5;241m0\u001b[39m, \u001b[38;5;241m1\u001b[39m, \u001b[38;5;241m0\u001b[39m, \u001b[38;5;241m0\u001b[39m, \u001b[38;5;241m0\u001b[39m, \u001b[38;5;241m0\u001b[39m],\n\u001b[0;32m   (...)\u001b[0m\n\u001b[1;32m      7\u001b[0m     [ \u001b[38;5;241m1\u001b[39m, \u001b[38;5;241m1\u001b[39m, \u001b[38;5;241m0\u001b[39m, \u001b[38;5;241m0\u001b[39m, \u001b[38;5;241m1\u001b[39m, \u001b[38;5;241m1\u001b[39m, \u001b[38;5;241m1\u001b[39m, \u001b[38;5;241m0\u001b[39m],\n\u001b[1;32m      8\u001b[0m                      ])\n\u001b[1;32m     10\u001b[0m manual_testing\u001b[38;5;241m.\u001b[39margmax(axis\u001b[38;5;241m=\u001b[39m\u001b[38;5;241m1\u001b[39m)\n\u001b[0;32m---> 12\u001b[0m matrix \u001b[38;5;241m=\u001b[39m \u001b[43mconfusion_matrix\u001b[49m\u001b[43m(\u001b[49m\u001b[43my_test\u001b[49m\u001b[38;5;241;43m.\u001b[39;49m\u001b[43margmax\u001b[49m\u001b[43m(\u001b[49m\u001b[43maxis\u001b[49m\u001b[38;5;241;43m=\u001b[39;49m\u001b[38;5;241;43m1\u001b[39;49m\u001b[43m)\u001b[49m\u001b[43m,\u001b[49m\u001b[43m \u001b[49m\u001b[43mmanual_testing\u001b[49m\u001b[38;5;241;43m.\u001b[39;49m\u001b[43margmax\u001b[49m\u001b[43m(\u001b[49m\u001b[43maxis\u001b[49m\u001b[38;5;241;43m=\u001b[39;49m\u001b[38;5;241;43m1\u001b[39;49m\u001b[43m)\u001b[49m\u001b[43m)\u001b[49m\n",
      "File \u001b[0;32m~/Documents/materi UMN/SKRIPSI/program/random_forest_env/lib/python3.8/site-packages/sklearn/metrics/_classification.py:307\u001b[0m, in \u001b[0;36mconfusion_matrix\u001b[0;34m(y_true, y_pred, labels, sample_weight, normalize)\u001b[0m\n\u001b[1;32m    222\u001b[0m \u001b[38;5;28;01mdef\u001b[39;00m \u001b[38;5;21mconfusion_matrix\u001b[39m(\n\u001b[1;32m    223\u001b[0m     y_true, y_pred, \u001b[38;5;241m*\u001b[39m, labels\u001b[38;5;241m=\u001b[39m\u001b[38;5;28;01mNone\u001b[39;00m, sample_weight\u001b[38;5;241m=\u001b[39m\u001b[38;5;28;01mNone\u001b[39;00m, normalize\u001b[38;5;241m=\u001b[39m\u001b[38;5;28;01mNone\u001b[39;00m\n\u001b[1;32m    224\u001b[0m ):\n\u001b[1;32m    225\u001b[0m     \u001b[38;5;124;03m\"\"\"Compute confusion matrix to evaluate the accuracy of a classification.\u001b[39;00m\n\u001b[1;32m    226\u001b[0m \n\u001b[1;32m    227\u001b[0m \u001b[38;5;124;03m    By definition a confusion matrix :math:`C` is such that :math:`C_{i, j}`\u001b[39;00m\n\u001b[0;32m   (...)\u001b[0m\n\u001b[1;32m    305\u001b[0m \u001b[38;5;124;03m    (0, 2, 1, 1)\u001b[39;00m\n\u001b[1;32m    306\u001b[0m \u001b[38;5;124;03m    \"\"\"\u001b[39;00m\n\u001b[0;32m--> 307\u001b[0m     y_type, y_true, y_pred \u001b[38;5;241m=\u001b[39m \u001b[43m_check_targets\u001b[49m\u001b[43m(\u001b[49m\u001b[43my_true\u001b[49m\u001b[43m,\u001b[49m\u001b[43m \u001b[49m\u001b[43my_pred\u001b[49m\u001b[43m)\u001b[49m\n\u001b[1;32m    308\u001b[0m     \u001b[38;5;28;01mif\u001b[39;00m y_type \u001b[38;5;129;01mnot\u001b[39;00m \u001b[38;5;129;01min\u001b[39;00m (\u001b[38;5;124m\"\u001b[39m\u001b[38;5;124mbinary\u001b[39m\u001b[38;5;124m\"\u001b[39m, \u001b[38;5;124m\"\u001b[39m\u001b[38;5;124mmulticlass\u001b[39m\u001b[38;5;124m\"\u001b[39m):\n\u001b[1;32m    309\u001b[0m         \u001b[38;5;28;01mraise\u001b[39;00m \u001b[38;5;167;01mValueError\u001b[39;00m(\u001b[38;5;124m\"\u001b[39m\u001b[38;5;132;01m%s\u001b[39;00m\u001b[38;5;124m is not supported\u001b[39m\u001b[38;5;124m\"\u001b[39m \u001b[38;5;241m%\u001b[39m y_type)\n",
      "File \u001b[0;32m~/Documents/materi UMN/SKRIPSI/program/random_forest_env/lib/python3.8/site-packages/sklearn/metrics/_classification.py:84\u001b[0m, in \u001b[0;36m_check_targets\u001b[0;34m(y_true, y_pred)\u001b[0m\n\u001b[1;32m     57\u001b[0m \u001b[38;5;28;01mdef\u001b[39;00m \u001b[38;5;21m_check_targets\u001b[39m(y_true, y_pred):\n\u001b[1;32m     58\u001b[0m     \u001b[38;5;124;03m\"\"\"Check that y_true and y_pred belong to the same classification task.\u001b[39;00m\n\u001b[1;32m     59\u001b[0m \n\u001b[1;32m     60\u001b[0m \u001b[38;5;124;03m    This converts multiclass or binary types to a common shape, and raises a\u001b[39;00m\n\u001b[0;32m   (...)\u001b[0m\n\u001b[1;32m     82\u001b[0m \u001b[38;5;124;03m    y_pred : array or indicator matrix\u001b[39;00m\n\u001b[1;32m     83\u001b[0m \u001b[38;5;124;03m    \"\"\"\u001b[39;00m\n\u001b[0;32m---> 84\u001b[0m     \u001b[43mcheck_consistent_length\u001b[49m\u001b[43m(\u001b[49m\u001b[43my_true\u001b[49m\u001b[43m,\u001b[49m\u001b[43m \u001b[49m\u001b[43my_pred\u001b[49m\u001b[43m)\u001b[49m\n\u001b[1;32m     85\u001b[0m     type_true \u001b[38;5;241m=\u001b[39m type_of_target(y_true)\n\u001b[1;32m     86\u001b[0m     type_pred \u001b[38;5;241m=\u001b[39m type_of_target(y_pred)\n",
      "File \u001b[0;32m~/Documents/materi UMN/SKRIPSI/program/random_forest_env/lib/python3.8/site-packages/sklearn/utils/validation.py:332\u001b[0m, in \u001b[0;36mcheck_consistent_length\u001b[0;34m(*arrays)\u001b[0m\n\u001b[1;32m    330\u001b[0m uniques \u001b[38;5;241m=\u001b[39m np\u001b[38;5;241m.\u001b[39munique(lengths)\n\u001b[1;32m    331\u001b[0m \u001b[38;5;28;01mif\u001b[39;00m \u001b[38;5;28mlen\u001b[39m(uniques) \u001b[38;5;241m>\u001b[39m \u001b[38;5;241m1\u001b[39m:\n\u001b[0;32m--> 332\u001b[0m     \u001b[38;5;28;01mraise\u001b[39;00m \u001b[38;5;167;01mValueError\u001b[39;00m(\n\u001b[1;32m    333\u001b[0m         \u001b[38;5;124m\"\u001b[39m\u001b[38;5;124mFound input variables with inconsistent numbers of samples: \u001b[39m\u001b[38;5;132;01m%r\u001b[39;00m\u001b[38;5;124m\"\u001b[39m\n\u001b[1;32m    334\u001b[0m         \u001b[38;5;241m%\u001b[39m [\u001b[38;5;28mint\u001b[39m(l) \u001b[38;5;28;01mfor\u001b[39;00m l \u001b[38;5;129;01min\u001b[39;00m lengths]\n\u001b[1;32m    335\u001b[0m     )\n",
      "\u001b[0;31mValueError\u001b[0m: Found input variables with inconsistent numbers of samples: [257, 6]"
     ]
    }
   ],
   "source": [
    "manual_testing = classifier.predict([\n",
    "    [ 1, 1, 1, 1, 1, 1, 1, 1], \n",
    "    [ 0, 0, 0, 1, 0, 0, 0, 0],\n",
    "    [ 1, 1, 1, 0, 0, 0, 0, 1],\n",
    "    [ 1, 1, 0, 0, 0, 0, 0, 0],\n",
    "    [ 1, 1, 0, 1, 0, 0, 1, 0],\n",
    "    [ 1, 1, 0, 0, 1, 1, 1, 0],\n",
    "                     ])\n",
    "\n",
    "manual_testing.argmax(axis=1)\n",
    "\n",
    "matrix = confusion_matrix(y_test.argmax(axis=1), manual_testing.argmax(axis=1))"
   ]
  },
  {
   "cell_type": "code",
   "execution_count": 160,
   "id": "328c1111",
   "metadata": {},
   "outputs": [],
   "source": [
    "#export best model \n",
    "import pickle\n",
    "filename = 'best_rf_model.pkl'\n",
    "# pickle.dump(classifier, open(filename, 'wb'))"
   ]
  },
  {
   "cell_type": "code",
   "execution_count": 283,
   "id": "fc4fa861",
   "metadata": {},
   "outputs": [
    {
     "data": {
      "text/plain": [
       "0.8365758754863813"
      ]
     },
     "execution_count": 283,
     "metadata": {},
     "output_type": "execute_result"
    }
   ],
   "source": [
    "loaded_model = pickle.load(open(filename, 'rb'))\n",
    "result = loaded_model.score(x_test, y_test)\n",
    "result"
   ]
  },
  {
   "cell_type": "code",
   "execution_count": null,
   "id": "5d87f8e4",
   "metadata": {},
   "outputs": [],
   "source": []
  },
  {
   "cell_type": "markdown",
   "id": "3e1f4386",
   "metadata": {},
   "source": [
    "## Re-check Input Gejala"
   ]
  },
  {
   "cell_type": "markdown",
   "id": "2295c882",
   "metadata": {},
   "source": [
    "### Gejala Batuk"
   ]
  },
  {
   "cell_type": "code",
   "execution_count": 157,
   "id": "e68208fd",
   "metadata": {},
   "outputs": [
    {
     "data": {
      "text/plain": [
       "924"
      ]
     },
     "execution_count": 157,
     "metadata": {},
     "output_type": "execute_result"
    }
   ],
   "source": [
    "sum((dataset['Batuk'] == 1))"
   ]
  },
  {
   "cell_type": "code",
   "execution_count": 137,
   "id": "6b897c72",
   "metadata": {},
   "outputs": [
    {
     "data": {
      "text/plain": [
       "360"
      ]
     },
     "execution_count": 137,
     "metadata": {},
     "output_type": "execute_result"
    }
   ],
   "source": [
    "sum((dataset['Batuk'] == 0))"
   ]
  },
  {
   "cell_type": "code",
   "execution_count": 134,
   "id": "1bf587c6",
   "metadata": {},
   "outputs": [
    {
     "data": {
      "text/plain": [
       "542"
      ]
     },
     "execution_count": 134,
     "metadata": {},
     "output_type": "execute_result"
    }
   ],
   "source": [
    "sum((dataset['Omicron'] == 1))"
   ]
  },
  {
   "cell_type": "code",
   "execution_count": null,
   "id": "22f7a8e3",
   "metadata": {},
   "outputs": [],
   "source": []
  },
  {
   "cell_type": "code",
   "execution_count": 114,
   "id": "6f2d7bdb",
   "metadata": {
    "scrolled": true
   },
   "outputs": [
    {
     "data": {
      "text/plain": [
       "329"
      ]
     },
     "execution_count": 114,
     "metadata": {},
     "output_type": "execute_result"
    }
   ],
   "source": [
    "sum((dataset['Batuk'] == 1) & (dataset['Omicron'] == 1))"
   ]
  },
  {
   "cell_type": "code",
   "execution_count": 138,
   "id": "f8c10250",
   "metadata": {},
   "outputs": [
    {
     "data": {
      "text/plain": [
       "279"
      ]
     },
     "execution_count": 138,
     "metadata": {},
     "output_type": "execute_result"
    }
   ],
   "source": [
    "sum((dataset['Batuk'] == 1) & (dataset['Covid-19'] == 1))"
   ]
  },
  {
   "cell_type": "code",
   "execution_count": 139,
   "id": "6093f917",
   "metadata": {},
   "outputs": [
    {
     "data": {
      "text/plain": [
       "114"
      ]
     },
     "execution_count": 139,
     "metadata": {},
     "output_type": "execute_result"
    }
   ],
   "source": [
    "sum((dataset['Batuk'] == 1) & (dataset['Pneumonia'] == 1))"
   ]
  },
  {
   "cell_type": "code",
   "execution_count": 140,
   "id": "1cadb2cd",
   "metadata": {},
   "outputs": [
    {
     "data": {
      "text/plain": [
       "202"
      ]
     },
     "execution_count": 140,
     "metadata": {},
     "output_type": "execute_result"
    }
   ],
   "source": [
    "sum((dataset['Batuk'] == 1) & (dataset['Influenza'] == 1))"
   ]
  },
  {
   "cell_type": "code",
   "execution_count": null,
   "id": "c29f635f",
   "metadata": {},
   "outputs": [],
   "source": []
  },
  {
   "cell_type": "code",
   "execution_count": 124,
   "id": "ac9d9458",
   "metadata": {},
   "outputs": [
    {
     "data": {
      "text/plain": [
       "25"
      ]
     },
     "execution_count": 124,
     "metadata": {},
     "output_type": "execute_result"
    }
   ],
   "source": [
    "# Jumlah Dataset dengan gejala hanya batuk\n",
    "sum((dataset['Batuk'] == 1) & (dataset['Pilek'] == 0) & (dataset['SakitTenggorokan'] == 0)  \n",
    "    & (dataset['SesakNafas'] == 0) & (dataset['Demam'] == 0) & (dataset['SakitKepala'] == 0)\n",
    "    & (dataset['Lemas'] == 0) & (dataset['Anosmia'] == 0))"
   ]
  },
  {
   "cell_type": "code",
   "execution_count": 126,
   "id": "eedfa772",
   "metadata": {},
   "outputs": [
    {
     "data": {
      "text/plain": [
       "15"
      ]
     },
     "execution_count": 126,
     "metadata": {},
     "output_type": "execute_result"
    }
   ],
   "source": [
    "# Jumlah Dataset dengan gejala hanya batuk dan dengan diagnosa penyakit Omicron\n",
    "sum((dataset['Batuk'] == 1) & (dataset['Pilek'] == 0) & (dataset['SakitTenggorokan'] == 0)  \n",
    "    & (dataset['SesakNafas'] == 0) & (dataset['Demam'] == 0) & (dataset['SakitKepala'] == 0)\n",
    "    & (dataset['Lemas'] == 0) & (dataset['Anosmia'] == 0) & (dataset['Omicron'] == 1))"
   ]
  },
  {
   "cell_type": "code",
   "execution_count": 127,
   "id": "2ea5a97c",
   "metadata": {},
   "outputs": [
    {
     "data": {
      "text/plain": [
       "0"
      ]
     },
     "execution_count": 127,
     "metadata": {},
     "output_type": "execute_result"
    }
   ],
   "source": [
    "# Jumlah Dataset dengan gejala hanya batuk dan dengan diagnosa penyakit Covid-19\n",
    "sum((dataset['Batuk'] == 1) & (dataset['Pilek'] == 0) & (dataset['SakitTenggorokan'] == 0)  \n",
    "    & (dataset['SesakNafas'] == 0) & (dataset['Demam'] == 0) & (dataset['SakitKepala'] == 0)\n",
    "    & (dataset['Lemas'] == 0) & (dataset['Anosmia'] == 0) & (dataset['Covid-19'] == 1))"
   ]
  },
  {
   "cell_type": "code",
   "execution_count": 147,
   "id": "395e15e7",
   "metadata": {},
   "outputs": [
    {
     "data": {
      "text/plain": [
       "10"
      ]
     },
     "execution_count": 147,
     "metadata": {},
     "output_type": "execute_result"
    }
   ],
   "source": [
    "# Jumlah Dataset dengan gejala hanya batuk dan dengan diagnosa penyakit Influenza\n",
    "sum((dataset['Batuk'] == 1) & (dataset['Pilek'] == 0) & (dataset['SakitTenggorokan'] == 0)  \n",
    "    & (dataset['SesakNafas'] == 0) & (dataset['Demam'] == 0) & (dataset['SakitKepala'] == 0)\n",
    "    & (dataset['Lemas'] == 0) & (dataset['Anosmia'] == 0) & (dataset['Influenza'] == 1))"
   ]
  },
  {
   "cell_type": "code",
   "execution_count": null,
   "id": "007f5a64",
   "metadata": {},
   "outputs": [],
   "source": []
  },
  {
   "cell_type": "markdown",
   "id": "b4e25028",
   "metadata": {},
   "source": [
    "### Gejala Pilek"
   ]
  },
  {
   "cell_type": "code",
   "execution_count": 135,
   "id": "44dd7bc6",
   "metadata": {},
   "outputs": [
    {
     "data": {
      "text/plain": [
       "788"
      ]
     },
     "execution_count": 135,
     "metadata": {},
     "output_type": "execute_result"
    }
   ],
   "source": [
    "sum((dataset['Pilek'] == 1))"
   ]
  },
  {
   "cell_type": "code",
   "execution_count": 136,
   "id": "023cac15",
   "metadata": {},
   "outputs": [
    {
     "data": {
      "text/plain": [
       "496"
      ]
     },
     "execution_count": 136,
     "metadata": {},
     "output_type": "execute_result"
    }
   ],
   "source": [
    "sum((dataset['Pilek'] == 0))"
   ]
  },
  {
   "cell_type": "code",
   "execution_count": null,
   "id": "4f25e637",
   "metadata": {},
   "outputs": [],
   "source": []
  },
  {
   "cell_type": "code",
   "execution_count": 143,
   "id": "05e24aa6",
   "metadata": {},
   "outputs": [
    {
     "data": {
      "text/plain": [
       "223"
      ]
     },
     "execution_count": 143,
     "metadata": {},
     "output_type": "execute_result"
    }
   ],
   "source": [
    "sum((dataset['Pilek'] == 1) & (dataset['Covid-19'] == 1))"
   ]
  },
  {
   "cell_type": "code",
   "execution_count": 142,
   "id": "55d8941f",
   "metadata": {},
   "outputs": [
    {
     "data": {
      "text/plain": [
       "279"
      ]
     },
     "execution_count": 142,
     "metadata": {},
     "output_type": "execute_result"
    }
   ],
   "source": [
    "sum((dataset['Pilek'] == 1) & (dataset['Omicron'] == 1))"
   ]
  },
  {
   "cell_type": "code",
   "execution_count": 144,
   "id": "2aaba9b0",
   "metadata": {},
   "outputs": [
    {
     "data": {
      "text/plain": [
       "233"
      ]
     },
     "execution_count": 144,
     "metadata": {},
     "output_type": "execute_result"
    }
   ],
   "source": [
    "sum((dataset['Pilek'] == 1) & (dataset['Influenza'] == 1))"
   ]
  },
  {
   "cell_type": "code",
   "execution_count": 145,
   "id": "2b5f7014",
   "metadata": {},
   "outputs": [
    {
     "data": {
      "text/plain": [
       "54"
      ]
     },
     "execution_count": 145,
     "metadata": {},
     "output_type": "execute_result"
    }
   ],
   "source": [
    "sum((dataset['Pilek'] == 1) & (dataset['Pneumonia'] == 1))"
   ]
  },
  {
   "cell_type": "code",
   "execution_count": null,
   "id": "e27e32cf",
   "metadata": {},
   "outputs": [],
   "source": []
  },
  {
   "cell_type": "code",
   "execution_count": 156,
   "id": "8f8a4621",
   "metadata": {},
   "outputs": [
    {
     "data": {
      "text/plain": [
       "1"
      ]
     },
     "execution_count": 156,
     "metadata": {},
     "output_type": "execute_result"
    }
   ],
   "source": [
    "# Jumlah Dataset dengan gejala hanya Pilek\n",
    "sum((dataset['Batuk'] == 0) & (dataset['Pilek'] == 1) & (dataset['SakitTenggorokan'] == 0)  \n",
    "    & (dataset['SesakNafas'] == 0) & (dataset['Demam'] == 0) & (dataset['SakitKepala'] == 0)\n",
    "    & (dataset['Lemas'] == 0) & (dataset['Anosmia'] == 0))"
   ]
  },
  {
   "cell_type": "code",
   "execution_count": 149,
   "id": "95d83807",
   "metadata": {},
   "outputs": [
    {
     "data": {
      "text/plain": [
       "0"
      ]
     },
     "execution_count": 149,
     "metadata": {},
     "output_type": "execute_result"
    }
   ],
   "source": [
    "# Jumlah Dataset dengan gejala hanya batuk dan dengan diagnosa penyakit Covid-19\n",
    "sum((dataset['Batuk'] == 0) & (dataset['Pilek'] == 1) & (dataset['SakitTenggorokan'] == 0)  \n",
    "    & (dataset['SesakNafas'] == 0) & (dataset['Demam'] == 0) & (dataset['SakitKepala'] == 0)\n",
    "    & (dataset['Lemas'] == 0) & (dataset['Anosmia'] == 0) & (dataset['Covid-19'] == 1))"
   ]
  },
  {
   "cell_type": "code",
   "execution_count": 151,
   "id": "8fce19e1",
   "metadata": {},
   "outputs": [
    {
     "data": {
      "text/plain": [
       "0"
      ]
     },
     "execution_count": 151,
     "metadata": {},
     "output_type": "execute_result"
    }
   ],
   "source": [
    "# Jumlah Dataset dengan gejala hanya batuk dan dengan diagnosa penyakit Omicron\n",
    "sum((dataset['Batuk'] == 0) & (dataset['Pilek'] == 1) & (dataset['SakitTenggorokan'] == 0)  \n",
    "    & (dataset['SesakNafas'] == 0) & (dataset['Demam'] == 0) & (dataset['SakitKepala'] == 0)\n",
    "    & (dataset['Lemas'] == 0) & (dataset['Anosmia'] == 0) & (dataset['Omicron'] == 1))"
   ]
  },
  {
   "cell_type": "code",
   "execution_count": 153,
   "id": "cfd7733e",
   "metadata": {},
   "outputs": [
    {
     "data": {
      "text/plain": [
       "1"
      ]
     },
     "execution_count": 153,
     "metadata": {},
     "output_type": "execute_result"
    }
   ],
   "source": [
    "# Jumlah Dataset dengan gejala hanya batuk dan dengan diagnosa penyakit Influenza\n",
    "sum((dataset['Batuk'] == 0) & (dataset['Pilek'] == 1) & (dataset['SakitTenggorokan'] == 0)  \n",
    "    & (dataset['SesakNafas'] == 0) & (dataset['Demam'] == 0) & (dataset['SakitKepala'] == 0)\n",
    "    & (dataset['Lemas'] == 0) & (dataset['Anosmia'] == 0) & (dataset['Influenza'] == 1))"
   ]
  },
  {
   "cell_type": "code",
   "execution_count": 155,
   "id": "c78e985e",
   "metadata": {},
   "outputs": [
    {
     "data": {
      "text/plain": [
       "0"
      ]
     },
     "execution_count": 155,
     "metadata": {},
     "output_type": "execute_result"
    }
   ],
   "source": [
    "# Jumlah Dataset dengan gejala hanya batuk dan dengan diagnosa penyakit Pneumonia\n",
    "sum((dataset['Batuk'] == 0) & (dataset['Pilek'] == 1) & (dataset['SakitTenggorokan'] == 0)  \n",
    "    & (dataset['SesakNafas'] == 0) & (dataset['Demam'] == 0) & (dataset['SakitKepala'] == 0)\n",
    "    & (dataset['Lemas'] == 0) & (dataset['Anosmia'] == 0) & (dataset['Pneumonia'] == 1))"
   ]
  },
  {
   "cell_type": "code",
   "execution_count": null,
   "id": "6ce3ef5e",
   "metadata": {},
   "outputs": [],
   "source": []
  }
 ],
 "metadata": {
  "kernelspec": {
   "display_name": "Python 3 (ipykernel)",
   "language": "python",
   "name": "python3"
  },
  "language_info": {
   "codemirror_mode": {
    "name": "ipython",
    "version": 3
   },
   "file_extension": ".py",
   "mimetype": "text/x-python",
   "name": "python",
   "nbconvert_exporter": "python",
   "pygments_lexer": "ipython3",
   "version": "3.8.5"
  }
 },
 "nbformat": 4,
 "nbformat_minor": 5
}
